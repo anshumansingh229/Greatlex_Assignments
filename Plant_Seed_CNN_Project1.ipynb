{
  "nbformat": 4,
  "nbformat_minor": 0,
  "metadata": {
    "kernelspec": {
      "name": "python3",
      "display_name": "Python 3"
    },
    "language_info": {
      "codemirror_mode": {
        "name": "ipython",
        "version": 3
      },
      "file_extension": ".py",
      "mimetype": "text/x-python",
      "name": "python",
      "nbconvert_exporter": "python",
      "pygments_lexer": "ipython3",
      "version": "3.7.4"
    },
    "colab": {
      "name": "Plant_Seed_CNN_Project1_submission_GL.ipynb",
      "provenance": [],
      "collapsed_sections": []
    },
    "accelerator": "GPU"
  },
  "cells": [
    {
      "cell_type": "markdown",
      "metadata": {
        "id": "S_dwFVrU1DVL",
        "colab_type": "text"
      },
      "source": [
        "## Project-Computer Vision with CNN [Plant_Seed_CNN Project1.ipynb]"
      ]
    },
    {
      "cell_type": "markdown",
      "metadata": {
        "id": "2xA5WxK41DVO",
        "colab_type": "text"
      },
      "source": [
        "1. Read the images and generate the train and test dataset (10 points) "
      ]
    },
    {
      "cell_type": "code",
      "metadata": {
        "id": "yHksY7y799-c",
        "colab_type": "code",
        "colab": {}
      },
      "source": [
        "%tensorflow_version 2.x"
      ],
      "execution_count": 0,
      "outputs": []
    },
    {
      "cell_type": "code",
      "metadata": {
        "id": "R1O48C551K_t",
        "colab_type": "code",
        "colab": {}
      },
      "source": [
        "from google.colab import drive\n",
        "import os\n",
        "from zipfile import ZipFile\n",
        "import cv2\n",
        "import numpy as np\n",
        "import pandas as pd\n",
        "from sklearn.model_selection import train_test_split\n",
        "from tensorflow.keras import applications\n",
        "from tensorflow.keras.models import Sequential, Model \n",
        "from tensorflow.keras.layers import Dropout, Flatten, Dense\n",
        "from tensorflow.keras.callbacks import ModelCheckpoint, EarlyStopping\n",
        "from tensorflow.keras.layers import Conv2D, MaxPooling2D\n",
        "from tensorflow.keras.optimizers import SGD , Adam\n",
        "from tensorflow.keras.losses import categorical_crossentropy\n",
        "from tensorflow.keras.layers import BatchNormalization\n",
        "import tensorflow\n",
        "tensorflow.random.set_seed(42)"
      ],
      "execution_count": 0,
      "outputs": []
    },
    {
      "cell_type": "code",
      "metadata": {
        "id": "4Kw-c6F_1Xwx",
        "colab_type": "code",
        "outputId": "ad441016-d33e-46e7-b278-2e35d5b5b8f2",
        "colab": {
          "base_uri": "https://localhost:8080/",
          "height": 34
        }
      },
      "source": [
        "drive.mount('/content/drive/')"
      ],
      "execution_count": 0,
      "outputs": [
        {
          "output_type": "stream",
          "text": [
            "Drive already mounted at /content/drive/; to attempt to forcibly remount, call drive.mount(\"/content/drive/\", force_remount=True).\n"
          ],
          "name": "stdout"
        }
      ]
    },
    {
      "cell_type": "code",
      "metadata": {
        "id": "9Tf3homo2UJR",
        "colab_type": "code",
        "colab": {}
      },
      "source": [
        "os.chdir('/content/drive/My Drive/')"
      ],
      "execution_count": 0,
      "outputs": []
    },
    {
      "cell_type": "code",
      "metadata": {
        "id": "U8JKV9th1DVS",
        "colab_type": "code",
        "colab": {}
      },
      "source": [
        "with ZipFile('/content/drive/My Drive/plant-seedlings-classification.zip', 'r') as z:\n",
        "  z.extractall()"
      ],
      "execution_count": 0,
      "outputs": []
    },
    {
      "cell_type": "code",
      "metadata": {
        "id": "4C5D4k-T1DVV",
        "colab_type": "code",
        "colab": {}
      },
      "source": [
        "x_test=[]\n",
        "os.chdir('/content/drive/My Drive/test')\n",
        "for i in os.listdir():\n",
        "    dummy = cv2.imread(i)\n",
        "    dummy = cv2.resize(dummy,(128,128))\n",
        "    x_test.append(dummy)"
      ],
      "execution_count": 0,
      "outputs": []
    },
    {
      "cell_type": "code",
      "metadata": {
        "id": "RuLggKfG1DVX",
        "colab_type": "code",
        "outputId": "8be7436e-7fe2-4f2b-e512-a69113d81ae4",
        "colab": {
          "base_uri": "https://localhost:8080/",
          "height": 34
        }
      },
      "source": [
        "X_test = np.array(x_test)\n",
        "X_test.shape"
      ],
      "execution_count": 0,
      "outputs": [
        {
          "output_type": "execute_result",
          "data": {
            "text/plain": [
              "(794, 128, 128, 3)"
            ]
          },
          "metadata": {
            "tags": []
          },
          "execution_count": 7
        }
      ]
    },
    {
      "cell_type": "code",
      "metadata": {
        "scrolled": true,
        "id": "FFzSHon91DVb",
        "colab_type": "code",
        "outputId": "59e19a5a-d31d-4edc-cef3-b934d448e237",
        "colab": {
          "base_uri": "https://localhost:8080/",
          "height": 238
        }
      },
      "source": [
        "train_dir = '/content/drive/My Drive/train'\n",
        "os.chdir(train_dir)\n",
        "os.listdir()"
      ],
      "execution_count": 0,
      "outputs": [
        {
          "output_type": "execute_result",
          "data": {
            "text/plain": [
              "['Black-grass',\n",
              " 'Charlock',\n",
              " 'Cleavers',\n",
              " 'Common Chickweed',\n",
              " 'Common wheat',\n",
              " 'Fat Hen',\n",
              " 'Loose Silky-bent',\n",
              " 'Maize',\n",
              " 'Scentless Mayweed',\n",
              " 'Shepherds Purse',\n",
              " 'Small-flowered Cranesbill',\n",
              " 'Sugar beet',\n",
              " 'Plant_seed_CNN_checkpoint.h5']"
            ]
          },
          "metadata": {
            "tags": []
          },
          "execution_count": 66
        }
      ]
    },
    {
      "cell_type": "code",
      "metadata": {
        "scrolled": true,
        "id": "Yi0wSCtb1DVd",
        "colab_type": "code",
        "outputId": "8664e77c-f6d2-4b90-aabf-825beeac2869",
        "colab": {
          "base_uri": "https://localhost:8080/",
          "height": 221
        }
      },
      "source": [
        "x_train = []\n",
        "Y_train = []\n",
        "import cv2\n",
        "for i in os.listdir():\n",
        "    print(i)\n",
        "    if (os.path.isdir(i)):\n",
        "            for j in os.listdir(i):\n",
        "                try:\n",
        "                    dummy = cv2.imread(train_dir+\"/\" + i + \"/\" + j)\n",
        "                    dummy = cv2.resize(dummy,(128,128))\n",
        "                    x_train.append(dummy)\n",
        "                    Y_train.append(i)\n",
        "                except Exception as e:\n",
        "                    print(e)"
      ],
      "execution_count": 0,
      "outputs": [
        {
          "output_type": "stream",
          "text": [
            "Black-grass\n",
            "Charlock\n",
            "Cleavers\n",
            "Common Chickweed\n",
            "Common wheat\n",
            "Fat Hen\n",
            "Loose Silky-bent\n",
            "Maize\n",
            "Scentless Mayweed\n",
            "Shepherds Purse\n",
            "Small-flowered Cranesbill\n",
            "Sugar beet\n"
          ],
          "name": "stdout"
        }
      ]
    },
    {
      "cell_type": "code",
      "metadata": {
        "id": "G5IopPLd1DVg",
        "colab_type": "code",
        "colab": {}
      },
      "source": [
        "y_dummies = pd.get_dummies(Y_train)"
      ],
      "execution_count": 0,
      "outputs": []
    },
    {
      "cell_type": "code",
      "metadata": {
        "id": "frN4g6O9sx6O",
        "colab_type": "code",
        "outputId": "6a1ca4a3-6894-405d-dbd8-f2a0a044c102",
        "colab": {
          "base_uri": "https://localhost:8080/",
          "height": 80
        }
      },
      "source": [
        "y_dummies.head(1)"
      ],
      "execution_count": 0,
      "outputs": [
        {
          "output_type": "execute_result",
          "data": {
            "text/html": [
              "<div>\n",
              "<style scoped>\n",
              "    .dataframe tbody tr th:only-of-type {\n",
              "        vertical-align: middle;\n",
              "    }\n",
              "\n",
              "    .dataframe tbody tr th {\n",
              "        vertical-align: top;\n",
              "    }\n",
              "\n",
              "    .dataframe thead th {\n",
              "        text-align: right;\n",
              "    }\n",
              "</style>\n",
              "<table border=\"1\" class=\"dataframe\">\n",
              "  <thead>\n",
              "    <tr style=\"text-align: right;\">\n",
              "      <th></th>\n",
              "      <th>Black-grass</th>\n",
              "      <th>Charlock</th>\n",
              "      <th>Cleavers</th>\n",
              "      <th>Common Chickweed</th>\n",
              "      <th>Common wheat</th>\n",
              "      <th>Fat Hen</th>\n",
              "      <th>Loose Silky-bent</th>\n",
              "      <th>Maize</th>\n",
              "      <th>Scentless Mayweed</th>\n",
              "      <th>Shepherds Purse</th>\n",
              "      <th>Small-flowered Cranesbill</th>\n",
              "      <th>Sugar beet</th>\n",
              "    </tr>\n",
              "  </thead>\n",
              "  <tbody>\n",
              "    <tr>\n",
              "      <th>0</th>\n",
              "      <td>1</td>\n",
              "      <td>0</td>\n",
              "      <td>0</td>\n",
              "      <td>0</td>\n",
              "      <td>0</td>\n",
              "      <td>0</td>\n",
              "      <td>0</td>\n",
              "      <td>0</td>\n",
              "      <td>0</td>\n",
              "      <td>0</td>\n",
              "      <td>0</td>\n",
              "      <td>0</td>\n",
              "    </tr>\n",
              "  </tbody>\n",
              "</table>\n",
              "</div>"
            ],
            "text/plain": [
              "   Black-grass  Charlock  ...  Small-flowered Cranesbill  Sugar beet\n",
              "0            1         0  ...                          0           0\n",
              "\n",
              "[1 rows x 12 columns]"
            ]
          },
          "metadata": {
            "tags": []
          },
          "execution_count": 40
        }
      ]
    },
    {
      "cell_type": "code",
      "metadata": {
        "id": "KPenKeXP1DVi",
        "colab_type": "code",
        "outputId": "f4a6cc18-8d59-418f-dea1-915c28a045d3",
        "colab": {
          "base_uri": "https://localhost:8080/",
          "height": 51
        }
      },
      "source": [
        "X_train = np.array(x_train)\n",
        "y_train = np.array(y_dummies)\n",
        "print(\"X_train.shape:\", X_train.shape)\n",
        "print(\"y_train.shape:\",y_train.shape)"
      ],
      "execution_count": 0,
      "outputs": [
        {
          "output_type": "stream",
          "text": [
            "X_train.shape: (4750, 128, 128, 3)\n",
            "y_train.shape: (4750, 12)\n"
          ],
          "name": "stdout"
        }
      ]
    },
    {
      "cell_type": "markdown",
      "metadata": {
        "id": "5M5Zcx2i1DVl",
        "colab_type": "text"
      },
      "source": [
        "2.Divide the data set into Train and validation data sets"
      ]
    },
    {
      "cell_type": "code",
      "metadata": {
        "id": "humZl37N1DVm",
        "colab_type": "code",
        "outputId": "c97d3ce5-f8fa-4bd2-e57d-c4417018b76d",
        "colab": {
          "base_uri": "https://localhost:8080/",
          "height": 51
        }
      },
      "source": [
        "\n",
        "trainX, valX, trainY, valY = train_test_split(X_train, y_train, test_size = 0.3, random_state=2)\n",
        "print (len(trainX))\n",
        "print (len(valX))"
      ],
      "execution_count": 0,
      "outputs": [
        {
          "output_type": "stream",
          "text": [
            "3325\n",
            "1425\n"
          ],
          "name": "stdout"
        }
      ]
    },
    {
      "cell_type": "code",
      "metadata": {
        "id": "UOY7Z77q1DVo",
        "colab_type": "code",
        "colab": {}
      },
      "source": [
        "trainX = trainX/255.\n",
        "valX = valX /255."
      ],
      "execution_count": 0,
      "outputs": []
    },
    {
      "cell_type": "code",
      "metadata": {
        "id": "N-pYz8kn1DVq",
        "colab_type": "code",
        "outputId": "001b36bc-f334-4d3e-c827-3f4d02634126",
        "colab": {
          "base_uri": "https://localhost:8080/",
          "height": 85
        }
      },
      "source": [
        "print ('trainX.shape:',trainX.shape)\n",
        "print ('valX.shape:',valX.shape)\n",
        "print ('trainY.shape:',trainY.shape)\n",
        "print ('valY.shape:',valY.shape)"
      ],
      "execution_count": 0,
      "outputs": [
        {
          "output_type": "stream",
          "text": [
            "trainX.shape: (3325, 128, 128, 3)\n",
            "valX.shape: (1425, 128, 128, 3)\n",
            "trainY.shape: (3325, 12)\n",
            "valY.shape: (1425, 12)\n"
          ],
          "name": "stdout"
        }
      ]
    },
    {
      "cell_type": "markdown",
      "metadata": {
        "id": "yx3NBKTo1DVt",
        "colab_type": "text"
      },
      "source": [
        "3.Initialize & build the model (20 points)"
      ]
    },
    {
      "cell_type": "code",
      "metadata": {
        "id": "AEGxBEbrCUMH",
        "colab_type": "code",
        "colab": {}
      },
      "source": [
        "model = Sequential()\n",
        "model.add(Conv2D(filters=64, kernel_size=(3, 3), input_shape=(128, 128, 3), activation='relu'))\n",
        "model.add(BatchNormalization(axis=3))\n",
        "model.add(Conv2D(filters=64, kernel_size=(4, 4), activation='relu'))\n",
        "model.add(MaxPooling2D((2, 2)))\n",
        "model.add(BatchNormalization(axis=3))\n",
        "model.add(Dropout(0.1))\n",
        "model.add(Conv2D(filters=128, kernel_size=(5, 5), activation='relu'))\n",
        "model.add(BatchNormalization(axis=3))\n",
        "model.add(Conv2D(filters=256, kernel_size=(5, 5), activation='relu'))\n",
        "model.add(MaxPooling2D((2, 2)))\n",
        "model.add(BatchNormalization(axis=3))\n",
        "model.add(Dropout(0.1))\n",
        "model.add(Conv2D(filters=256, kernel_size=(4, 4), activation='relu'))\n",
        "model.add(BatchNormalization(axis=3))\n",
        "model.add(Conv2D(filters=512, kernel_size=(3, 3), activation='relu'))\n",
        "model.add(MaxPooling2D((2, 2)))\n",
        "model.add(BatchNormalization(axis=3))\n",
        "model.add(Dropout(0.1))\n",
        "model.add(Flatten())\n",
        "model.add(Dense(256, activation='relu'))\n",
        "model.add(BatchNormalization())\n",
        "model.add(Dropout(0.3))\n",
        "model.add(Dense(256, activation='relu'))\n",
        "model.add(BatchNormalization())\n",
        "model.add(Dropout(0.3))\n",
        "model.add(Dense(12, activation='softmax'))"
      ],
      "execution_count": 0,
      "outputs": []
    },
    {
      "cell_type": "markdown",
      "metadata": {
        "id": "UnHjKKEo1DV0",
        "colab_type": "text"
      },
      "source": [
        "4.Optimize the model (16 points)"
      ]
    },
    {
      "cell_type": "code",
      "metadata": {
        "id": "VVj7ffls1DV1",
        "colab_type": "code",
        "outputId": "8d1b83ad-9d19-4a3f-fe93-737ee3b4fadf",
        "colab": {
          "base_uri": "https://localhost:8080/",
          "height": 1000
        }
      },
      "source": [
        "optimizer = Adam(lr=0.001)\n",
        "model.compile(loss='categorical_crossentropy', optimizer= optimizer, metrics=['accuracy'])\n",
        "model.summary()"
      ],
      "execution_count": 0,
      "outputs": [
        {
          "output_type": "stream",
          "text": [
            "Model: \"sequential_20\"\n",
            "_________________________________________________________________\n",
            "Layer (type)                 Output Shape              Param #   \n",
            "=================================================================\n",
            "conv2d_115 (Conv2D)          (None, 126, 126, 64)      1792      \n",
            "_________________________________________________________________\n",
            "batch_normalization_133 (Bat (None, 126, 126, 64)      256       \n",
            "_________________________________________________________________\n",
            "conv2d_116 (Conv2D)          (None, 123, 123, 64)      65600     \n",
            "_________________________________________________________________\n",
            "max_pooling2d_58 (MaxPooling (None, 61, 61, 64)        0         \n",
            "_________________________________________________________________\n",
            "batch_normalization_134 (Bat (None, 61, 61, 64)        256       \n",
            "_________________________________________________________________\n",
            "dropout_82 (Dropout)         (None, 61, 61, 64)        0         \n",
            "_________________________________________________________________\n",
            "conv2d_117 (Conv2D)          (None, 57, 57, 128)       204928    \n",
            "_________________________________________________________________\n",
            "batch_normalization_135 (Bat (None, 57, 57, 128)       512       \n",
            "_________________________________________________________________\n",
            "conv2d_118 (Conv2D)          (None, 53, 53, 256)       819456    \n",
            "_________________________________________________________________\n",
            "max_pooling2d_59 (MaxPooling (None, 26, 26, 256)       0         \n",
            "_________________________________________________________________\n",
            "batch_normalization_136 (Bat (None, 26, 26, 256)       1024      \n",
            "_________________________________________________________________\n",
            "dropout_83 (Dropout)         (None, 26, 26, 256)       0         \n",
            "_________________________________________________________________\n",
            "conv2d_119 (Conv2D)          (None, 23, 23, 256)       1048832   \n",
            "_________________________________________________________________\n",
            "batch_normalization_137 (Bat (None, 23, 23, 256)       1024      \n",
            "_________________________________________________________________\n",
            "conv2d_120 (Conv2D)          (None, 21, 21, 512)       1180160   \n",
            "_________________________________________________________________\n",
            "max_pooling2d_60 (MaxPooling (None, 10, 10, 512)       0         \n",
            "_________________________________________________________________\n",
            "batch_normalization_138 (Bat (None, 10, 10, 512)       2048      \n",
            "_________________________________________________________________\n",
            "dropout_84 (Dropout)         (None, 10, 10, 512)       0         \n",
            "_________________________________________________________________\n",
            "flatten_14 (Flatten)         (None, 51200)             0         \n",
            "_________________________________________________________________\n",
            "dense_47 (Dense)             (None, 256)               13107456  \n",
            "_________________________________________________________________\n",
            "batch_normalization_139 (Bat (None, 256)               1024      \n",
            "_________________________________________________________________\n",
            "dropout_85 (Dropout)         (None, 256)               0         \n",
            "_________________________________________________________________\n",
            "dense_48 (Dense)             (None, 256)               65792     \n",
            "_________________________________________________________________\n",
            "batch_normalization_140 (Bat (None, 256)               1024      \n",
            "_________________________________________________________________\n",
            "dropout_86 (Dropout)         (None, 256)               0         \n",
            "_________________________________________________________________\n",
            "dense_49 (Dense)             (None, 12)                3084      \n",
            "=================================================================\n",
            "Total params: 16,504,268\n",
            "Trainable params: 16,500,684\n",
            "Non-trainable params: 3,584\n",
            "_________________________________________________________________\n"
          ],
          "name": "stdout"
        }
      ]
    },
    {
      "cell_type": "markdown",
      "metadata": {
        "id": "K3kbnYhO1DV3",
        "colab_type": "text"
      },
      "source": [
        "5.Predict the accuracy for both train and validation data (14 points)"
      ]
    },
    {
      "cell_type": "code",
      "metadata": {
        "id": "WCLlyMh51DV3",
        "colab_type": "code",
        "outputId": "2d3325ad-bdca-4097-a419-5b866a2e850f",
        "colab": {
          "base_uri": "https://localhost:8080/",
          "height": 1000
        }
      },
      "source": [
        "checkpoint = ModelCheckpoint(\"Plant_seed_CNN_checkpoint_v5.h5\", monitor='val_accuracy', verbose=1, save_best_only=True, mode='auto')\n",
        "early = EarlyStopping(monitor='val_accuracy', min_delta=0, patience=10, verbose=1, mode='auto')\n",
        "epochs=100\n",
        "model.fit(trainX, trainY, epochs = epochs, validation_data=(valX, valY), callbacks = [checkpoint, early])"
      ],
      "execution_count": 0,
      "outputs": [
        {
          "output_type": "stream",
          "text": [
            "Train on 3325 samples, validate on 1425 samples\n",
            "Epoch 1/100\n",
            "3296/3325 [============================>.] - ETA: 0s - loss: 1.7302 - accuracy: 0.4666\n",
            "Epoch 00001: val_accuracy improved from -inf to 0.13333, saving model to Plant_seed_CNN_checkpoint_v5.h5\n",
            "3325/3325 [==============================] - 13s 4ms/sample - loss: 1.7223 - accuracy: 0.4695 - val_loss: 18.6109 - val_accuracy: 0.1333\n",
            "Epoch 2/100\n",
            "3296/3325 [============================>.] - ETA: 0s - loss: 0.9639 - accuracy: 0.6796\n",
            "Epoch 00002: val_accuracy improved from 0.13333 to 0.13614, saving model to Plant_seed_CNN_checkpoint_v5.h5\n",
            "3325/3325 [==============================] - 12s 4ms/sample - loss: 0.9646 - accuracy: 0.6797 - val_loss: 9.3933 - val_accuracy: 0.1361\n",
            "Epoch 3/100\n",
            "3296/3325 [============================>.] - ETA: 0s - loss: 0.7047 - accuracy: 0.7646\n",
            "Epoch 00003: val_accuracy improved from 0.13614 to 0.14316, saving model to Plant_seed_CNN_checkpoint_v5.h5\n",
            "3325/3325 [==============================] - 10s 3ms/sample - loss: 0.7030 - accuracy: 0.7648 - val_loss: 13.6237 - val_accuracy: 0.1432\n",
            "Epoch 4/100\n",
            "3296/3325 [============================>.] - ETA: 0s - loss: 0.6096 - accuracy: 0.7867\n",
            "Epoch 00004: val_accuracy did not improve from 0.14316\n",
            "3325/3325 [==============================] - 10s 3ms/sample - loss: 0.6121 - accuracy: 0.7859 - val_loss: 8.9844 - val_accuracy: 0.1425\n",
            "Epoch 5/100\n",
            "3296/3325 [============================>.] - ETA: 0s - loss: 0.5062 - accuracy: 0.8277\n",
            "Epoch 00005: val_accuracy improved from 0.14316 to 0.27789, saving model to Plant_seed_CNN_checkpoint_v5.h5\n",
            "3325/3325 [==============================] - 11s 3ms/sample - loss: 0.5084 - accuracy: 0.8277 - val_loss: 3.4615 - val_accuracy: 0.2779\n",
            "Epoch 6/100\n",
            "3296/3325 [============================>.] - ETA: 0s - loss: 0.4625 - accuracy: 0.8419\n",
            "Epoch 00006: val_accuracy improved from 0.27789 to 0.36772, saving model to Plant_seed_CNN_checkpoint_v5.h5\n",
            "3325/3325 [==============================] - 10s 3ms/sample - loss: 0.4630 - accuracy: 0.8421 - val_loss: 3.2493 - val_accuracy: 0.3677\n",
            "Epoch 7/100\n",
            "3296/3325 [============================>.] - ETA: 0s - loss: 0.4110 - accuracy: 0.8565\n",
            "Epoch 00007: val_accuracy improved from 0.36772 to 0.70667, saving model to Plant_seed_CNN_checkpoint_v5.h5\n",
            "3325/3325 [==============================] - 11s 3ms/sample - loss: 0.4111 - accuracy: 0.8565 - val_loss: 0.9976 - val_accuracy: 0.7067\n",
            "Epoch 8/100\n",
            "3296/3325 [============================>.] - ETA: 0s - loss: 0.3414 - accuracy: 0.8789\n",
            "Epoch 00008: val_accuracy did not improve from 0.70667\n",
            "3325/3325 [==============================] - 10s 3ms/sample - loss: 0.3432 - accuracy: 0.8782 - val_loss: 1.2975 - val_accuracy: 0.6323\n",
            "Epoch 9/100\n",
            "3296/3325 [============================>.] - ETA: 0s - loss: 0.3022 - accuracy: 0.8932\n",
            "Epoch 00009: val_accuracy improved from 0.70667 to 0.82737, saving model to Plant_seed_CNN_checkpoint_v5.h5\n",
            "3325/3325 [==============================] - 10s 3ms/sample - loss: 0.3025 - accuracy: 0.8929 - val_loss: 0.5523 - val_accuracy: 0.8274\n",
            "Epoch 10/100\n",
            "3296/3325 [============================>.] - ETA: 0s - loss: 0.2587 - accuracy: 0.9041\n",
            "Epoch 00010: val_accuracy did not improve from 0.82737\n",
            "3325/3325 [==============================] - 10s 3ms/sample - loss: 0.2593 - accuracy: 0.9038 - val_loss: 2.7175 - val_accuracy: 0.4632\n",
            "Epoch 11/100\n",
            "3296/3325 [============================>.] - ETA: 0s - loss: 0.2460 - accuracy: 0.9047\n",
            "Epoch 00011: val_accuracy did not improve from 0.82737\n",
            "3325/3325 [==============================] - 10s 3ms/sample - loss: 0.2466 - accuracy: 0.9047 - val_loss: 1.1772 - val_accuracy: 0.6281\n",
            "Epoch 12/100\n",
            "3296/3325 [============================>.] - ETA: 0s - loss: 0.2070 - accuracy: 0.9205\n",
            "Epoch 00012: val_accuracy did not improve from 0.82737\n",
            "3325/3325 [==============================] - 10s 3ms/sample - loss: 0.2060 - accuracy: 0.9212 - val_loss: 2.4238 - val_accuracy: 0.4982\n",
            "Epoch 13/100\n",
            "3296/3325 [============================>.] - ETA: 0s - loss: 0.1989 - accuracy: 0.9290\n",
            "Epoch 00013: val_accuracy did not improve from 0.82737\n",
            "3325/3325 [==============================] - 10s 3ms/sample - loss: 0.1978 - accuracy: 0.9293 - val_loss: 0.8929 - val_accuracy: 0.7144\n",
            "Epoch 14/100\n",
            "3296/3325 [============================>.] - ETA: 0s - loss: 0.2152 - accuracy: 0.9220\n",
            "Epoch 00014: val_accuracy did not improve from 0.82737\n",
            "3325/3325 [==============================] - 10s 3ms/sample - loss: 0.2153 - accuracy: 0.9218 - val_loss: 0.7566 - val_accuracy: 0.7853\n",
            "Epoch 15/100\n",
            "3296/3325 [============================>.] - ETA: 0s - loss: 0.1858 - accuracy: 0.9366\n",
            "Epoch 00015: val_accuracy did not improve from 0.82737\n",
            "3325/3325 [==============================] - 10s 3ms/sample - loss: 0.1863 - accuracy: 0.9362 - val_loss: 0.7413 - val_accuracy: 0.7670\n",
            "Epoch 16/100\n",
            "3296/3325 [============================>.] - ETA: 0s - loss: 0.1712 - accuracy: 0.9424\n",
            "Epoch 00016: val_accuracy did not improve from 0.82737\n",
            "3325/3325 [==============================] - 10s 3ms/sample - loss: 0.1713 - accuracy: 0.9420 - val_loss: 1.1730 - val_accuracy: 0.6512\n",
            "Epoch 17/100\n",
            "3296/3325 [============================>.] - ETA: 0s - loss: 0.1425 - accuracy: 0.9527\n",
            "Epoch 00017: val_accuracy did not improve from 0.82737\n",
            "3325/3325 [==============================] - 10s 3ms/sample - loss: 0.1447 - accuracy: 0.9519 - val_loss: 0.9991 - val_accuracy: 0.7551\n",
            "Epoch 18/100\n",
            "3296/3325 [============================>.] - ETA: 0s - loss: 0.1141 - accuracy: 0.9542\n",
            "Epoch 00018: val_accuracy improved from 0.82737 to 0.83579, saving model to Plant_seed_CNN_checkpoint_v5.h5\n",
            "3325/3325 [==============================] - 13s 4ms/sample - loss: 0.1134 - accuracy: 0.9546 - val_loss: 0.5311 - val_accuracy: 0.8358\n",
            "Epoch 19/100\n",
            "3296/3325 [============================>.] - ETA: 0s - loss: 0.0969 - accuracy: 0.9678\n",
            "Epoch 00019: val_accuracy improved from 0.83579 to 0.84070, saving model to Plant_seed_CNN_checkpoint_v5.h5\n",
            "3325/3325 [==============================] - 10s 3ms/sample - loss: 0.0968 - accuracy: 0.9678 - val_loss: 0.5987 - val_accuracy: 0.8407\n",
            "Epoch 20/100\n",
            "3296/3325 [============================>.] - ETA: 0s - loss: 0.1186 - accuracy: 0.9539\n",
            "Epoch 00020: val_accuracy did not improve from 0.84070\n",
            "3325/3325 [==============================] - 10s 3ms/sample - loss: 0.1199 - accuracy: 0.9540 - val_loss: 0.7744 - val_accuracy: 0.7761\n",
            "Epoch 21/100\n",
            "3296/3325 [============================>.] - ETA: 0s - loss: 0.1300 - accuracy: 0.9548\n",
            "Epoch 00021: val_accuracy did not improve from 0.84070\n",
            "3325/3325 [==============================] - 10s 3ms/sample - loss: 0.1298 - accuracy: 0.9549 - val_loss: 0.8894 - val_accuracy: 0.7811\n",
            "Epoch 22/100\n",
            "3296/3325 [============================>.] - ETA: 0s - loss: 0.0891 - accuracy: 0.9712\n",
            "Epoch 00022: val_accuracy did not improve from 0.84070\n",
            "3325/3325 [==============================] - 10s 3ms/sample - loss: 0.0892 - accuracy: 0.9708 - val_loss: 0.6274 - val_accuracy: 0.8316\n",
            "Epoch 23/100\n",
            "3296/3325 [============================>.] - ETA: 0s - loss: 0.0744 - accuracy: 0.9736\n",
            "Epoch 00023: val_accuracy improved from 0.84070 to 0.85544, saving model to Plant_seed_CNN_checkpoint_v5.h5\n",
            "3325/3325 [==============================] - 12s 3ms/sample - loss: 0.0740 - accuracy: 0.9738 - val_loss: 0.5549 - val_accuracy: 0.8554\n",
            "Epoch 24/100\n",
            "3296/3325 [============================>.] - ETA: 0s - loss: 0.0723 - accuracy: 0.9775\n",
            "Epoch 00024: val_accuracy did not improve from 0.85544\n",
            "3325/3325 [==============================] - 10s 3ms/sample - loss: 0.0721 - accuracy: 0.9777 - val_loss: 1.4104 - val_accuracy: 0.6842\n",
            "Epoch 25/100\n",
            "3296/3325 [============================>.] - ETA: 0s - loss: 0.0939 - accuracy: 0.9691\n",
            "Epoch 00025: val_accuracy did not improve from 0.85544\n",
            "3325/3325 [==============================] - 10s 3ms/sample - loss: 0.0940 - accuracy: 0.9690 - val_loss: 2.6174 - val_accuracy: 0.5937\n",
            "Epoch 26/100\n",
            "3296/3325 [============================>.] - ETA: 0s - loss: 0.1131 - accuracy: 0.9612\n",
            "Epoch 00026: val_accuracy did not improve from 0.85544\n",
            "3325/3325 [==============================] - 10s 3ms/sample - loss: 0.1123 - accuracy: 0.9615 - val_loss: 1.5528 - val_accuracy: 0.6035\n",
            "Epoch 27/100\n",
            "3296/3325 [============================>.] - ETA: 0s - loss: 0.1262 - accuracy: 0.9536\n",
            "Epoch 00027: val_accuracy did not improve from 0.85544\n",
            "3325/3325 [==============================] - 10s 3ms/sample - loss: 0.1256 - accuracy: 0.9537 - val_loss: 1.1379 - val_accuracy: 0.7382\n",
            "Epoch 28/100\n",
            "3296/3325 [============================>.] - ETA: 0s - loss: 0.1068 - accuracy: 0.9660\n",
            "Epoch 00028: val_accuracy did not improve from 0.85544\n",
            "3325/3325 [==============================] - 10s 3ms/sample - loss: 0.1069 - accuracy: 0.9660 - val_loss: 1.3905 - val_accuracy: 0.7389\n",
            "Epoch 29/100\n",
            "3296/3325 [============================>.] - ETA: 0s - loss: 0.0509 - accuracy: 0.9830\n",
            "Epoch 00029: val_accuracy improved from 0.85544 to 0.87439, saving model to Plant_seed_CNN_checkpoint_v5.h5\n",
            "3325/3325 [==============================] - 12s 4ms/sample - loss: 0.0511 - accuracy: 0.9829 - val_loss: 0.4503 - val_accuracy: 0.8744\n",
            "Epoch 30/100\n",
            "3296/3325 [============================>.] - ETA: 0s - loss: 0.0575 - accuracy: 0.9815\n",
            "Epoch 00030: val_accuracy did not improve from 0.87439\n",
            "3325/3325 [==============================] - 10s 3ms/sample - loss: 0.0573 - accuracy: 0.9817 - val_loss: 1.3020 - val_accuracy: 0.7340\n",
            "Epoch 31/100\n",
            "3296/3325 [============================>.] - ETA: 0s - loss: 0.0566 - accuracy: 0.9803\n",
            "Epoch 00031: val_accuracy did not improve from 0.87439\n",
            "3325/3325 [==============================] - 10s 3ms/sample - loss: 0.0574 - accuracy: 0.9798 - val_loss: 0.7815 - val_accuracy: 0.8119\n",
            "Epoch 32/100\n",
            "3296/3325 [============================>.] - ETA: 0s - loss: 0.0566 - accuracy: 0.9800\n",
            "Epoch 00032: val_accuracy did not improve from 0.87439\n",
            "3325/3325 [==============================] - 10s 3ms/sample - loss: 0.0575 - accuracy: 0.9795 - val_loss: 1.8899 - val_accuracy: 0.6575\n",
            "Epoch 33/100\n",
            "3296/3325 [============================>.] - ETA: 0s - loss: 0.0442 - accuracy: 0.9870\n",
            "Epoch 00033: val_accuracy did not improve from 0.87439\n",
            "3325/3325 [==============================] - 10s 3ms/sample - loss: 0.0440 - accuracy: 0.9871 - val_loss: 0.9501 - val_accuracy: 0.7586\n",
            "Epoch 34/100\n",
            "3296/3325 [============================>.] - ETA: 0s - loss: 0.0776 - accuracy: 0.9724\n",
            "Epoch 00034: val_accuracy did not improve from 0.87439\n",
            "3325/3325 [==============================] - 10s 3ms/sample - loss: 0.0794 - accuracy: 0.9723 - val_loss: 2.0626 - val_accuracy: 0.5832\n",
            "Epoch 35/100\n",
            "3296/3325 [============================>.] - ETA: 0s - loss: 0.0543 - accuracy: 0.9809\n",
            "Epoch 00035: val_accuracy did not improve from 0.87439\n",
            "3325/3325 [==============================] - 10s 3ms/sample - loss: 0.0539 - accuracy: 0.9811 - val_loss: 0.9533 - val_accuracy: 0.7818\n",
            "Epoch 36/100\n",
            "3296/3325 [============================>.] - ETA: 0s - loss: 0.0368 - accuracy: 0.9867\n",
            "Epoch 00036: val_accuracy did not improve from 0.87439\n",
            "3325/3325 [==============================] - 10s 3ms/sample - loss: 0.0377 - accuracy: 0.9865 - val_loss: 0.8631 - val_accuracy: 0.7916\n",
            "Epoch 37/100\n",
            "3296/3325 [============================>.] - ETA: 0s - loss: 0.0367 - accuracy: 0.9879\n",
            "Epoch 00037: val_accuracy did not improve from 0.87439\n",
            "3325/3325 [==============================] - 10s 3ms/sample - loss: 0.0366 - accuracy: 0.9880 - val_loss: 0.6165 - val_accuracy: 0.8632\n",
            "Epoch 38/100\n",
            "3296/3325 [============================>.] - ETA: 0s - loss: 0.0545 - accuracy: 0.9800\n",
            "Epoch 00038: val_accuracy did not improve from 0.87439\n",
            "3325/3325 [==============================] - 10s 3ms/sample - loss: 0.0542 - accuracy: 0.9802 - val_loss: 1.6209 - val_accuracy: 0.6618\n",
            "Epoch 39/100\n",
            "3296/3325 [============================>.] - ETA: 0s - loss: 0.0477 - accuracy: 0.9830\n",
            "Epoch 00039: val_accuracy did not improve from 0.87439\n",
            "3325/3325 [==============================] - 10s 3ms/sample - loss: 0.0482 - accuracy: 0.9829 - val_loss: 0.7273 - val_accuracy: 0.8344\n",
            "Epoch 00039: early stopping\n"
          ],
          "name": "stdout"
        },
        {
          "output_type": "execute_result",
          "data": {
            "text/plain": [
              "<tensorflow.python.keras.callbacks.History at 0x7f1c50c632e8>"
            ]
          },
          "metadata": {
            "tags": []
          },
          "execution_count": 200
        }
      ]
    },
    {
      "cell_type": "code",
      "metadata": {
        "id": "Nn4fao8i1DV6",
        "colab_type": "code",
        "colab": {}
      },
      "source": [
        "wights_file = 'Plant_seed_CNN_checkpoint_v5.h5' # choose the best checkpoint \n",
        "model.load_weights(wights_file) # load it\n",
        "model.compile(loss='categorical_crossentropy', optimizer='adam', metrics=['accuracy'])"
      ],
      "execution_count": 0,
      "outputs": []
    },
    {
      "cell_type": "code",
      "metadata": {
        "id": "Uf-Ez2xpe8d0",
        "colab_type": "code",
        "outputId": "a5dfeff3-4c71-423b-af90-e84839f35816",
        "colab": {
          "base_uri": "https://localhost:8080/",
          "height": 85
        }
      },
      "source": [
        "score_train = model.evaluate(trainX, trainY)\n",
        "score_val = model.evaluate(valX, valY)\n",
        "print('Train accuracy:', round(score_train[1]*100,2), \"%\")\n",
        "print('Validation accuracy:', round(score_val[1]*100,2),\"%\")"
      ],
      "execution_count": 0,
      "outputs": [
        {
          "output_type": "stream",
          "text": [
            "3325/3325 [==============================] - 3s 906us/sample - loss: 0.0060 - accuracy: 0.9997\n",
            "1425/1425 [==============================] - 1s 866us/sample - loss: 0.4503 - accuracy: 0.8744\n",
            "Train accuracy: 99.97 %\n",
            "Validation accuracy: 87.44 %\n"
          ],
          "name": "stdout"
        }
      ]
    },
    {
      "cell_type": "markdown",
      "metadata": {
        "id": "5lktjUd8iNAv",
        "colab_type": "text"
      },
      "source": [
        "Model prediction and Submisssion file creation"
      ]
    },
    {
      "cell_type": "code",
      "metadata": {
        "id": "hv9rFEZMg61i",
        "colab_type": "code",
        "outputId": "01e653d7-9e67-4b8c-c2d8-71fe9300241b",
        "colab": {
          "base_uri": "https://localhost:8080/",
          "height": 34
        }
      },
      "source": [
        "predictions = model.predict(X_test)\n",
        "predictions[0]"
      ],
      "execution_count": 0,
      "outputs": [
        {
          "output_type": "execute_result",
          "data": {
            "text/plain": [
              "array([0., 0., 0., 0., 0., 0., 0., 1., 0., 0., 0., 0.], dtype=float32)"
            ]
          },
          "metadata": {
            "tags": []
          },
          "execution_count": 204
        }
      ]
    },
    {
      "cell_type": "code",
      "metadata": {
        "id": "76325VzWxeVs",
        "colab_type": "code",
        "colab": {}
      },
      "source": [
        "lable_df = pd.DataFrame({\"lable\": np.argmax(predictions, axis=1, out=None)})"
      ],
      "execution_count": 0,
      "outputs": []
    },
    {
      "cell_type": "code",
      "metadata": {
        "id": "EV3e85Xh2oLs",
        "colab_type": "code",
        "outputId": "d66b2bf7-2e93-48a8-865d-eaf02440d8a7",
        "colab": {
          "base_uri": "https://localhost:8080/",
          "height": 34
        }
      },
      "source": [
        "test = []\n",
        "for file in os.listdir('/content/drive/My Drive/test'):\n",
        "    test.append(file)\n",
        "test = pd.DataFrame(test, columns=['file'])\n",
        "test.shape"
      ],
      "execution_count": 0,
      "outputs": [
        {
          "output_type": "execute_result",
          "data": {
            "text/plain": [
              "(794, 1)"
            ]
          },
          "metadata": {
            "tags": []
          },
          "execution_count": 206
        }
      ]
    },
    {
      "cell_type": "code",
      "metadata": {
        "id": "FrCY1ltg8OS8",
        "colab_type": "code",
        "colab": {}
      },
      "source": [
        "CATEGORIES = y_dummies.columns"
      ],
      "execution_count": 0,
      "outputs": []
    },
    {
      "cell_type": "code",
      "metadata": {
        "id": "_TL956Ce5lq0",
        "colab_type": "code",
        "colab": {}
      },
      "source": [
        "test['species'] = [CATEGORIES[c] for c in lable_df['lable'] ]\n"
      ],
      "execution_count": 0,
      "outputs": []
    },
    {
      "cell_type": "code",
      "metadata": {
        "id": "xTUFyt7o-Bqr",
        "colab_type": "code",
        "colab": {}
      },
      "source": [
        "test.to_csv('submission.csv', index=False)"
      ],
      "execution_count": 0,
      "outputs": []
    }
  ]
}