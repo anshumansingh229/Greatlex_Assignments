{
 "cells": [
  {
   "cell_type": "markdown",
   "metadata": {},
   "source": [
    "**About Book Crossing Dataset**<br>\n",
    "\n",
    "This dataset has been compiled by Cai-Nicolas Ziegler in 2004, and it comprises of three tables for users, books and ratings. Explicit ratings are expressed on a scale from 1-10 (higher values denoting higher appreciation) and implicit rating is expressed by 0."
   ]
  },
  {
   "cell_type": "markdown",
   "metadata": {},
   "source": [
    "Reference: http://www2.informatik.uni-freiburg.de/~cziegler/BX/ "
   ]
  },
  {
   "cell_type": "markdown",
   "metadata": {},
   "source": [
    "**Objective**\n",
    "\n",
    "This project entails building a Book Recommender System for users based on user-based and item-based collaborative filtering approaches."
   ]
  },
  {
   "cell_type": "markdown",
   "metadata": {},
   "source": [
    "#### Execute the below cell to load the datasets"
   ]
  },
  {
   "cell_type": "code",
   "execution_count": 336,
   "metadata": {
    "scrolled": false
   },
   "outputs": [
    {
     "name": "stderr",
     "output_type": "stream",
     "text": [
      "b'Skipping line 6452: expected 8 fields, saw 9\\nSkipping line 43667: expected 8 fields, saw 10\\nSkipping line 51751: expected 8 fields, saw 9\\n'\n",
      "b'Skipping line 92038: expected 8 fields, saw 9\\nSkipping line 104319: expected 8 fields, saw 9\\nSkipping line 121768: expected 8 fields, saw 9\\n'\n",
      "b'Skipping line 144058: expected 8 fields, saw 9\\nSkipping line 150789: expected 8 fields, saw 9\\nSkipping line 157128: expected 8 fields, saw 9\\nSkipping line 180189: expected 8 fields, saw 9\\nSkipping line 185738: expected 8 fields, saw 9\\n'\n",
      "b'Skipping line 209388: expected 8 fields, saw 9\\nSkipping line 220626: expected 8 fields, saw 9\\nSkipping line 227933: expected 8 fields, saw 11\\nSkipping line 228957: expected 8 fields, saw 10\\nSkipping line 245933: expected 8 fields, saw 9\\nSkipping line 251296: expected 8 fields, saw 9\\nSkipping line 259941: expected 8 fields, saw 9\\nSkipping line 261529: expected 8 fields, saw 9\\n'\n"
     ]
    }
   ],
   "source": [
    "import warnings \n",
    "warnings.filterwarnings('ignore')\n",
    "import pandas as pd\n",
    "import numpy as np\n",
    "#Loading data\n",
    "books = pd.read_csv(\"books.csv\", sep=\";\", error_bad_lines=False, encoding=\"latin-1\")\n",
    "books.columns = ['ISBN', 'bookTitle', 'bookAuthor', 'yearOfPublication', 'publisher', 'imageUrlS', 'imageUrlM', 'imageUrlL']\n",
    "\n",
    "users = pd.read_csv('users.csv', sep=';', error_bad_lines=False, encoding=\"latin-1\")\n",
    "users.columns = ['userID', 'Location', 'Age']\n",
    "\n",
    "ratings = pd.read_csv('ratings.csv', sep=';',error_bad_lines=False, encoding=\"latin-1\")\n",
    "ratings.columns = ['userID', 'ISBN', 'bookRating']\n"
   ]
  },
  {
   "cell_type": "markdown",
   "metadata": {},
   "source": [
    "### Check no.of records and features given in each dataset"
   ]
  },
  {
   "cell_type": "code",
   "execution_count": 337,
   "metadata": {},
   "outputs": [
    {
     "name": "stdout",
     "output_type": "stream",
     "text": [
      "\u001b[94m\u001b[1m1. Dimension of books-dataset :\u001b[0m 271360  Rows & 8  Columns\n",
      "\u001b[94m\u001b[1m2. Column Names of books dataset:\u001b[0m\n",
      " 1.ISBN \n",
      " 2.bookTitle \n",
      " 3.bookAuthor \n",
      " 4.yearOfPublication \n",
      " 5.publisher \n",
      " 6.imageUrlS \n",
      " 7.imageUrlM \n",
      " 8.imageUrlL \n",
      "\u001b[94m\u001b[1m3. Data Info of books dataset:\u001b[0m\n",
      "<class 'pandas.core.frame.DataFrame'>\n",
      "RangeIndex: 271360 entries, 0 to 271359\n",
      "Data columns (total 8 columns):\n",
      "ISBN                 271360 non-null object\n",
      "bookTitle            271360 non-null object\n",
      "bookAuthor           271359 non-null object\n",
      "yearOfPublication    271360 non-null object\n",
      "publisher            271358 non-null object\n",
      "imageUrlS            271360 non-null object\n",
      "imageUrlM            271360 non-null object\n",
      "imageUrlL            271357 non-null object\n",
      "dtypes: object(8)\n",
      "memory usage: 16.6+ MB\n",
      "None\n",
      "----------------------------------------------------------------------------------------------------\n",
      "\u001b[94m\u001b[1m1. Dimension of users-dataset :\u001b[0m 278858  Rows & 3  Columns\n",
      "\u001b[94m\u001b[1m2. Column Names of users dataset:\u001b[0m\n",
      " 1.userID \n",
      " 2.Location \n",
      " 3.Age \n",
      "\u001b[94m\u001b[1m3. Data Info of users dataset:\u001b[0m\n",
      "<class 'pandas.core.frame.DataFrame'>\n",
      "RangeIndex: 278858 entries, 0 to 278857\n",
      "Data columns (total 3 columns):\n",
      "userID      278858 non-null int64\n",
      "Location    278858 non-null object\n",
      "Age         168096 non-null float64\n",
      "dtypes: float64(1), int64(1), object(1)\n",
      "memory usage: 6.4+ MB\n",
      "None\n",
      "----------------------------------------------------------------------------------------------------\n",
      "\u001b[94m\u001b[1m1. Dimension of ratings-dataset :\u001b[0m 1149780  Rows & 3  Columns\n",
      "\u001b[94m\u001b[1m2. Column Names of ratings dataset:\u001b[0m\n",
      " 1.userID \n",
      " 2.ISBN \n",
      " 3.bookRating \n",
      "\u001b[94m\u001b[1m3. Data Info of ratings dataset:\u001b[0m\n",
      "<class 'pandas.core.frame.DataFrame'>\n",
      "RangeIndex: 1149780 entries, 0 to 1149779\n",
      "Data columns (total 3 columns):\n",
      "userID        1149780 non-null int64\n",
      "ISBN          1149780 non-null object\n",
      "bookRating    1149780 non-null int64\n",
      "dtypes: int64(2), object(1)\n",
      "memory usage: 26.3+ MB\n",
      "None\n"
     ]
    }
   ],
   "source": [
    "print(\"\\033[94m\\033[1m1. Dimension of books-dataset :\\x1b[0m\",list(books.shape )[0] ,\n",
    "      \" Rows &\",list(books.shape )[1] ,\" Columns\")\n",
    "total_rows1 = list(books.shape )[0]\n",
    "print(\"\\033[94m\\033[1m2. Column Names of books dataset:\\x1b[0m\")\n",
    "for i,col in enumerate(books.columns.tolist(),start=1):\n",
    "    print (\" {}.{} \".format(i,col))\n",
    "print(\"\\033[94m\\033[1m3. Data Info of books dataset:\\x1b[0m\")\n",
    "print(books.info())\n",
    "print(\"-\"*100)\n",
    "print(\"\\033[94m\\033[1m1. Dimension of users-dataset :\\x1b[0m\",list(users.shape )[0] ,\n",
    "      \" Rows &\",list(users.shape )[1] ,\" Columns\")\n",
    "total_rows1 = list(users.shape )[0]\n",
    "print(\"\\033[94m\\033[1m2. Column Names of users dataset:\\x1b[0m\")\n",
    "for i,col in enumerate(users.columns.tolist(),start=1):\n",
    "    print (\" {}.{} \".format(i,col))\n",
    "print(\"\\033[94m\\033[1m3. Data Info of users dataset:\\x1b[0m\")\n",
    "print(users.info())\n",
    "print(\"-\"*100)\n",
    "print(\"\\033[94m\\033[1m1. Dimension of ratings-dataset :\\x1b[0m\",list(ratings.shape )[0] ,\n",
    "      \" Rows &\",list(ratings.shape )[1] ,\" Columns\")\n",
    "total_rows1 = list(ratings.shape )[0]\n",
    "print(\"\\033[94m\\033[1m2. Column Names of ratings dataset:\\x1b[0m\")\n",
    "for i,col in enumerate(ratings.columns.tolist(),start=1):\n",
    "    print (\" {}.{} \".format(i,col))\n",
    "print(\"\\033[94m\\033[1m3. Data Info of ratings dataset:\\x1b[0m\")\n",
    "print(ratings.info())"
   ]
  },
  {
   "cell_type": "markdown",
   "metadata": {},
   "source": [
    "## Exploring books dataset"
   ]
  },
  {
   "cell_type": "code",
   "execution_count": 338,
   "metadata": {
    "scrolled": false
   },
   "outputs": [
    {
     "data": {
      "text/html": [
       "<div>\n",
       "<style scoped>\n",
       "    .dataframe tbody tr th:only-of-type {\n",
       "        vertical-align: middle;\n",
       "    }\n",
       "\n",
       "    .dataframe tbody tr th {\n",
       "        vertical-align: top;\n",
       "    }\n",
       "\n",
       "    .dataframe thead th {\n",
       "        text-align: right;\n",
       "    }\n",
       "</style>\n",
       "<table border=\"1\" class=\"dataframe\">\n",
       "  <thead>\n",
       "    <tr style=\"text-align: right;\">\n",
       "      <th></th>\n",
       "      <th>ISBN</th>\n",
       "      <th>bookTitle</th>\n",
       "      <th>bookAuthor</th>\n",
       "      <th>yearOfPublication</th>\n",
       "      <th>publisher</th>\n",
       "      <th>imageUrlS</th>\n",
       "      <th>imageUrlM</th>\n",
       "      <th>imageUrlL</th>\n",
       "    </tr>\n",
       "  </thead>\n",
       "  <tbody>\n",
       "    <tr>\n",
       "      <th>0</th>\n",
       "      <td>0195153448</td>\n",
       "      <td>Classical Mythology</td>\n",
       "      <td>Mark P. O. Morford</td>\n",
       "      <td>2002</td>\n",
       "      <td>Oxford University Press</td>\n",
       "      <td>http://images.amazon.com/images/P/0195153448.0...</td>\n",
       "      <td>http://images.amazon.com/images/P/0195153448.0...</td>\n",
       "      <td>http://images.amazon.com/images/P/0195153448.0...</td>\n",
       "    </tr>\n",
       "    <tr>\n",
       "      <th>1</th>\n",
       "      <td>0002005018</td>\n",
       "      <td>Clara Callan</td>\n",
       "      <td>Richard Bruce Wright</td>\n",
       "      <td>2001</td>\n",
       "      <td>HarperFlamingo Canada</td>\n",
       "      <td>http://images.amazon.com/images/P/0002005018.0...</td>\n",
       "      <td>http://images.amazon.com/images/P/0002005018.0...</td>\n",
       "      <td>http://images.amazon.com/images/P/0002005018.0...</td>\n",
       "    </tr>\n",
       "    <tr>\n",
       "      <th>2</th>\n",
       "      <td>0060973129</td>\n",
       "      <td>Decision in Normandy</td>\n",
       "      <td>Carlo D'Este</td>\n",
       "      <td>1991</td>\n",
       "      <td>HarperPerennial</td>\n",
       "      <td>http://images.amazon.com/images/P/0060973129.0...</td>\n",
       "      <td>http://images.amazon.com/images/P/0060973129.0...</td>\n",
       "      <td>http://images.amazon.com/images/P/0060973129.0...</td>\n",
       "    </tr>\n",
       "    <tr>\n",
       "      <th>3</th>\n",
       "      <td>0374157065</td>\n",
       "      <td>Flu: The Story of the Great Influenza Pandemic...</td>\n",
       "      <td>Gina Bari Kolata</td>\n",
       "      <td>1999</td>\n",
       "      <td>Farrar Straus Giroux</td>\n",
       "      <td>http://images.amazon.com/images/P/0374157065.0...</td>\n",
       "      <td>http://images.amazon.com/images/P/0374157065.0...</td>\n",
       "      <td>http://images.amazon.com/images/P/0374157065.0...</td>\n",
       "    </tr>\n",
       "    <tr>\n",
       "      <th>4</th>\n",
       "      <td>0393045218</td>\n",
       "      <td>The Mummies of Urumchi</td>\n",
       "      <td>E. J. W. Barber</td>\n",
       "      <td>1999</td>\n",
       "      <td>W. W. Norton &amp;amp; Company</td>\n",
       "      <td>http://images.amazon.com/images/P/0393045218.0...</td>\n",
       "      <td>http://images.amazon.com/images/P/0393045218.0...</td>\n",
       "      <td>http://images.amazon.com/images/P/0393045218.0...</td>\n",
       "    </tr>\n",
       "  </tbody>\n",
       "</table>\n",
       "</div>"
      ],
      "text/plain": [
       "         ISBN                                          bookTitle  \\\n",
       "0  0195153448                                Classical Mythology   \n",
       "1  0002005018                                       Clara Callan   \n",
       "2  0060973129                               Decision in Normandy   \n",
       "3  0374157065  Flu: The Story of the Great Influenza Pandemic...   \n",
       "4  0393045218                             The Mummies of Urumchi   \n",
       "\n",
       "             bookAuthor yearOfPublication                   publisher  \\\n",
       "0    Mark P. O. Morford              2002     Oxford University Press   \n",
       "1  Richard Bruce Wright              2001       HarperFlamingo Canada   \n",
       "2          Carlo D'Este              1991             HarperPerennial   \n",
       "3      Gina Bari Kolata              1999        Farrar Straus Giroux   \n",
       "4       E. J. W. Barber              1999  W. W. Norton &amp; Company   \n",
       "\n",
       "                                           imageUrlS  \\\n",
       "0  http://images.amazon.com/images/P/0195153448.0...   \n",
       "1  http://images.amazon.com/images/P/0002005018.0...   \n",
       "2  http://images.amazon.com/images/P/0060973129.0...   \n",
       "3  http://images.amazon.com/images/P/0374157065.0...   \n",
       "4  http://images.amazon.com/images/P/0393045218.0...   \n",
       "\n",
       "                                           imageUrlM  \\\n",
       "0  http://images.amazon.com/images/P/0195153448.0...   \n",
       "1  http://images.amazon.com/images/P/0002005018.0...   \n",
       "2  http://images.amazon.com/images/P/0060973129.0...   \n",
       "3  http://images.amazon.com/images/P/0374157065.0...   \n",
       "4  http://images.amazon.com/images/P/0393045218.0...   \n",
       "\n",
       "                                           imageUrlL  \n",
       "0  http://images.amazon.com/images/P/0195153448.0...  \n",
       "1  http://images.amazon.com/images/P/0002005018.0...  \n",
       "2  http://images.amazon.com/images/P/0060973129.0...  \n",
       "3  http://images.amazon.com/images/P/0374157065.0...  \n",
       "4  http://images.amazon.com/images/P/0393045218.0...  "
      ]
     },
     "execution_count": 338,
     "metadata": {},
     "output_type": "execute_result"
    }
   ],
   "source": [
    "books.head()"
   ]
  },
  {
   "cell_type": "markdown",
   "metadata": {},
   "source": [
    "### Drop last three columns containing image URLs which will not be required for analysis"
   ]
  },
  {
   "cell_type": "code",
   "execution_count": 339,
   "metadata": {},
   "outputs": [],
   "source": [
    "books.drop(books.iloc[:, -3:], inplace = True, axis = 1) "
   ]
  },
  {
   "cell_type": "code",
   "execution_count": 340,
   "metadata": {
    "scrolled": true
   },
   "outputs": [
    {
     "data": {
      "text/html": [
       "<div>\n",
       "<style scoped>\n",
       "    .dataframe tbody tr th:only-of-type {\n",
       "        vertical-align: middle;\n",
       "    }\n",
       "\n",
       "    .dataframe tbody tr th {\n",
       "        vertical-align: top;\n",
       "    }\n",
       "\n",
       "    .dataframe thead th {\n",
       "        text-align: right;\n",
       "    }\n",
       "</style>\n",
       "<table border=\"1\" class=\"dataframe\">\n",
       "  <thead>\n",
       "    <tr style=\"text-align: right;\">\n",
       "      <th></th>\n",
       "      <th>ISBN</th>\n",
       "      <th>bookTitle</th>\n",
       "      <th>bookAuthor</th>\n",
       "      <th>yearOfPublication</th>\n",
       "      <th>publisher</th>\n",
       "    </tr>\n",
       "  </thead>\n",
       "  <tbody>\n",
       "    <tr>\n",
       "      <th>0</th>\n",
       "      <td>0195153448</td>\n",
       "      <td>Classical Mythology</td>\n",
       "      <td>Mark P. O. Morford</td>\n",
       "      <td>2002</td>\n",
       "      <td>Oxford University Press</td>\n",
       "    </tr>\n",
       "  </tbody>\n",
       "</table>\n",
       "</div>"
      ],
      "text/plain": [
       "         ISBN            bookTitle          bookAuthor yearOfPublication  \\\n",
       "0  0195153448  Classical Mythology  Mark P. O. Morford              2002   \n",
       "\n",
       "                 publisher  \n",
       "0  Oxford University Press  "
      ]
     },
     "execution_count": 340,
     "metadata": {},
     "output_type": "execute_result"
    }
   ],
   "source": [
    "books.head(1)"
   ]
  },
  {
   "cell_type": "markdown",
   "metadata": {},
   "source": [
    "**yearOfPublication**"
   ]
  },
  {
   "cell_type": "markdown",
   "metadata": {},
   "source": [
    "### Check unique values of yearOfPublication\n"
   ]
  },
  {
   "cell_type": "code",
   "execution_count": 341,
   "metadata": {},
   "outputs": [
    {
     "data": {
      "text/plain": [
       "array([2002, 2001, 1991, 1999, 2000, 1993, 1996, 1988, 2004, 1998, 1994,\n",
       "       2003, 1997, 1983, 1979, 1995, 1982, 1985, 1992, 1986, 1978, 1980,\n",
       "       1952, 1987, 1990, 1981, 1989, 1984, 0, 1968, 1961, 1958, 1974,\n",
       "       1976, 1971, 1977, 1975, 1965, 1941, 1970, 1962, 1973, 1972, 1960,\n",
       "       1966, 1920, 1956, 1959, 1953, 1951, 1942, 1963, 1964, 1969, 1954,\n",
       "       1950, 1967, 2005, 1957, 1940, 1937, 1955, 1946, 1936, 1930, 2011,\n",
       "       1925, 1948, 1943, 1947, 1945, 1923, 2020, 1939, 1926, 1938, 2030,\n",
       "       1911, 1904, 1949, 1932, 1928, 1929, 1927, 1931, 1914, 2050, 1934,\n",
       "       1910, 1933, 1902, 1924, 1921, 1900, 2038, 2026, 1944, 1917, 1901,\n",
       "       2010, 1908, 1906, 1935, 1806, 2021, '2000', '1995', '1999', '2004',\n",
       "       '2003', '1990', '1994', '1986', '1989', '2002', '1981', '1993',\n",
       "       '1983', '1982', '1976', '1991', '1977', '1998', '1992', '1996',\n",
       "       '0', '1997', '2001', '1974', '1968', '1987', '1984', '1988',\n",
       "       '1963', '1956', '1970', '1985', '1978', '1973', '1980', '1979',\n",
       "       '1975', '1969', '1961', '1965', '1939', '1958', '1950', '1953',\n",
       "       '1966', '1971', '1959', '1972', '1955', '1957', '1945', '1960',\n",
       "       '1967', '1932', '1924', '1964', '2012', '1911', '1927', '1948',\n",
       "       '1962', '2006', '1952', '1940', '1951', '1931', '1954', '2005',\n",
       "       '1930', '1941', '1944', 'DK Publishing Inc', '1943', '1938',\n",
       "       '1900', '1942', '1923', '1920', '1933', 'Gallimard', '1909',\n",
       "       '1946', '2008', '1378', '2030', '1936', '1947', '2011', '2020',\n",
       "       '1919', '1949', '1922', '1897', '2024', '1376', '1926', '2037'],\n",
       "      dtype=object)"
      ]
     },
     "execution_count": 341,
     "metadata": {},
     "output_type": "execute_result"
    }
   ],
   "source": [
    "books[\"yearOfPublication\"].unique()"
   ]
  },
  {
   "cell_type": "markdown",
   "metadata": {},
   "source": [
    "As it can be seen from above that there are some incorrect entries in this field. It looks like Publisher names 'DK Publishing Inc' and 'Gallimard' have been incorrectly loaded as yearOfPublication in dataset due to some errors in csv file.\n",
    "\n",
    "\n",
    "Also some of the entries are strings and same years have been entered as numbers in some places. We will try to fix these things in the coming questions."
   ]
  },
  {
   "cell_type": "markdown",
   "metadata": {},
   "source": [
    "### Check the rows having 'DK Publishing Inc' as yearOfPublication"
   ]
  },
  {
   "cell_type": "code",
   "execution_count": 342,
   "metadata": {},
   "outputs": [
    {
     "data": {
      "text/html": [
       "<div>\n",
       "<style scoped>\n",
       "    .dataframe tbody tr th:only-of-type {\n",
       "        vertical-align: middle;\n",
       "    }\n",
       "\n",
       "    .dataframe tbody tr th {\n",
       "        vertical-align: top;\n",
       "    }\n",
       "\n",
       "    .dataframe thead th {\n",
       "        text-align: right;\n",
       "    }\n",
       "</style>\n",
       "<table border=\"1\" class=\"dataframe\">\n",
       "  <thead>\n",
       "    <tr style=\"text-align: right;\">\n",
       "      <th></th>\n",
       "      <th>ISBN</th>\n",
       "      <th>bookTitle</th>\n",
       "      <th>bookAuthor</th>\n",
       "      <th>yearOfPublication</th>\n",
       "      <th>publisher</th>\n",
       "    </tr>\n",
       "  </thead>\n",
       "  <tbody>\n",
       "    <tr>\n",
       "      <th>209538</th>\n",
       "      <td>078946697X</td>\n",
       "      <td>DK Readers: Creating the X-Men, How It All Beg...</td>\n",
       "      <td>2000</td>\n",
       "      <td>DK Publishing Inc</td>\n",
       "      <td>http://images.amazon.com/images/P/078946697X.0...</td>\n",
       "    </tr>\n",
       "    <tr>\n",
       "      <th>221678</th>\n",
       "      <td>0789466953</td>\n",
       "      <td>DK Readers: Creating the X-Men, How Comic Book...</td>\n",
       "      <td>2000</td>\n",
       "      <td>DK Publishing Inc</td>\n",
       "      <td>http://images.amazon.com/images/P/0789466953.0...</td>\n",
       "    </tr>\n",
       "  </tbody>\n",
       "</table>\n",
       "</div>"
      ],
      "text/plain": [
       "              ISBN                                          bookTitle  \\\n",
       "209538  078946697X  DK Readers: Creating the X-Men, How It All Beg...   \n",
       "221678  0789466953  DK Readers: Creating the X-Men, How Comic Book...   \n",
       "\n",
       "       bookAuthor  yearOfPublication  \\\n",
       "209538       2000  DK Publishing Inc   \n",
       "221678       2000  DK Publishing Inc   \n",
       "\n",
       "                                                publisher  \n",
       "209538  http://images.amazon.com/images/P/078946697X.0...  \n",
       "221678  http://images.amazon.com/images/P/0789466953.0...  "
      ]
     },
     "execution_count": 342,
     "metadata": {},
     "output_type": "execute_result"
    }
   ],
   "source": [
    "books[books[\"yearOfPublication\"] == 'DK Publishing Inc']"
   ]
  },
  {
   "cell_type": "markdown",
   "metadata": {},
   "source": [
    "### Drop the rows having `'DK Publishing Inc'` and `'Gallimard'` as `yearOfPublication`"
   ]
  },
  {
   "cell_type": "code",
   "execution_count": 343,
   "metadata": {},
   "outputs": [],
   "source": [
    "books.drop(books[books['yearOfPublication'] == 'DK Publishing Inc'].index, inplace = True) \n",
    "books.drop(books[books['yearOfPublication'] == 'Gallimard'].index, inplace = True) "
   ]
  },
  {
   "cell_type": "markdown",
   "metadata": {},
   "source": [
    "### Change the datatype of yearOfPublication to 'int'"
   ]
  },
  {
   "cell_type": "code",
   "execution_count": 344,
   "metadata": {
    "scrolled": true
   },
   "outputs": [
    {
     "data": {
      "text/plain": [
       "array([2002, 2001, 1991, 1999, 2000, 1993, 1996, 1988, 2004, 1998, 1994,\n",
       "       2003, 1997, 1983, 1979, 1995, 1982, 1985, 1992, 1986, 1978, 1980,\n",
       "       1952, 1987, 1990, 1981, 1989, 1984, 0, 1968, 1961, 1958, 1974,\n",
       "       1976, 1971, 1977, 1975, 1965, 1941, 1970, 1962, 1973, 1972, 1960,\n",
       "       1966, 1920, 1956, 1959, 1953, 1951, 1942, 1963, 1964, 1969, 1954,\n",
       "       1950, 1967, 2005, 1957, 1940, 1937, 1955, 1946, 1936, 1930, 2011,\n",
       "       1925, 1948, 1943, 1947, 1945, 1923, 2020, 1939, 1926, 1938, 2030,\n",
       "       1911, 1904, 1949, 1932, 1928, 1929, 1927, 1931, 1914, 2050, 1934,\n",
       "       1910, 1933, 1902, 1924, 1921, 1900, 2038, 2026, 1944, 1917, 1901,\n",
       "       2010, 1908, 1906, 1935, 1806, 2021, '2000', '1995', '1999', '2004',\n",
       "       '2003', '1990', '1994', '1986', '1989', '2002', '1981', '1993',\n",
       "       '1983', '1982', '1976', '1991', '1977', '1998', '1992', '1996',\n",
       "       '0', '1997', '2001', '1974', '1968', '1987', '1984', '1988',\n",
       "       '1963', '1956', '1970', '1985', '1978', '1973', '1980', '1979',\n",
       "       '1975', '1969', '1961', '1965', '1939', '1958', '1950', '1953',\n",
       "       '1966', '1971', '1959', '1972', '1955', '1957', '1945', '1960',\n",
       "       '1967', '1932', '1924', '1964', '2012', '1911', '1927', '1948',\n",
       "       '1962', '2006', '1952', '1940', '1951', '1931', '1954', '2005',\n",
       "       '1930', '1941', '1944', '1943', '1938', '1900', '1942', '1923',\n",
       "       '1920', '1933', '1909', '1946', '2008', '1378', '2030', '1936',\n",
       "       '1947', '2011', '2020', '1919', '1949', '1922', '1897', '2024',\n",
       "       '1376', '1926', '2037'], dtype=object)"
      ]
     },
     "execution_count": 344,
     "metadata": {},
     "output_type": "execute_result"
    }
   ],
   "source": [
    "books[\"yearOfPublication\" ].unique()"
   ]
  },
  {
   "cell_type": "code",
   "execution_count": 351,
   "metadata": {},
   "outputs": [],
   "source": [
    "books[\"yearOfPublication\" ] = pd.to_numeric(books.yearOfPublication)"
   ]
  },
  {
   "cell_type": "code",
   "execution_count": 352,
   "metadata": {},
   "outputs": [
    {
     "data": {
      "text/plain": [
       "ISBN                 object\n",
       "bookTitle            object\n",
       "bookAuthor           object\n",
       "yearOfPublication     int64\n",
       "publisher            object\n",
       "dtype: object"
      ]
     },
     "execution_count": 352,
     "metadata": {},
     "output_type": "execute_result"
    }
   ],
   "source": [
    "books.dtypes"
   ]
  },
  {
   "cell_type": "markdown",
   "metadata": {},
   "source": [
    "### Drop NaNs in `'publisher'` column\n"
   ]
  },
  {
   "cell_type": "code",
   "execution_count": 353,
   "metadata": {},
   "outputs": [],
   "source": [
    "books[\"publisher\"].dropna(inplace=True)"
   ]
  },
  {
   "cell_type": "markdown",
   "metadata": {},
   "source": [
    "## Exploring Users dataset"
   ]
  },
  {
   "cell_type": "code",
   "execution_count": 354,
   "metadata": {
    "scrolled": true
   },
   "outputs": [
    {
     "name": "stdout",
     "output_type": "stream",
     "text": [
      "(278858, 3)\n"
     ]
    },
    {
     "data": {
      "text/html": [
       "<div>\n",
       "<style scoped>\n",
       "    .dataframe tbody tr th:only-of-type {\n",
       "        vertical-align: middle;\n",
       "    }\n",
       "\n",
       "    .dataframe tbody tr th {\n",
       "        vertical-align: top;\n",
       "    }\n",
       "\n",
       "    .dataframe thead th {\n",
       "        text-align: right;\n",
       "    }\n",
       "</style>\n",
       "<table border=\"1\" class=\"dataframe\">\n",
       "  <thead>\n",
       "    <tr style=\"text-align: right;\">\n",
       "      <th></th>\n",
       "      <th>userID</th>\n",
       "      <th>Location</th>\n",
       "      <th>Age</th>\n",
       "    </tr>\n",
       "  </thead>\n",
       "  <tbody>\n",
       "    <tr>\n",
       "      <th>0</th>\n",
       "      <td>1</td>\n",
       "      <td>nyc, new york, usa</td>\n",
       "      <td>NaN</td>\n",
       "    </tr>\n",
       "    <tr>\n",
       "      <th>1</th>\n",
       "      <td>2</td>\n",
       "      <td>stockton, california, usa</td>\n",
       "      <td>18.0</td>\n",
       "    </tr>\n",
       "    <tr>\n",
       "      <th>2</th>\n",
       "      <td>3</td>\n",
       "      <td>moscow, yukon territory, russia</td>\n",
       "      <td>NaN</td>\n",
       "    </tr>\n",
       "    <tr>\n",
       "      <th>3</th>\n",
       "      <td>4</td>\n",
       "      <td>porto, v.n.gaia, portugal</td>\n",
       "      <td>17.0</td>\n",
       "    </tr>\n",
       "    <tr>\n",
       "      <th>4</th>\n",
       "      <td>5</td>\n",
       "      <td>farnborough, hants, united kingdom</td>\n",
       "      <td>NaN</td>\n",
       "    </tr>\n",
       "  </tbody>\n",
       "</table>\n",
       "</div>"
      ],
      "text/plain": [
       "   userID                            Location   Age\n",
       "0       1                  nyc, new york, usa   NaN\n",
       "1       2           stockton, california, usa  18.0\n",
       "2       3     moscow, yukon territory, russia   NaN\n",
       "3       4           porto, v.n.gaia, portugal  17.0\n",
       "4       5  farnborough, hants, united kingdom   NaN"
      ]
     },
     "execution_count": 354,
     "metadata": {},
     "output_type": "execute_result"
    }
   ],
   "source": [
    "print(users.shape)\n",
    "users.head()"
   ]
  },
  {
   "cell_type": "markdown",
   "metadata": {},
   "source": [
    "### Get all unique values in ascending order for column `Age`"
   ]
  },
  {
   "cell_type": "code",
   "execution_count": 355,
   "metadata": {},
   "outputs": [
    {
     "name": "stdout",
     "output_type": "stream",
     "text": [
      "[nan, 0.0, 1.0, 2.0, 3.0, 4.0, 5.0, 6.0, 7.0, 8.0, 9.0, 10.0, 11.0, 12.0, 13.0, 14.0, 15.0, 16.0, 17.0, 18.0, 19.0, 20.0, 21.0, 22.0, 23.0, 24.0, 25.0, 26.0, 27.0, 28.0, 29.0, 30.0, 31.0, 32.0, 33.0, 34.0, 35.0, 36.0, 37.0, 38.0, 39.0, 40.0, 41.0, 42.0, 43.0, 44.0, 45.0, 46.0, 47.0, 48.0, 49.0, 50.0, 51.0, 52.0, 53.0, 54.0, 55.0, 56.0, 57.0, 58.0, 59.0, 60.0, 61.0, 62.0, 63.0, 64.0, 65.0, 66.0, 67.0, 68.0, 69.0, 70.0, 71.0, 72.0, 73.0, 74.0, 75.0, 76.0, 77.0, 78.0, 79.0, 80.0, 81.0, 82.0, 83.0, 84.0, 85.0, 86.0, 87.0, 88.0, 89.0, 90.0, 91.0, 92.0, 93.0, 94.0, 95.0, 96.0, 97.0, 98.0, 99.0, 100.0, 101.0, 102.0, 103.0, 104.0, 105.0, 106.0, 107.0, 108.0, 109.0, 110.0, 111.0, 113.0, 114.0, 115.0, 116.0, 118.0, 119.0, 123.0, 124.0, 127.0, 128.0, 132.0, 133.0, 136.0, 137.0, 138.0, 140.0, 141.0, 143.0, 146.0, 147.0, 148.0, 151.0, 152.0, 156.0, 157.0, 159.0, 162.0, 168.0, 172.0, 175.0, 183.0, 186.0, 189.0, 199.0, 200.0, 201.0, 204.0, 207.0, 208.0, 209.0, 210.0, 212.0, 219.0, 220.0, 223.0, 226.0, 228.0, 229.0, 230.0, 231.0, 237.0, 239.0, 244.0]\n"
     ]
    }
   ],
   "source": [
    "print(sorted(users.Age.unique()))"
   ]
  },
  {
   "cell_type": "markdown",
   "metadata": {},
   "source": [
    "Age column has some invalid entries like nan, 0 and very high values like 100 and above"
   ]
  },
  {
   "cell_type": "markdown",
   "metadata": {},
   "source": [
    "### Values below 5 and above 90 do not make much sense for our book rating case...hence replace these by NaNs"
   ]
  },
  {
   "cell_type": "code",
   "execution_count": 356,
   "metadata": {
    "scrolled": true
   },
   "outputs": [
    {
     "data": {
      "text/plain": [
       "(110762, 3)"
      ]
     },
     "execution_count": 356,
     "metadata": {},
     "output_type": "execute_result"
    }
   ],
   "source": [
    "users[users[\"Age\"].isnull()].shape"
   ]
  },
  {
   "cell_type": "code",
   "execution_count": 357,
   "metadata": {},
   "outputs": [
    {
     "data": {
      "text/plain": [
       "(882, 3)"
      ]
     },
     "execution_count": 357,
     "metadata": {},
     "output_type": "execute_result"
    }
   ],
   "source": [
    "users[users[\"Age\"]< 5 ].shape"
   ]
  },
  {
   "cell_type": "code",
   "execution_count": 358,
   "metadata": {},
   "outputs": [
    {
     "data": {
      "text/plain": [
       "(430, 3)"
      ]
     },
     "execution_count": 358,
     "metadata": {},
     "output_type": "execute_result"
    }
   ],
   "source": [
    "users[users[\"Age\"]> 90 ].shape"
   ]
  },
  {
   "cell_type": "code",
   "execution_count": 359,
   "metadata": {},
   "outputs": [
    {
     "data": {
      "text/plain": [
       "(112074, 3)"
      ]
     },
     "execution_count": 359,
     "metadata": {},
     "output_type": "execute_result"
    }
   ],
   "source": [
    "users[users[\"Age\"]< 5 ] = users.replace(users[\"Age\"]< 5 ,np.nan, inplace=True)\n",
    "users[users[\"Age\"]> 90 ] = users.replace(users[\"Age\"]>90 ,np.nan, inplace=True)\n",
    "users[users[\"Age\"].isnull()].shape"
   ]
  },
  {
   "cell_type": "markdown",
   "metadata": {},
   "source": [
    "### Replace null values in column `Age` with mean"
   ]
  },
  {
   "cell_type": "code",
   "execution_count": 360,
   "metadata": {},
   "outputs": [],
   "source": [
    "users[\"Age\"] = users[\"Age\"].fillna(value=users[\"Age\"].mean())"
   ]
  },
  {
   "cell_type": "code",
   "execution_count": 361,
   "metadata": {},
   "outputs": [
    {
     "data": {
      "text/plain": [
       "(0, 3)"
      ]
     },
     "execution_count": 361,
     "metadata": {},
     "output_type": "execute_result"
    }
   ],
   "source": [
    "users[users[\"Age\"].isnull()].shape"
   ]
  },
  {
   "cell_type": "markdown",
   "metadata": {},
   "source": [
    "### Change the datatype of `Age` to `int`"
   ]
  },
  {
   "cell_type": "code",
   "execution_count": 362,
   "metadata": {},
   "outputs": [],
   "source": [
    "users[\"Age\"] = users[\"Age\"].convert_objects(convert_numeric=True)"
   ]
  },
  {
   "cell_type": "code",
   "execution_count": 363,
   "metadata": {
    "scrolled": true
   },
   "outputs": [
    {
     "name": "stdout",
     "output_type": "stream",
     "text": [
      "[5.0, 6.0, 7.0, 8.0, 9.0, 10.0, 11.0, 12.0, 13.0, 14.0, 15.0, 16.0, 17.0, 18.0, 19.0, 20.0, 21.0, 22.0, 23.0, 24.0, 25.0, 26.0, 27.0, 28.0, 29.0, 30.0, 31.0, 32.0, 33.0, 34.0, 34.72384041634689, 35.0, 36.0, 37.0, 38.0, 39.0, 40.0, 41.0, 42.0, 43.0, 44.0, 45.0, 46.0, 47.0, 48.0, 49.0, 50.0, 51.0, 52.0, 53.0, 54.0, 55.0, 56.0, 57.0, 58.0, 59.0, 60.0, 61.0, 62.0, 63.0, 64.0, 65.0, 66.0, 67.0, 68.0, 69.0, 70.0, 71.0, 72.0, 73.0, 74.0, 75.0, 76.0, 77.0, 78.0, 79.0, 80.0, 81.0, 82.0, 83.0, 84.0, 85.0, 86.0, 87.0, 88.0, 89.0, 90.0]\n"
     ]
    }
   ],
   "source": [
    "print(sorted(users.Age.unique()))"
   ]
  },
  {
   "cell_type": "markdown",
   "metadata": {},
   "source": [
    "## Exploring the Ratings Dataset"
   ]
  },
  {
   "cell_type": "markdown",
   "metadata": {},
   "source": [
    "### check the shape"
   ]
  },
  {
   "cell_type": "code",
   "execution_count": 364,
   "metadata": {
    "scrolled": true
   },
   "outputs": [
    {
     "data": {
      "text/plain": [
       "(1149780, 3)"
      ]
     },
     "execution_count": 364,
     "metadata": {},
     "output_type": "execute_result"
    }
   ],
   "source": [
    "ratings.shape"
   ]
  },
  {
   "cell_type": "code",
   "execution_count": 365,
   "metadata": {
    "scrolled": true
   },
   "outputs": [
    {
     "data": {
      "text/html": [
       "<div>\n",
       "<style scoped>\n",
       "    .dataframe tbody tr th:only-of-type {\n",
       "        vertical-align: middle;\n",
       "    }\n",
       "\n",
       "    .dataframe tbody tr th {\n",
       "        vertical-align: top;\n",
       "    }\n",
       "\n",
       "    .dataframe thead th {\n",
       "        text-align: right;\n",
       "    }\n",
       "</style>\n",
       "<table border=\"1\" class=\"dataframe\">\n",
       "  <thead>\n",
       "    <tr style=\"text-align: right;\">\n",
       "      <th></th>\n",
       "      <th>userID</th>\n",
       "      <th>ISBN</th>\n",
       "      <th>bookRating</th>\n",
       "    </tr>\n",
       "  </thead>\n",
       "  <tbody>\n",
       "    <tr>\n",
       "      <th>0</th>\n",
       "      <td>276725</td>\n",
       "      <td>034545104X</td>\n",
       "      <td>0</td>\n",
       "    </tr>\n",
       "    <tr>\n",
       "      <th>1</th>\n",
       "      <td>276726</td>\n",
       "      <td>0155061224</td>\n",
       "      <td>5</td>\n",
       "    </tr>\n",
       "    <tr>\n",
       "      <th>2</th>\n",
       "      <td>276727</td>\n",
       "      <td>0446520802</td>\n",
       "      <td>0</td>\n",
       "    </tr>\n",
       "    <tr>\n",
       "      <th>3</th>\n",
       "      <td>276729</td>\n",
       "      <td>052165615X</td>\n",
       "      <td>3</td>\n",
       "    </tr>\n",
       "    <tr>\n",
       "      <th>4</th>\n",
       "      <td>276729</td>\n",
       "      <td>0521795028</td>\n",
       "      <td>6</td>\n",
       "    </tr>\n",
       "  </tbody>\n",
       "</table>\n",
       "</div>"
      ],
      "text/plain": [
       "   userID        ISBN  bookRating\n",
       "0  276725  034545104X           0\n",
       "1  276726  0155061224           5\n",
       "2  276727  0446520802           0\n",
       "3  276729  052165615X           3\n",
       "4  276729  0521795028           6"
      ]
     },
     "execution_count": 365,
     "metadata": {},
     "output_type": "execute_result"
    }
   ],
   "source": [
    "ratings.head(5)"
   ]
  },
  {
   "cell_type": "markdown",
   "metadata": {},
   "source": [
    "### Ratings dataset should have books only which exist in our books dataset. Drop the remaining rows"
   ]
  },
  {
   "cell_type": "code",
   "execution_count": 366,
   "metadata": {},
   "outputs": [
    {
     "data": {
      "text/plain": [
       "(1031132, 3)"
      ]
     },
     "execution_count": 366,
     "metadata": {},
     "output_type": "execute_result"
    }
   ],
   "source": [
    "books_isbn = list(books['ISBN'].unique())\n",
    "ratings = ratings[ratings['ISBN'].isin(books_isbn)]\n",
    "ratings.shape"
   ]
  },
  {
   "cell_type": "markdown",
   "metadata": {},
   "source": [
    "### Ratings dataset should have ratings from users which exist in users dataset. Drop the remaining rows"
   ]
  },
  {
   "cell_type": "code",
   "execution_count": 367,
   "metadata": {},
   "outputs": [
    {
     "data": {
      "text/plain": [
       "(1026153, 3)"
      ]
     },
     "execution_count": 367,
     "metadata": {},
     "output_type": "execute_result"
    }
   ],
   "source": [
    "userID = list(users['userID'].unique())\n",
    "ratings = ratings[ratings['userID'].isin(userID)]\n",
    "ratings.shape"
   ]
  },
  {
   "cell_type": "markdown",
   "metadata": {},
   "source": [
    "### Consider only ratings from 1-10 and leave 0s in column `bookRating`"
   ]
  },
  {
   "cell_type": "code",
   "execution_count": 368,
   "metadata": {
    "scrolled": true
   },
   "outputs": [
    {
     "data": {
      "text/plain": [
       "array([ 5,  3,  6,  7,  9,  8, 10,  1,  4,  2], dtype=int64)"
      ]
     },
     "execution_count": 368,
     "metadata": {},
     "output_type": "execute_result"
    }
   ],
   "source": [
    "ratings = ratings[(ratings['bookRating']>  0)]\n",
    "ratings['bookRating'].unique()"
   ]
  },
  {
   "cell_type": "markdown",
   "metadata": {},
   "source": [
    "### Find out which rating has been given highest number of times"
   ]
  },
  {
   "cell_type": "code",
   "execution_count": 369,
   "metadata": {},
   "outputs": [
    {
     "name": "stdout",
     "output_type": "stream",
     "text": [
      "rating which has been given highest number of times: 8\n"
     ]
    }
   ],
   "source": [
    "print(\"rating which has been given highest number of times:\", ratings['bookRating'].value_counts().idxmax())"
   ]
  },
  {
   "cell_type": "markdown",
   "metadata": {},
   "source": [
    "### **Collaborative Filtering Based Recommendation Systems**"
   ]
  },
  {
   "cell_type": "markdown",
   "metadata": {},
   "source": [
    "### For more accurate results only consider users who have rated atleast 100 books"
   ]
  },
  {
   "cell_type": "code",
   "execution_count": 370,
   "metadata": {},
   "outputs": [
    {
     "data": {
      "text/plain": [
       "False    67349\n",
       "True       447\n",
       "Name: userID, dtype: int64"
      ]
     },
     "execution_count": 370,
     "metadata": {},
     "output_type": "execute_result"
    }
   ],
   "source": [
    "(ratings['userID'].value_counts() >99).value_counts()"
   ]
  },
  {
   "cell_type": "code",
   "execution_count": 371,
   "metadata": {},
   "outputs": [],
   "source": [
    "ratings = ratings.groupby('userID').filter(lambda x: len(x) > 99)"
   ]
  },
  {
   "cell_type": "code",
   "execution_count": 372,
   "metadata": {},
   "outputs": [
    {
     "data": {
      "text/plain": [
       "(102977, 3)"
      ]
     },
     "execution_count": 372,
     "metadata": {},
     "output_type": "execute_result"
    }
   ],
   "source": [
    "ratings.shape"
   ]
  },
  {
   "cell_type": "code",
   "execution_count": 373,
   "metadata": {},
   "outputs": [
    {
     "data": {
      "text/plain": [
       "True    447\n",
       "Name: userID, dtype: int64"
      ]
     },
     "execution_count": 373,
     "metadata": {},
     "output_type": "execute_result"
    }
   ],
   "source": [
    "(ratings['userID'].value_counts() >99).value_counts()"
   ]
  },
  {
   "cell_type": "markdown",
   "metadata": {},
   "source": [
    "### Generating ratings matrix from explicit ratings\n"
   ]
  },
  {
   "cell_type": "markdown",
   "metadata": {},
   "source": [
    "#### Note: since NaNs cannot be handled by training algorithms, replace these by 0, which indicates absence of ratings"
   ]
  },
  {
   "cell_type": "code",
   "execution_count": 44,
   "metadata": {},
   "outputs": [],
   "source": [
    "from collections import defaultdict\n",
    "from surprise import SVD\n",
    "from surprise import Dataset,Reader\n",
    "reader = Reader(rating_scale=(1, 10))"
   ]
  },
  {
   "cell_type": "code",
   "execution_count": 46,
   "metadata": {},
   "outputs": [
    {
     "data": {
      "text/plain": [
       "<surprise.dataset.DatasetAutoFolds at 0x19eb3773668>"
      ]
     },
     "execution_count": 46,
     "metadata": {},
     "output_type": "execute_result"
    }
   ],
   "source": [
    "data = Dataset.load_from_df(ratings[['userID', 'ISBN', 'bookRating']], reader)\n",
    "data"
   ]
  },
  {
   "cell_type": "code",
   "execution_count": 47,
   "metadata": {},
   "outputs": [],
   "source": [
    "from surprise.model_selection import train_test_split\n",
    "trainset, testset = train_test_split(data, test_size=.2,random_state=1)"
   ]
  },
  {
   "cell_type": "markdown",
   "metadata": {},
   "source": [
    "### Generate the predicted ratings using SVD with no.of singular values to be 50"
   ]
  },
  {
   "cell_type": "code",
   "execution_count": 59,
   "metadata": {},
   "outputs": [
    {
     "data": {
      "text/plain": [
       "<surprise.prediction_algorithms.matrix_factorization.SVD at 0x19eb3773588>"
      ]
     },
     "execution_count": 59,
     "metadata": {},
     "output_type": "execute_result"
    }
   ],
   "source": [
    "algo = SVD(n_factors=50)\n",
    "algo.fit(trainset)"
   ]
  },
  {
   "cell_type": "code",
   "execution_count": 60,
   "metadata": {},
   "outputs": [],
   "source": [
    "testset = trainset.build_anti_testset()"
   ]
  },
  {
   "cell_type": "code",
   "execution_count": 61,
   "metadata": {},
   "outputs": [],
   "source": [
    "predictions = algo.test(testset)"
   ]
  },
  {
   "cell_type": "code",
   "execution_count": 54,
   "metadata": {},
   "outputs": [
    {
     "data": {
      "text/plain": [
       "[Prediction(uid=102702, iid='0307086984', r_ui=7.827321584196766, est=9.426880222619689, details={'was_impossible': False}),\n",
       " Prediction(uid=102702, iid='0440217563', r_ui=7.827321584196766, est=9.848944794995589, details={'was_impossible': False}),\n",
       " Prediction(uid=102702, iid='0027582000', r_ui=7.827321584196766, est=9.523238499218778, details={'was_impossible': False}),\n",
       " Prediction(uid=102702, iid='1591134552', r_ui=7.827321584196766, est=9.444571064195468, details={'was_impossible': False}),\n",
       " Prediction(uid=102702, iid='0590066560', r_ui=7.827321584196766, est=9.44664913154622, details={'was_impossible': False}),\n",
       " Prediction(uid=102702, iid='0373031866', r_ui=7.827321584196766, est=9.66679551697216, details={'was_impossible': False}),\n",
       " Prediction(uid=102702, iid='0786014245', r_ui=7.827321584196766, est=9.412822601449067, details={'was_impossible': False}),\n",
       " Prediction(uid=102702, iid='037570289X', r_ui=7.827321584196766, est=9.169535493852706, details={'was_impossible': False}),\n",
       " Prediction(uid=102702, iid='0451184114', r_ui=7.827321584196766, est=9.364469357970748, details={'was_impossible': False}),\n",
       " Prediction(uid=102702, iid='034539657X', r_ui=7.827321584196766, est=9.288870653742247, details={'was_impossible': False}),\n",
       " Prediction(uid=102702, iid='0446670405', r_ui=7.827321584196766, est=9.5999161543239, details={'was_impossible': False}),\n",
       " Prediction(uid=102702, iid='0140296301', r_ui=7.827321584196766, est=9.734179136599135, details={'was_impossible': False}),\n",
       " Prediction(uid=102702, iid='0312285426', r_ui=7.827321584196766, est=9.671413748930142, details={'was_impossible': False}),\n",
       " Prediction(uid=102702, iid='0553569910', r_ui=7.827321584196766, est=9.515484739365792, details={'was_impossible': False}),\n",
       " Prediction(uid=102702, iid='155166870X', r_ui=7.827321584196766, est=9.55505509615079, details={'was_impossible': False}),\n",
       " Prediction(uid=102702, iid='0312977689', r_ui=7.827321584196766, est=9.610124944834144, details={'was_impossible': False}),\n",
       " Prediction(uid=102702, iid='088038722X', r_ui=7.827321584196766, est=9.081708626197775, details={'was_impossible': False}),\n",
       " Prediction(uid=102702, iid='1400045088', r_ui=7.827321584196766, est=9.915839740759115, details={'was_impossible': False}),\n",
       " Prediction(uid=102702, iid='1594140685', r_ui=7.827321584196766, est=9.606288394894055, details={'was_impossible': False}),\n",
       " Prediction(uid=102702, iid='0207152241', r_ui=7.827321584196766, est=9.501396030653728, details={'was_impossible': False}),\n",
       " Prediction(uid=102702, iid='0836221192', r_ui=7.827321584196766, est=9.911723843951158, details={'was_impossible': False}),\n",
       " Prediction(uid=102702, iid='0767903579', r_ui=7.827321584196766, est=9.522203348431033, details={'was_impossible': False}),\n",
       " Prediction(uid=102702, iid='0571144691', r_ui=7.827321584196766, est=9.682396945348447, details={'was_impossible': False}),\n",
       " Prediction(uid=102702, iid='0811804291', r_ui=7.827321584196766, est=9.552978742715048, details={'was_impossible': False}),\n",
       " Prediction(uid=102702, iid='0307003264', r_ui=7.827321584196766, est=9.404740557318288, details={'was_impossible': False}),\n",
       " Prediction(uid=102702, iid='0671737600', r_ui=7.827321584196766, est=9.598279848061145, details={'was_impossible': False}),\n",
       " Prediction(uid=102702, iid='0062730428', r_ui=7.827321584196766, est=9.877369773500588, details={'was_impossible': False}),\n",
       " Prediction(uid=102702, iid='0515105740', r_ui=7.827321584196766, est=9.468451492434683, details={'was_impossible': False}),\n",
       " Prediction(uid=102702, iid='0395877377', r_ui=7.827321584196766, est=9.595303631673383, details={'was_impossible': False}),\n",
       " Prediction(uid=102702, iid='0787103012', r_ui=7.827321584196766, est=9.494128137816269, details={'was_impossible': False}),\n",
       " Prediction(uid=102702, iid='0758201524', r_ui=7.827321584196766, est=9.102544669124484, details={'was_impossible': False}),\n",
       " Prediction(uid=102702, iid='0786247088', r_ui=7.827321584196766, est=9.4070684612065, details={'was_impossible': False}),\n",
       " Prediction(uid=102702, iid='0373484879', r_ui=7.827321584196766, est=9.671465930518634, details={'was_impossible': False}),\n",
       " Prediction(uid=102702, iid='1551669447', r_ui=7.827321584196766, est=8.97285388336893, details={'was_impossible': False}),\n",
       " Prediction(uid=102702, iid='0425145301', r_ui=7.827321584196766, est=9.385785734153318, details={'was_impossible': False}),\n",
       " Prediction(uid=102702, iid='0802117414', r_ui=7.827321584196766, est=9.500235771828773, details={'was_impossible': False}),\n",
       " Prediction(uid=102702, iid='0618344586', r_ui=7.827321584196766, est=9.796951317187357, details={'was_impossible': False}),\n",
       " Prediction(uid=102702, iid='0671642839', r_ui=7.827321584196766, est=9.473612764066523, details={'was_impossible': False}),\n",
       " Prediction(uid=102702, iid='0590442805', r_ui=7.827321584196766, est=9.55282919239661, details={'was_impossible': False}),\n",
       " Prediction(uid=102702, iid='0684850621', r_ui=7.827321584196766, est=9.681842881857738, details={'was_impossible': False}),\n",
       " Prediction(uid=102702, iid='0688006663', r_ui=7.827321584196766, est=9.385799433675544, details={'was_impossible': False}),\n",
       " Prediction(uid=102702, iid='0451191684', r_ui=7.827321584196766, est=9.562638812925266, details={'was_impossible': False}),\n",
       " Prediction(uid=102702, iid='0312284993', r_ui=7.827321584196766, est=9.328546590287264, details={'was_impossible': False}),\n",
       " Prediction(uid=102702, iid='0060002050', r_ui=7.827321584196766, est=9.648924497565426, details={'was_impossible': False}),\n",
       " Prediction(uid=102702, iid='0803938632', r_ui=7.827321584196766, est=9.568590506383995, details={'was_impossible': False}),\n",
       " Prediction(uid=102702, iid='0060958022', r_ui=7.827321584196766, est=9.540990695187192, details={'was_impossible': False}),\n",
       " Prediction(uid=102702, iid='0451208501', r_ui=7.827321584196766, est=9.329486532568481, details={'was_impossible': False}),\n",
       " Prediction(uid=102702, iid='0515134473', r_ui=7.827321584196766, est=9.588297529777543, details={'was_impossible': False}),\n",
       " Prediction(uid=102702, iid='0553573705', r_ui=7.827321584196766, est=9.296524763559955, details={'was_impossible': False}),\n",
       " Prediction(uid=102702, iid='3442451140', r_ui=7.827321584196766, est=9.298720160708097, details={'was_impossible': False}),\n",
       " Prediction(uid=102702, iid='0821207032', r_ui=7.827321584196766, est=9.4188721313499, details={'was_impossible': False}),\n",
       " Prediction(uid=102702, iid='075640052X', r_ui=7.827321584196766, est=9.693490096248642, details={'was_impossible': False}),\n",
       " Prediction(uid=102702, iid='0823056805', r_ui=7.827321584196766, est=9.662483787148343, details={'was_impossible': False}),\n",
       " Prediction(uid=102702, iid='0843949732', r_ui=7.827321584196766, est=9.537378153114561, details={'was_impossible': False}),\n",
       " Prediction(uid=102702, iid='014013638X', r_ui=7.827321584196766, est=9.043832534957753, details={'was_impossible': False}),\n",
       " Prediction(uid=102702, iid='0394573579', r_ui=7.827321584196766, est=9.416436620753638, details={'was_impossible': False}),\n",
       " Prediction(uid=102702, iid='0140014853', r_ui=7.827321584196766, est=9.299240530976801, details={'was_impossible': False}),\n",
       " Prediction(uid=102702, iid='3257211945', r_ui=7.827321584196766, est=9.541427719023332, details={'was_impossible': False}),\n",
       " Prediction(uid=102702, iid='0887307515', r_ui=7.827321584196766, est=9.61619338847225, details={'was_impossible': False}),\n",
       " Prediction(uid=102702, iid='0671019422', r_ui=7.827321584196766, est=9.40295976078466, details={'was_impossible': False}),\n",
       " Prediction(uid=102702, iid='0553572385', r_ui=7.827321584196766, est=9.395180983565236, details={'was_impossible': False}),\n",
       " Prediction(uid=102702, iid='0060520515', r_ui=7.827321584196766, est=9.772370717019427, details={'was_impossible': False}),\n",
       " Prediction(uid=102702, iid='0671017241', r_ui=7.827321584196766, est=9.688417004182945, details={'was_impossible': False}),\n",
       " Prediction(uid=102702, iid='0446612545', r_ui=7.827321584196766, est=9.22476033968096, details={'was_impossible': False}),\n",
       " Prediction(uid=102702, iid='0843945656', r_ui=7.827321584196766, est=9.221520136806244, details={'was_impossible': False}),\n",
       " Prediction(uid=102702, iid='0452270073', r_ui=7.827321584196766, est=9.511524478643556, details={'was_impossible': False}),\n",
       " Prediction(uid=102702, iid='1558744274', r_ui=7.827321584196766, est=9.582098645954348, details={'was_impossible': False}),\n",
       " Prediction(uid=102702, iid='0394756886', r_ui=7.827321584196766, est=9.730647762697254, details={'was_impossible': False}),\n",
       " Prediction(uid=102702, iid='0671004530', r_ui=7.827321584196766, est=9.495023735855852, details={'was_impossible': False}),\n",
       " Prediction(uid=102702, iid='3442414806', r_ui=7.827321584196766, est=9.50461822013079, details={'was_impossible': False}),\n",
       " Prediction(uid=102702, iid='0449002411', r_ui=7.827321584196766, est=9.394503810414575, details={'was_impossible': False}),\n",
       " Prediction(uid=102702, iid='0345441036', r_ui=7.827321584196766, est=9.77141805047203, details={'was_impossible': False}),\n",
       " Prediction(uid=102702, iid='0789205106', r_ui=7.827321584196766, est=9.68890965157385, details={'was_impossible': False}),\n",
       " Prediction(uid=102702, iid='0307126838', r_ui=7.827321584196766, est=9.417733000621501, details={'was_impossible': False}),\n",
       " Prediction(uid=102702, iid='0380731207', r_ui=7.827321584196766, est=9.515028223139973, details={'was_impossible': False}),\n",
       " Prediction(uid=102702, iid='0439148006', r_ui=7.827321584196766, est=9.815023246735114, details={'was_impossible': False}),\n",
       " Prediction(uid=102702, iid='0380709163', r_ui=7.827321584196766, est=9.93976144371536, details={'was_impossible': False}),\n",
       " Prediction(uid=102702, iid='0671898841', r_ui=7.827321584196766, est=9.748895848584333, details={'was_impossible': False}),\n",
       " Prediction(uid=102702, iid='0670842729', r_ui=7.827321584196766, est=9.347143819281163, details={'was_impossible': False}),\n",
       " Prediction(uid=102702, iid='0688149790', r_ui=7.827321584196766, est=9.42007513420815, details={'was_impossible': False}),\n",
       " Prediction(uid=102702, iid='0679728899', r_ui=7.827321584196766, est=9.456862045946462, details={'was_impossible': False}),\n",
       " Prediction(uid=102702, iid='009925672X', r_ui=7.827321584196766, est=9.52332053781565, details={'was_impossible': False}),\n",
       " Prediction(uid=102702, iid='0140069356', r_ui=7.827321584196766, est=9.818487717801965, details={'was_impossible': False}),\n",
       " Prediction(uid=102702, iid='0821770918', r_ui=7.827321584196766, est=9.573309138640793, details={'was_impossible': False}),\n",
       " Prediction(uid=102702, iid='031285563X', r_ui=7.827321584196766, est=9.615303477746293, details={'was_impossible': False}),\n",
       " Prediction(uid=102702, iid='0440224721', r_ui=7.827321584196766, est=9.711995064552996, details={'was_impossible': False}),\n",
       " Prediction(uid=102702, iid='1587150107', r_ui=7.827321584196766, est=9.749343950684873, details={'was_impossible': False}),\n",
       " Prediction(uid=102702, iid='0060503505', r_ui=7.827321584196766, est=9.577270548052745, details={'was_impossible': False}),\n",
       " Prediction(uid=102702, iid='0452282195', r_ui=7.827321584196766, est=9.454292769979523, details={'was_impossible': False}),\n",
       " Prediction(uid=102702, iid='1569715238', r_ui=7.827321584196766, est=9.69726053172242, details={'was_impossible': False}),\n",
       " Prediction(uid=102702, iid='0425189872', r_ui=7.827321584196766, est=8.967670135817391, details={'was_impossible': False}),\n",
       " Prediction(uid=102702, iid='1555910807', r_ui=7.827321584196766, est=8.987270010084869, details={'was_impossible': False}),\n",
       " Prediction(uid=102702, iid='0060965800', r_ui=7.827321584196766, est=9.559403011086378, details={'was_impossible': False}),\n",
       " Prediction(uid=102702, iid='0240510860', r_ui=7.827321584196766, est=9.766380915153217, details={'was_impossible': False}),\n",
       " Prediction(uid=102702, iid='0821776665', r_ui=7.827321584196766, est=9.324428506174337, details={'was_impossible': False}),\n",
       " Prediction(uid=102702, iid='3548603203', r_ui=7.827321584196766, est=9.60785453485537, details={'was_impossible': False}),\n",
       " Prediction(uid=102702, iid='0965451798', r_ui=7.827321584196766, est=9.505264553213745, details={'was_impossible': False}),\n",
       " Prediction(uid=102702, iid='0060936436', r_ui=7.827321584196766, est=9.052149730565914, details={'was_impossible': False}),\n",
       " Prediction(uid=102702, iid='1557042160', r_ui=7.827321584196766, est=9.538965413415752, details={'was_impossible': False}),\n",
       " Prediction(uid=102702, iid='0553240951', r_ui=7.827321584196766, est=9.382599953777271, details={'was_impossible': False}),\n",
       " Prediction(uid=102702, iid='0373484119', r_ui=7.827321584196766, est=9.360715974460128, details={'was_impossible': False}),\n",
       " Prediction(uid=102702, iid='0679755624', r_ui=7.827321584196766, est=9.335681680126042, details={'was_impossible': False}),\n",
       " Prediction(uid=102702, iid='1590889827', r_ui=7.827321584196766, est=9.663067629626022, details={'was_impossible': False}),\n",
       " Prediction(uid=102702, iid='0345412745', r_ui=7.827321584196766, est=9.326258837694443, details={'was_impossible': False}),\n",
       " Prediction(uid=102702, iid='0963517627', r_ui=7.827321584196766, est=9.481099040543873, details={'was_impossible': False}),\n",
       " Prediction(uid=102702, iid='0060516283', r_ui=7.827321584196766, est=9.653533278539106, details={'was_impossible': False}),\n",
       " Prediction(uid=102702, iid='0345370805', r_ui=7.827321584196766, est=9.22368622219182, details={'was_impossible': False}),\n",
       " Prediction(uid=102702, iid='0515126772', r_ui=7.827321584196766, est=9.995537282118987, details={'was_impossible': False}),\n",
       " Prediction(uid=102702, iid='0316314781', r_ui=7.827321584196766, est=9.512841798125093, details={'was_impossible': False}),\n",
       " Prediction(uid=102702, iid='0880389206', r_ui=7.827321584196766, est=9.440777543107243, details={'was_impossible': False}),\n",
       " Prediction(uid=102702, iid='0671721135', r_ui=7.827321584196766, est=9.04299551660735, details={'was_impossible': False}),\n",
       " Prediction(uid=102702, iid='0440945151', r_ui=7.827321584196766, est=9.587434641879307, details={'was_impossible': False}),\n",
       " Prediction(uid=102702, iid='0373123906', r_ui=7.827321584196766, est=9.158137223032728, details={'was_impossible': False}),\n",
       " Prediction(uid=102702, iid='0671728598', r_ui=7.827321584196766, est=9.382719747413539, details={'was_impossible': False}),\n",
       " Prediction(uid=102702, iid='0385503954', r_ui=7.827321584196766, est=9.366852444686778, details={'was_impossible': False}),\n",
       " Prediction(uid=102702, iid='0446610879', r_ui=7.827321584196766, est=9.583782542971253, details={'was_impossible': False}),\n",
       " Prediction(uid=102702, iid='0553256130', r_ui=7.827321584196766, est=9.597476455401027, details={'was_impossible': False}),\n",
       " Prediction(uid=102702, iid='0763705489', r_ui=7.827321584196766, est=9.536494841882888, details={'was_impossible': False}),\n",
       " Prediction(uid=102702, iid='0373250401', r_ui=7.827321584196766, est=9.475680206475998, details={'was_impossible': False}),\n",
       " Prediction(uid=102702, iid='0880294965', r_ui=7.827321584196766, est=9.472804399307757, details={'was_impossible': False}),\n",
       " Prediction(uid=102702, iid='1870845021', r_ui=7.827321584196766, est=9.690862748387381, details={'was_impossible': False}),\n",
       " Prediction(uid=102702, iid='1573229326', r_ui=7.827321584196766, est=8.782561711159056, details={'was_impossible': False}),\n",
       " Prediction(uid=102702, iid='0746009844', r_ui=7.827321584196766, est=9.357836902285468, details={'was_impossible': False}),\n",
       " Prediction(uid=102702, iid='0425181685', r_ui=7.827321584196766, est=9.308994195372136, details={'was_impossible': False}),\n",
       " Prediction(uid=102702, iid='0061057649', r_ui=7.827321584196766, est=10, details={'was_impossible': False}),\n",
       " Prediction(uid=102702, iid='0345418018', r_ui=7.827321584196766, est=9.723919778673872, details={'was_impossible': False}),\n",
       " Prediction(uid=102702, iid='0671791583', r_ui=7.827321584196766, est=9.428098720511777, details={'was_impossible': False}),\n",
       " Prediction(uid=102702, iid='0812572270', r_ui=7.827321584196766, est=9.517430218257292, details={'was_impossible': False}),\n",
       " Prediction(uid=102702, iid='038531437X', r_ui=7.827321584196766, est=9.158265796449026, details={'was_impossible': False}),\n",
       " Prediction(uid=102702, iid='0375726446', r_ui=7.827321584196766, est=9.768909343737088, details={'was_impossible': False}),\n",
       " Prediction(uid=102702, iid='1869412613', r_ui=7.827321584196766, est=9.410564877807472, details={'was_impossible': False}),\n",
       " Prediction(uid=102702, iid='0446608378', r_ui=7.827321584196766, est=9.608893842937121, details={'was_impossible': False}),\n",
       " Prediction(uid=102702, iid='0886461448', r_ui=7.827321584196766, est=9.70228168400314, details={'was_impossible': False}),\n",
       " Prediction(uid=102702, iid='1573228230', r_ui=7.827321584196766, est=9.758722027018397, details={'was_impossible': False}),\n",
       " Prediction(uid=102702, iid='0345351819', r_ui=7.827321584196766, est=9.545241225987535, details={'was_impossible': False}),\n",
       " Prediction(uid=102702, iid='0380752948', r_ui=7.827321584196766, est=9.54186053086807, details={'was_impossible': False}),\n",
       " Prediction(uid=102702, iid='0373225156', r_ui=7.827321584196766, est=9.572879874426794, details={'was_impossible': False}),\n",
       " Prediction(uid=102702, iid='0875421857', r_ui=7.827321584196766, est=9.604602276468938, details={'was_impossible': False}),\n",
       " Prediction(uid=102702, iid='0660187493', r_ui=7.827321584196766, est=9.959060962170275, details={'was_impossible': False}),\n",
       " Prediction(uid=102702, iid='0440227704', r_ui=7.827321584196766, est=9.743730747596697, details={'was_impossible': False}),\n",
       " Prediction(uid=102702, iid='0374417083', r_ui=7.827321584196766, est=9.231711230337648, details={'was_impossible': False}),\n",
       " Prediction(uid=102702, iid='0345382846', r_ui=7.827321584196766, est=9.707034749464627, details={'was_impossible': False}),\n",
       " Prediction(uid=102702, iid='1551665964', r_ui=7.827321584196766, est=9.180041642898198, details={'was_impossible': False}),\n",
       " Prediction(uid=102702, iid='0807014079', r_ui=7.827321584196766, est=9.54374083087734, details={'was_impossible': False}),\n",
       " Prediction(uid=102702, iid='0440213029', r_ui=7.827321584196766, est=9.486759234049538, details={'was_impossible': False}),\n",
       " Prediction(uid=102702, iid='0440206561', r_ui=7.827321584196766, est=9.89142890075793, details={'was_impossible': False}),\n",
       " Prediction(uid=102702, iid='0743430999', r_ui=7.827321584196766, est=9.786270545440342, details={'was_impossible': False}),\n",
       " Prediction(uid=102702, iid='0312983832', r_ui=7.827321584196766, est=9.529178447976431, details={'was_impossible': False}),\n",
       " Prediction(uid=102702, iid='0800757084', r_ui=7.827321584196766, est=9.736786204477063, details={'was_impossible': False}),\n",
       " Prediction(uid=102702, iid='0440419468', r_ui=7.827321584196766, est=9.404330002142174, details={'was_impossible': False}),\n",
       " Prediction(uid=102702, iid='0840772181', r_ui=7.827321584196766, est=9.447414288325076, details={'was_impossible': False}),\n",
       " Prediction(uid=102702, iid='0345915038', r_ui=7.827321584196766, est=9.634302212020941, details={'was_impossible': False}),\n",
       " Prediction(uid=102702, iid='0883962365', r_ui=7.827321584196766, est=9.59774291584977, details={'was_impossible': False}),\n",
       " Prediction(uid=102702, iid='0449221512', r_ui=7.827321584196766, est=9.944340596202336, details={'was_impossible': False}),\n",
       " Prediction(uid=102702, iid='0880705760', r_ui=7.827321584196766, est=9.712095756130767, details={'was_impossible': False}),\n",
       " Prediction(uid=102702, iid='0800756940', r_ui=7.827321584196766, est=9.347163937790999, details={'was_impossible': False}),\n",
       " Prediction(uid=102702, iid='0876591063', r_ui=7.827321584196766, est=9.47259810789132, details={'was_impossible': False}),\n",
       " Prediction(uid=102702, iid='0553443453', r_ui=7.827321584196766, est=9.61009071007382, details={'was_impossible': False}),\n",
       " Prediction(uid=102702, iid='0349101760', r_ui=7.827321584196766, est=9.347756228932601, details={'was_impossible': False}),\n",
       " Prediction(uid=102702, iid='0441010466', r_ui=7.827321584196766, est=9.38759902577166, details={'was_impossible': False}),\n",
       " Prediction(uid=102702, iid='0198217323', r_ui=7.827321584196766, est=9.519574765713177, details={'was_impossible': False}),\n",
       " Prediction(uid=102702, iid='1565111575', r_ui=7.827321584196766, est=9.442189128583813, details={'was_impossible': False}),\n",
       " Prediction(uid=102702, iid='0446608823', r_ui=7.827321584196766, est=9.464027867782749, details={'was_impossible': False}),\n",
       " Prediction(uid=102702, iid='067164257X', r_ui=7.827321584196766, est=9.455707819099025, details={'was_impossible': False}),\n",
       " Prediction(uid=102702, iid='0373046219', r_ui=7.827321584196766, est=9.44940554754183, details={'was_impossible': False}),\n",
       " Prediction(uid=102702, iid='0312314183', r_ui=7.827321584196766, est=9.737398217766486, details={'was_impossible': False}),\n",
       " Prediction(uid=102702, iid='0553293168', r_ui=7.827321584196766, est=9.752459529485034, details={'was_impossible': False}),\n",
       " Prediction(uid=102702, iid='1551668386', r_ui=7.827321584196766, est=9.444385989052806, details={'was_impossible': False}),\n",
       " Prediction(uid=102702, iid='0553561227', r_ui=7.827321584196766, est=9.56811274092991, details={'was_impossible': False}),\n",
       " Prediction(uid=102702, iid='037351168X', r_ui=7.827321584196766, est=9.551280008339035, details={'was_impossible': False}),\n",
       " Prediction(uid=102702, iid='1400048370', r_ui=7.827321584196766, est=9.51465469316802, details={'was_impossible': False}),\n",
       " Prediction(uid=102702, iid='3453140249', r_ui=7.827321584196766, est=9.301980764967146, details={'was_impossible': False}),\n",
       " Prediction(uid=102702, iid='091517961X', r_ui=7.827321584196766, est=9.30490681405923, details={'was_impossible': False}),\n",
       " Prediction(uid=102702, iid='0747553351', r_ui=7.827321584196766, est=9.535097353333914, details={'was_impossible': False}),\n",
       " Prediction(uid=102702, iid='0836211499', r_ui=7.827321584196766, est=10, details={'was_impossible': False}),\n",
       " Prediction(uid=102702, iid='0380794489', r_ui=7.827321584196766, est=9.993259415422251, details={'was_impossible': False}),\n",
       " Prediction(uid=102702, iid='0895261677', r_ui=7.827321584196766, est=9.818795508462404, details={'was_impossible': False}),\n",
       " Prediction(uid=102702, iid='0452269571', r_ui=7.827321584196766, est=9.617206820000371, details={'was_impossible': False}),\n",
       " Prediction(uid=102702, iid='0312954212', r_ui=7.827321584196766, est=9.616189719636555, details={'was_impossible': False}),\n",
       " Prediction(uid=102702, iid='0789493896', r_ui=7.827321584196766, est=9.583175961858425, details={'was_impossible': False}),\n",
       " Prediction(uid=102702, iid='067945960X', r_ui=7.827321584196766, est=9.390711699033591, details={'was_impossible': False}),\n",
       " Prediction(uid=102702, iid='0312857675', r_ui=7.827321584196766, est=9.6211601592675, details={'was_impossible': False}),\n",
       " Prediction(uid=102702, iid='0446611867', r_ui=7.827321584196766, est=8.978795855214129, details={'was_impossible': False}),\n",
       " Prediction(uid=102702, iid='0345444884', r_ui=7.827321584196766, est=9.636329582264407, details={'was_impossible': False}),\n",
       " Prediction(uid=102702, iid='0452270529', r_ui=7.827321584196766, est=9.738460546772412, details={'was_impossible': False}),\n",
       " Prediction(uid=102702, iid='0060165413', r_ui=7.827321584196766, est=9.619689896544367, details={'was_impossible': False}),\n",
       " Prediction(uid=102702, iid='0515116750', r_ui=7.827321584196766, est=10, details={'was_impossible': False}),\n",
       " Prediction(uid=102702, iid='0385337477', r_ui=7.827321584196766, est=9.474650793329598, details={'was_impossible': False}),\n",
       " Prediction(uid=102702, iid='0689711522', r_ui=7.827321584196766, est=9.89501644218346, details={'was_impossible': False}),\n",
       " Prediction(uid=102702, iid='0711923027', r_ui=7.827321584196766, est=9.372816338479225, details={'was_impossible': False}),\n",
       " Prediction(uid=102702, iid='0312272952', r_ui=7.827321584196766, est=9.617611816667976, details={'was_impossible': False}),\n",
       " Prediction(uid=102702, iid='1567187196', r_ui=7.827321584196766, est=9.488611652334157, details={'was_impossible': False}),\n",
       " Prediction(uid=102702, iid='0373691610', r_ui=7.827321584196766, est=9.55369795553986, details={'was_impossible': False}),\n",
       " Prediction(uid=102702, iid='0141182342', r_ui=7.827321584196766, est=9.663271326158675, details={'was_impossible': False}),\n",
       " Prediction(uid=102702, iid='0446310786', r_ui=7.827321584196766, est=10, details={'was_impossible': False}),\n",
       " Prediction(uid=102702, iid='0762401524', r_ui=7.827321584196766, est=9.875144684595071, details={'was_impossible': False}),\n",
       " Prediction(uid=102702, iid='0671868349', r_ui=7.827321584196766, est=9.58135152403799, details={'was_impossible': False}),\n",
       " Prediction(uid=102702, iid='0553542842', r_ui=7.827321584196766, est=9.790804288652682, details={'was_impossible': False}),\n",
       " Prediction(uid=102702, iid='038199919X', r_ui=7.827321584196766, est=9.614198605395979, details={'was_impossible': False}),\n",
       " Prediction(uid=102702, iid='0441116663', r_ui=7.827321584196766, est=9.727819266844168, details={'was_impossible': False}),\n",
       " Prediction(uid=102702, iid='0812550307', r_ui=7.827321584196766, est=9.409992084761198, details={'was_impossible': False}),\n",
       " Prediction(uid=102702, iid='0553345370', r_ui=7.827321584196766, est=9.463832567153124, details={'was_impossible': False}),\n",
       " Prediction(uid=102702, iid='0740726633', r_ui=7.827321584196766, est=9.863531258702116, details={'was_impossible': False}),\n",
       " Prediction(uid=102702, iid='0679732373', r_ui=7.827321584196766, est=8.854480338365251, details={'was_impossible': False}),\n",
       " Prediction(uid=102702, iid='1869504917', r_ui=7.827321584196766, est=9.42051448955134, details={'was_impossible': False}),\n",
       " Prediction(uid=102702, iid='0246137711', r_ui=7.827321584196766, est=9.842685398310504, details={'was_impossible': False}),\n",
       " Prediction(uid=102702, iid='0394872509', r_ui=7.827321584196766, est=9.494372904112875, details={'was_impossible': False}),\n",
       " Prediction(uid=102702, iid='0394717406', r_ui=7.827321584196766, est=9.70280482296086, details={'was_impossible': False}),\n",
       " Prediction(uid=102702, iid='0345452593', r_ui=7.827321584196766, est=9.491444826300965, details={'was_impossible': False}),\n",
       " Prediction(uid=102702, iid='0812502469', r_ui=7.827321584196766, est=9.656347290416509, details={'was_impossible': False}),\n",
       " Prediction(uid=102702, iid='0697070786', r_ui=7.827321584196766, est=9.529646581728608, details={'was_impossible': False}),\n",
       " Prediction(uid=102702, iid='0749920963', r_ui=7.827321584196766, est=9.586934512270233, details={'was_impossible': False}),\n",
       " Prediction(uid=102702, iid='0307231879', r_ui=7.827321584196766, est=9.620476779171668, details={'was_impossible': False}),\n",
       " Prediction(uid=102702, iid='0425179613', r_ui=7.827321584196766, est=9.691535565722582, details={'was_impossible': False}),\n",
       " Prediction(uid=102702, iid='078601542X', r_ui=7.827321584196766, est=9.295914164721037, details={'was_impossible': False}),\n",
       " Prediction(uid=102702, iid='0312983271', r_ui=7.827321584196766, est=9.081097189877516, details={'was_impossible': False}),\n",
       " Prediction(uid=102702, iid='1400060923', r_ui=7.827321584196766, est=9.685816529515359, details={'was_impossible': False}),\n",
       " Prediction(uid=102702, iid='0679781277', r_ui=7.827321584196766, est=9.310783582646383, details={'was_impossible': False}),\n",
       " Prediction(uid=102702, iid='B0000X8HIE', r_ui=7.827321584196766, est=9.128480016397218, details={'was_impossible': False}),\n",
       " Prediction(uid=102702, iid='067172942X', r_ui=7.827321584196766, est=9.652359296718542, details={'was_impossible': False}),\n",
       " Prediction(uid=102702, iid='0671034103', r_ui=7.827321584196766, est=9.475124275927252, details={'was_impossible': False}),\n",
       " Prediction(uid=102702, iid='0316601950', r_ui=7.827321584196766, est=10, details={'was_impossible': False}),\n",
       " Prediction(uid=102702, iid='0374177260', r_ui=7.827321584196766, est=9.632389267698855, details={'was_impossible': False}),\n",
       " Prediction(uid=102702, iid='0380815931', r_ui=7.827321584196766, est=9.489766445562811, details={'was_impossible': False}),\n",
       " Prediction(uid=102702, iid='0451167805', r_ui=7.827321584196766, est=9.34099262726142, details={'was_impossible': False}),\n",
       " Prediction(uid=102702, iid='0452273331', r_ui=7.827321584196766, est=9.24023332391809, details={'was_impossible': False}),\n",
       " Prediction(uid=102702, iid='0864421052', r_ui=7.827321584196766, est=9.586427246684583, details={'was_impossible': False}),\n",
       " Prediction(uid=102702, iid='042513525X', r_ui=7.827321584196766, est=9.576349617815225, details={'was_impossible': False}),\n",
       " Prediction(uid=102702, iid='0706400674', r_ui=7.827321584196766, est=9.413842497931334, details={'was_impossible': False}),\n",
       " Prediction(uid=102702, iid='0881064661', r_ui=7.827321584196766, est=9.614890505679567, details={'was_impossible': False}),\n",
       " Prediction(uid=102702, iid='0671695304', r_ui=7.827321584196766, est=9.569368451422438, details={'was_impossible': False}),\n",
       " Prediction(uid=102702, iid='0553213172', r_ui=7.827321584196766, est=10, details={'was_impossible': False}),\n",
       " Prediction(uid=102702, iid='0671792822', r_ui=7.827321584196766, est=9.70685586257838, details={'was_impossible': False}),\n",
       " Prediction(uid=102702, iid='156458710X', r_ui=7.827321584196766, est=9.76266943469205, details={'was_impossible': False}),\n",
       " Prediction(uid=102702, iid='0446525804', r_ui=7.827321584196766, est=9.508958338609164, details={'was_impossible': False}),\n",
       " Prediction(uid=102702, iid='0451180208', r_ui=7.827321584196766, est=9.680953083172414, details={'was_impossible': False}),\n",
       " Prediction(uid=102702, iid='0671578634', r_ui=7.827321584196766, est=9.517292341682325, details={'was_impossible': False}),\n",
       " Prediction(uid=102702, iid='0373712189', r_ui=7.827321584196766, est=9.720022867418527, details={'was_impossible': False}),\n",
       " Prediction(uid=102702, iid='0064473368', r_ui=7.827321584196766, est=9.657281988567583, details={'was_impossible': False}),\n",
       " Prediction(uid=102702, iid='0140263357', r_ui=7.827321584196766, est=9.507421026941014, details={'was_impossible': False}),\n",
       " Prediction(uid=102702, iid='0060926848', r_ui=7.827321584196766, est=9.462743491581888, details={'was_impossible': False}),\n",
       " Prediction(uid=102702, iid='0312284322', r_ui=7.827321584196766, est=9.49883657171327, details={'was_impossible': False}),\n",
       " Prediction(uid=102702, iid='0312171838', r_ui=7.827321584196766, est=9.843869482248907, details={'was_impossible': False}),\n",
       " Prediction(uid=102702, iid='0316693294', r_ui=7.827321584196766, est=9.982700273810053, details={'was_impossible': False}),\n",
       " Prediction(uid=102702, iid='029272019X', r_ui=7.827321584196766, est=9.391031121282397, details={'was_impossible': False}),\n",
       " Prediction(uid=102702, iid='1551667363', r_ui=7.827321584196766, est=9.322926025508188, details={'was_impossible': False}),\n",
       " Prediction(uid=102702, iid='0375726624', r_ui=7.827321584196766, est=9.645346195549742, details={'was_impossible': False}),\n",
       " Prediction(uid=102702, iid='0373270976', r_ui=7.827321584196766, est=10, details={'was_impossible': False}),\n",
       " Prediction(uid=102702, iid='0821744828', r_ui=7.827321584196766, est=9.536069558973221, details={'was_impossible': False}),\n",
       " Prediction(uid=102702, iid='0679772685', r_ui=7.827321584196766, est=9.874160293008675, details={'was_impossible': False}),\n",
       " Prediction(uid=102702, iid='0686283120', r_ui=7.827321584196766, est=9.51660440730071, details={'was_impossible': False}),\n",
       " Prediction(uid=102702, iid='0061009059', r_ui=7.827321584196766, est=10, details={'was_impossible': False}),\n",
       " Prediction(uid=102702, iid='0696019922', r_ui=7.827321584196766, est=9.507006527281908, details={'was_impossible': False}),\n",
       " Prediction(uid=102702, iid='1579540090', r_ui=7.827321584196766, est=9.452509507236433, details={'was_impossible': False}),\n",
       " Prediction(uid=102702, iid='0425063100', r_ui=7.827321584196766, est=9.766837216866593, details={'was_impossible': False}),\n",
       " Prediction(uid=102702, iid='0446607711', r_ui=7.827321584196766, est=9.491737702833527, details={'was_impossible': False}),\n",
       " Prediction(uid=102702, iid='0373292325', r_ui=7.827321584196766, est=9.507316886849203, details={'was_impossible': False}),\n",
       " Prediction(uid=102702, iid='0812814274', r_ui=7.827321584196766, est=9.308702978619516, details={'was_impossible': False}),\n",
       " Prediction(uid=102702, iid='0380802082', r_ui=7.827321584196766, est=9.704628279518111, details={'was_impossible': False}),\n",
       " Prediction(uid=102702, iid='0385720211', r_ui=7.827321584196766, est=9.55794526197354, details={'was_impossible': False}),\n",
       " Prediction(uid=102702, iid='0451190246', r_ui=7.827321584196766, est=9.609796237754118, details={'was_impossible': False}),\n",
       " Prediction(uid=102702, iid='031205436X', r_ui=7.827321584196766, est=9.29189091142234, details={'was_impossible': False}),\n",
       " Prediction(uid=102702, iid='0747565333', r_ui=7.827321584196766, est=9.692734561593813, details={'was_impossible': False}),\n",
       " Prediction(uid=102702, iid='0316603287', r_ui=7.827321584196766, est=8.752587630275611, details={'was_impossible': False}),\n",
       " Prediction(uid=102702, iid='0553573314', r_ui=7.827321584196766, est=9.820785325524644, details={'was_impossible': False}),\n",
       " Prediction(uid=102702, iid='0552990566', r_ui=7.827321584196766, est=9.652580831073827, details={'was_impossible': False}),\n",
       " Prediction(uid=102702, iid='0679603328', r_ui=7.827321584196766, est=9.363267728518382, details={'was_impossible': False}),\n",
       " Prediction(uid=102702, iid='038067033X', r_ui=7.827321584196766, est=9.198266489184387, details={'was_impossible': False}),\n",
       " Prediction(uid=102702, iid='0441470734', r_ui=7.827321584196766, est=9.053200058685094, details={'was_impossible': False}),\n",
       " Prediction(uid=102702, iid='0415044227', r_ui=7.827321584196766, est=9.649818828577079, details={'was_impossible': False}),\n",
       " Prediction(uid=102702, iid='0345384210', r_ui=7.827321584196766, est=9.587786143298315, details={'was_impossible': False}),\n",
       " Prediction(uid=102702, iid='0375503838', r_ui=7.827321584196766, est=9.906001908880315, details={'was_impossible': False}),\n",
       " Prediction(uid=102702, iid='0399143424', r_ui=7.827321584196766, est=9.47609072944228, details={'was_impossible': False}),\n",
       " Prediction(uid=102702, iid='0028614496', r_ui=7.827321584196766, est=9.447195823439358, details={'was_impossible': False}),\n",
       " Prediction(uid=102702, iid='0451209559', r_ui=7.827321584196766, est=9.52667084747421, details={'was_impossible': False}),\n",
       " Prediction(uid=102702, iid='078686351X', r_ui=7.827321584196766, est=9.364826591761677, details={'was_impossible': False}),\n",
       " Prediction(uid=102702, iid='0425189864', r_ui=7.827321584196766, est=9.878160981296487, details={'was_impossible': False}),\n",
       " Prediction(uid=102702, iid='0310235588', r_ui=7.827321584196766, est=9.658266465018169, details={'was_impossible': False}),\n",
       " Prediction(uid=102702, iid='0553456482', r_ui=7.827321584196766, est=9.874051291599157, details={'was_impossible': False}),\n",
       " Prediction(uid=102702, iid='0226743403', r_ui=7.827321584196766, est=9.560655262701186, details={'was_impossible': False}),\n",
       " Prediction(uid=102702, iid='0671759213', r_ui=7.827321584196766, est=9.825039685644231, details={'was_impossible': False}),\n",
       " Prediction(uid=102702, iid='0553291238', r_ui=7.827321584196766, est=9.475928587486692, details={'was_impossible': False}),\n",
       " Prediction(uid=102702, iid='0618173870', r_ui=7.827321584196766, est=9.660850864073801, details={'was_impossible': False}),\n",
       " Prediction(uid=102702, iid='0312979096', r_ui=7.827321584196766, est=9.567885177208982, details={'was_impossible': False}),\n",
       " Prediction(uid=102702, iid='0671027581', r_ui=7.827321584196766, est=9.638680417856893, details={'was_impossible': False}),\n",
       " Prediction(uid=102702, iid='0679417648', r_ui=7.827321584196766, est=9.883462605440801, details={'was_impossible': False}),\n",
       " Prediction(uid=102702, iid='0312205481', r_ui=7.827321584196766, est=9.426887799097933, details={'was_impossible': False}),\n",
       " Prediction(uid=102702, iid='1594141975', r_ui=7.827321584196766, est=9.47752057241062, details={'was_impossible': False}),\n",
       " Prediction(uid=102702, iid='0439115280', r_ui=7.827321584196766, est=9.439882927549682, details={'was_impossible': False}),\n",
       " Prediction(uid=102702, iid='0836207076', r_ui=7.827321584196766, est=9.785657464242918, details={'was_impossible': False}),\n",
       " Prediction(uid=102702, iid='0553263528', r_ui=7.827321584196766, est=9.174451105709064, details={'was_impossible': False}),\n",
       " Prediction(uid=102702, iid='0786866179', r_ui=7.827321584196766, est=9.714821071204861, details={'was_impossible': False}),\n",
       " Prediction(uid=102702, iid='0671027360', r_ui=7.827321584196766, est=9.329193188118381, details={'was_impossible': False}),\n",
       " Prediction(uid=102702, iid='0743403452', r_ui=7.827321584196766, est=9.619720810588909, details={'was_impossible': False}),\n",
       " Prediction(uid=102702, iid='0848716108', r_ui=7.827321584196766, est=9.519223140060062, details={'was_impossible': False}),\n",
       " Prediction(uid=102702, iid='0515133876', r_ui=7.827321584196766, est=9.219435430879038, details={'was_impossible': False}),\n",
       " Prediction(uid=102702, iid='0802151795', r_ui=7.827321584196766, est=9.387849993678403, details={'was_impossible': False}),\n",
       " Prediction(uid=102702, iid='0553581929', r_ui=7.827321584196766, est=9.417092128116982, details={'was_impossible': False}),\n",
       " Prediction(uid=102702, iid='0679742115', r_ui=7.827321584196766, est=9.659977664608347, details={'was_impossible': False}),\n",
       " Prediction(uid=102702, iid='0812534379', r_ui=7.827321584196766, est=9.751886071018175, details={'was_impossible': False}),\n",
       " Prediction(uid=102702, iid='0312313004', r_ui=7.827321584196766, est=9.478687838419772, details={'was_impossible': False}),\n",
       " Prediction(uid=102702, iid='0590251651', r_ui=7.827321584196766, est=9.615498539296187, details={'was_impossible': False}),\n",
       " Prediction(uid=102702, iid='0451407210', r_ui=7.827321584196766, est=9.333751167270984, details={'was_impossible': False}),\n",
       " Prediction(uid=102702, iid='0375753060', r_ui=7.827321584196766, est=9.289569298618192, details={'was_impossible': False}),\n",
       " Prediction(uid=102702, iid='0679423710', r_ui=7.827321584196766, est=9.672547031200573, details={'was_impossible': False}),\n",
       " Prediction(uid=102702, iid='0451154967', r_ui=7.827321584196766, est=9.18905807944069, details={'was_impossible': False}),\n",
       " Prediction(uid=102702, iid='0451175190', r_ui=7.827321584196766, est=9.770981122117119, details={'was_impossible': False}),\n",
       " Prediction(uid=102702, iid='0425136191', r_ui=7.827321584196766, est=9.243843324119872, details={'was_impossible': False}),\n",
       " Prediction(uid=102702, iid='0553267493', r_ui=7.827321584196766, est=9.452249503996315, details={'was_impossible': False}),\n",
       " Prediction(uid=102702, iid='1565123417', r_ui=7.827321584196766, est=8.785802652800779, details={'was_impossible': False}),\n",
       " Prediction(uid=102702, iid='0140113428', r_ui=7.827321584196766, est=9.539784220378635, details={'was_impossible': False}),\n",
       " Prediction(uid=102702, iid='0373192290', r_ui=7.827321584196766, est=9.617728988832301, details={'was_impossible': False}),\n",
       " Prediction(uid=102702, iid='0380759497', r_ui=7.827321584196766, est=9.41222531649221, details={'was_impossible': False}),\n",
       " Prediction(uid=102702, iid='075640049X', r_ui=7.827321584196766, est=9.480187974877335, details={'was_impossible': False}),\n",
       " Prediction(uid=102702, iid='0192781537', r_ui=7.827321584196766, est=9.632022333538124, details={'was_impossible': False}),\n",
       " Prediction(uid=102702, iid='0385502745', r_ui=7.827321584196766, est=9.50104298541601, details={'was_impossible': False}),\n",
       " Prediction(uid=102702, iid='0515136387', r_ui=7.827321584196766, est=9.415965332561804, details={'was_impossible': False}),\n",
       " Prediction(uid=102702, iid='2742722629', r_ui=7.827321584196766, est=9.46621578522568, details={'was_impossible': False}),\n",
       " Prediction(uid=102702, iid='051511992X', r_ui=7.827321584196766, est=9.95325379214445, details={'was_impossible': False}),\n",
       " Prediction(uid=102702, iid='0671018930', r_ui=7.827321584196766, est=9.436560301979217, details={'was_impossible': False}),\n",
       " Prediction(uid=102702, iid='0708819338', r_ui=7.827321584196766, est=9.436438515125745, details={'was_impossible': False}),\n",
       " Prediction(uid=102702, iid='0553283685', r_ui=7.827321584196766, est=9.505382216041546, details={'was_impossible': False}),\n",
       " Prediction(uid=102702, iid='0345394259', r_ui=7.827321584196766, est=8.782356446911466, details={'was_impossible': False}),\n",
       " Prediction(uid=102702, iid='0756401666', r_ui=7.827321584196766, est=9.951239820330754, details={'was_impossible': False}),\n",
       " Prediction(uid=102702, iid='0451206770', r_ui=7.827321584196766, est=9.225675118994573, details={'was_impossible': False}),\n",
       " Prediction(uid=102702, iid='0425129691', r_ui=7.827321584196766, est=9.848587632201221, details={'was_impossible': False}),\n",
       " Prediction(uid=102702, iid='0375757392', r_ui=7.827321584196766, est=9.113827859077931, details={'was_impossible': False}),\n",
       " Prediction(uid=102702, iid='1568654073', r_ui=7.827321584196766, est=9.103113788239014, details={'was_impossible': False}),\n",
       " Prediction(uid=102702, iid='0802430848', r_ui=7.827321584196766, est=9.462027863385408, details={'was_impossible': False}),\n",
       " Prediction(uid=102702, iid='0911104216', r_ui=7.827321584196766, est=9.476963274533684, details={'was_impossible': False}),\n",
       " Prediction(uid=102702, iid='0345416260', r_ui=7.827321584196766, est=8.881967158944521, details={'was_impossible': False}),\n",
       " Prediction(uid=102702, iid='068484267X', r_ui=7.827321584196766, est=10, details={'was_impossible': False}),\n",
       " Prediction(uid=102702, iid='0767905180', r_ui=7.827321584196766, est=9.356024983598672, details={'was_impossible': False}),\n",
       " Prediction(uid=102702, iid='0060504137', r_ui=7.827321584196766, est=9.515874822314077, details={'was_impossible': False}),\n",
       " Prediction(uid=102702, iid='0440237416', r_ui=7.827321584196766, est=9.5580356000373, details={'was_impossible': False}),\n",
       " Prediction(uid=102702, iid='0140266259', r_ui=7.827321584196766, est=9.630335574432312, details={'was_impossible': False}),\n",
       " Prediction(uid=102702, iid='0679419616', r_ui=7.827321584196766, est=9.852918614536609, details={'was_impossible': False}),\n",
       " Prediction(uid=102702, iid='0679738347', r_ui=7.827321584196766, est=9.873768766525385, details={'was_impossible': False}),\n",
       " Prediction(uid=102702, iid='0446611727', r_ui=7.827321584196766, est=9.519688034471915, details={'was_impossible': False}),\n",
       " Prediction(uid=102702, iid='0684195984', r_ui=7.827321584196766, est=9.394615037912724, details={'was_impossible': False}),\n",
       " Prediction(uid=102702, iid='0671026011', r_ui=7.827321584196766, est=9.48650622410988, details={'was_impossible': False}),\n",
       " Prediction(uid=102702, iid='0670813648', r_ui=7.827321584196766, est=9.65942823991168, details={'was_impossible': False}),\n",
       " Prediction(uid=102702, iid='0440213525', r_ui=7.827321584196766, est=9.644377543355203, details={'was_impossible': False}),\n",
       " Prediction(uid=102702, iid='0553294903', r_ui=7.827321584196766, est=9.689426725469527, details={'was_impossible': False}),\n",
       " Prediction(uid=102702, iid='0394488121', r_ui=7.827321584196766, est=9.701372310480494, details={'was_impossible': False}),\n",
       " Prediction(uid=102702, iid='0451205847', r_ui=7.827321584196766, est=9.844005843289251, details={'was_impossible': False}),\n",
       " Prediction(uid=102702, iid='3551755353', r_ui=7.827321584196766, est=9.623304561226348, details={'was_impossible': False}),\n",
       " Prediction(uid=102702, iid='8408019899', r_ui=7.827321584196766, est=9.622145777257147, details={'was_impossible': False}),\n",
       " Prediction(uid=102702, iid='0385315546', r_ui=7.827321584196766, est=9.660231001456298, details={'was_impossible': False}),\n",
       " Prediction(uid=102702, iid='067158104X', r_ui=7.827321584196766, est=9.561011228176342, details={'was_impossible': False}),\n",
       " Prediction(uid=102702, iid='0312872542', r_ui=7.827321584196766, est=9.71379900633312, details={'was_impossible': False}),\n",
       " Prediction(uid=102702, iid='0345453433', r_ui=7.827321584196766, est=9.140661789777942, details={'was_impossible': False}),\n",
       " Prediction(uid=102702, iid='0553256688', r_ui=7.827321584196766, est=9.613868339037412, details={'was_impossible': False}),\n",
       " Prediction(uid=102702, iid='0743422910', r_ui=7.827321584196766, est=9.078636260306903, details={'was_impossible': False}),\n",
       " Prediction(uid=102702, iid='0671700618', r_ui=7.827321584196766, est=9.673896381701542, details={'was_impossible': False}),\n",
       " Prediction(uid=102702, iid='0345433254', r_ui=7.827321584196766, est=9.680034319551199, details={'was_impossible': False}),\n",
       " Prediction(uid=102702, iid='0671014188', r_ui=7.827321584196766, est=9.52698069227102, details={'was_impossible': False}),\n",
       " Prediction(uid=102702, iid='0743467523', r_ui=7.827321584196766, est=9.389339897571244, details={'was_impossible': False}),\n",
       " Prediction(uid=102702, iid='0553572997', r_ui=7.827321584196766, est=9.623488867868268, details={'was_impossible': False}),\n",
       " Prediction(uid=102702, iid='1562451901', r_ui=7.827321584196766, est=9.560540638351009, details={'was_impossible': False}),\n",
       " Prediction(uid=102702, iid='0385472951', r_ui=7.827321584196766, est=9.436422143427066, details={'was_impossible': False}),\n",
       " Prediction(uid=102702, iid='0553274295', r_ui=7.827321584196766, est=10, details={'was_impossible': False}),\n",
       " Prediction(uid=102702, iid='0449212394', r_ui=7.827321584196766, est=9.308497353760178, details={'was_impossible': False}),\n",
       " Prediction(uid=102702, iid='0393050939', r_ui=7.827321584196766, est=10, details={'was_impossible': False}),\n",
       " Prediction(uid=102702, iid='0445203668', r_ui=7.827321584196766, est=9.268468514959276, details={'was_impossible': False}),\n",
       " Prediction(uid=102702, iid='0425150984', r_ui=7.827321584196766, est=9.884202214069656, details={'was_impossible': False}),\n",
       " Prediction(uid=102702, iid='0345368959', r_ui=7.827321584196766, est=9.618801904237747, details={'was_impossible': False}),\n",
       " Prediction(uid=102702, iid='0151008116', r_ui=7.827321584196766, est=9.253222607196326, details={'was_impossible': False}),\n",
       " Prediction(uid=102702, iid='0754048616', r_ui=7.827321584196766, est=9.455568168009329, details={'was_impossible': False}),\n",
       " Prediction(uid=102702, iid='0805054952', r_ui=7.827321584196766, est=9.777529434937597, details={'was_impossible': False}),\n",
       " Prediction(uid=102702, iid='0312308515', r_ui=7.827321584196766, est=9.530677288884922, details={'was_impossible': False}),\n",
       " Prediction(uid=102702, iid='0812885406', r_ui=7.827321584196766, est=9.65397294074967, details={'was_impossible': False}),\n",
       " Prediction(uid=102702, iid='0553762842', r_ui=7.827321584196766, est=9.385398822605396, details={'was_impossible': False}),\n",
       " Prediction(uid=102702, iid='0836230043', r_ui=7.827321584196766, est=9.48295962031875, details={'was_impossible': False}),\n",
       " Prediction(uid=102702, iid='0671533983', r_ui=7.827321584196766, est=9.650098749656353, details={'was_impossible': False}),\n",
       " Prediction(uid=102702, iid='0671795171', r_ui=7.827321584196766, est=9.386709980991098, details={'was_impossible': False}),\n",
       " Prediction(uid=102702, iid='0553110721', r_ui=7.827321584196766, est=9.594273404275924, details={'was_impossible': False}),\n",
       " Prediction(uid=102702, iid='0767915054', r_ui=7.827321584196766, est=9.56841766767067, details={'was_impossible': False}),\n",
       " Prediction(uid=102702, iid='0446613053', r_ui=7.827321584196766, est=9.443552600103141, details={'was_impossible': False}),\n",
       " Prediction(uid=102702, iid='157566691X', r_ui=7.827321584196766, est=9.164522900561714, details={'was_impossible': False}),\n",
       " Prediction(uid=102702, iid='0394498216', r_ui=7.827321584196766, est=9.81428832585595, details={'was_impossible': False}),\n",
       " Prediction(uid=102702, iid='0671644831', r_ui=7.827321584196766, est=9.179850138253583, details={'was_impossible': False}),\n",
       " Prediction(uid=102702, iid='0394740181', r_ui=7.827321584196766, est=9.797220585682798, details={'was_impossible': False}),\n",
       " Prediction(uid=102702, iid='0515098795', r_ui=7.827321584196766, est=9.397716741681318, details={'was_impossible': False}),\n",
       " Prediction(uid=102702, iid='086442471X', r_ui=7.827321584196766, est=9.344156463731933, details={'was_impossible': False}),\n",
       " Prediction(uid=102702, iid='0140018484', r_ui=7.827321584196766, est=9.590626629495763, details={'was_impossible': False}),\n",
       " Prediction(uid=102702, iid='0345397819', r_ui=7.827321584196766, est=9.670569923335345, details={'was_impossible': False}),\n",
       " Prediction(uid=102702, iid='0671718436', r_ui=7.827321584196766, est=8.922779698909375, details={'was_impossible': False}),\n",
       " Prediction(uid=102702, iid='0671002597', r_ui=7.827321584196766, est=9.603961664738012, details={'was_impossible': False}),\n",
       " Prediction(uid=102702, iid='0373114281', r_ui=7.827321584196766, est=9.515263561136125, details={'was_impossible': False}),\n",
       " Prediction(uid=102702, iid='0140440313', r_ui=7.827321584196766, est=9.66770870086639, details={'was_impossible': False}),\n",
       " Prediction(uid=102702, iid='007052386X', r_ui=7.827321584196766, est=9.362942008076786, details={'was_impossible': False}),\n",
       " Prediction(uid=102702, iid='0671025597', r_ui=7.827321584196766, est=9.669558880681713, details={'was_impossible': False}),\n",
       " Prediction(uid=102702, iid='0446608165', r_ui=7.827321584196766, est=9.494654227550145, details={'was_impossible': False}),\n",
       " Prediction(uid=102702, iid='0316525766', r_ui=7.827321584196766, est=9.806894635665088, details={'was_impossible': False}),\n",
       " Prediction(uid=102702, iid='0316153990', r_ui=7.827321584196766, est=9.490607318556265, details={'was_impossible': False}),\n",
       " Prediction(uid=102702, iid='0515093556', r_ui=7.827321584196766, est=9.240750721585654, details={'was_impossible': False}),\n",
       " Prediction(uid=102702, iid='0061020710', r_ui=7.827321584196766, est=9.820580038655606, details={'was_impossible': False}),\n",
       " Prediction(uid=102702, iid='0385720254', r_ui=7.827321584196766, est=9.399677809144372, details={'was_impossible': False}),\n",
       " Prediction(uid=102702, iid='2070513335', r_ui=7.827321584196766, est=9.795206284204122, details={'was_impossible': False}),\n",
       " Prediction(uid=102702, iid='0446611085', r_ui=7.827321584196766, est=9.900650002430037, details={'was_impossible': False}),\n",
       " Prediction(uid=102702, iid='0446605018', r_ui=7.827321584196766, est=9.682269799180855, details={'was_impossible': False}),\n",
       " Prediction(uid=102702, iid='0880381736', r_ui=7.827321584196766, est=9.530064957230659, details={'was_impossible': False}),\n",
       " Prediction(uid=102702, iid='0553062204', r_ui=7.827321584196766, est=9.156580593573679, details={'was_impossible': False}),\n",
       " Prediction(uid=102702, iid='044011585X', r_ui=7.827321584196766, est=9.49151841449621, details={'was_impossible': False}),\n",
       " Prediction(uid=102702, iid='0671663585', r_ui=7.827321584196766, est=9.716287195619117, details={'was_impossible': False}),\n",
       " Prediction(uid=102702, iid='0613524551', r_ui=7.827321584196766, est=9.737945319693122, details={'was_impossible': False}),\n",
       " Prediction(uid=102702, iid='0312199430', r_ui=7.827321584196766, est=9.600596887921522, details={'was_impossible': False}),\n",
       " Prediction(uid=102702, iid='0618002219', r_ui=7.827321584196766, est=10, details={'was_impossible': False}),\n",
       " Prediction(uid=102702, iid='0882405381', r_ui=7.827321584196766, est=9.574268775976865, details={'was_impossible': False}),\n",
       " Prediction(uid=102702, iid='0399141146', r_ui=7.827321584196766, est=9.819663573493937, details={'was_impossible': False}),\n",
       " Prediction(uid=102702, iid='1888054557', r_ui=7.827321584196766, est=10, details={'was_impossible': False}),\n",
       " Prediction(uid=102702, iid='067972754X', r_ui=7.827321584196766, est=9.643403514847256, details={'was_impossible': False}),\n",
       " Prediction(uid=102702, iid='0425172597', r_ui=7.827321584196766, est=9.484528403227017, details={'was_impossible': False}),\n",
       " Prediction(uid=102702, iid='0373121431', r_ui=7.827321584196766, est=9.537469186960388, details={'was_impossible': False}),\n",
       " Prediction(uid=102702, iid='080411109X', r_ui=7.827321584196766, est=9.8571799361674, details={'was_impossible': False}),\n",
       " Prediction(uid=102702, iid='1590580893', r_ui=7.827321584196766, est=9.602816784117312, details={'was_impossible': False}),\n",
       " Prediction(uid=102702, iid='1551666499', r_ui=7.827321584196766, est=9.618233134315231, details={'was_impossible': False}),\n",
       " Prediction(uid=102702, iid='0373785070', r_ui=7.827321584196766, est=9.43674165076368, details={'was_impossible': False}),\n",
       " Prediction(uid=102702, iid='0812580354', r_ui=7.827321584196766, est=9.863156597703505, details={'was_impossible': False}),\n",
       " Prediction(uid=102702, iid='0385316259', r_ui=7.827321584196766, est=9.392795562987123, details={'was_impossible': False}),\n",
       " Prediction(uid=102702, iid='096965202X', r_ui=7.827321584196766, est=9.793991142765266, details={'was_impossible': False}),\n",
       " Prediction(uid=102702, iid='0671532251', r_ui=7.827321584196766, est=9.681538788108998, details={'was_impossible': False}),\n",
       " Prediction(uid=102702, iid='0380776049', r_ui=7.827321584196766, est=9.668091315774118, details={'was_impossible': False}),\n",
       " Prediction(uid=102702, iid='0345346971', r_ui=7.827321584196766, est=9.953673789815559, details={'was_impossible': False}),\n",
       " Prediction(uid=102702, iid='156858217X', r_ui=7.827321584196766, est=9.33993270690597, details={'was_impossible': False}),\n",
       " Prediction(uid=102702, iid='0060511508', r_ui=7.827321584196766, est=9.541508182524156, details={'was_impossible': False}),\n",
       " Prediction(uid=102702, iid='0373123809', r_ui=7.827321584196766, est=9.60087632489175, details={'was_impossible': False}),\n",
       " Prediction(uid=102702, iid='0590481207', r_ui=7.827321584196766, est=9.448911873581531, details={'was_impossible': False}),\n",
       " Prediction(uid=102702, iid='0522848966', r_ui=7.827321584196766, est=9.582201074509237, details={'was_impossible': False}),\n",
       " Prediction(uid=102702, iid='0787117293', r_ui=7.827321584196766, est=9.718564353348892, details={'was_impossible': False}),\n",
       " Prediction(uid=102702, iid='1580812082', r_ui=7.827321584196766, est=9.110022048700625, details={'was_impossible': False}),\n",
       " Prediction(uid=102702, iid='0671443283', r_ui=7.827321584196766, est=9.15830800160322, details={'was_impossible': False}),\n",
       " Prediction(uid=102702, iid='0553234811', r_ui=7.827321584196766, est=9.651224049998397, details={'was_impossible': False}),\n",
       " Prediction(uid=102702, iid='0517577402', r_ui=7.827321584196766, est=9.40370365987383, details={'was_impossible': False}),\n",
       " Prediction(uid=102702, iid='0525470816', r_ui=7.827321584196766, est=9.55801258170662, details={'was_impossible': False}),\n",
       " Prediction(uid=102702, iid='0806957905', r_ui=7.827321584196766, est=9.770498865877409, details={'was_impossible': False}),\n",
       " Prediction(uid=102702, iid='0812548051', r_ui=7.827321584196766, est=10, details={'was_impossible': False}),\n",
       " Prediction(uid=102702, iid='0380811073', r_ui=7.827321584196766, est=9.709657830338385, details={'was_impossible': False}),\n",
       " Prediction(uid=102702, iid='0373243499', r_ui=7.827321584196766, est=9.447029160704352, details={'was_impossible': False}),\n",
       " Prediction(uid=102702, iid='0553381555', r_ui=7.827321584196766, est=9.638042727294753, details={'was_impossible': False}),\n",
       " Prediction(uid=102702, iid='0671676563', r_ui=7.827321584196766, est=9.41121633311057, details={'was_impossible': False}),\n",
       " Prediction(uid=102702, iid='0754044637', r_ui=7.827321584196766, est=9.448800130356531, details={'was_impossible': False}),\n",
       " Prediction(uid=102702, iid='096362556X', r_ui=7.827321584196766, est=9.46132277414875, details={'was_impossible': False}),\n",
       " Prediction(uid=102702, iid='1575669218', r_ui=7.827321584196766, est=9.687825130621226, details={'was_impossible': False}),\n",
       " Prediction(uid=102702, iid='0394820371', r_ui=7.827321584196766, est=9.973183611918847, details={'was_impossible': False}),\n",
       " Prediction(uid=102702, iid='0060256672', r_ui=7.827321584196766, est=10, details={'was_impossible': False}),\n",
       " Prediction(uid=102702, iid='0380790076', r_ui=7.827321584196766, est=9.496474469100809, details={'was_impossible': False}),\n",
       " Prediction(uid=102702, iid='0807014133', r_ui=7.827321584196766, est=9.765822100795189, details={'was_impossible': False}),\n",
       " Prediction(uid=102702, iid='0380814390', r_ui=7.827321584196766, est=9.528328639757067, details={'was_impossible': False}),\n",
       " Prediction(uid=102702, iid='0553569155', r_ui=7.827321584196766, est=9.548472480738655, details={'was_impossible': False}),\n",
       " Prediction(uid=102702, iid='0060548266', r_ui=7.827321584196766, est=9.347543419463891, details={'was_impossible': False}),\n",
       " Prediction(uid=102702, iid='0312860226', r_ui=7.827321584196766, est=9.600217031457621, details={'was_impossible': False}),\n",
       " Prediction(uid=102702, iid='0425180298', r_ui=7.827321584196766, est=9.324745282305154, details={'was_impossible': False}),\n",
       " Prediction(uid=102702, iid='0373169175', r_ui=7.827321584196766, est=9.888777907662385, details={'was_impossible': False}),\n",
       " Prediction(uid=102702, iid='0553207717', r_ui=7.827321584196766, est=9.60168205352622, details={'was_impossible': False}),\n",
       " Prediction(uid=102702, iid='0345428560', r_ui=7.827321584196766, est=9.396909493246918, details={'was_impossible': False}),\n",
       " Prediction(uid=102702, iid='1587880407', r_ui=7.827321584196766, est=9.296013574196277, details={'was_impossible': False}),\n",
       " Prediction(uid=102702, iid='0151001367', r_ui=7.827321584196766, est=9.389850702365298, details={'was_impossible': False}),\n",
       " Prediction(uid=102702, iid='0316037621', r_ui=7.827321584196766, est=9.578351625329933, details={'was_impossible': False}),\n",
       " Prediction(uid=102702, iid='0345339495', r_ui=7.827321584196766, est=9.845875532681672, details={'was_impossible': False}),\n",
       " Prediction(uid=102702, iid='1893896749', r_ui=7.827321584196766, est=9.451255817465295, details={'was_impossible': False}),\n",
       " Prediction(uid=102702, iid='0515133655', r_ui=7.827321584196766, est=9.624402879804679, details={'was_impossible': False}),\n",
       " Prediction(uid=102702, iid='0553574116', r_ui=7.827321584196766, est=9.708484712443019, details={'was_impossible': False}),\n",
       " Prediction(uid=102702, iid='1559703237', r_ui=7.827321584196766, est=9.415286169838186, details={'was_impossible': False}),\n",
       " Prediction(uid=102702, iid='0743436113', r_ui=7.827321584196766, est=9.631287050270503, details={'was_impossible': False}),\n",
       " Prediction(uid=102702, iid='0843947020', r_ui=7.827321584196766, est=9.688558876124846, details={'was_impossible': False}),\n",
       " Prediction(uid=102702, iid='0060008032', r_ui=7.827321584196766, est=9.243680934922704, details={'was_impossible': False}),\n",
       " Prediction(uid=102702, iid='0684869098', r_ui=7.827321584196766, est=9.329905161029211, details={'was_impossible': False}),\n",
       " Prediction(uid=102702, iid='0373765401', r_ui=7.827321584196766, est=9.333824247488172, details={'was_impossible': False}),\n",
       " Prediction(uid=102702, iid='0816734151', r_ui=7.827321584196766, est=9.441980531590774, details={'was_impossible': False}),\n",
       " Prediction(uid=102702, iid='0751360244', r_ui=7.827321584196766, est=9.716656717271059, details={'was_impossible': False}),\n",
       " Prediction(uid=102702, iid='0451180232', r_ui=7.827321584196766, est=9.615411947635941, details={'was_impossible': False}),\n",
       " Prediction(uid=102702, iid='0449210235', r_ui=7.827321584196766, est=9.324837364531371, details={'was_impossible': False}),\n",
       " Prediction(uid=102702, iid='0312916205', r_ui=7.827321584196766, est=9.566900777691378, details={'was_impossible': False}),\n",
       " Prediction(uid=102702, iid='0385295081', r_ui=7.827321584196766, est=9.504686378045683, details={'was_impossible': False}),\n",
       " Prediction(uid=102702, iid='0552141275', r_ui=7.827321584196766, est=9.513940996021276, details={'was_impossible': False}),\n",
       " Prediction(uid=102702, iid='0142001740', r_ui=7.827321584196766, est=10, details={'was_impossible': False}),\n",
       " Prediction(uid=102702, iid='0823918823', r_ui=7.827321584196766, est=9.493992987786731, details={'was_impossible': False}),\n",
       " Prediction(uid=102702, iid='0671001795', r_ui=7.827321584196766, est=10, details={'was_impossible': False}),\n",
       " Prediction(uid=102702, iid='0754045218', r_ui=7.827321584196766, est=9.694457598146483, details={'was_impossible': False}),\n",
       " Prediction(uid=102702, iid='0887308589', r_ui=7.827321584196766, est=9.654163521291938, details={'was_impossible': False}),\n",
       " Prediction(uid=102702, iid='344242528X', r_ui=7.827321584196766, est=9.53878935515728, details={'was_impossible': False}),\n",
       " Prediction(uid=102702, iid='0821768816', r_ui=7.827321584196766, est=9.303403776241721, details={'was_impossible': False}),\n",
       " Prediction(uid=102702, iid='0452282152', r_ui=7.827321584196766, est=9.927986314076321, details={'was_impossible': False}),\n",
       " Prediction(uid=102702, iid='0140019421', r_ui=7.827321584196766, est=9.906673908405313, details={'was_impossible': False}),\n",
       " Prediction(uid=102702, iid='0312283407', r_ui=7.827321584196766, est=9.575291829892748, details={'was_impossible': False}),\n",
       " Prediction(uid=102702, iid='038082082X', r_ui=7.827321584196766, est=9.827376979745658, details={'was_impossible': False}),\n",
       " Prediction(uid=102702, iid='1879958236', r_ui=7.827321584196766, est=9.464997786404256, details={'was_impossible': False}),\n",
       " Prediction(uid=102702, iid='0061093106', r_ui=7.827321584196766, est=9.44403872526971, details={'was_impossible': False}),\n",
       " Prediction(uid=102702, iid='0425167720', r_ui=7.827321584196766, est=9.41500099110447, details={'was_impossible': False}),\n",
       " Prediction(uid=102702, iid='039914563X', r_ui=7.827321584196766, est=9.506070790716644, details={'was_impossible': False}),\n",
       " Prediction(uid=102702, iid='0373260849', r_ui=7.827321584196766, est=9.353996603079722, details={'was_impossible': False}),\n",
       " Prediction(uid=102702, iid='0812516214', r_ui=7.827321584196766, est=9.733053556707617, details={'was_impossible': False}),\n",
       " Prediction(uid=102702, iid='0553266713', r_ui=7.827321584196766, est=9.488964519688505, details={'was_impossible': False}),\n",
       " Prediction(uid=102702, iid='0439216486', r_ui=7.827321584196766, est=9.729614330293511, details={'was_impossible': False}),\n",
       " Prediction(uid=102702, iid='0380804662', r_ui=7.827321584196766, est=9.633777317524682, details={'was_impossible': False}),\n",
       " Prediction(uid=102702, iid='0786867612', r_ui=7.827321584196766, est=9.619598347391944, details={'was_impossible': False}),\n",
       " Prediction(uid=102702, iid='0380724693', r_ui=7.827321584196766, est=9.689023833605463, details={'was_impossible': False}),\n",
       " Prediction(uid=102702, iid='034537472X', r_ui=7.827321584196766, est=9.617772458032203, details={'was_impossible': False}),\n",
       " Prediction(uid=102702, iid='0765304368', r_ui=7.827321584196766, est=9.65600809097744, details={'was_impossible': False}),\n",
       " Prediction(uid=102702, iid='0671871749', r_ui=7.827321584196766, est=9.647643298726035, details={'was_impossible': False}),\n",
       " Prediction(uid=102702, iid='031298281X', r_ui=7.827321584196766, est=9.529763668024936, details={'was_impossible': False}),\n",
       " Prediction(uid=102702, iid='0373105118', r_ui=7.827321584196766, est=9.539069720468763, details={'was_impossible': False}),\n",
       " Prediction(uid=102702, iid='0808576518', r_ui=7.827321584196766, est=9.645136121419334, details={'was_impossible': False}),\n",
       " Prediction(uid=102702, iid='0380717018', r_ui=7.827321584196766, est=9.661599479566448, details={'was_impossible': False}),\n",
       " Prediction(uid=102702, iid='1550130587', r_ui=7.827321584196766, est=9.459363966585666, details={'was_impossible': False}),\n",
       " Prediction(uid=102702, iid='0375759247', r_ui=7.827321584196766, est=9.422493847014092, details={'was_impossible': False}),\n",
       " Prediction(uid=102702, iid='0743237188', r_ui=7.827321584196766, est=9.707456320179238, details={'was_impossible': False}),\n",
       " Prediction(uid=102702, iid='0425172945', r_ui=7.827321584196766, est=9.483211659981677, details={'was_impossible': False}),\n",
       " Prediction(uid=102702, iid='0312307020', r_ui=7.827321584196766, est=9.322458624549734, details={'was_impossible': False}),\n",
       " Prediction(uid=102702, iid='0140268863', r_ui=7.827321584196766, est=9.95439669775749, details={'was_impossible': False}),\n",
       " Prediction(uid=102702, iid='0312301448', r_ui=7.827321584196766, est=9.769089286298401, details={'was_impossible': False}),\n",
       " Prediction(uid=102702, iid='0684810972', r_ui=7.827321584196766, est=9.627057574159615, details={'was_impossible': False}),\n",
       " Prediction(uid=102702, iid='0061096164', r_ui=7.827321584196766, est=9.868488624598418, details={'was_impossible': False}),\n",
       " Prediction(uid=102702, iid='0786889020', r_ui=7.827321584196766, est=9.102633494399281, details={'was_impossible': False}),\n",
       " Prediction(uid=102702, iid='0060166541', r_ui=7.827321584196766, est=9.742311088220367, details={'was_impossible': False}),\n",
       " Prediction(uid=102702, iid='0380811065', r_ui=7.827321584196766, est=9.963286312506689, details={'was_impossible': False}),\n",
       " Prediction(uid=102702, iid='0380779617', r_ui=7.827321584196766, est=9.696231591744743, details={'was_impossible': False}),\n",
       " Prediction(uid=102702, iid='0345427637', r_ui=7.827321584196766, est=8.849823240056027, details={'was_impossible': False}),\n",
       " Prediction(uid=102702, iid='0743244354', r_ui=7.827321584196766, est=9.618414501729887, details={'was_impossible': False}),\n",
       " Prediction(uid=102702, iid='0802063187', r_ui=7.827321584196766, est=9.315862171575448, details={'was_impossible': False}),\n",
       " Prediction(uid=102702, iid='0892832835', r_ui=7.827321584196766, est=9.494900715772076, details={'was_impossible': False}),\n",
       " Prediction(uid=102702, iid='0380762609', r_ui=7.827321584196766, est=9.344290237266508, details={'was_impossible': False}),\n",
       " Prediction(uid=102702, iid='0784208735', r_ui=7.827321584196766, est=9.640438681753153, details={'was_impossible': False}),\n",
       " Prediction(uid=102702, iid='0425130711', r_ui=7.827321584196766, est=9.556430731095919, details={'was_impossible': False}),\n",
       " Prediction(uid=102702, iid='0312104235', r_ui=7.827321584196766, est=9.846627505276693, details={'was_impossible': False}),\n",
       " Prediction(uid=102702, iid='034529520X', r_ui=7.827321584196766, est=9.290714131397921, details={'was_impossible': False}),\n",
       " Prediction(uid=102702, iid='0373250290', r_ui=7.827321584196766, est=9.376216133374847, details={'was_impossible': False}),\n",
       " Prediction(uid=102702, iid='042514755X', r_ui=7.827321584196766, est=9.464178284966914, details={'was_impossible': False}),\n",
       " Prediction(uid=102702, iid='0385333277', r_ui=7.827321584196766, est=9.379757158437808, details={'was_impossible': False}),\n",
       " Prediction(uid=102702, iid='0517706814', r_ui=7.827321584196766, est=9.69550986352206, details={'was_impossible': False}),\n",
       " Prediction(uid=102702, iid='0812568192', r_ui=7.827321584196766, est=9.422050579503857, details={'was_impossible': False}),\n",
       " Prediction(uid=102702, iid='0804106304', r_ui=7.827321584196766, est=10, details={'was_impossible': False}),\n",
       " Prediction(uid=102702, iid='0316107298', r_ui=7.827321584196766, est=9.889343837277691, details={'was_impossible': False}),\n",
       " Prediction(uid=102702, iid='0140622144', r_ui=7.827321584196766, est=9.116746330705103, details={'was_impossible': False}),\n",
       " Prediction(uid=102702, iid='074345779X', r_ui=7.827321584196766, est=9.552094886752093, details={'was_impossible': False}),\n",
       " Prediction(uid=102702, iid='044021596X', r_ui=7.827321584196766, est=9.5835690165345, details={'was_impossible': False}),\n",
       " Prediction(uid=102702, iid='0689710542', r_ui=7.827321584196766, est=9.71714357062585, details={'was_impossible': False}),\n",
       " Prediction(uid=102702, iid='0449007170', r_ui=7.827321584196766, est=9.418424118235338, details={'was_impossible': False}),\n",
       " Prediction(uid=102702, iid='031226609X', r_ui=7.827321584196766, est=9.615234603295107, details={'was_impossible': False}),\n",
       " Prediction(uid=102702, iid='999058284X', r_ui=7.827321584196766, est=9.671649344137052, details={'was_impossible': False}),\n",
       " Prediction(uid=102702, iid='0505523612', r_ui=7.827321584196766, est=9.004746153701634, details={'was_impossible': False}),\n",
       " Prediction(uid=102702, iid='0440227836', r_ui=7.827321584196766, est=9.808808395436328, details={'was_impossible': False}),\n",
       " Prediction(uid=102702, iid='0679734449', r_ui=7.827321584196766, est=9.342797734669388, details={'was_impossible': False}),\n",
       " Prediction(uid=102702, iid='0471178284', r_ui=7.827321584196766, est=9.541250316757097, details={'was_impossible': False}),\n",
       " Prediction(uid=102702, iid='075820230X', r_ui=7.827321584196766, est=10, details={'was_impossible': False}),\n",
       " Prediction(uid=102702, iid='0786890444', r_ui=7.827321584196766, est=9.429308938065807, details={'was_impossible': False}),\n",
       " Prediction(uid=102702, iid='1551662868', r_ui=7.827321584196766, est=9.562443713048228, details={'was_impossible': False}),\n",
       " Prediction(uid=102702, iid='0915678705', r_ui=7.827321584196766, est=9.761643253904507, details={'was_impossible': False}),\n",
       " Prediction(uid=102702, iid='0689312539', r_ui=7.827321584196766, est=9.554282929441987, details={'was_impossible': False}),\n",
       " Prediction(uid=102702, iid='0876143052', r_ui=7.827321584196766, est=9.475373775845322, details={'was_impossible': False}),\n",
       " Prediction(uid=102702, iid='0679867120', r_ui=7.827321584196766, est=9.775403933302162, details={'was_impossible': False}),\n",
       " Prediction(uid=102702, iid='0380785749', r_ui=7.827321584196766, est=9.52464563205485, details={'was_impossible': False}),\n",
       " Prediction(uid=102702, iid='0743460529', r_ui=7.827321584196766, est=8.881728950793754, details={'was_impossible': False}),\n",
       " Prediction(uid=102702, iid='0446364703', r_ui=7.827321584196766, est=9.161608996366125, details={'was_impossible': False}),\n",
       " Prediction(uid=102702, iid='0385492081', r_ui=7.827321584196766, est=10, details={'was_impossible': False}),\n",
       " Prediction(uid=102702, iid='3895082597', r_ui=7.827321584196766, est=9.446312836919141, details={'was_impossible': False}),\n",
       " Prediction(uid=102702, iid='0843104287', r_ui=7.827321584196766, est=9.389244617945524, details={'was_impossible': False}),\n",
       " Prediction(uid=102702, iid='0892960728', r_ui=7.827321584196766, est=9.71056868587877, details={'was_impossible': False}),\n",
       " Prediction(uid=102702, iid='0970335555', r_ui=7.827321584196766, est=9.25115250890054, details={'was_impossible': False}),\n",
       " Prediction(uid=102702, iid='0743445481', r_ui=7.827321584196766, est=9.57386593364532, details={'was_impossible': False}),\n",
       " Prediction(uid=102702, iid='0192813250', r_ui=7.827321584196766, est=9.811466560482303, details={'was_impossible': False}),\n",
       " Prediction(uid=102702, iid='0385240236', r_ui=7.827321584196766, est=9.557168343312552, details={'was_impossible': False}),\n",
       " Prediction(uid=102702, iid='0451206681', r_ui=7.827321584196766, est=9.500408194171746, details={'was_impossible': False}),\n",
       " Prediction(uid=102702, iid='0449907953', r_ui=7.827321584196766, est=9.423535692512198, details={'was_impossible': False}),\n",
       " Prediction(uid=102702, iid='0373037031', r_ui=7.827321584196766, est=9.241569279366685, details={'was_impossible': False}),\n",
       " Prediction(uid=102702, iid='0821222880', r_ui=7.827321584196766, est=9.488503436627449, details={'was_impossible': False}),\n",
       " Prediction(uid=102702, iid='0888940866', r_ui=7.827321584196766, est=9.560886962161605, details={'was_impossible': False}),\n",
       " Prediction(uid=102702, iid='0373708319', r_ui=7.827321584196766, est=9.531537791096191, details={'was_impossible': False}),\n",
       " Prediction(uid=102702, iid='0439136369', r_ui=7.827321584196766, est=10, details={'was_impossible': False}),\n",
       " Prediction(uid=102702, iid='1562822500', r_ui=7.827321584196766, est=9.543227754295156, details={'was_impossible': False}),\n",
       " Prediction(uid=102702, iid='038550926X', r_ui=7.827321584196766, est=9.270587094006874, details={'was_impossible': False}),\n",
       " Prediction(uid=102702, iid='0804802521', r_ui=7.827321584196766, est=9.421098665661685, details={'was_impossible': False}),\n",
       " Prediction(uid=102702, iid='0399147357', r_ui=7.827321584196766, est=9.679369867127598, details={'was_impossible': False}),\n",
       " Prediction(uid=102702, iid='0740722379', r_ui=7.827321584196766, est=9.618909846863382, details={'was_impossible': False}),\n",
       " Prediction(uid=102702, iid='0916211053', r_ui=7.827321584196766, est=9.377567272850404, details={'was_impossible': False}),\n",
       " Prediction(uid=102702, iid='1570613818', r_ui=7.827321584196766, est=9.384831743271592, details={'was_impossible': False}),\n",
       " Prediction(uid=102702, iid='0679772898', r_ui=7.827321584196766, est=9.571549883248045, details={'was_impossible': False}),\n",
       " Prediction(uid=102702, iid='0316107387', r_ui=7.827321584196766, est=9.99932385657619, details={'was_impossible': False}),\n",
       " Prediction(uid=102702, iid='0786707526', r_ui=7.827321584196766, est=9.505385171159729, details={'was_impossible': False}),\n",
       " Prediction(uid=102702, iid='0670030473', r_ui=7.827321584196766, est=9.162214038510061, details={'was_impossible': False}),\n",
       " Prediction(uid=102702, iid='0671039296', r_ui=7.827321584196766, est=9.108846120363664, details={'was_impossible': False}),\n",
       " Prediction(uid=102702, iid='0373243731', r_ui=7.827321584196766, est=9.558227814121025, details={'was_impossible': False}),\n",
       " Prediction(uid=102702, iid='0373291418', r_ui=7.827321584196766, est=9.75214050802806, details={'was_impossible': False}),\n",
       " Prediction(uid=102702, iid='0312978421', r_ui=7.827321584196766, est=9.651507752097027, details={'was_impossible': False}),\n",
       " Prediction(uid=102702, iid='0688166911', r_ui=7.827321584196766, est=9.53920912242405, details={'was_impossible': False}),\n",
       " Prediction(uid=102702, iid='0670032190', r_ui=7.827321584196766, est=9.678509658402927, details={'was_impossible': False}),\n",
       " Prediction(uid=102702, iid='1556709625', r_ui=7.827321584196766, est=9.535082514188522, details={'was_impossible': False}),\n",
       " Prediction(uid=102702, iid='0679762108', r_ui=7.827321584196766, est=9.54436977177094, details={'was_impossible': False}),\n",
       " Prediction(uid=102702, iid='0684841185', r_ui=7.827321584196766, est=9.666840932681714, details={'was_impossible': False}),\n",
       " Prediction(uid=102702, iid='0446527165', r_ui=7.827321584196766, est=9.676487057981978, details={'was_impossible': False}),\n",
       " Prediction(uid=102702, iid='0440121914', r_ui=7.827321584196766, est=9.461028574936295, details={'was_impossible': False}),\n",
       " Prediction(uid=102702, iid='0316782076', r_ui=7.827321584196766, est=9.646480303312822, details={'was_impossible': False}),\n",
       " Prediction(uid=102702, iid='0380780747', r_ui=7.827321584196766, est=9.63887977821838, details={'was_impossible': False}),\n",
       " Prediction(uid=102702, iid='0061092533', r_ui=7.827321584196766, est=9.788791071579352, details={'was_impossible': False}),\n",
       " Prediction(uid=102702, iid='0295956453', r_ui=7.827321584196766, est=9.684747704087163, details={'was_impossible': False}),\n",
       " Prediction(uid=102702, iid='0380818191', r_ui=7.827321584196766, est=9.78409684659974, details={'was_impossible': False}),\n",
       " Prediction(uid=102702, iid='038533558X', r_ui=7.827321584196766, est=9.973312537853868, details={'was_impossible': False}),\n",
       " Prediction(uid=102702, iid='0451410971', r_ui=7.827321584196766, est=9.489895955561746, details={'was_impossible': False}),\n",
       " Prediction(uid=102702, iid='0151006105', r_ui=7.827321584196766, est=9.54344367475959, details={'was_impossible': False}),\n",
       " Prediction(uid=102702, iid='0895867230', r_ui=7.827321584196766, est=9.529719924654781, details={'was_impossible': False}),\n",
       " Prediction(uid=102702, iid='0425188841', r_ui=7.827321584196766, est=9.489998123017415, details={'was_impossible': False}),\n",
       " Prediction(uid=102702, iid='0375753850', r_ui=7.827321584196766, est=9.67457132007162, details={'was_impossible': False}),\n",
       " Prediction(uid=102702, iid='1573225517', r_ui=7.827321584196766, est=9.968044738241556, details={'was_impossible': False}),\n",
       " Prediction(uid=102702, iid='0786225459', r_ui=7.827321584196766, est=9.825256752058687, details={'was_impossible': False}),\n",
       " Prediction(uid=102702, iid='0061091944', r_ui=7.827321584196766, est=9.903059693321294, details={'was_impossible': False}),\n",
       " Prediction(uid=102702, iid='0373520573', r_ui=7.827321584196766, est=9.5550120492028, details={'was_impossible': False}),\n",
       " Prediction(uid=102702, iid='0060507403', r_ui=7.827321584196766, est=9.603220463181902, details={'was_impossible': False}),\n",
       " Prediction(uid=102702, iid='0345342445', r_ui=7.827321584196766, est=9.732824132526451, details={'was_impossible': False}),\n",
       " Prediction(uid=102702, iid='087923881X', r_ui=7.827321584196766, est=9.54499890536066, details={'was_impossible': False}),\n",
       " Prediction(uid=102702, iid='1558746226', r_ui=7.827321584196766, est=9.769137654701433, details={'was_impossible': False}),\n",
       " Prediction(uid=102702, iid='0380792745', r_ui=7.827321584196766, est=9.849267533898132, details={'was_impossible': False}),\n",
       " Prediction(uid=102702, iid='0060964049', r_ui=7.827321584196766, est=9.69941972071844, details={'was_impossible': False}),\n",
       " Prediction(uid=102702, iid='0375703861', r_ui=7.827321584196766, est=9.188182190782795, details={'was_impossible': False}),\n",
       " Prediction(uid=102702, iid='0385425473', r_ui=7.827321584196766, est=9.327975888852876, details={'was_impossible': False}),\n",
       " Prediction(uid=102702, iid='0373288050', r_ui=7.827321584196766, est=9.325195662098837, details={'was_impossible': False}),\n",
       " Prediction(uid=102702, iid='0345388240', r_ui=7.827321584196766, est=9.712852594948492, details={'was_impossible': False}),\n",
       " Prediction(uid=102702, iid='0812585151', r_ui=7.827321584196766, est=9.065874122269696, details={'was_impossible': False}),\n",
       " Prediction(uid=102702, iid='3442355001', r_ui=7.827321584196766, est=9.502159380992568, details={'was_impossible': False}),\n",
       " Prediction(uid=102702, iid='0192823523', r_ui=7.827321584196766, est=9.65517900405315, details={'was_impossible': False}),\n",
       " Prediction(uid=102702, iid='0385335660', r_ui=7.827321584196766, est=9.607909390765931, details={'was_impossible': False}),\n",
       " Prediction(uid=102702, iid='037570485X', r_ui=7.827321584196766, est=9.774425863678115, details={'was_impossible': False}),\n",
       " Prediction(uid=102702, iid='0789446413', r_ui=7.827321584196766, est=9.493204241536883, details={'was_impossible': False}),\n",
       " Prediction(uid=102702, iid='1556590555', r_ui=7.827321584196766, est=9.436600567976129, details={'was_impossible': False}),\n",
       " Prediction(uid=102702, iid='0743245431', r_ui=7.827321584196766, est=9.499438271064621, details={'was_impossible': False}),\n",
       " Prediction(uid=102702, iid='0671868691', r_ui=7.827321584196766, est=9.681460630102912, details={'was_impossible': False}),\n",
       " Prediction(uid=102702, iid='0373707975', r_ui=7.827321584196766, est=9.34711688061924, details={'was_impossible': False}),\n",
       " Prediction(uid=102702, iid='0440998050', r_ui=7.827321584196766, est=10, details={'was_impossible': False}),\n",
       " Prediction(uid=102702, iid='0399143955', r_ui=7.827321584196766, est=9.454797225960414, details={'was_impossible': False}),\n",
       " Prediction(uid=102702, iid='0395137195', r_ui=7.827321584196766, est=9.568276356306832, details={'was_impossible': False}),\n",
       " Prediction(uid=102702, iid='0553378929', r_ui=7.827321584196766, est=9.723053817137915, details={'was_impossible': False}),\n",
       " Prediction(uid=102702, iid='0836217691', r_ui=7.827321584196766, est=10, details={'was_impossible': False}),\n",
       " Prediction(uid=102702, iid='1557982414', r_ui=7.827321584196766, est=9.581651125420699, details={'was_impossible': False}),\n",
       " Prediction(uid=102702, iid='0743418131', r_ui=7.827321584196766, est=9.425448263447091, details={'was_impossible': False}),\n",
       " Prediction(uid=102702, iid='0670853534', r_ui=7.827321584196766, est=9.412969235280826, details={'was_impossible': False}),\n",
       " Prediction(uid=102702, iid='037376443X', r_ui=7.827321584196766, est=9.724272404998041, details={'was_impossible': False}),\n",
       " Prediction(uid=102702, iid='0140234632', r_ui=7.827321584196766, est=9.655144026576258, details={'was_impossible': False}),\n",
       " Prediction(uid=102702, iid='0679844074', r_ui=7.827321584196766, est=9.4352826461047, details={'was_impossible': False}),\n",
       " Prediction(uid=102702, iid='0939680394', r_ui=7.827321584196766, est=9.56493059873098, details={'was_impossible': False}),\n",
       " Prediction(uid=102702, iid='0064473562', r_ui=7.827321584196766, est=9.507403910839667, details={'was_impossible': False}),\n",
       " Prediction(uid=102702, iid='0786703865', r_ui=7.827321584196766, est=9.584407740430041, details={'was_impossible': False}),\n",
       " Prediction(uid=102702, iid='1568655282', r_ui=7.827321584196766, est=9.95209363504308, details={'was_impossible': False}),\n",
       " Prediction(uid=102702, iid='0373765320', r_ui=7.827321584196766, est=9.39555314176885, details={'was_impossible': False}),\n",
       " Prediction(uid=102702, iid='0062505319', r_ui=7.827321584196766, est=9.724655447342192, details={'was_impossible': False}),\n",
       " Prediction(uid=102702, iid='0374522685', r_ui=7.827321584196766, est=9.381768643394064, details={'was_impossible': False}),\n",
       " Prediction(uid=102702, iid='3898500705', r_ui=7.827321584196766, est=9.54926815083893, details={'was_impossible': False}),\n",
       " Prediction(uid=102702, iid='0425173895', r_ui=7.827321584196766, est=9.187753342877874, details={'was_impossible': False}),\n",
       " Prediction(uid=102702, iid='8429711341', r_ui=7.827321584196766, est=9.217739850641047, details={'was_impossible': False}),\n",
       " Prediction(uid=102702, iid='0671662694', r_ui=7.827321584196766, est=9.602445634483635, details={'was_impossible': False}),\n",
       " Prediction(uid=102702, iid='0671779664', r_ui=7.827321584196766, est=9.360965214162771, details={'was_impossible': False}),\n",
       " Prediction(uid=102702, iid='0312860951', r_ui=7.827321584196766, est=9.360702568255368, details={'was_impossible': False}),\n",
       " Prediction(uid=102702, iid='0346125588', r_ui=7.827321584196766, est=9.429457913190559, details={'was_impossible': False}),\n",
       " Prediction(uid=102702, iid='0316096199', r_ui=7.827321584196766, est=10, details={'was_impossible': False}),\n",
       " Prediction(uid=102702, iid='0373122985', r_ui=7.827321584196766, est=9.691142743333929, details={'was_impossible': False}),\n",
       " Prediction(uid=102702, iid='061810450X', r_ui=7.827321584196766, est=9.292190334953519, details={'was_impossible': False}),\n",
       " Prediction(uid=102702, iid='0553573403', r_ui=7.827321584196766, est=10, details={'was_impossible': False}),\n",
       " Prediction(uid=102702, iid='0761994769', r_ui=7.827321584196766, est=9.592106820850331, details={'was_impossible': False}),\n",
       " Prediction(uid=102702, iid='0451137264', r_ui=7.827321584196766, est=9.525036714031026, details={'was_impossible': False}),\n",
       " Prediction(uid=102702, iid='0671874292', r_ui=7.827321584196766, est=9.601813424147574, details={'was_impossible': False}),\n",
       " Prediction(uid=102702, iid='0812043650', r_ui=7.827321584196766, est=9.678751545575466, details={'was_impossible': False}),\n",
       " Prediction(uid=102702, iid='0553213156', r_ui=7.827321584196766, est=9.900656276645796, details={'was_impossible': False}),\n",
       " Prediction(uid=102702, iid='0385315309', r_ui=7.827321584196766, est=9.538495587720961, details={'was_impossible': False}),\n",
       " Prediction(uid=102702, iid='044022165X', r_ui=7.827321584196766, est=8.58702888451578, details={'was_impossible': False}),\n",
       " Prediction(uid=102702, iid='0312303556', r_ui=7.827321584196766, est=9.426203770157768, details={'was_impossible': False}),\n",
       " Prediction(uid=102702, iid='0836218078', r_ui=7.827321584196766, est=9.59353458413002, details={'was_impossible': False}),\n",
       " Prediction(uid=102702, iid='0679204121', r_ui=7.827321584196766, est=9.735418166892437, details={'was_impossible': False}),\n",
       " Prediction(uid=102702, iid='0553582143', r_ui=7.827321584196766, est=9.582465247711005, details={'was_impossible': False}),\n",
       " Prediction(uid=102702, iid='0553571885', r_ui=7.827321584196766, est=9.750735234475037, details={'was_impossible': False}),\n",
       " Prediction(uid=102702, iid='0312909233', r_ui=7.827321584196766, est=9.228676374186985, details={'was_impossible': False}),\n",
       " Prediction(uid=102702, iid='0425108589', r_ui=7.827321584196766, est=9.726076164164512, details={'was_impossible': False}),\n",
       " Prediction(uid=102702, iid='0304327158', r_ui=7.827321584196766, est=9.261974102420856, details={'was_impossible': False}),\n",
       " Prediction(uid=102702, iid='053107174X', r_ui=7.827321584196766, est=9.689240340746117, details={'was_impossible': False}),\n",
       " Prediction(uid=102702, iid='0060241497', r_ui=7.827321584196766, est=9.489827535340094, details={'was_impossible': False}),\n",
       " Prediction(uid=102702, iid='0505525089', r_ui=7.827321584196766, est=9.663861279107028, details={'was_impossible': False}),\n",
       " Prediction(uid=102702, iid='1558534547', r_ui=7.827321584196766, est=9.477034699942488, details={'was_impossible': False}),\n",
       " Prediction(uid=102702, iid='0786881852', r_ui=7.827321584196766, est=9.439780270475135, details={'was_impossible': False}),\n",
       " Prediction(uid=102702, iid='0140039996', r_ui=7.827321584196766, est=9.625158375241002, details={'was_impossible': False}),\n",
       " Prediction(uid=102702, iid='0515132276', r_ui=7.827321584196766, est=9.753885564546456, details={'was_impossible': False}),\n",
       " Prediction(uid=102702, iid='0312079095', r_ui=7.827321584196766, est=9.578340016705909, details={'was_impossible': False}),\n",
       " Prediction(uid=102702, iid='067960023X', r_ui=7.827321584196766, est=9.525309765679848, details={'was_impossible': False}),\n",
       " Prediction(uid=102702, iid='0375727345', r_ui=7.827321584196766, est=9.1512380070032, details={'was_impossible': False}),\n",
       " Prediction(uid=102702, iid='1400031346', r_ui=7.827321584196766, est=10, details={'was_impossible': False}),\n",
       " Prediction(uid=102702, iid='0684857170', r_ui=7.827321584196766, est=9.590888038877642, details={'was_impossible': False}),\n",
       " Prediction(uid=102702, iid='0671027573', r_ui=7.827321584196766, est=10, details={'was_impossible': False}),\n",
       " Prediction(uid=102702, iid='0679420053', r_ui=7.827321584196766, est=9.191053292309427, details={'was_impossible': False}),\n",
       " Prediction(uid=102702, iid='0060274069', r_ui=7.827321584196766, est=9.992871491120674, details={'was_impossible': False}),\n",
       " Prediction(uid=102702, iid='0486228029', r_ui=7.827321584196766, est=9.70563676897807, details={'was_impossible': False}),\n",
       " Prediction(uid=102702, iid='1551668432', r_ui=7.827321584196766, est=9.407186248848555, details={'was_impossible': False}),\n",
       " Prediction(uid=102702, iid='0373708734', r_ui=7.827321584196766, est=9.771147421609601, details={'was_impossible': False}),\n",
       " Prediction(uid=102702, iid='037302553X', r_ui=7.827321584196766, est=9.201432061646457, details={'was_impossible': False}),\n",
       " Prediction(uid=102702, iid='0451203070', r_ui=7.827321584196766, est=10, details={'was_impossible': False}),\n",
       " Prediction(uid=102702, iid='0312306326', r_ui=7.827321584196766, est=9.478344114130667, details={'was_impossible': False}),\n",
       " Prediction(uid=102702, iid='0571198864', r_ui=7.827321584196766, est=9.735695010296839, details={'was_impossible': False}),\n",
       " Prediction(uid=102702, iid='0207186006', r_ui=7.827321584196766, est=9.601860929220747, details={'was_impossible': False}),\n",
       " Prediction(uid=102702, iid='0345370740', r_ui=7.827321584196766, est=9.168746710251343, details={'was_impossible': False}),\n",
       " Prediction(uid=102702, iid='037570504X', r_ui=7.827321584196766, est=9.328335073093568, details={'was_impossible': False}),\n",
       " Prediction(uid=102702, iid='1569713545', r_ui=7.827321584196766, est=9.656190755689623, details={'was_impossible': False}),\n",
       " Prediction(uid=102702, iid='0813009480', r_ui=7.827321584196766, est=9.625804466037197, details={'was_impossible': False}),\n",
       " Prediction(uid=102702, iid='0743233581', r_ui=7.827321584196766, est=9.887219475517576, details={'was_impossible': False}),\n",
       " Prediction(uid=102702, iid='0618164723', r_ui=7.827321584196766, est=9.314951982519418, details={'was_impossible': False}),\n",
       " Prediction(uid=102702, iid='069109750X', r_ui=7.827321584196766, est=9.301263962435222, details={'was_impossible': False}),\n",
       " Prediction(uid=102702, iid='0804111359', r_ui=7.827321584196766, est=9.066737688946166, details={'was_impossible': False}),\n",
       " Prediction(uid=102702, iid='0373076193', r_ui=7.827321584196766, est=9.533287356129344, details={'was_impossible': False}),\n",
       " Prediction(uid=102702, iid='0446609250', r_ui=7.827321584196766, est=9.425178705817, details={'was_impossible': False}),\n",
       " Prediction(uid=102702, iid='0062720465', r_ui=7.827321584196766, est=9.581015650448848, details={'was_impossible': False}),\n",
       " Prediction(uid=102702, iid='0316196614', r_ui=7.827321584196766, est=9.608961218995887, details={'was_impossible': False}),\n",
       " Prediction(uid=102702, iid='0880291230', r_ui=7.827321584196766, est=9.921507759569492, details={'was_impossible': False}),\n",
       " Prediction(uid=102702, iid='0888330987', r_ui=7.827321584196766, est=9.795071632830927, details={'was_impossible': False}),\n",
       " Prediction(uid=102702, iid='0451459474', r_ui=7.827321584196766, est=9.683419127653865, details={'was_impossible': False}),\n",
       " Prediction(uid=102702, iid='1890772062', r_ui=7.827321584196766, est=9.515745496603248, details={'was_impossible': False}),\n",
       " Prediction(uid=102702, iid='0375758755', r_ui=7.827321584196766, est=9.945419847864374, details={'was_impossible': False}),\n",
       " Prediction(uid=102702, iid='0312983867', r_ui=7.827321584196766, est=9.719212334288857, details={'was_impossible': False}),\n",
       " Prediction(uid=102702, iid='0156010658', r_ui=7.827321584196766, est=9.249637776812616, details={'was_impossible': False}),\n",
       " Prediction(uid=102702, iid='0375500510', r_ui=7.827321584196766, est=10, details={'was_impossible': False}),\n",
       " Prediction(uid=102702, iid='0883960095', r_ui=7.827321584196766, est=9.46839479606441, details={'was_impossible': False}),\n",
       " Prediction(uid=102702, iid='157322930X', r_ui=7.827321584196766, est=9.514040339909972, details={'was_impossible': False}),\n",
       " Prediction(uid=102702, iid='0814622054', r_ui=7.827321584196766, est=9.749586196128801, details={'was_impossible': False}),\n",
       " Prediction(uid=102702, iid='037376202X', r_ui=7.827321584196766, est=9.059607158766367, details={'was_impossible': False}),\n",
       " Prediction(uid=102702, iid='0061000280', r_ui=7.827321584196766, est=9.305790929022118, details={'was_impossible': False}),\n",
       " Prediction(uid=102702, iid='0843944498', r_ui=7.827321584196766, est=9.408038653292193, details={'was_impossible': False}),\n",
       " Prediction(uid=102702, iid='0192839659', r_ui=7.827321584196766, est=9.600995287373774, details={'was_impossible': False}),\n",
       " Prediction(uid=102702, iid='0060194979', r_ui=7.827321584196766, est=9.456832874399293, details={'was_impossible': False}),\n",
       " Prediction(uid=102702, iid='0380718839', r_ui=7.827321584196766, est=9.36181048275843, details={'was_impossible': False}),\n",
       " Prediction(uid=102702, iid='0345417623', r_ui=7.827321584196766, est=9.688877466156084, details={'was_impossible': False}),\n",
       " Prediction(uid=102702, iid='0345383273', r_ui=7.827321584196766, est=9.65258702630056, details={'was_impossible': False}),\n",
       " Prediction(uid=102702, iid='0671528823', r_ui=7.827321584196766, est=9.22902904907563, details={'was_impossible': False}),\n",
       " Prediction(uid=102702, iid='0802131786', r_ui=7.827321584196766, est=9.70823138912374, details={'was_impossible': False}),\n",
       " Prediction(uid=102702, iid='1575667290', r_ui=7.827321584196766, est=9.556065198581974, details={'was_impossible': False}),\n",
       " Prediction(uid=102702, iid='0312965788', r_ui=7.827321584196766, est=9.609320955655843, details={'was_impossible': False}),\n",
       " Prediction(uid=102702, iid='089587217X', r_ui=7.827321584196766, est=9.613087170824047, details={'was_impossible': False}),\n",
       " Prediction(uid=102702, iid='0674298748', r_ui=7.827321584196766, est=8.839102062399483, details={'was_impossible': False}),\n",
       " Prediction(uid=102702, iid='0449217205', r_ui=7.827321584196766, est=9.415727923277881, details={'was_impossible': False}),\n",
       " Prediction(uid=102702, iid='0345392825', r_ui=7.827321584196766, est=9.758152792365523, details={'was_impossible': False}),\n",
       " Prediction(uid=102702, iid='0886773792', r_ui=7.827321584196766, est=9.629772090638985, details={'was_impossible': False}),\n",
       " Prediction(uid=102702, iid='0373825137', r_ui=7.827321584196766, est=9.465863810037199, details={'was_impossible': False}),\n",
       " Prediction(uid=102702, iid='0679752501', r_ui=7.827321584196766, est=9.486647980366778, details={'was_impossible': False}),\n",
       " Prediction(uid=102702, iid='0380812029', r_ui=7.827321584196766, est=9.580456890246014, details={'was_impossible': False}),\n",
       " Prediction(uid=102702, iid='0373078447', r_ui=7.827321584196766, est=9.664479597196811, details={'was_impossible': False}),\n",
       " Prediction(uid=102702, iid='0967303508', r_ui=7.827321584196766, est=9.663542019274722, details={'was_impossible': False}),\n",
       " Prediction(uid=102702, iid='0883016427', r_ui=7.827321584196766, est=9.520633107082897, details={'was_impossible': False}),\n",
       " Prediction(uid=102702, iid='0440200563', r_ui=7.827321584196766, est=9.140491885510023, details={'was_impossible': False}),\n",
       " Prediction(uid=102702, iid='0486250237', r_ui=7.827321584196766, est=9.814785467808452, details={'was_impossible': False}),\n",
       " Prediction(uid=102702, iid='0446672211', r_ui=7.827321584196766, est=10, details={'was_impossible': False}),\n",
       " Prediction(uid=102702, iid='0449003795', r_ui=7.827321584196766, est=9.65068879936997, details={'was_impossible': False}),\n",
       " Prediction(uid=102702, iid='0345413903', r_ui=7.827321584196766, est=9.734069023084206, details={'was_impossible': False}),\n",
       " Prediction(uid=102702, iid='0312301863', r_ui=7.827321584196766, est=9.54746544758527, details={'was_impossible': False}),\n",
       " Prediction(uid=102702, iid='042516313X', r_ui=7.827321584196766, est=9.22959380911103, details={'was_impossible': False}),\n",
       " Prediction(uid=102702, iid='067157812X', r_ui=7.827321584196766, est=9.728098685780292, details={'was_impossible': False}),\n",
       " Prediction(uid=102702, iid='1590071476', r_ui=7.827321584196766, est=9.60170099001118, details={'was_impossible': False}),\n",
       " Prediction(uid=102702, iid='0688094880', r_ui=7.827321584196766, est=9.249950555113205, details={'was_impossible': False}),\n",
       " Prediction(uid=102702, iid='1582432678', r_ui=7.827321584196766, est=9.551510247871082, details={'was_impossible': False}),\n",
       " Prediction(uid=102702, iid='0821769367', r_ui=7.827321584196766, est=9.071364515567181, details={'was_impossible': False}),\n",
       " Prediction(uid=102702, iid='0747250618', r_ui=7.827321584196766, est=9.597394353505731, details={'was_impossible': False}),\n",
       " Prediction(uid=102702, iid='0942257251', r_ui=7.827321584196766, est=9.143822160828265, details={'was_impossible': False}),\n",
       " Prediction(uid=102702, iid='0590455834', r_ui=7.827321584196766, est=9.715572150711798, details={'was_impossible': False}),\n",
       " Prediction(uid=102702, iid='0671028383', r_ui=7.827321584196766, est=9.528242698692761, details={'was_impossible': False}),\n",
       " Prediction(uid=102702, iid='0060931418', r_ui=7.827321584196766, est=9.612244126713033, details={'was_impossible': False}),\n",
       " Prediction(uid=102702, iid='0618068872', r_ui=7.827321584196766, est=9.38296580296197, details={'was_impossible': False}),\n",
       " Prediction(uid=102702, iid='0486263959', r_ui=7.827321584196766, est=9.663163312089505, details={'was_impossible': False}),\n",
       " Prediction(uid=102702, iid='0064405036', r_ui=7.827321584196766, est=10, details={'was_impossible': False}),\n",
       " Prediction(uid=102702, iid='0373790066', r_ui=7.827321584196766, est=9.788301581095176, details={'was_impossible': False}),\n",
       " Prediction(uid=102702, iid='0786252332', r_ui=7.827321584196766, est=9.627793070072437, details={'was_impossible': False}),\n",
       " Prediction(uid=102702, iid='055357857X', r_ui=7.827321584196766, est=9.438189278185716, details={'was_impossible': False}),\n",
       " Prediction(uid=102702, iid='0441011594', r_ui=7.827321584196766, est=9.61319732804321, details={'was_impossible': False}),\n",
       " Prediction(uid=102702, iid='0743467434', r_ui=7.827321584196766, est=9.537523084821048, details={'was_impossible': False}),\n",
       " Prediction(uid=102702, iid='0670837652', r_ui=7.827321584196766, est=9.523863863800356, details={'was_impossible': False}),\n",
       " Prediction(uid=102702, iid='0451119088', r_ui=7.827321584196766, est=9.65750956903323, details={'was_impossible': False}),\n",
       " Prediction(uid=102702, iid='156326160X', r_ui=7.827321584196766, est=9.523097953547655, details={'was_impossible': False}),\n",
       " Prediction(uid=102702, iid='0375411992', r_ui=7.827321584196766, est=9.880922522090788, details={'was_impossible': False}),\n",
       " Prediction(uid=102702, iid='0399141456', r_ui=7.827321584196766, est=9.329245186704393, details={'was_impossible': False}),\n",
       " Prediction(uid=102702, iid='0316578398', r_ui=7.827321584196766, est=9.625984308091418, details={'was_impossible': False}),\n",
       " Prediction(uid=102702, iid='155583714X', r_ui=7.827321584196766, est=9.499500344412025, details={'was_impossible': False}),\n",
       " Prediction(uid=102702, iid='0451165209', r_ui=7.827321584196766, est=9.59401034380126, details={'was_impossible': False}),\n",
       " Prediction(uid=102702, iid='0312926456', r_ui=7.827321584196766, est=9.558069545487431, details={'was_impossible': False}),\n",
       " Prediction(uid=102702, iid='0373271239', r_ui=7.827321584196766, est=9.089165199120925, details={'was_impossible': False}),\n",
       " Prediction(uid=102702, iid='1852238690', r_ui=7.827321584196766, est=9.491781143371487, details={'was_impossible': False}),\n",
       " Prediction(uid=102702, iid='0451521498', r_ui=7.827321584196766, est=9.660957029919981, details={'was_impossible': False}),\n",
       " Prediction(uid=102702, iid='0684187116', r_ui=7.827321584196766, est=9.409022089743749, details={'was_impossible': False}),\n",
       " Prediction(uid=102702, iid='2070419878', r_ui=7.827321584196766, est=9.589896060002523, details={'was_impossible': False}),\n",
       " Prediction(uid=102702, iid='0030583497', r_ui=7.827321584196766, est=9.439990730090495, details={'was_impossible': False}),\n",
       " Prediction(uid=102702, iid='0553210793', r_ui=7.827321584196766, est=9.582498171265051, details={'was_impossible': False}),\n",
       " Prediction(uid=102702, iid='2253150711', r_ui=7.827321584196766, est=9.592372612783578, details={'was_impossible': False}),\n",
       " Prediction(uid=102702, iid='0307126862', r_ui=7.827321584196766, est=9.686802510156435, details={'was_impossible': False}),\n",
       " Prediction(uid=102702, iid='0140150412', r_ui=7.827321584196766, est=9.995221852920995, details={'was_impossible': False}),\n",
       " Prediction(uid=102702, iid='0671722131', r_ui=7.827321584196766, est=9.480368512921853, details={'was_impossible': False}),\n",
       " Prediction(uid=102702, iid='0345300998', r_ui=7.827321584196766, est=9.482739559472213, details={'was_impossible': False}),\n",
       " Prediction(uid=102702, iid='014016930X', r_ui=7.827321584196766, est=9.69342444401649, details={'was_impossible': False}),\n",
       " Prediction(uid=102702, iid='0393311112', r_ui=7.827321584196766, est=9.621634850277244, details={'was_impossible': False}),\n",
       " Prediction(uid=102702, iid='0446342777', r_ui=7.827321584196766, est=9.54966840100707, details={'was_impossible': False}),\n",
       " Prediction(uid=102702, iid='0920303331', r_ui=7.827321584196766, est=9.563424793450784, details={'was_impossible': False}),\n",
       " Prediction(uid=102702, iid='0380805693', r_ui=7.827321584196766, est=9.454692498821423, details={'was_impossible': False}),\n",
       " Prediction(uid=102702, iid='0878574581', r_ui=7.827321584196766, est=9.527982511757205, details={'was_impossible': False}),\n",
       " Prediction(uid=102702, iid='0307128423', r_ui=7.827321584196766, est=9.837591934841056, details={'was_impossible': False}),\n",
       " Prediction(uid=102702, iid='0312420641', r_ui=7.827321584196766, est=9.7661694956448, details={'was_impossible': False}),\n",
       " Prediction(uid=102702, iid='0345413989', r_ui=7.827321584196766, est=9.717985260111588, details={'was_impossible': False}),\n",
       " Prediction(uid=102702, iid='0345432479', r_ui=7.827321584196766, est=9.450538764165698, details={'was_impossible': False}),\n",
       " Prediction(uid=102702, iid='0440918642', r_ui=7.827321584196766, est=9.43545638846851, details={'was_impossible': False}),\n",
       " Prediction(uid=102702, iid='0030624142', r_ui=7.827321584196766, est=9.53301083442919, details={'was_impossible': False}),\n",
       " Prediction(uid=102702, iid='0141439750', r_ui=7.827321584196766, est=9.831094123560868, details={'was_impossible': False}),\n",
       " Prediction(uid=102702, iid='0060176083', r_ui=7.827321584196766, est=9.358802360709705, details={'was_impossible': False}),\n",
       " Prediction(uid=102702, iid='0440236940', r_ui=7.827321584196766, est=9.506886151054308, details={'was_impossible': False}),\n",
       " Prediction(uid=102702, iid='1856951677', r_ui=7.827321584196766, est=9.580159793513339, details={'was_impossible': False}),\n",
       " Prediction(uid=102702, iid='0874067359', r_ui=7.827321584196766, est=9.457581774015926, details={'was_impossible': False}),\n",
       " Prediction(uid=102702, iid='1852307218', r_ui=7.827321584196766, est=9.677778866953172, details={'was_impossible': False}),\n",
       " Prediction(uid=102702, iid='1558170960', r_ui=7.827321584196766, est=9.158171571525928, details={'was_impossible': False}),\n",
       " Prediction(uid=102702, iid='0141000198', r_ui=7.827321584196766, est=8.884790736938076, details={'was_impossible': False}),\n",
       " Prediction(uid=102702, iid='019283357X', r_ui=7.827321584196766, est=9.60121387888608, details={'was_impossible': False}),\n",
       " Prediction(uid=102702, iid='0671774832', r_ui=7.827321584196766, est=9.786777767624129, details={'was_impossible': False}),\n",
       " Prediction(uid=102702, iid='0380769336', r_ui=7.827321584196766, est=9.58952303946273, details={'was_impossible': False}),\n",
       " Prediction(uid=102702, iid='0141439564', r_ui=7.827321584196766, est=9.530291645922501, details={'was_impossible': False}),\n",
       " Prediction(uid=102702, iid='0671439162', r_ui=7.827321584196766, est=9.516772973861643, details={'was_impossible': False}),\n",
       " Prediction(uid=102702, iid='0803710992', r_ui=7.827321584196766, est=9.70180612826401, details={'was_impossible': False}),\n",
       " Prediction(uid=102702, iid='0451192168', r_ui=7.827321584196766, est=9.614179571020488, details={'was_impossible': False}),\n",
       " Prediction(uid=102702, iid='0425190641', r_ui=7.827321584196766, est=9.833744172322108, details={'was_impossible': False}),\n",
       " Prediction(uid=102702, iid='0804110867', r_ui=7.827321584196766, est=9.523180179944305, details={'was_impossible': False}),\n",
       " Prediction(uid=102702, iid='0921912978', r_ui=7.827321584196766, est=9.566298009193545, details={'was_impossible': False}),\n",
       " Prediction(uid=102702, iid='0140115854', r_ui=7.827321584196766, est=9.730068440653447, details={'was_impossible': False}),\n",
       " Prediction(uid=102702, iid='0452262143', r_ui=7.827321584196766, est=9.19964865595752, details={'was_impossible': False}),\n",
       " Prediction(uid=102702, iid='0446523402', r_ui=7.827321584196766, est=9.745378405206525, details={'was_impossible': False}),\n",
       " Prediction(uid=102702, iid='0345339711', r_ui=7.827321584196766, est=9.793223765339517, details={'was_impossible': False}),\n",
       " Prediction(uid=102702, iid='0375805524', r_ui=7.827321584196766, est=9.770667952100766, details={'was_impossible': False}),\n",
       " Prediction(uid=102702, iid='0553445383', r_ui=7.827321584196766, est=9.604503991796294, details={'was_impossible': False}),\n",
       " Prediction(uid=102702, iid='0668064153', r_ui=7.827321584196766, est=9.400038463030253, details={'was_impossible': False}),\n",
       " Prediction(uid=102702, iid='0679735291', r_ui=7.827321584196766, est=9.75749445774916, details={'was_impossible': False}),\n",
       " Prediction(uid=102702, iid='0300048599', r_ui=7.827321584196766, est=9.501192359731787, details={'was_impossible': False}),\n",
       " Prediction(uid=102702, iid='0061087114', r_ui=7.827321584196766, est=9.823177185177762, details={'was_impossible': False}),\n",
       " Prediction(uid=102702, iid='0891760377', r_ui=7.827321584196766, est=9.665890078820903, details={'was_impossible': False}),\n",
       " Prediction(uid=102702, iid='0140035745', r_ui=7.827321584196766, est=9.923759817521482, details={'was_impossible': False}),\n",
       " Prediction(uid=102702, iid='0836220889', r_ui=7.827321584196766, est=10, details={'was_impossible': False}),\n",
       " Prediction(uid=102702, iid='0375757880', r_ui=7.827321584196766, est=9.690119752514114, details={'was_impossible': False}),\n",
       " Prediction(uid=102702, iid='0375706771', r_ui=7.827321584196766, est=9.918042869615855, details={'was_impossible': False}),\n",
       " Prediction(uid=102702, iid='0142001430', r_ui=7.827321584196766, est=10, details={'was_impossible': False}),\n",
       " Prediction(uid=102702, iid='0373872100', r_ui=7.827321584196766, est=9.577255163312275, details={'was_impossible': False}),\n",
       " Prediction(uid=102702, iid='1551667142', r_ui=7.827321584196766, est=9.741358130295312, details={'was_impossible': False}),\n",
       " Prediction(uid=102702, iid='0393319296', r_ui=7.827321584196766, est=8.974305915794023, details={'was_impossible': False}),\n",
       " Prediction(uid=102702, iid='2253051209', r_ui=7.827321584196766, est=9.760786126224128, details={'was_impossible': False}),\n",
       " Prediction(uid=102702, iid='0385476469', r_ui=7.827321584196766, est=9.49622659205031, details={'was_impossible': False}),\n",
       " Prediction(uid=102702, iid='2070335550', r_ui=7.827321584196766, est=9.739280428278335, details={'was_impossible': False}),\n",
       " Prediction(uid=102702, iid='0375700366', r_ui=7.827321584196766, est=9.531363597932511, details={'was_impossible': False}),\n",
       " Prediction(uid=102702, iid='0440224624', r_ui=7.827321584196766, est=9.6277549280312, details={'was_impossible': False}),\n",
       " Prediction(uid=102702, iid='0316969443', r_ui=7.827321584196766, est=9.406716759106656, details={'was_impossible': False}),\n",
       " Prediction(uid=102702, iid='0525947647', r_ui=7.827321584196766, est=10, details={'was_impossible': False}),\n",
       " Prediction(uid=102702, iid='0425176487', r_ui=7.827321584196766, est=9.526296999908352, details={'was_impossible': False}),\n",
       " Prediction(uid=102702, iid='0864424655', r_ui=7.827321584196766, est=9.815854507097606, details={'was_impossible': False}),\n",
       " Prediction(uid=102702, iid='038082079X', r_ui=7.827321584196766, est=9.737510071053292, details={'was_impossible': False}),\n",
       " Prediction(uid=102702, iid='0316513881', r_ui=7.827321584196766, est=9.647684172895278, details={'was_impossible': False}),\n",
       " Prediction(uid=102702, iid='0441001823', r_ui=7.827321584196766, est=9.520424325227246, details={'was_impossible': False}),\n",
       " Prediction(uid=102702, iid='0394829085', r_ui=7.827321584196766, est=9.779004165845206, details={'was_impossible': False}),\n",
       " Prediction(uid=102702, iid='0192834452', r_ui=7.827321584196766, est=9.640972201919347, details={'was_impossible': False}),\n",
       " Prediction(uid=102702, iid='342661362X', r_ui=7.827321584196766, est=9.337210992971706, details={'was_impossible': False}),\n",
       " Prediction(uid=102702, iid='0440241189', r_ui=7.827321584196766, est=9.483403751531569, details={'was_impossible': False}),\n",
       " Prediction(uid=102702, iid='0380800810', r_ui=7.827321584196766, est=9.77122547717465, details={'was_impossible': False}),\n",
       " Prediction(uid=102702, iid='0061013412', r_ui=7.827321584196766, est=9.673844580179583, details={'was_impossible': False}),\n",
       " Prediction(uid=102702, iid='0061091790', r_ui=7.827321584196766, est=9.432495945717362, details={'was_impossible': False}),\n",
       " Prediction(uid=102702, iid='0373099967', r_ui=7.827321584196766, est=9.680039255583276, details={'was_impossible': False}),\n",
       " Prediction(uid=102702, iid='0373168810', r_ui=7.827321584196766, est=9.48332997546487, details={'was_impossible': False}),\n",
       " Prediction(uid=102702, iid='0743205596', r_ui=7.827321584196766, est=9.631183855870121, details={'was_impossible': False}),\n",
       " Prediction(uid=102702, iid='0688163769', r_ui=7.827321584196766, est=9.749573513012466, details={'was_impossible': False}),\n",
       " Prediction(uid=102702, iid='037550186X', r_ui=7.827321584196766, est=9.601120216810346, details={'was_impossible': False}),\n",
       " Prediction(uid=102702, iid='074342798X', r_ui=7.827321584196766, est=9.815190993716392, details={'was_impossible': False}),\n",
       " Prediction(uid=102702, iid='0515134503', r_ui=7.827321584196766, est=9.520741354694348, details={'was_impossible': False}),\n",
       " Prediction(uid=102702, iid='0460861360', r_ui=7.827321584196766, est=9.376640880562368, details={'was_impossible': False}),\n",
       " Prediction(uid=102702, iid='0831727527', r_ui=7.827321584196766, est=9.291261789099305, details={'was_impossible': False}),\n",
       " Prediction(uid=102702, iid='0440115922', r_ui=7.827321584196766, est=9.707044228145987, details={'was_impossible': False}),\n",
       " Prediction(uid=102702, iid='0894803204', r_ui=7.827321584196766, est=10, details={'was_impossible': False}),\n",
       " Prediction(uid=102702, iid='0441006108', r_ui=7.827321584196766, est=9.349412596625154, details={'was_impossible': False}),\n",
       " Prediction(uid=102702, iid='0345356454', r_ui=7.827321584196766, est=9.36052281349849, details={'was_impossible': False}),\n",
       " Prediction(uid=102702, iid='037570745X', r_ui=7.827321584196766, est=9.342958420834856, details={'was_impossible': False}),\n",
       " Prediction(uid=102702, iid='0380767619', r_ui=7.827321584196766, est=9.5425343217983, details={'was_impossible': False}),\n",
       " Prediction(uid=102702, iid='1572151951', r_ui=7.827321584196766, est=9.52605360356011, details={'was_impossible': False}),\n",
       " Prediction(uid=102702, iid='0871136090', r_ui=7.827321584196766, est=9.46401797685238, details={'was_impossible': False}),\n",
       " Prediction(uid=102702, iid='0446381934', r_ui=7.827321584196766, est=9.558117596619569, details={'was_impossible': False}),\n",
       " Prediction(uid=102702, iid='014029628X', r_ui=7.827321584196766, est=9.782748827931801, details={'was_impossible': False}),\n",
       " Prediction(uid=102702, iid='0393307611', r_ui=7.827321584196766, est=9.802518296383608, details={'was_impossible': False}),\n",
       " Prediction(uid=102702, iid='225314911X', r_ui=7.827321584196766, est=9.558871768944261, details={'was_impossible': False}),\n",
       " Prediction(uid=102702, iid='0395927218', r_ui=7.827321584196766, est=9.823166274894131, details={'was_impossible': False}),\n",
       " Prediction(uid=102702, iid='1890862290', r_ui=7.827321584196766, est=9.252746931194698, details={'was_impossible': False}),\n",
       " Prediction(uid=102702, iid='0380703378', r_ui=7.827321584196766, est=9.531518901985907, details={'was_impossible': False}),\n",
       " Prediction(uid=102702, iid='0310228980', r_ui=7.827321584196766, est=9.035437978801372, details={'was_impossible': False}),\n",
       " Prediction(uid=102702, iid='0785765263', r_ui=7.827321584196766, est=9.468704594324919, details={'was_impossible': False}),\n",
       " Prediction(uid=102702, iid='0786861320', r_ui=7.827321584196766, est=9.38028570339674, details={'was_impossible': False}),\n",
       " Prediction(uid=102702, iid='0374111197', r_ui=7.827321584196766, est=9.35657270184729, details={'was_impossible': False}),\n",
       " Prediction(uid=102702, iid='0886773245', r_ui=7.827321584196766, est=9.596125759868087, details={'was_impossible': False}),\n",
       " Prediction(uid=102702, iid='0758201621', r_ui=7.827321584196766, est=9.62714749310769, details={'was_impossible': False}),\n",
       " Prediction(uid=102702, iid='0380725584', r_ui=7.827321584196766, est=9.815934580940672, details={'was_impossible': False}),\n",
       " Prediction(uid=102702, iid='0553583395', r_ui=7.827321584196766, est=10, details={'was_impossible': False}),\n",
       " Prediction(uid=102702, iid='0446359866', r_ui=7.827321584196766, est=9.347116727606467, details={'was_impossible': False}),\n",
       " Prediction(uid=102702, iid='0836217357', r_ui=7.827321584196766, est=10, details={'was_impossible': False}),\n",
       " Prediction(uid=102702, iid='0385260083', r_ui=7.827321584196766, est=10, details={'was_impossible': False}),\n",
       " Prediction(uid=102702, iid='0345370619', r_ui=7.827321584196766, est=9.509535108132496, details={'was_impossible': False}),\n",
       " Prediction(uid=102702, iid='0805210601', r_ui=7.827321584196766, est=9.657821921772207, details={'was_impossible': False}),\n",
       " Prediction(uid=102702, iid='006053821X', r_ui=7.827321584196766, est=9.568506089887405, details={'was_impossible': False}),\n",
       " Prediction(uid=102702, iid='0316883476', r_ui=7.827321584196766, est=9.750869060603007, details={'was_impossible': False}),\n",
       " Prediction(uid=102702, iid='0380820560', r_ui=7.827321584196766, est=9.520907115157343, details={'was_impossible': False}),\n",
       " Prediction(uid=102702, iid='3729605437', r_ui=7.827321584196766, est=9.504887497781091, details={'was_impossible': False}),\n",
       " Prediction(uid=102702, iid='0879972882', r_ui=7.827321584196766, est=9.62223734077118, details={'was_impossible': False}),\n",
       " Prediction(uid=102702, iid='1889853038', r_ui=7.827321584196766, est=9.509048886888955, details={'was_impossible': False}),\n",
       " Prediction(uid=102702, iid='0060543949', r_ui=7.827321584196766, est=9.778652045457495, details={'was_impossible': False}),\n",
       " Prediction(uid=102702, iid='0553268449', r_ui=7.827321584196766, est=9.692683610303705, details={'was_impossible': False}),\n",
       " Prediction(uid=102702, iid='0385507607', r_ui=7.827321584196766, est=9.602913992644595, details={'was_impossible': False}),\n",
       " Prediction(uid=102702, iid='8423309177', r_ui=7.827321584196766, est=9.400687695554597, details={'was_impossible': False}),\n",
       " Prediction(uid=102702, iid='0553259423', r_ui=7.827321584196766, est=9.303869371570611, details={'was_impossible': False}),\n",
       " Prediction(uid=102702, iid='0380898624', r_ui=7.827321584196766, est=9.432212311256466, details={'was_impossible': False}),\n",
       " Prediction(uid=102702, iid='0805032576', r_ui=7.827321584196766, est=9.721285663843538, details={'was_impossible': False}),\n",
       " Prediction(uid=102702, iid='0385304900', r_ui=7.827321584196766, est=9.684903639308573, details={'was_impossible': False}),\n",
       " Prediction(uid=102702, iid='0786708239', r_ui=7.827321584196766, est=9.436826284496801, details={'was_impossible': False}),\n",
       " Prediction(uid=102702, iid='0843951036', r_ui=7.827321584196766, est=9.381457926258802, details={'was_impossible': False}),\n",
       " Prediction(uid=102702, iid='015600710X', r_ui=7.827321584196766, est=9.67124770417552, details={'was_impossible': False}),\n",
       " Prediction(uid=102702, iid='0385337132', r_ui=7.827321584196766, est=9.399066770778141, details={'was_impossible': False}),\n",
       " Prediction(uid=102702, iid='0812967216', r_ui=7.827321584196766, est=9.590271950964489, details={'was_impossible': False}),\n",
       " Prediction(uid=102702, iid='0553089285', r_ui=7.827321584196766, est=9.788019824130973, details={'was_impossible': False}),\n",
       " Prediction(uid=102702, iid='0812575482', r_ui=7.827321584196766, est=9.372238322224323, details={'was_impossible': False}),\n",
       " Prediction(uid=102702, iid='0440236061', r_ui=7.827321584196766, est=9.35806452248329, details={'was_impossible': False}),\n",
       " Prediction(uid=102702, iid='0380714981', r_ui=7.827321584196766, est=9.495996471280531, details={'was_impossible': False}),\n",
       " Prediction(uid=102702, iid='3453147596', r_ui=7.827321584196766, est=9.175704522674245, details={'was_impossible': False}),\n",
       " Prediction(uid=102702, iid='193264542X', r_ui=7.827321584196766, est=9.514568726498135, details={'was_impossible': False}),\n",
       " Prediction(uid=102702, iid='0380769379', r_ui=7.827321584196766, est=9.753805768331837, details={'was_impossible': False}),\n",
       " Prediction(uid=102702, iid='0312955731', r_ui=7.827321584196766, est=9.227064090951782, details={'was_impossible': False}),\n",
       " Prediction(uid=102702, iid='0553560700', r_ui=7.827321584196766, est=9.439462914168619, details={'was_impossible': False}),\n",
       " Prediction(uid=102702, iid='0850662176', r_ui=7.827321584196766, est=9.578920210911525, details={'was_impossible': False}),\n",
       " Prediction(uid=102702, iid='0451524934', r_ui=7.827321584196766, est=10, details={'was_impossible': False}),\n",
       " Prediction(uid=102702, iid='1561380229', r_ui=7.827321584196766, est=9.950521488936216, details={'was_impossible': False}),\n",
       " Prediction(uid=102702, iid='0450501000', r_ui=7.827321584196766, est=9.548397753662151, details={'was_impossible': False}),\n",
       " Prediction(uid=102702, iid='068812299X', r_ui=7.827321584196766, est=9.387261303917567, details={'was_impossible': False}),\n",
       " Prediction(uid=102702, iid='0399149260', r_ui=7.827321584196766, est=9.65902542931673, details={'was_impossible': False}),\n",
       " Prediction(uid=102702, iid='0152001182', r_ui=7.827321584196766, est=10, details={'was_impossible': False}),\n",
       " Prediction(uid=102702, iid='0345316002', r_ui=7.827321584196766, est=9.449214703653205, details={'was_impossible': False}),\n",
       " Prediction(uid=102702, iid='0373114508', r_ui=7.827321584196766, est=9.274338109509603, details={'was_impossible': False}),\n",
       " Prediction(uid=102702, iid='078670585X', r_ui=7.827321584196766, est=9.580505445747923, details={'was_impossible': False}),\n",
       " Prediction(uid=102702, iid='0846660563', r_ui=7.827321584196766, est=9.778524461865407, details={'was_impossible': False}),\n",
       " Prediction(uid=102702, iid='0684872153', r_ui=7.827321584196766, est=10, details={'was_impossible': False}),\n",
       " Prediction(uid=102702, iid='1883013062', r_ui=7.827321584196766, est=9.538519156659595, details={'was_impossible': False}),\n",
       " Prediction(uid=102702, iid='0743466497', r_ui=7.827321584196766, est=9.68589986231568, details={'was_impossible': False}),\n",
       " Prediction(uid=102702, iid='0393040143', r_ui=7.827321584196766, est=9.498581300541368, details={'was_impossible': False}),\n",
       " Prediction(uid=102702, iid='038077836X', r_ui=7.827321584196766, est=9.616224864434654, details={'was_impossible': False}),\n",
       " Prediction(uid=102702, iid='0385335881', r_ui=7.827321584196766, est=9.638707520839734, details={'was_impossible': False}),\n",
       " Prediction(uid=102702, iid='0553299611', r_ui=7.827321584196766, est=9.445799663699711, details={'was_impossible': False}),\n",
       " Prediction(uid=102702, iid='0394726405', r_ui=7.827321584196766, est=9.535142835295984, details={'was_impossible': False}),\n",
       " Prediction(uid=102702, iid='0060529709', r_ui=7.827321584196766, est=9.546750080003116, details={'was_impossible': False}),\n",
       " Prediction(uid=102702, iid='0449213323', r_ui=7.827321584196766, est=9.182096118699873, details={'was_impossible': False}),\n",
       " Prediction(uid=102702, iid='1890768537', r_ui=7.827321584196766, est=9.640390417874157, details={'was_impossible': False}),\n",
       " Prediction(uid=102702, iid='0440223601', r_ui=7.827321584196766, est=9.294398752200633, details={'was_impossible': False}),\n",
       " Prediction(uid=102702, iid='0671011375', r_ui=7.827321584196766, est=9.903229306889397, details={'was_impossible': False}),\n",
       " Prediction(uid=102702, iid='0380799502', r_ui=7.827321584196766, est=9.579994083006026, details={'was_impossible': False}),\n",
       " Prediction(uid=102702, iid='0743456858', r_ui=7.827321584196766, est=9.409556677046012, details={'was_impossible': False}),\n",
       " Prediction(uid=102702, iid='0028618874', r_ui=7.827321584196766, est=9.681070167959584, details={'was_impossible': False}),\n",
       " Prediction(uid=102702, iid='0804119740', r_ui=7.827321584196766, est=9.618734311026572, details={'was_impossible': False}),\n",
       " Prediction(uid=102702, iid='0807551414', r_ui=7.827321584196766, est=9.807740280651474, details={'was_impossible': False}),\n",
       " Prediction(uid=102702, iid='0671729497', r_ui=7.827321584196766, est=9.76430460222073, details={'was_impossible': False}),\n",
       " Prediction(uid=102702, iid='0525941908', r_ui=7.827321584196766, est=9.14469682037407, details={'was_impossible': False}),\n",
       " Prediction(uid=102702, iid='0440404193', r_ui=7.827321584196766, est=10, details={'was_impossible': False}),\n",
       " Prediction(uid=102702, iid='0441172717', r_ui=7.827321584196766, est=10, details={'was_impossible': False}),\n",
       " Prediction(uid=102702, iid='0786015411', r_ui=7.827321584196766, est=9.806225903800408, details={'was_impossible': False}),\n",
       " Prediction(uid=102702, iid='0922729352', r_ui=7.827321584196766, est=9.413741119832501, details={'was_impossible': False}),\n",
       " Prediction(uid=102702, iid='0312853211', r_ui=7.827321584196766, est=9.273025400420924, details={'was_impossible': False}),\n",
       " Prediction(uid=102702, iid='0345295684', r_ui=7.827321584196766, est=9.428874587985112, details={'was_impossible': False}),\n",
       " Prediction(uid=102702, iid='0449149587', r_ui=7.827321584196766, est=9.60121468158066, details={'was_impossible': False}),\n",
       " Prediction(uid=102702, iid='1930009003', r_ui=7.827321584196766, est=9.849901913950537, details={'was_impossible': False}),\n",
       " Prediction(uid=102702, iid='0312876637', r_ui=7.827321584196766, est=9.365350524661773, details={'was_impossible': False}),\n",
       " Prediction(uid=102702, iid='0449209105', r_ui=7.827321584196766, est=9.792571524481893, details={'was_impossible': False}),\n",
       " Prediction(uid=102702, iid='0375725466', r_ui=7.827321584196766, est=9.658286982831601, details={'was_impossible': False}),\n",
       " Prediction(uid=102702, iid='1551669552', r_ui=7.827321584196766, est=9.014267022596023, details={'was_impossible': False}),\n",
       " Prediction(uid=102702, iid='1558533532', r_ui=7.827321584196766, est=9.45598586195083, details={'was_impossible': False}),\n",
       " Prediction(uid=102702, iid='0312961863', r_ui=7.827321584196766, est=9.610560931806281, details={'was_impossible': False}),\n",
       " Prediction(uid=102702, iid='0802775985', r_ui=7.827321584196766, est=8.932886465379967, details={'was_impossible': False}),\n",
       " Prediction(uid=102702, iid='079245815X', r_ui=7.827321584196766, est=9.646339250182326, details={'was_impossible': False}),\n",
       " Prediction(uid=102702, iid='1590580699', r_ui=7.827321584196766, est=9.497305397968574, details={'was_impossible': False}),\n",
       " Prediction(uid=102702, iid='0060987561', r_ui=7.827321584196766, est=9.747094531196522, details={'was_impossible': False}),\n",
       " Prediction(uid=102702, iid='0671010093', r_ui=7.827321584196766, est=9.716757010925324, details={'was_impossible': False}),\n",
       " Prediction(uid=102702, iid='0684857618', r_ui=7.827321584196766, est=9.733119266770762, details={'was_impossible': False}),\n",
       " Prediction(uid=102702, iid='0307681572', r_ui=7.827321584196766, est=9.607432030965008, details={'was_impossible': False}),\n",
       " Prediction(uid=102702, iid='0451185560', r_ui=7.827321584196766, est=9.50234585671796, details={'was_impossible': False}),\n",
       " Prediction(uid=102702, iid='078941998X', r_ui=7.827321584196766, est=9.739795657926605, details={'was_impossible': False}),\n",
       " Prediction(uid=102702, iid='0671658166', r_ui=7.827321584196766, est=9.791022409165487, details={'was_impossible': False}),\n",
       " Prediction(uid=102702, iid='0896932443', r_ui=7.827321584196766, est=9.410910563114316, details={'was_impossible': False}),\n",
       " Prediction(uid=102702, iid='0345350588', r_ui=7.827321584196766, est=9.429110979911908, details={'was_impossible': False}),\n",
       " Prediction(uid=102702, iid='060980619X', r_ui=7.827321584196766, est=9.733949908497388, details={'was_impossible': False}),\n",
       " Prediction(uid=102702, iid='0345316509', r_ui=7.827321584196766, est=9.673409897749098, details={'was_impossible': False}),\n",
       " Prediction(uid=102702, iid='0440220602', r_ui=7.827321584196766, est=9.271999713554441, details={'was_impossible': False}),\n",
       " Prediction(uid=102702, iid='0446358576', r_ui=7.827321584196766, est=9.512046017626758, details={'was_impossible': False}),\n",
       " Prediction(uid=102702, iid='0140230165', r_ui=7.827321584196766, est=9.718166983134799, details={'was_impossible': False}),\n",
       " Prediction(uid=102702, iid='0345402308', r_ui=7.827321584196766, est=9.689346743647038, details={'was_impossible': False}),\n",
       " Prediction(uid=102702, iid='0631159452', r_ui=7.827321584196766, est=9.707028925106512, details={'was_impossible': False}),\n",
       " Prediction(uid=102702, iid='1853261556', r_ui=7.827321584196766, est=9.335318239290729, details={'was_impossible': False}),\n",
       " Prediction(uid=102702, iid='0708813356', r_ui=7.827321584196766, est=9.223824656732186, details={'was_impossible': False}),\n",
       " Prediction(uid=102702, iid='0688079474', r_ui=7.827321584196766, est=9.648449908014962, details={'was_impossible': False}),\n",
       " Prediction(uid=102702, iid='0721631541', r_ui=7.827321584196766, est=9.436879364083039, details={'was_impossible': False}),\n",
       " Prediction(uid=102702, iid='8432206237', r_ui=7.827321584196766, est=9.49166512651664, details={'was_impossible': False}),\n",
       " Prediction(uid=102702, iid='1564409988', r_ui=7.827321584196766, est=9.57679597981019, details={'was_impossible': False}),\n",
       " Prediction(uid=102702, iid='015100658X', r_ui=7.827321584196766, est=9.404902864611044, details={'was_impossible': False}),\n",
       " Prediction(uid=102702, iid='037348383X', r_ui=7.827321584196766, est=9.592541693140493, details={'was_impossible': False}),\n",
       " Prediction(uid=102702, iid='0393309053', r_ui=7.827321584196766, est=9.67115244719939, details={'was_impossible': False}),\n",
       " Prediction(uid=102702, iid='0140266615', r_ui=7.827321584196766, est=9.404987387249278, details={'was_impossible': False}),\n",
       " Prediction(uid=102702, iid='0425180883', r_ui=7.827321584196766, est=9.57817959347801, details={'was_impossible': False}),\n",
       " Prediction(uid=102702, iid='0425181103', r_ui=7.827321584196766, est=9.7294665994835, details={'was_impossible': False}),\n",
       " Prediction(uid=102702, iid='1573225487', r_ui=7.827321584196766, est=9.73366690939545, details={'was_impossible': False}),\n",
       " Prediction(uid=102702, iid='0060910186', r_ui=7.827321584196766, est=9.984102129474808, details={'was_impossible': False}),\n",
       " Prediction(uid=102702, iid='0671039741', r_ui=7.827321584196766, est=9.464409539261604, details={'was_impossible': False}),\n",
       " Prediction(uid=102702, iid='0060916613', r_ui=7.827321584196766, est=9.438828938160354, details={'was_impossible': False}),\n",
       " ...]"
      ]
     },
     "execution_count": 54,
     "metadata": {},
     "output_type": "execute_result"
    }
   ],
   "source": [
    "predictions"
   ]
  },
  {
   "cell_type": "code",
   "execution_count": 63,
   "metadata": {},
   "outputs": [
    {
     "name": "stdout",
     "output_type": "stream",
     "text": [
      "RMSE: 0.9838\n"
     ]
    },
    {
     "data": {
      "text/plain": [
       "0.9837813757108708"
      ]
     },
     "execution_count": 63,
     "metadata": {},
     "output_type": "execute_result"
    }
   ],
   "source": [
    "from surprise import accuracy\n",
    "accuracy.rmse(predictions)"
   ]
  },
  {
   "cell_type": "markdown",
   "metadata": {},
   "source": [
    "### Take a particular user_id"
   ]
  },
  {
   "cell_type": "markdown",
   "metadata": {},
   "source": [
    "### Lets find the recommendations for user with id `2110`\n",
    "\n",
    "#### Note: Execute the below cells to get the variables loaded"
   ]
  },
  {
   "cell_type": "code",
   "execution_count": 93,
   "metadata": {},
   "outputs": [],
   "source": [
    "userID = 2110"
   ]
  },
  {
   "cell_type": "code",
   "execution_count": 94,
   "metadata": {},
   "outputs": [],
   "source": [
    "user_id = 2 #2nd row in ratings matrix and predicted matrix"
   ]
  },
  {
   "cell_type": "markdown",
   "metadata": {},
   "source": [
    "### Get the predicted ratings for userID `2110` and sort them in descending order"
   ]
  },
  {
   "cell_type": "code",
   "execution_count": 374,
   "metadata": {},
   "outputs": [
    {
     "data": {
      "text/plain": [
       "Prediction(uid=37712, iid='0440217563', r_ui=None, est=8.821192207341717, details={'was_impossible': False})"
      ]
     },
     "execution_count": 374,
     "metadata": {},
     "output_type": "execute_result"
    }
   ],
   "source": [
    "algo.predict(uid = trainset.to_raw_uid(user_id), iid = trainset.to_raw_iid(user_id))"
   ]
  },
  {
   "cell_type": "markdown",
   "metadata": {},
   "source": [
    "### Create a dataframe with name `user_data` containing userID `2110` explicitly interacted books"
   ]
  },
  {
   "cell_type": "code",
   "execution_count": 375,
   "metadata": {},
   "outputs": [],
   "source": [
    "user_data = ratings[(ratings['userID']== 2110)]"
   ]
  },
  {
   "cell_type": "code",
   "execution_count": 376,
   "metadata": {},
   "outputs": [
    {
     "data": {
      "text/html": [
       "<div>\n",
       "<style scoped>\n",
       "    .dataframe tbody tr th:only-of-type {\n",
       "        vertical-align: middle;\n",
       "    }\n",
       "\n",
       "    .dataframe tbody tr th {\n",
       "        vertical-align: top;\n",
       "    }\n",
       "\n",
       "    .dataframe thead th {\n",
       "        text-align: right;\n",
       "    }\n",
       "</style>\n",
       "<table border=\"1\" class=\"dataframe\">\n",
       "  <thead>\n",
       "    <tr style=\"text-align: right;\">\n",
       "      <th></th>\n",
       "      <th>userID</th>\n",
       "      <th>ISBN</th>\n",
       "      <th>bookRating</th>\n",
       "    </tr>\n",
       "  </thead>\n",
       "  <tbody>\n",
       "    <tr>\n",
       "      <th>14448</th>\n",
       "      <td>2110</td>\n",
       "      <td>0060987529</td>\n",
       "      <td>7</td>\n",
       "    </tr>\n",
       "    <tr>\n",
       "      <th>14449</th>\n",
       "      <td>2110</td>\n",
       "      <td>0064472779</td>\n",
       "      <td>8</td>\n",
       "    </tr>\n",
       "    <tr>\n",
       "      <th>14450</th>\n",
       "      <td>2110</td>\n",
       "      <td>0140022651</td>\n",
       "      <td>10</td>\n",
       "    </tr>\n",
       "    <tr>\n",
       "      <th>14452</th>\n",
       "      <td>2110</td>\n",
       "      <td>0142302163</td>\n",
       "      <td>8</td>\n",
       "    </tr>\n",
       "    <tr>\n",
       "      <th>14453</th>\n",
       "      <td>2110</td>\n",
       "      <td>0151008116</td>\n",
       "      <td>5</td>\n",
       "    </tr>\n",
       "  </tbody>\n",
       "</table>\n",
       "</div>"
      ],
      "text/plain": [
       "       userID        ISBN  bookRating\n",
       "14448    2110  0060987529           7\n",
       "14449    2110  0064472779           8\n",
       "14450    2110  0140022651          10\n",
       "14452    2110  0142302163           8\n",
       "14453    2110  0151008116           5"
      ]
     },
     "execution_count": 376,
     "metadata": {},
     "output_type": "execute_result"
    }
   ],
   "source": [
    "user_data.head()"
   ]
  },
  {
   "cell_type": "code",
   "execution_count": 377,
   "metadata": {
    "scrolled": true
   },
   "outputs": [
    {
     "data": {
      "text/plain": [
       "(103, 3)"
      ]
     },
     "execution_count": 377,
     "metadata": {},
     "output_type": "execute_result"
    }
   ],
   "source": [
    "user_data.shape"
   ]
  },
  {
   "cell_type": "markdown",
   "metadata": {},
   "source": [
    "### Combine the user_data and and corresponding book data(`book_data`) in a single dataframe with name `user_full_info`"
   ]
  },
  {
   "cell_type": "code",
   "execution_count": 378,
   "metadata": {},
   "outputs": [
    {
     "data": {
      "text/plain": [
       "(103, 5)"
      ]
     },
     "execution_count": 378,
     "metadata": {},
     "output_type": "execute_result"
    }
   ],
   "source": [
    "user_data_isbn = list(user_data['ISBN'].unique())\n",
    "book_data = books[books['ISBN'].isin(user_data_isbn)]\n",
    "book_data.shape"
   ]
  },
  {
   "cell_type": "code",
   "execution_count": 379,
   "metadata": {},
   "outputs": [
    {
     "data": {
      "text/html": [
       "<div>\n",
       "<style scoped>\n",
       "    .dataframe tbody tr th:only-of-type {\n",
       "        vertical-align: middle;\n",
       "    }\n",
       "\n",
       "    .dataframe tbody tr th {\n",
       "        vertical-align: top;\n",
       "    }\n",
       "\n",
       "    .dataframe thead th {\n",
       "        text-align: right;\n",
       "    }\n",
       "</style>\n",
       "<table border=\"1\" class=\"dataframe\">\n",
       "  <thead>\n",
       "    <tr style=\"text-align: right;\">\n",
       "      <th></th>\n",
       "      <th>ISBN</th>\n",
       "      <th>bookTitle</th>\n",
       "      <th>bookAuthor</th>\n",
       "      <th>yearOfPublication</th>\n",
       "      <th>publisher</th>\n",
       "    </tr>\n",
       "  </thead>\n",
       "  <tbody>\n",
       "    <tr>\n",
       "      <th>246</th>\n",
       "      <td>0151008116</td>\n",
       "      <td>Life of Pi</td>\n",
       "      <td>Yann Martel</td>\n",
       "      <td>2002</td>\n",
       "      <td>Harcourt</td>\n",
       "    </tr>\n",
       "    <tr>\n",
       "      <th>904</th>\n",
       "      <td>015216250X</td>\n",
       "      <td>So You Want to Be a Wizard: The First Book in ...</td>\n",
       "      <td>Diane Duane</td>\n",
       "      <td>2001</td>\n",
       "      <td>Magic Carpet Books</td>\n",
       "    </tr>\n",
       "    <tr>\n",
       "      <th>1000</th>\n",
       "      <td>0064472779</td>\n",
       "      <td>All-American Girl</td>\n",
       "      <td>Meg Cabot</td>\n",
       "      <td>2003</td>\n",
       "      <td>HarperTrophy</td>\n",
       "    </tr>\n",
       "    <tr>\n",
       "      <th>1302</th>\n",
       "      <td>0345307674</td>\n",
       "      <td>Return of the Jedi (Star Wars)</td>\n",
       "      <td>James Kahn</td>\n",
       "      <td>1983</td>\n",
       "      <td>Del Rey Books</td>\n",
       "    </tr>\n",
       "    <tr>\n",
       "      <th>1472</th>\n",
       "      <td>0671527215</td>\n",
       "      <td>Hitchhikers's Guide to the Galaxy</td>\n",
       "      <td>Douglas Adams</td>\n",
       "      <td>1984</td>\n",
       "      <td>Pocket</td>\n",
       "    </tr>\n",
       "  </tbody>\n",
       "</table>\n",
       "</div>"
      ],
      "text/plain": [
       "            ISBN                                          bookTitle  \\\n",
       "246   0151008116                                         Life of Pi   \n",
       "904   015216250X  So You Want to Be a Wizard: The First Book in ...   \n",
       "1000  0064472779                                  All-American Girl   \n",
       "1302  0345307674                     Return of the Jedi (Star Wars)   \n",
       "1472  0671527215                  Hitchhikers's Guide to the Galaxy   \n",
       "\n",
       "         bookAuthor  yearOfPublication           publisher  \n",
       "246     Yann Martel               2002            Harcourt  \n",
       "904     Diane Duane               2001  Magic Carpet Books  \n",
       "1000      Meg Cabot               2003        HarperTrophy  \n",
       "1302     James Kahn               1983       Del Rey Books  \n",
       "1472  Douglas Adams               1984              Pocket  "
      ]
     },
     "execution_count": 379,
     "metadata": {},
     "output_type": "execute_result"
    }
   ],
   "source": [
    "book_data.head()"
   ]
  },
  {
   "cell_type": "code",
   "execution_count": null,
   "metadata": {},
   "outputs": [],
   "source": [
    "dfinal = df1.merge(df2, on=\"movie_title\", how = 'inner')"
   ]
  },
  {
   "cell_type": "code",
   "execution_count": 380,
   "metadata": {},
   "outputs": [],
   "source": [
    "user_full_info = user_data.merge(book_data, on=\"ISBN\", how = 'inner' )"
   ]
  },
  {
   "cell_type": "code",
   "execution_count": 381,
   "metadata": {
    "scrolled": true
   },
   "outputs": [
    {
     "data": {
      "text/html": [
       "<div>\n",
       "<style scoped>\n",
       "    .dataframe tbody tr th:only-of-type {\n",
       "        vertical-align: middle;\n",
       "    }\n",
       "\n",
       "    .dataframe tbody tr th {\n",
       "        vertical-align: top;\n",
       "    }\n",
       "\n",
       "    .dataframe thead th {\n",
       "        text-align: right;\n",
       "    }\n",
       "</style>\n",
       "<table border=\"1\" class=\"dataframe\">\n",
       "  <thead>\n",
       "    <tr style=\"text-align: right;\">\n",
       "      <th></th>\n",
       "      <th>userID</th>\n",
       "      <th>ISBN</th>\n",
       "      <th>bookRating</th>\n",
       "      <th>bookTitle</th>\n",
       "      <th>bookAuthor</th>\n",
       "      <th>yearOfPublication</th>\n",
       "      <th>publisher</th>\n",
       "    </tr>\n",
       "  </thead>\n",
       "  <tbody>\n",
       "    <tr>\n",
       "      <th>0</th>\n",
       "      <td>2110</td>\n",
       "      <td>0060987529</td>\n",
       "      <td>7</td>\n",
       "      <td>Confessions of an Ugly Stepsister : A Novel</td>\n",
       "      <td>Gregory Maguire</td>\n",
       "      <td>2000</td>\n",
       "      <td>Regan Books</td>\n",
       "    </tr>\n",
       "    <tr>\n",
       "      <th>1</th>\n",
       "      <td>2110</td>\n",
       "      <td>0064472779</td>\n",
       "      <td>8</td>\n",
       "      <td>All-American Girl</td>\n",
       "      <td>Meg Cabot</td>\n",
       "      <td>2003</td>\n",
       "      <td>HarperTrophy</td>\n",
       "    </tr>\n",
       "    <tr>\n",
       "      <th>2</th>\n",
       "      <td>2110</td>\n",
       "      <td>0140022651</td>\n",
       "      <td>10</td>\n",
       "      <td>Journey to the Center of the Earth</td>\n",
       "      <td>Jules Verne</td>\n",
       "      <td>1965</td>\n",
       "      <td>Penguin Books</td>\n",
       "    </tr>\n",
       "    <tr>\n",
       "      <th>3</th>\n",
       "      <td>2110</td>\n",
       "      <td>0142302163</td>\n",
       "      <td>8</td>\n",
       "      <td>The Ghost Sitter</td>\n",
       "      <td>Peni R. Griffin</td>\n",
       "      <td>2002</td>\n",
       "      <td>Puffin Books</td>\n",
       "    </tr>\n",
       "    <tr>\n",
       "      <th>4</th>\n",
       "      <td>2110</td>\n",
       "      <td>0151008116</td>\n",
       "      <td>5</td>\n",
       "      <td>Life of Pi</td>\n",
       "      <td>Yann Martel</td>\n",
       "      <td>2002</td>\n",
       "      <td>Harcourt</td>\n",
       "    </tr>\n",
       "  </tbody>\n",
       "</table>\n",
       "</div>"
      ],
      "text/plain": [
       "   userID        ISBN  bookRating  \\\n",
       "0    2110  0060987529           7   \n",
       "1    2110  0064472779           8   \n",
       "2    2110  0140022651          10   \n",
       "3    2110  0142302163           8   \n",
       "4    2110  0151008116           5   \n",
       "\n",
       "                                     bookTitle       bookAuthor  \\\n",
       "0  Confessions of an Ugly Stepsister : A Novel  Gregory Maguire   \n",
       "1                            All-American Girl        Meg Cabot   \n",
       "2           Journey to the Center of the Earth      Jules Verne   \n",
       "3                             The Ghost Sitter  Peni R. Griffin   \n",
       "4                                   Life of Pi      Yann Martel   \n",
       "\n",
       "   yearOfPublication      publisher  \n",
       "0               2000    Regan Books  \n",
       "1               2003   HarperTrophy  \n",
       "2               1965  Penguin Books  \n",
       "3               2002   Puffin Books  \n",
       "4               2002       Harcourt  "
      ]
     },
     "execution_count": 381,
     "metadata": {},
     "output_type": "execute_result"
    }
   ],
   "source": [
    "user_full_info.head()"
   ]
  },
  {
   "cell_type": "code",
   "execution_count": 384,
   "metadata": {},
   "outputs": [
    {
     "data": {
      "text/plain": [
       "array([2110], dtype=int64)"
      ]
     },
     "execution_count": 384,
     "metadata": {},
     "output_type": "execute_result"
    }
   ],
   "source": [
    "user_full_info[\"userID\"].unique()"
   ]
  },
  {
   "cell_type": "markdown",
   "metadata": {},
   "source": [
    "### Get top 10 recommendations for above given userID from the books not already rated by that user"
   ]
  },
  {
   "cell_type": "code",
   "execution_count": 87,
   "metadata": {},
   "outputs": [],
   "source": [
    "def get_top_n(predictions, n=10):\n",
    "    # First map the predictions to each user.\n",
    "    top_n = defaultdict(list)\n",
    "    for uid, iid, true_r, est, _ in predictions:\n",
    "        top_n[uid].append((iid, est))\n",
    "\n",
    "    # Then sort the predictions for each user and retrieve the k highest ones.\n",
    "    for uid, user_ratings in top_n.items():\n",
    "        user_ratings.sort(key=lambda x: x[1], reverse=True)\n",
    "        top_n[uid] = user_ratings[:n]\n",
    "\n",
    "    return top_n"
   ]
  },
  {
   "cell_type": "code",
   "execution_count": 88,
   "metadata": {},
   "outputs": [],
   "source": [
    "top_n = get_top_n(predictions, n=10)"
   ]
  },
  {
   "cell_type": "code",
   "execution_count": 405,
   "metadata": {},
   "outputs": [
    {
     "data": {
      "text/plain": [
       "[('043935806X', 9.802362474675823),\n",
       " ('0743454529', 9.703939078466671),\n",
       " ('0670894605', 9.700402009117845),\n",
       " ('0064400557', 9.606820274522164),\n",
       " ('1400034779', 9.579403931479694),\n",
       " ('0140143505', 9.53965446835816),\n",
       " ('0446310786', 9.526082748157501),\n",
       " ('0618002227', 9.520027675943421),\n",
       " ('0812550706', 9.495940071930772),\n",
       " ('0307010368', 9.493283018027938)]"
      ]
     },
     "execution_count": 405,
     "metadata": {},
     "output_type": "execute_result"
    }
   ],
   "source": [
    "top_n[2110]"
   ]
  },
  {
   "cell_type": "code",
   "execution_count": 414,
   "metadata": {},
   "outputs": [],
   "source": [
    "top_ISBN = pd.DataFrame(top_n[2110],  columns = ['ISBN', \"est\"]).drop(columns=[\"est\"])"
   ]
  },
  {
   "cell_type": "code",
   "execution_count": 427,
   "metadata": {},
   "outputs": [],
   "source": [
    "top_10_2110 = top_ISBN.merge(books, on=\"ISBN\", how = 'inner' )"
   ]
  },
  {
   "cell_type": "code",
   "execution_count": 428,
   "metadata": {},
   "outputs": [
    {
     "name": "stdout",
     "output_type": "stream",
     "text": [
      "\u001b[94m\u001b[1mTop 10 recommendations for above given userID = 2110\u001b[0m\n",
      "-----------------------------------------------------\n"
     ]
    },
    {
     "data": {
      "text/html": [
       "<div>\n",
       "<style scoped>\n",
       "    .dataframe tbody tr th:only-of-type {\n",
       "        vertical-align: middle;\n",
       "    }\n",
       "\n",
       "    .dataframe tbody tr th {\n",
       "        vertical-align: top;\n",
       "    }\n",
       "\n",
       "    .dataframe thead th {\n",
       "        text-align: right;\n",
       "    }\n",
       "</style>\n",
       "<table border=\"1\" class=\"dataframe\">\n",
       "  <thead>\n",
       "    <tr style=\"text-align: right;\">\n",
       "      <th></th>\n",
       "      <th>ISBN</th>\n",
       "      <th>bookTitle</th>\n",
       "      <th>bookAuthor</th>\n",
       "      <th>yearOfPublication</th>\n",
       "      <th>publisher</th>\n",
       "    </tr>\n",
       "  </thead>\n",
       "  <tbody>\n",
       "    <tr>\n",
       "      <th>0</th>\n",
       "      <td>043935806X</td>\n",
       "      <td>Harry Potter and the Order of the Phoenix (Boo...</td>\n",
       "      <td>J. K. Rowling</td>\n",
       "      <td>2003</td>\n",
       "      <td>Scholastic</td>\n",
       "    </tr>\n",
       "    <tr>\n",
       "      <th>1</th>\n",
       "      <td>0743454529</td>\n",
       "      <td>My Sister's Keeper : A Novel (Picoult, Jodi)</td>\n",
       "      <td>Jodi Picoult</td>\n",
       "      <td>2004</td>\n",
       "      <td>Atria</td>\n",
       "    </tr>\n",
       "    <tr>\n",
       "      <th>2</th>\n",
       "      <td>0670894605</td>\n",
       "      <td>The Secret Life of Bees</td>\n",
       "      <td>Sue Monk Kidd</td>\n",
       "      <td>2002</td>\n",
       "      <td>Viking Books</td>\n",
       "    </tr>\n",
       "    <tr>\n",
       "      <th>3</th>\n",
       "      <td>0064400557</td>\n",
       "      <td>Charlotte's Web (Trophy Newbery)</td>\n",
       "      <td>E. B. White</td>\n",
       "      <td>1974</td>\n",
       "      <td>HarperTrophy</td>\n",
       "    </tr>\n",
       "    <tr>\n",
       "      <th>4</th>\n",
       "      <td>1400034779</td>\n",
       "      <td>The No. 1 Ladies' Detective Agency (Today Show...</td>\n",
       "      <td>Alexander McCall Smith</td>\n",
       "      <td>2003</td>\n",
       "      <td>Anchor</td>\n",
       "    </tr>\n",
       "    <tr>\n",
       "      <th>5</th>\n",
       "      <td>0140143505</td>\n",
       "      <td>84 Charing Cross Road</td>\n",
       "      <td>Helene Hanff</td>\n",
       "      <td>1990</td>\n",
       "      <td>Penguin Books</td>\n",
       "    </tr>\n",
       "    <tr>\n",
       "      <th>6</th>\n",
       "      <td>0446310786</td>\n",
       "      <td>To Kill a Mockingbird</td>\n",
       "      <td>Harper Lee</td>\n",
       "      <td>1988</td>\n",
       "      <td>Little Brown &amp;amp; Company</td>\n",
       "    </tr>\n",
       "    <tr>\n",
       "      <th>7</th>\n",
       "      <td>0618002227</td>\n",
       "      <td>The Fellowship of the Ring (The Lord of the Ri...</td>\n",
       "      <td>J. R. R. Tolkien</td>\n",
       "      <td>1999</td>\n",
       "      <td>Houghton Mifflin Company</td>\n",
       "    </tr>\n",
       "    <tr>\n",
       "      <th>8</th>\n",
       "      <td>0812550706</td>\n",
       "      <td>Ender's Game (Ender Wiggins Saga (Paperback))</td>\n",
       "      <td>Orson Scott Card</td>\n",
       "      <td>1994</td>\n",
       "      <td>Tor Books</td>\n",
       "    </tr>\n",
       "    <tr>\n",
       "      <th>9</th>\n",
       "      <td>0307010368</td>\n",
       "      <td>Snow White and the Seven Dwarfs</td>\n",
       "      <td>Little Golden Staff</td>\n",
       "      <td>1994</td>\n",
       "      <td>Random House of Canada</td>\n",
       "    </tr>\n",
       "  </tbody>\n",
       "</table>\n",
       "</div>"
      ],
      "text/plain": [
       "         ISBN                                          bookTitle  \\\n",
       "0  043935806X  Harry Potter and the Order of the Phoenix (Boo...   \n",
       "1  0743454529       My Sister's Keeper : A Novel (Picoult, Jodi)   \n",
       "2  0670894605                            The Secret Life of Bees   \n",
       "3  0064400557                   Charlotte's Web (Trophy Newbery)   \n",
       "4  1400034779  The No. 1 Ladies' Detective Agency (Today Show...   \n",
       "5  0140143505                              84 Charing Cross Road   \n",
       "6  0446310786                              To Kill a Mockingbird   \n",
       "7  0618002227  The Fellowship of the Ring (The Lord of the Ri...   \n",
       "8  0812550706      Ender's Game (Ender Wiggins Saga (Paperback))   \n",
       "9  0307010368                    Snow White and the Seven Dwarfs   \n",
       "\n",
       "               bookAuthor  yearOfPublication                   publisher  \n",
       "0           J. K. Rowling               2003                  Scholastic  \n",
       "1            Jodi Picoult               2004                       Atria  \n",
       "2           Sue Monk Kidd               2002                Viking Books  \n",
       "3             E. B. White               1974                HarperTrophy  \n",
       "4  Alexander McCall Smith               2003                      Anchor  \n",
       "5            Helene Hanff               1990               Penguin Books  \n",
       "6              Harper Lee               1988  Little Brown &amp; Company  \n",
       "7        J. R. R. Tolkien               1999    Houghton Mifflin Company  \n",
       "8        Orson Scott Card               1994                   Tor Books  \n",
       "9     Little Golden Staff               1994      Random House of Canada  "
      ]
     },
     "execution_count": 428,
     "metadata": {},
     "output_type": "execute_result"
    }
   ],
   "source": [
    "print(\"\\033[94m\\033[1mTop 10 recommendations for the userID = 2110\\x1b[0m\")\n",
    "print(\"-\"*53)\n",
    "top_10_2110"
   ]
  }
 ],
 "metadata": {
  "kernelspec": {
   "display_name": "Python 3",
   "language": "python",
   "name": "python3"
  },
  "language_info": {
   "codemirror_mode": {
    "name": "ipython",
    "version": 3
   },
   "file_extension": ".py",
   "mimetype": "text/x-python",
   "name": "python",
   "nbconvert_exporter": "python",
   "pygments_lexer": "ipython3",
   "version": "3.6.4"
  }
 },
 "nbformat": 4,
 "nbformat_minor": 2
}
