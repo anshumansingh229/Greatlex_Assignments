{
 "cells": [
  {
   "cell_type": "markdown",
   "metadata": {
    "colab_type": "text",
    "id": "zUZjPnVXGz0Z"
   },
   "source": [
    "# The Iris Dataset\n",
    "The data set consists of 50 samples from each of three species of Iris (Iris setosa, Iris virginica and Iris versicolor). Four features were measured from each sample: the length and the width of the sepals and petals, in centimeters.\n",
    "\n",
    "The dataset contains a set of 150 records under five attributes - petal length, petal width, sepal length, sepal width and species."
   ]
  },
  {
   "cell_type": "markdown",
   "metadata": {
    "colab_type": "text",
    "id": "RMbmpriavLE9"
   },
   "source": [
    "### Specifying the TensorFlow version\n",
    "Running `import tensorflow` will import the default version (currently 1.x). You can use 2.x by running a cell with the `tensorflow_version` magic **before** you run `import tensorflow`."
   ]
  },
  {
   "cell_type": "code",
   "execution_count": 1,
   "metadata": {
    "colab": {
     "base_uri": "https://localhost:8080/",
     "height": 68
    },
    "colab_type": "code",
    "executionInfo": {
     "elapsed": 40542,
     "status": "ok",
     "timestamp": 1570958377509,
     "user": {
      "displayName": "Binu Devasahayam",
      "photoUrl": "",
      "userId": "12474820318635626950"
     },
     "user_tz": -330
    },
    "id": "bEw0YiPyabpB",
    "outputId": "a476870f-6e09-4d93-ddf0-1b93661db49b"
   },
   "outputs": [
    {
     "name": "stdout",
     "output_type": "stream",
     "text": [
      "\u001b[K     |████████████████████████████████| 86.3MB 1.2MB/s \n",
      "\u001b[K     |████████████████████████████████| 3.8MB 43.6MB/s \n",
      "\u001b[K     |████████████████████████████████| 450kB 50.6MB/s \n",
      "\u001b[?25h"
     ]
    }
   ],
   "source": [
    "!pip3 install -U tensorflow --quiet"
   ]
  },
  {
   "cell_type": "code",
   "execution_count": 0,
   "metadata": {
    "colab": {},
    "colab_type": "code",
    "id": "fu8bUU__oa7h"
   },
   "outputs": [],
   "source": [
    "%tensorflow_version 2.x"
   ]
  },
  {
   "cell_type": "markdown",
   "metadata": {
    "colab_type": "text",
    "id": "bLz1Ckvfvn6D"
   },
   "source": [
    "### Import TensorFlow\n",
    "Once you have specified a version via this magic, you can run `import tensorflow` as normal and verify which version was imported as follows:"
   ]
  },
  {
   "cell_type": "code",
   "execution_count": 2,
   "metadata": {
    "colab": {
     "base_uri": "https://localhost:8080/",
     "height": 34
    },
    "colab_type": "code",
    "executionInfo": {
     "elapsed": 2555,
     "status": "ok",
     "timestamp": 1570962585669,
     "user": {
      "displayName": "Binu Devasahayam",
      "photoUrl": "",
      "userId": "12474820318635626950"
     },
     "user_tz": -330
    },
    "id": "CWrzVTLOvn6M",
    "outputId": "239d61bf-1670-449d-aa9a-f71b73edeb36"
   },
   "outputs": [
    {
     "name": "stdout",
     "output_type": "stream",
     "text": [
      "2.0.0-rc2\n"
     ]
    }
   ],
   "source": [
    "import tensorflow as tf\n",
    "print(tf.__version__)"
   ]
  },
  {
   "cell_type": "markdown",
   "metadata": {
    "colab_type": "text",
    "id": "_uYeJgkNuXNC"
   },
   "source": [
    "### Set random seed"
   ]
  },
  {
   "cell_type": "code",
   "execution_count": 0,
   "metadata": {
    "colab": {},
    "colab_type": "code",
    "id": "lcASNsewsfQX"
   },
   "outputs": [],
   "source": [
    "tf.random.set_seed(42)"
   ]
  },
  {
   "cell_type": "markdown",
   "metadata": {
    "colab_type": "text",
    "id": "5-vVQBBqg7DI"
   },
   "source": [
    "## Question 1"
   ]
  },
  {
   "cell_type": "markdown",
   "metadata": {
    "colab_type": "text",
    "id": "kE0EDKvQhEIe"
   },
   "source": [
    "### Import dataset\n",
    "- Import iris dataset\n",
    "- Import the dataset using sklearn library"
   ]
  },
  {
   "cell_type": "code",
   "execution_count": 0,
   "metadata": {
    "colab": {},
    "colab_type": "code",
    "id": "IOOWpD26Haq3"
   },
   "outputs": [],
   "source": [
    "from sklearn.datasets import load_iris"
   ]
  },
  {
   "cell_type": "markdown",
   "metadata": {
    "colab_type": "text",
    "id": "ta8YqInTh5v5"
   },
   "source": [
    "## Question 2"
   ]
  },
  {
   "cell_type": "markdown",
   "metadata": {
    "colab_type": "text",
    "id": "HERt3drbhX0i"
   },
   "source": [
    "### Get features and label from the dataset in separate variable\n",
    "- you can get the features using .data method\n",
    "- you can get the features using .target method"
   ]
  },
  {
   "cell_type": "code",
   "execution_count": 0,
   "metadata": {
    "colab": {},
    "colab_type": "code",
    "id": "0cV-_qHAHyvE"
   },
   "outputs": [],
   "source": [
    "X = load_iris().data\n",
    "y = load_iris().target"
   ]
  },
  {
   "cell_type": "markdown",
   "metadata": {
    "colab_type": "text",
    "id": "Qg1A2lkUjFak"
   },
   "source": [
    "## Question 3"
   ]
  },
  {
   "cell_type": "markdown",
   "metadata": {
    "colab_type": "text",
    "id": "3YErwYLCH0N_"
   },
   "source": [
    "### Create train and test data\n",
    "- use train_test_split to get train and test set\n",
    "- set a random_state\n",
    "- test_size: 0.25"
   ]
  },
  {
   "cell_type": "code",
   "execution_count": 0,
   "metadata": {
    "colab": {},
    "colab_type": "code",
    "id": "TYKNJL85h7pQ"
   },
   "outputs": [],
   "source": [
    "from sklearn.model_selection import train_test_split\n",
    "X_train, X_test, y_train, y_test = train_test_split(X, y, test_size= .25, random_state=42)"
   ]
  },
  {
   "cell_type": "markdown",
   "metadata": {
    "colab_type": "text",
    "id": "g0KVP17Ozaix"
   },
   "source": [
    "## Question 4"
   ]
  },
  {
   "cell_type": "markdown",
   "metadata": {
    "colab_type": "text",
    "id": "SIjqxbhWv1zv"
   },
   "source": [
    "### One-hot encode the labels\n",
    "- convert class vectors (integers) to binary class matrix\n",
    "- convert labels\n",
    "- number of classes: 3\n",
    "- we are doing this to use categorical_crossentropy as loss"
   ]
  },
  {
   "cell_type": "code",
   "execution_count": 0,
   "metadata": {
    "colab": {},
    "colab_type": "code",
    "id": "R9vv-_gpyLY9"
   },
   "outputs": [],
   "source": [
    "trainY = tf.keras.utils.to_categorical(y_train, num_classes=3)\n",
    "testY = tf.keras.utils.to_categorical(y_test, num_classes=3)"
   ]
  },
  {
   "cell_type": "markdown",
   "metadata": {
    "colab_type": "text",
    "id": "ovjLyYzWkO9s"
   },
   "source": [
    "## Question 5"
   ]
  },
  {
   "cell_type": "markdown",
   "metadata": {
    "colab_type": "text",
    "id": "hbIFzoPNSyYo"
   },
   "source": [
    "### Initialize a sequential model\n",
    "- Define a sequential model"
   ]
  },
  {
   "cell_type": "code",
   "execution_count": 0,
   "metadata": {
    "colab": {},
    "colab_type": "code",
    "id": "4FvSbf1UjHtl"
   },
   "outputs": [],
   "source": [
    "model = tf.keras.models.Sequential()"
   ]
  },
  {
   "cell_type": "markdown",
   "metadata": {
    "colab_type": "text",
    "id": "dGMy999vlacX"
   },
   "source": [
    "## Question 6"
   ]
  },
  {
   "cell_type": "markdown",
   "metadata": {
    "colab_type": "text",
    "id": "72ibK5Jxm8iL"
   },
   "source": [
    "### Add a layer\n",
    "- Use Dense Layer  with input shape of 4 (according to the feature set) and number of outputs set to 3\n",
    "- Apply Softmax on Dense Layer outputs"
   ]
  },
  {
   "cell_type": "code",
   "execution_count": 0,
   "metadata": {
    "colab": {},
    "colab_type": "code",
    "id": "uZKrBNSRm_o9"
   },
   "outputs": [],
   "source": [
    "model.add(tf.keras.layers.Dense(3, activation='softmax', input_shape=(4,)))\n",
    "# model.add(tf.keras.layers.BatchNormalization())"
   ]
  },
  {
   "cell_type": "markdown",
   "metadata": {
    "colab_type": "text",
    "id": "i4uiTH8plmNX"
   },
   "source": [
    "## Question 7"
   ]
  },
  {
   "cell_type": "markdown",
   "metadata": {
    "colab_type": "text",
    "id": "yJL8n8vcSyYz"
   },
   "source": [
    "### Compile the model\n",
    "- Use SGD as Optimizer\n",
    "- Use categorical_crossentropy as loss function\n",
    "- Use accuracy as metrics"
   ]
  },
  {
   "cell_type": "code",
   "execution_count": 0,
   "metadata": {
    "colab": {},
    "colab_type": "code",
    "id": "Tc_-fjIEk1ve"
   },
   "outputs": [],
   "source": [
    "model.compile(optimizer='sgd', loss='categorical_crossentropy', metrics=['accuracy'])"
   ]
  },
  {
   "cell_type": "markdown",
   "metadata": {
    "colab_type": "text",
    "id": "sihIGbRll_jT"
   },
   "source": [
    "## Question 8"
   ]
  },
  {
   "cell_type": "markdown",
   "metadata": {
    "colab_type": "text",
    "id": "54ZZCfNGlu0i"
   },
   "source": [
    "### Summarize the model\n",
    "- Check model layers\n",
    "- Understand number of trainable parameters"
   ]
  },
  {
   "cell_type": "code",
   "execution_count": 11,
   "metadata": {
    "colab": {
     "base_uri": "https://localhost:8080/",
     "height": 187
    },
    "colab_type": "code",
    "executionInfo": {
     "elapsed": 1026,
     "status": "ok",
     "timestamp": 1570962624802,
     "user": {
      "displayName": "Binu Devasahayam",
      "photoUrl": "",
      "userId": "12474820318635626950"
     },
     "user_tz": -330
    },
    "id": "a4UUkSoIpfz7",
    "outputId": "ce677040-ab55-4aeb-95eb-d4abeacfeb57"
   },
   "outputs": [
    {
     "name": "stdout",
     "output_type": "stream",
     "text": [
      "Model: \"sequential\"\n",
      "_________________________________________________________________\n",
      "Layer (type)                 Output Shape              Param #   \n",
      "=================================================================\n",
      "dense (Dense)                (None, 3)                 15        \n",
      "=================================================================\n",
      "Total params: 15\n",
      "Trainable params: 15\n",
      "Non-trainable params: 0\n",
      "_________________________________________________________________\n"
     ]
    }
   ],
   "source": [
    "model.summary()"
   ]
  },
  {
   "cell_type": "markdown",
   "metadata": {
    "colab_type": "text",
    "id": "2PiP7j3Vmj4p"
   },
   "source": [
    "## Question 9"
   ]
  },
  {
   "cell_type": "markdown",
   "metadata": {
    "colab_type": "text",
    "id": "rWdbfFCXmCHt"
   },
   "source": [
    "### Fit the model\n",
    "- Give train data as training features and labels\n",
    "- Epochs: 100\n",
    "- Give validation data as testing features and labels"
   ]
  },
  {
   "cell_type": "code",
   "execution_count": 12,
   "metadata": {
    "colab": {
     "base_uri": "https://localhost:8080/",
     "height": 1000
    },
    "colab_type": "code",
    "executionInfo": {
     "elapsed": 4193,
     "status": "ok",
     "timestamp": 1570962635713,
     "user": {
      "displayName": "Binu Devasahayam",
      "photoUrl": "",
      "userId": "12474820318635626950"
     },
     "user_tz": -330
    },
    "id": "cO1c-5tjmBVZ",
    "outputId": "88036344-8673-40bd-f551-bc66f1118516"
   },
   "outputs": [
    {
     "name": "stdout",
     "output_type": "stream",
     "text": [
      "Train on 112 samples, validate on 38 samples\n",
      "Epoch 1/100\n",
      "112/112 [==============================] - 1s 5ms/sample - loss: 2.7156 - accuracy: 0.3125 - val_loss: 1.7098 - val_accuracy: 0.3947\n",
      "Epoch 2/100\n",
      "112/112 [==============================] - 0s 198us/sample - loss: 1.6294 - accuracy: 0.2857 - val_loss: 1.3382 - val_accuracy: 0.1842\n",
      "Epoch 3/100\n",
      "112/112 [==============================] - 0s 197us/sample - loss: 1.3191 - accuracy: 0.1607 - val_loss: 1.2425 - val_accuracy: 0.2368\n",
      "Epoch 4/100\n",
      "112/112 [==============================] - 0s 192us/sample - loss: 1.2241 - accuracy: 0.2857 - val_loss: 1.1908 - val_accuracy: 0.1842\n",
      "Epoch 5/100\n",
      "112/112 [==============================] - 0s 194us/sample - loss: 1.1777 - accuracy: 0.2500 - val_loss: 1.1524 - val_accuracy: 0.2105\n",
      "Epoch 6/100\n",
      "112/112 [==============================] - 0s 190us/sample - loss: 1.1346 - accuracy: 0.2679 - val_loss: 1.1165 - val_accuracy: 0.2368\n",
      "Epoch 7/100\n",
      "112/112 [==============================] - 0s 194us/sample - loss: 1.1079 - accuracy: 0.2589 - val_loss: 1.0838 - val_accuracy: 0.2368\n",
      "Epoch 8/100\n",
      "112/112 [==============================] - 0s 200us/sample - loss: 1.0815 - accuracy: 0.2768 - val_loss: 1.0653 - val_accuracy: 0.2105\n",
      "Epoch 9/100\n",
      "112/112 [==============================] - 0s 199us/sample - loss: 1.0516 - accuracy: 0.2589 - val_loss: 1.0278 - val_accuracy: 0.2368\n",
      "Epoch 10/100\n",
      "112/112 [==============================] - 0s 220us/sample - loss: 1.0212 - accuracy: 0.2589 - val_loss: 0.9978 - val_accuracy: 0.2368\n",
      "Epoch 11/100\n",
      "112/112 [==============================] - 0s 228us/sample - loss: 0.9957 - accuracy: 0.2589 - val_loss: 0.9723 - val_accuracy: 0.2632\n",
      "Epoch 12/100\n",
      "112/112 [==============================] - 0s 230us/sample - loss: 0.9747 - accuracy: 0.2500 - val_loss: 0.9459 - val_accuracy: 0.2895\n",
      "Epoch 13/100\n",
      "112/112 [==============================] - 0s 233us/sample - loss: 0.9551 - accuracy: 0.3214 - val_loss: 0.9207 - val_accuracy: 0.3421\n",
      "Epoch 14/100\n",
      "112/112 [==============================] - 0s 205us/sample - loss: 0.9289 - accuracy: 0.3929 - val_loss: 0.9002 - val_accuracy: 0.5263\n",
      "Epoch 15/100\n",
      "112/112 [==============================] - 0s 226us/sample - loss: 0.9105 - accuracy: 0.5446 - val_loss: 0.8768 - val_accuracy: 0.5000\n",
      "Epoch 16/100\n",
      "112/112 [==============================] - 0s 202us/sample - loss: 0.8912 - accuracy: 0.5446 - val_loss: 0.8604 - val_accuracy: 0.5263\n",
      "Epoch 17/100\n",
      "112/112 [==============================] - 0s 256us/sample - loss: 0.8752 - accuracy: 0.5625 - val_loss: 0.8431 - val_accuracy: 0.6579\n",
      "Epoch 18/100\n",
      "112/112 [==============================] - 0s 193us/sample - loss: 0.8610 - accuracy: 0.5893 - val_loss: 0.8251 - val_accuracy: 0.6053\n",
      "Epoch 19/100\n",
      "112/112 [==============================] - 0s 194us/sample - loss: 0.8437 - accuracy: 0.6250 - val_loss: 0.8071 - val_accuracy: 0.6579\n",
      "Epoch 20/100\n",
      "112/112 [==============================] - 0s 200us/sample - loss: 0.8273 - accuracy: 0.6071 - val_loss: 0.7933 - val_accuracy: 0.6579\n",
      "Epoch 21/100\n",
      "112/112 [==============================] - 0s 199us/sample - loss: 0.8151 - accuracy: 0.6339 - val_loss: 0.7778 - val_accuracy: 0.7105\n",
      "Epoch 22/100\n",
      "112/112 [==============================] - 0s 200us/sample - loss: 0.8016 - accuracy: 0.6071 - val_loss: 0.7602 - val_accuracy: 0.6842\n",
      "Epoch 23/100\n",
      "112/112 [==============================] - 0s 235us/sample - loss: 0.7898 - accuracy: 0.6250 - val_loss: 0.7477 - val_accuracy: 0.6842\n",
      "Epoch 24/100\n",
      "112/112 [==============================] - 0s 220us/sample - loss: 0.7809 - accuracy: 0.6339 - val_loss: 0.7407 - val_accuracy: 0.6842\n",
      "Epoch 25/100\n",
      "112/112 [==============================] - 0s 208us/sample - loss: 0.7693 - accuracy: 0.6875 - val_loss: 0.7209 - val_accuracy: 0.7105\n",
      "Epoch 26/100\n",
      "112/112 [==============================] - 0s 219us/sample - loss: 0.7545 - accuracy: 0.6518 - val_loss: 0.7101 - val_accuracy: 0.6842\n",
      "Epoch 27/100\n",
      "112/112 [==============================] - 0s 208us/sample - loss: 0.7532 - accuracy: 0.6696 - val_loss: 0.6996 - val_accuracy: 0.7368\n",
      "Epoch 28/100\n",
      "112/112 [==============================] - 0s 216us/sample - loss: 0.7395 - accuracy: 0.7054 - val_loss: 0.6892 - val_accuracy: 0.7632\n",
      "Epoch 29/100\n",
      "112/112 [==============================] - 0s 231us/sample - loss: 0.7281 - accuracy: 0.6429 - val_loss: 0.6858 - val_accuracy: 0.7368\n",
      "Epoch 30/100\n",
      "112/112 [==============================] - 0s 212us/sample - loss: 0.7190 - accuracy: 0.7054 - val_loss: 0.6715 - val_accuracy: 0.7368\n",
      "Epoch 31/100\n",
      "112/112 [==============================] - 0s 225us/sample - loss: 0.7092 - accuracy: 0.7143 - val_loss: 0.6640 - val_accuracy: 0.7368\n",
      "Epoch 32/100\n",
      "112/112 [==============================] - 0s 214us/sample - loss: 0.7023 - accuracy: 0.6875 - val_loss: 0.6553 - val_accuracy: 0.7368\n",
      "Epoch 33/100\n",
      "112/112 [==============================] - 0s 220us/sample - loss: 0.6946 - accuracy: 0.7143 - val_loss: 0.6486 - val_accuracy: 0.7632\n",
      "Epoch 34/100\n",
      "112/112 [==============================] - 0s 199us/sample - loss: 0.6872 - accuracy: 0.7232 - val_loss: 0.6437 - val_accuracy: 0.7368\n",
      "Epoch 35/100\n",
      "112/112 [==============================] - 0s 200us/sample - loss: 0.6817 - accuracy: 0.7321 - val_loss: 0.6342 - val_accuracy: 0.7632\n",
      "Epoch 36/100\n",
      "112/112 [==============================] - 0s 200us/sample - loss: 0.6845 - accuracy: 0.7500 - val_loss: 0.6343 - val_accuracy: 0.7368\n",
      "Epoch 37/100\n",
      "112/112 [==============================] - 0s 198us/sample - loss: 0.6724 - accuracy: 0.7232 - val_loss: 0.6191 - val_accuracy: 0.7632\n",
      "Epoch 38/100\n",
      "112/112 [==============================] - 0s 223us/sample - loss: 0.6641 - accuracy: 0.6875 - val_loss: 0.6125 - val_accuracy: 0.7632\n",
      "Epoch 39/100\n",
      "112/112 [==============================] - 0s 207us/sample - loss: 0.6554 - accuracy: 0.7411 - val_loss: 0.6054 - val_accuracy: 0.7632\n",
      "Epoch 40/100\n",
      "112/112 [==============================] - 0s 210us/sample - loss: 0.6494 - accuracy: 0.7232 - val_loss: 0.5990 - val_accuracy: 0.7632\n",
      "Epoch 41/100\n",
      "112/112 [==============================] - 0s 209us/sample - loss: 0.6426 - accuracy: 0.7321 - val_loss: 0.5941 - val_accuracy: 0.7895\n",
      "Epoch 42/100\n",
      "112/112 [==============================] - 0s 218us/sample - loss: 0.6369 - accuracy: 0.7679 - val_loss: 0.5866 - val_accuracy: 0.7895\n",
      "Epoch 43/100\n",
      "112/112 [==============================] - 0s 218us/sample - loss: 0.6328 - accuracy: 0.7500 - val_loss: 0.5810 - val_accuracy: 0.7632\n",
      "Epoch 44/100\n",
      "112/112 [==============================] - 0s 201us/sample - loss: 0.6297 - accuracy: 0.7232 - val_loss: 0.5787 - val_accuracy: 0.7632\n",
      "Epoch 45/100\n",
      "112/112 [==============================] - 0s 206us/sample - loss: 0.6266 - accuracy: 0.6518 - val_loss: 0.5738 - val_accuracy: 0.7895\n",
      "Epoch 46/100\n",
      "112/112 [==============================] - 0s 200us/sample - loss: 0.6189 - accuracy: 0.7679 - val_loss: 0.5716 - val_accuracy: 0.7895\n",
      "Epoch 47/100\n",
      "112/112 [==============================] - 0s 225us/sample - loss: 0.6141 - accuracy: 0.7679 - val_loss: 0.5634 - val_accuracy: 0.7895\n",
      "Epoch 48/100\n",
      "112/112 [==============================] - 0s 254us/sample - loss: 0.6106 - accuracy: 0.7500 - val_loss: 0.5628 - val_accuracy: 0.7895\n",
      "Epoch 49/100\n",
      "112/112 [==============================] - 0s 202us/sample - loss: 0.6059 - accuracy: 0.7679 - val_loss: 0.5520 - val_accuracy: 0.8421\n",
      "Epoch 50/100\n",
      "112/112 [==============================] - 0s 205us/sample - loss: 0.5994 - accuracy: 0.7589 - val_loss: 0.5468 - val_accuracy: 0.8421\n",
      "Epoch 51/100\n",
      "112/112 [==============================] - 0s 225us/sample - loss: 0.5986 - accuracy: 0.7411 - val_loss: 0.5452 - val_accuracy: 0.7895\n",
      "Epoch 52/100\n",
      "112/112 [==============================] - 0s 227us/sample - loss: 0.5919 - accuracy: 0.7768 - val_loss: 0.5387 - val_accuracy: 0.7895\n",
      "Epoch 53/100\n",
      "112/112 [==============================] - 0s 217us/sample - loss: 0.5916 - accuracy: 0.7411 - val_loss: 0.5357 - val_accuracy: 0.8421\n",
      "Epoch 54/100\n",
      "112/112 [==============================] - 0s 203us/sample - loss: 0.5884 - accuracy: 0.7768 - val_loss: 0.5335 - val_accuracy: 0.7895\n",
      "Epoch 55/100\n",
      "112/112 [==============================] - 0s 205us/sample - loss: 0.5809 - accuracy: 0.8125 - val_loss: 0.5281 - val_accuracy: 0.8421\n",
      "Epoch 56/100\n",
      "112/112 [==============================] - 0s 201us/sample - loss: 0.5810 - accuracy: 0.7679 - val_loss: 0.5246 - val_accuracy: 0.8421\n",
      "Epoch 57/100\n",
      "112/112 [==============================] - 0s 216us/sample - loss: 0.5752 - accuracy: 0.7946 - val_loss: 0.5209 - val_accuracy: 0.8421\n",
      "Epoch 58/100\n",
      "112/112 [==============================] - 0s 195us/sample - loss: 0.5702 - accuracy: 0.8125 - val_loss: 0.5173 - val_accuracy: 0.8421\n",
      "Epoch 59/100\n",
      "112/112 [==============================] - 0s 177us/sample - loss: 0.5718 - accuracy: 0.7679 - val_loss: 0.5142 - val_accuracy: 0.8421\n",
      "Epoch 60/100\n",
      "112/112 [==============================] - 0s 199us/sample - loss: 0.5671 - accuracy: 0.7679 - val_loss: 0.5108 - val_accuracy: 0.8421\n",
      "Epoch 61/100\n",
      "112/112 [==============================] - 0s 234us/sample - loss: 0.5630 - accuracy: 0.7679 - val_loss: 0.5108 - val_accuracy: 0.7895\n",
      "Epoch 62/100\n",
      "112/112 [==============================] - 0s 193us/sample - loss: 0.5601 - accuracy: 0.7768 - val_loss: 0.5081 - val_accuracy: 0.8158\n",
      "Epoch 63/100\n",
      "112/112 [==============================] - 0s 209us/sample - loss: 0.5558 - accuracy: 0.7946 - val_loss: 0.5022 - val_accuracy: 0.8421\n",
      "Epoch 64/100\n",
      "112/112 [==============================] - 0s 205us/sample - loss: 0.5544 - accuracy: 0.8125 - val_loss: 0.5005 - val_accuracy: 0.7895\n",
      "Epoch 65/100\n",
      "112/112 [==============================] - 0s 226us/sample - loss: 0.5580 - accuracy: 0.7857 - val_loss: 0.4990 - val_accuracy: 0.7895\n",
      "Epoch 66/100\n",
      "112/112 [==============================] - 0s 184us/sample - loss: 0.5475 - accuracy: 0.8125 - val_loss: 0.4922 - val_accuracy: 0.8421\n",
      "Epoch 67/100\n",
      "112/112 [==============================] - 0s 208us/sample - loss: 0.5450 - accuracy: 0.8214 - val_loss: 0.4899 - val_accuracy: 0.8421\n",
      "Epoch 68/100\n",
      "112/112 [==============================] - 0s 202us/sample - loss: 0.5434 - accuracy: 0.8036 - val_loss: 0.4878 - val_accuracy: 0.8421\n",
      "Epoch 69/100\n",
      "112/112 [==============================] - 0s 197us/sample - loss: 0.5441 - accuracy: 0.7857 - val_loss: 0.4839 - val_accuracy: 0.8158\n",
      "Epoch 70/100\n",
      "112/112 [==============================] - 0s 246us/sample - loss: 0.5400 - accuracy: 0.7589 - val_loss: 0.4812 - val_accuracy: 0.8158\n",
      "Epoch 71/100\n",
      "112/112 [==============================] - 0s 211us/sample - loss: 0.5420 - accuracy: 0.7232 - val_loss: 0.4795 - val_accuracy: 0.8421\n",
      "Epoch 72/100\n",
      "112/112 [==============================] - 0s 192us/sample - loss: 0.5348 - accuracy: 0.8125 - val_loss: 0.4761 - val_accuracy: 0.8158\n",
      "Epoch 73/100\n",
      "112/112 [==============================] - 0s 222us/sample - loss: 0.5312 - accuracy: 0.7768 - val_loss: 0.4740 - val_accuracy: 0.8158\n",
      "Epoch 74/100\n",
      "112/112 [==============================] - 0s 214us/sample - loss: 0.5289 - accuracy: 0.7500 - val_loss: 0.4725 - val_accuracy: 0.8421\n",
      "Epoch 75/100\n",
      "112/112 [==============================] - 0s 233us/sample - loss: 0.5262 - accuracy: 0.8214 - val_loss: 0.4709 - val_accuracy: 0.8421\n",
      "Epoch 76/100\n",
      "112/112 [==============================] - 0s 206us/sample - loss: 0.5278 - accuracy: 0.7857 - val_loss: 0.4678 - val_accuracy: 0.8158\n",
      "Epoch 77/100\n",
      "112/112 [==============================] - 0s 204us/sample - loss: 0.5223 - accuracy: 0.7679 - val_loss: 0.4682 - val_accuracy: 0.8421\n",
      "Epoch 78/100\n",
      "112/112 [==============================] - 0s 185us/sample - loss: 0.5211 - accuracy: 0.8304 - val_loss: 0.4657 - val_accuracy: 0.8421\n",
      "Epoch 79/100\n",
      "112/112 [==============================] - 0s 210us/sample - loss: 0.5223 - accuracy: 0.8125 - val_loss: 0.4621 - val_accuracy: 0.8421\n",
      "Epoch 80/100\n",
      "112/112 [==============================] - 0s 241us/sample - loss: 0.5148 - accuracy: 0.8393 - val_loss: 0.4591 - val_accuracy: 0.8158\n",
      "Epoch 81/100\n",
      "112/112 [==============================] - 0s 185us/sample - loss: 0.5130 - accuracy: 0.7857 - val_loss: 0.4577 - val_accuracy: 0.8421\n",
      "Epoch 82/100\n",
      "112/112 [==============================] - 0s 233us/sample - loss: 0.5151 - accuracy: 0.8036 - val_loss: 0.4557 - val_accuracy: 0.8421\n",
      "Epoch 83/100\n",
      "112/112 [==============================] - 0s 210us/sample - loss: 0.5106 - accuracy: 0.8125 - val_loss: 0.4538 - val_accuracy: 0.8421\n",
      "Epoch 84/100\n",
      "112/112 [==============================] - 0s 200us/sample - loss: 0.5070 - accuracy: 0.8036 - val_loss: 0.4537 - val_accuracy: 0.8421\n",
      "Epoch 85/100\n",
      "112/112 [==============================] - 0s 206us/sample - loss: 0.5062 - accuracy: 0.8393 - val_loss: 0.4498 - val_accuracy: 0.8421\n",
      "Epoch 86/100\n",
      "112/112 [==============================] - 0s 191us/sample - loss: 0.5056 - accuracy: 0.8214 - val_loss: 0.4491 - val_accuracy: 0.8158\n",
      "Epoch 87/100\n",
      "112/112 [==============================] - 0s 214us/sample - loss: 0.5101 - accuracy: 0.7768 - val_loss: 0.4482 - val_accuracy: 0.8421\n",
      "Epoch 88/100\n",
      "112/112 [==============================] - 0s 206us/sample - loss: 0.5035 - accuracy: 0.7768 - val_loss: 0.4446 - val_accuracy: 0.8421\n",
      "Epoch 89/100\n",
      "112/112 [==============================] - 0s 214us/sample - loss: 0.5023 - accuracy: 0.8304 - val_loss: 0.4434 - val_accuracy: 0.8421\n",
      "Epoch 90/100\n",
      "112/112 [==============================] - 0s 225us/sample - loss: 0.4981 - accuracy: 0.7857 - val_loss: 0.4433 - val_accuracy: 0.8421\n",
      "Epoch 91/100\n",
      "112/112 [==============================] - 0s 223us/sample - loss: 0.4987 - accuracy: 0.8304 - val_loss: 0.4398 - val_accuracy: 0.8421\n",
      "Epoch 92/100\n",
      "112/112 [==============================] - 0s 224us/sample - loss: 0.4951 - accuracy: 0.8304 - val_loss: 0.4405 - val_accuracy: 0.8684\n",
      "Epoch 93/100\n",
      "112/112 [==============================] - 0s 198us/sample - loss: 0.4927 - accuracy: 0.8571 - val_loss: 0.4360 - val_accuracy: 0.8421\n",
      "Epoch 94/100\n",
      "112/112 [==============================] - 0s 213us/sample - loss: 0.4952 - accuracy: 0.8214 - val_loss: 0.4343 - val_accuracy: 0.8421\n",
      "Epoch 95/100\n",
      "112/112 [==============================] - 0s 219us/sample - loss: 0.4886 - accuracy: 0.8304 - val_loss: 0.4339 - val_accuracy: 0.8421\n",
      "Epoch 96/100\n",
      "112/112 [==============================] - 0s 265us/sample - loss: 0.4893 - accuracy: 0.8393 - val_loss: 0.4307 - val_accuracy: 0.8421\n",
      "Epoch 97/100\n",
      "112/112 [==============================] - 0s 197us/sample - loss: 0.4857 - accuracy: 0.8214 - val_loss: 0.4292 - val_accuracy: 0.8421\n",
      "Epoch 98/100\n",
      "112/112 [==============================] - 0s 203us/sample - loss: 0.4842 - accuracy: 0.8125 - val_loss: 0.4278 - val_accuracy: 0.8684\n",
      "Epoch 99/100\n",
      "112/112 [==============================] - 0s 292us/sample - loss: 0.4821 - accuracy: 0.8214 - val_loss: 0.4273 - val_accuracy: 0.8421\n",
      "Epoch 100/100\n",
      "112/112 [==============================] - 0s 239us/sample - loss: 0.4863 - accuracy: 0.8125 - val_loss: 0.4269 - val_accuracy: 0.8684\n"
     ]
    },
    {
     "data": {
      "text/plain": [
       "<tensorflow.python.keras.callbacks.History at 0x7fc12cc941d0>"
      ]
     },
     "execution_count": 12,
     "metadata": {
      "tags": []
     },
     "output_type": "execute_result"
    }
   ],
   "source": [
    "model.fit(X_train, trainY, \n",
    "          validation_data=(X_test, testY), \n",
    "          # epochs=100,\n",
    "          # batch_size=trainX.shape[0])\n",
    "          epochs=100,\n",
    "          batch_size=32)\n"
   ]
  },
  {
   "cell_type": "markdown",
   "metadata": {
    "colab_type": "text",
    "id": "re9ItAR3yS3J"
   },
   "source": [
    "## Question 10"
   ]
  },
  {
   "cell_type": "markdown",
   "metadata": {
    "colab_type": "text",
    "id": "liw0IFf9yVqH"
   },
   "source": [
    "### Make predictions\n",
    "- Predict labels on one row"
   ]
  },
  {
   "cell_type": "code",
   "execution_count": 103,
   "metadata": {
    "colab": {
     "base_uri": "https://localhost:8080/",
     "height": 34
    },
    "colab_type": "code",
    "executionInfo": {
     "elapsed": 1063,
     "status": "ok",
     "timestamp": 1570966273719,
     "user": {
      "displayName": "Binu Devasahayam",
      "photoUrl": "",
      "userId": "12474820318635626950"
     },
     "user_tz": -330
    },
    "id": "H5sBybi6mlLl",
    "outputId": "5ace3234-2d36-4469-da29-450bbe783805"
   },
   "outputs": [
    {
     "data": {
      "text/plain": [
       "array([[0.06132344, 0.5898395 , 0.34883702]], dtype=float32)"
      ]
     },
     "execution_count": 103,
     "metadata": {
      "tags": []
     },
     "output_type": "execute_result"
    }
   ],
   "source": [
    "prediction = model.predict(X_test[0:1])\n",
    "\n",
    "prediction\n"
   ]
  },
  {
   "cell_type": "code",
   "execution_count": 104,
   "metadata": {
    "colab": {
     "base_uri": "https://localhost:8080/",
     "height": 34
    },
    "colab_type": "code",
    "executionInfo": {
     "elapsed": 1259,
     "status": "ok",
     "timestamp": 1570966276697,
     "user": {
      "displayName": "Binu Devasahayam",
      "photoUrl": "",
      "userId": "12474820318635626950"
     },
     "user_tz": -330
    },
    "id": "esx6ik7duG_K",
    "outputId": "30be098d-5aa7-4c8c-e355-5dfaf5c0cfc0"
   },
   "outputs": [
    {
     "data": {
      "text/plain": [
       "1"
      ]
     },
     "execution_count": 104,
     "metadata": {
      "tags": []
     },
     "output_type": "execute_result"
    }
   ],
   "source": [
    "import numpy as np\n",
    "np.argmax(prediction[0])"
   ]
  },
  {
   "cell_type": "markdown",
   "metadata": {
    "colab_type": "text",
    "id": "hSUgMq3m0bG7"
   },
   "source": [
    "### Compare the prediction with actual label\n",
    "- Print the same row as done in the previous step but of actual labels"
   ]
  },
  {
   "cell_type": "code",
   "execution_count": 101,
   "metadata": {
    "colab": {
     "base_uri": "https://localhost:8080/",
     "height": 34
    },
    "colab_type": "code",
    "executionInfo": {
     "elapsed": 1024,
     "status": "ok",
     "timestamp": 1570966198165,
     "user": {
      "displayName": "Binu Devasahayam",
      "photoUrl": "",
      "userId": "12474820318635626950"
     },
     "user_tz": -330
    },
    "id": "K5WbwVPyz-qQ",
    "outputId": "73599dad-f327-47ee-f5b1-9048e7f54388"
   },
   "outputs": [
    {
     "name": "stdout",
     "output_type": "stream",
     "text": [
      "Actual labels of the predicteed row:  [[0. 1. 0.]]\n"
     ]
    }
   ],
   "source": [
    "print('Actual labels of the predicteed row: ', testY[0:1])\n"
   ]
  },
  {
   "cell_type": "markdown",
   "metadata": {
    "colab_type": "text",
    "id": "F97kh-Yz5GdM"
   },
   "source": [
    "Precited and actual lables are same."
   ]
  },
  {
   "cell_type": "markdown",
   "metadata": {
    "colab_type": "text",
    "id": "FrTKwbgE7NFT"
   },
   "source": [
    "\n",
    "\n",
    "---\n",
    "\n"
   ]
  },
  {
   "cell_type": "markdown",
   "metadata": {
    "colab_type": "text",
    "id": "a1UBYPNp5Tn1"
   },
   "source": [
    "# Stock prices dataset\n",
    "The data is of tock exchange's stock listings for each trading day of 2010 to 2016.\n",
    "\n",
    "## Description\n",
    "A brief description of columns.\n",
    "- open: The opening market price of the equity symbol on the date\n",
    "- high: The highest market price of the equity symbol on the date\n",
    "- low: The lowest recorded market price of the equity symbol on the date\n",
    "- close: The closing recorded price of the equity symbol on the date\n",
    "- symbol: Symbol of the listed company\n",
    "- volume: Total traded volume of the equity symbol on the date\n",
    "- date: Date of record"
   ]
  },
  {
   "cell_type": "markdown",
   "metadata": {
    "colab_type": "text",
    "id": "ctH_ZW5g-M3g"
   },
   "source": [
    "### Specifying the TensorFlow version\n",
    "Running `import tensorflow` will import the default version (currently 1.x). You can use 2.x by running a cell with the `tensorflow_version` magic **before** you run `import tensorflow`."
   ]
  },
  {
   "cell_type": "code",
   "execution_count": 0,
   "metadata": {
    "colab": {},
    "colab_type": "code",
    "id": "vQbdODpH-M3r"
   },
   "outputs": [],
   "source": [
    "%tensorflow_version 2.x"
   ]
  },
  {
   "cell_type": "markdown",
   "metadata": {
    "colab_type": "text",
    "id": "nFQWH1tj-M38"
   },
   "source": [
    "### Import TensorFlow\n",
    "Once you have specified a version via this magic, you can run `import tensorflow` as normal and verify which version was imported as follows:"
   ]
  },
  {
   "cell_type": "code",
   "execution_count": 19,
   "metadata": {
    "colab": {
     "base_uri": "https://localhost:8080/",
     "height": 34
    },
    "colab_type": "code",
    "executionInfo": {
     "elapsed": 1017,
     "status": "ok",
     "timestamp": 1570963126024,
     "user": {
      "displayName": "Binu Devasahayam",
      "photoUrl": "",
      "userId": "12474820318635626950"
     },
     "user_tz": -330
    },
    "id": "Ho5n-xhd-M3_",
    "outputId": "20221ba6-e6b3-4b82-e912-a77b115476b1"
   },
   "outputs": [
    {
     "name": "stdout",
     "output_type": "stream",
     "text": [
      "2.0.0-rc2\n"
     ]
    }
   ],
   "source": [
    "import tensorflow as tf\n",
    "print(tf.__version__)"
   ]
  },
  {
   "cell_type": "markdown",
   "metadata": {
    "colab_type": "text",
    "id": "tgkl0qu6-M4F"
   },
   "source": [
    "### Set random seed"
   ]
  },
  {
   "cell_type": "code",
   "execution_count": 0,
   "metadata": {
    "colab": {},
    "colab_type": "code",
    "id": "TKgTyuA3-M4G"
   },
   "outputs": [],
   "source": [
    "tf.random.set_seed(42)"
   ]
  },
  {
   "cell_type": "markdown",
   "metadata": {
    "colab_type": "text",
    "id": "_88voqAH-O6J"
   },
   "source": [
    "## Question 1"
   ]
  },
  {
   "cell_type": "markdown",
   "metadata": {
    "colab_type": "text",
    "id": "dRHCeJqP-evf"
   },
   "source": [
    "### Load the data\n",
    "- load the csv file and read it using pandas\n",
    "- file name is prices.csv"
   ]
  },
  {
   "cell_type": "code",
   "execution_count": 0,
   "metadata": {
    "colab": {},
    "colab_type": "code",
    "id": "cKVH5v7r-RmC"
   },
   "outputs": [],
   "source": [
    "# run this cell to upload file if you are using google colab\n",
    "# from google.colab import files\n",
    "# files.upload()"
   ]
  },
  {
   "cell_type": "code",
   "execution_count": 27,
   "metadata": {
    "colab": {
     "base_uri": "https://localhost:8080/",
     "height": 122
    },
    "colab_type": "code",
    "executionInfo": {
     "elapsed": 43280,
     "status": "ok",
     "timestamp": 1570963754178,
     "user": {
      "displayName": "Binu Devasahayam",
      "photoUrl": "",
      "userId": "12474820318635626950"
     },
     "user_tz": -330
    },
    "id": "-gDC6cSW_FSK",
    "outputId": "0b49d506-1d37-4e79-bb7a-fdc890452c57"
   },
   "outputs": [
    {
     "name": "stdout",
     "output_type": "stream",
     "text": [
      "Go to this URL in a browser: https://accounts.google.com/o/oauth2/auth?client_id=947318989803-6bn6qk8qdgf4n4g3pfee6491hc0brc4i.apps.googleusercontent.com&redirect_uri=urn%3Aietf%3Awg%3Aoauth%3A2.0%3Aoob&scope=email%20https%3A%2F%2Fwww.googleapis.com%2Fauth%2Fdocs.test%20https%3A%2F%2Fwww.googleapis.com%2Fauth%2Fdrive%20https%3A%2F%2Fwww.googleapis.com%2Fauth%2Fdrive.photos.readonly%20https%3A%2F%2Fwww.googleapis.com%2Fauth%2Fpeopleapi.readonly&response_type=code\n",
      "\n",
      "Enter your authorization code:\n",
      "··········\n",
      "Mounted at /content/gdrive\n"
     ]
    }
   ],
   "source": [
    "import os\n",
    "from google.colab import drive\n",
    "drive.mount('/content/gdrive')"
   ]
  },
  {
   "cell_type": "code",
   "execution_count": 0,
   "metadata": {
    "colab": {},
    "colab_type": "code",
    "id": "Gie1RzdqvVOo"
   },
   "outputs": [],
   "source": [
    "import pandas as pd\n",
    "prices = pd.read_csv(\"prices.csv\")"
   ]
  },
  {
   "cell_type": "code",
   "execution_count": 56,
   "metadata": {
    "colab": {
     "base_uri": "https://localhost:8080/",
     "height": 204
    },
    "colab_type": "code",
    "executionInfo": {
     "elapsed": 764,
     "status": "ok",
     "timestamp": 1570964466774,
     "user": {
      "displayName": "Binu Devasahayam",
      "photoUrl": "",
      "userId": "12474820318635626950"
     },
     "user_tz": -330
    },
    "id": "JVOHzg_Sv08t",
    "outputId": "edc674a7-f418-419b-e8bb-0eca753a5e0e"
   },
   "outputs": [
    {
     "data": {
      "text/html": [
       "<div>\n",
       "<style scoped>\n",
       "    .dataframe tbody tr th:only-of-type {\n",
       "        vertical-align: middle;\n",
       "    }\n",
       "\n",
       "    .dataframe tbody tr th {\n",
       "        vertical-align: top;\n",
       "    }\n",
       "\n",
       "    .dataframe thead th {\n",
       "        text-align: right;\n",
       "    }\n",
       "</style>\n",
       "<table border=\"1\" class=\"dataframe\">\n",
       "  <thead>\n",
       "    <tr style=\"text-align: right;\">\n",
       "      <th></th>\n",
       "      <th>date</th>\n",
       "      <th>symbol</th>\n",
       "      <th>open</th>\n",
       "      <th>close</th>\n",
       "      <th>low</th>\n",
       "      <th>high</th>\n",
       "      <th>volume</th>\n",
       "    </tr>\n",
       "  </thead>\n",
       "  <tbody>\n",
       "    <tr>\n",
       "      <th>0</th>\n",
       "      <td>2016-01-05 00:00:00</td>\n",
       "      <td>WLTW</td>\n",
       "      <td>123.430000</td>\n",
       "      <td>125.839996</td>\n",
       "      <td>122.309998</td>\n",
       "      <td>126.250000</td>\n",
       "      <td>2163600.0</td>\n",
       "    </tr>\n",
       "    <tr>\n",
       "      <th>1</th>\n",
       "      <td>2016-01-06 00:00:00</td>\n",
       "      <td>WLTW</td>\n",
       "      <td>125.239998</td>\n",
       "      <td>119.980003</td>\n",
       "      <td>119.940002</td>\n",
       "      <td>125.540001</td>\n",
       "      <td>2386400.0</td>\n",
       "    </tr>\n",
       "    <tr>\n",
       "      <th>2</th>\n",
       "      <td>2016-01-07 00:00:00</td>\n",
       "      <td>WLTW</td>\n",
       "      <td>116.379997</td>\n",
       "      <td>114.949997</td>\n",
       "      <td>114.930000</td>\n",
       "      <td>119.739998</td>\n",
       "      <td>2489500.0</td>\n",
       "    </tr>\n",
       "    <tr>\n",
       "      <th>3</th>\n",
       "      <td>2016-01-08 00:00:00</td>\n",
       "      <td>WLTW</td>\n",
       "      <td>115.480003</td>\n",
       "      <td>116.620003</td>\n",
       "      <td>113.500000</td>\n",
       "      <td>117.440002</td>\n",
       "      <td>2006300.0</td>\n",
       "    </tr>\n",
       "    <tr>\n",
       "      <th>4</th>\n",
       "      <td>2016-01-11 00:00:00</td>\n",
       "      <td>WLTW</td>\n",
       "      <td>117.010002</td>\n",
       "      <td>114.970001</td>\n",
       "      <td>114.089996</td>\n",
       "      <td>117.330002</td>\n",
       "      <td>1408600.0</td>\n",
       "    </tr>\n",
       "  </tbody>\n",
       "</table>\n",
       "</div>"
      ],
      "text/plain": [
       "                  date symbol        open  ...         low        high     volume\n",
       "0  2016-01-05 00:00:00   WLTW  123.430000  ...  122.309998  126.250000  2163600.0\n",
       "1  2016-01-06 00:00:00   WLTW  125.239998  ...  119.940002  125.540001  2386400.0\n",
       "2  2016-01-07 00:00:00   WLTW  116.379997  ...  114.930000  119.739998  2489500.0\n",
       "3  2016-01-08 00:00:00   WLTW  115.480003  ...  113.500000  117.440002  2006300.0\n",
       "4  2016-01-11 00:00:00   WLTW  117.010002  ...  114.089996  117.330002  1408600.0\n",
       "\n",
       "[5 rows x 7 columns]"
      ]
     },
     "execution_count": 56,
     "metadata": {
      "tags": []
     },
     "output_type": "execute_result"
    }
   ],
   "source": [
    "prices.head()"
   ]
  },
  {
   "cell_type": "code",
   "execution_count": 57,
   "metadata": {
    "colab": {
     "base_uri": "https://localhost:8080/",
     "height": 34
    },
    "colab_type": "code",
    "executionInfo": {
     "elapsed": 667,
     "status": "ok",
     "timestamp": 1570964468376,
     "user": {
      "displayName": "Binu Devasahayam",
      "photoUrl": "",
      "userId": "12474820318635626950"
     },
     "user_tz": -330
    },
    "id": "Sbr_4Cgxv7BW",
    "outputId": "91e23b1f-88de-4799-c5f0-18f6145105ce"
   },
   "outputs": [
    {
     "data": {
      "text/plain": [
       "(282207, 7)"
      ]
     },
     "execution_count": 57,
     "metadata": {
      "tags": []
     },
     "output_type": "execute_result"
    }
   ],
   "source": [
    "prices.shape"
   ]
  },
  {
   "cell_type": "code",
   "execution_count": 58,
   "metadata": {
    "colab": {
     "base_uri": "https://localhost:8080/",
     "height": 297
    },
    "colab_type": "code",
    "executionInfo": {
     "elapsed": 1137,
     "status": "ok",
     "timestamp": 1570964470478,
     "user": {
      "displayName": "Binu Devasahayam",
      "photoUrl": "",
      "userId": "12474820318635626950"
     },
     "user_tz": -330
    },
    "id": "Nfn2OE7_wDji",
    "outputId": "2b2f4e85-0a68-40c3-c66c-07fbe557888f"
   },
   "outputs": [
    {
     "data": {
      "text/html": [
       "<div>\n",
       "<style scoped>\n",
       "    .dataframe tbody tr th:only-of-type {\n",
       "        vertical-align: middle;\n",
       "    }\n",
       "\n",
       "    .dataframe tbody tr th {\n",
       "        vertical-align: top;\n",
       "    }\n",
       "\n",
       "    .dataframe thead th {\n",
       "        text-align: right;\n",
       "    }\n",
       "</style>\n",
       "<table border=\"1\" class=\"dataframe\">\n",
       "  <thead>\n",
       "    <tr style=\"text-align: right;\">\n",
       "      <th></th>\n",
       "      <th>open</th>\n",
       "      <th>close</th>\n",
       "      <th>low</th>\n",
       "      <th>high</th>\n",
       "      <th>volume</th>\n",
       "    </tr>\n",
       "  </thead>\n",
       "  <tbody>\n",
       "    <tr>\n",
       "      <th>count</th>\n",
       "      <td>282207.000000</td>\n",
       "      <td>282207.000000</td>\n",
       "      <td>282207.000000</td>\n",
       "      <td>282207.000000</td>\n",
       "      <td>2.822070e+05</td>\n",
       "    </tr>\n",
       "    <tr>\n",
       "      <th>mean</th>\n",
       "      <td>53.748253</td>\n",
       "      <td>53.765228</td>\n",
       "      <td>53.117738</td>\n",
       "      <td>54.361060</td>\n",
       "      <td>6.889486e+06</td>\n",
       "    </tr>\n",
       "    <tr>\n",
       "      <th>std</th>\n",
       "      <td>56.725017</td>\n",
       "      <td>56.724325</td>\n",
       "      <td>56.093774</td>\n",
       "      <td>57.327189</td>\n",
       "      <td>1.675060e+07</td>\n",
       "    </tr>\n",
       "    <tr>\n",
       "      <th>min</th>\n",
       "      <td>0.850000</td>\n",
       "      <td>0.860000</td>\n",
       "      <td>0.830000</td>\n",
       "      <td>0.880000</td>\n",
       "      <td>0.000000e+00</td>\n",
       "    </tr>\n",
       "    <tr>\n",
       "      <th>25%</th>\n",
       "      <td>27.290001</td>\n",
       "      <td>27.299999</td>\n",
       "      <td>26.950001</td>\n",
       "      <td>27.639999</td>\n",
       "      <td>1.445000e+06</td>\n",
       "    </tr>\n",
       "    <tr>\n",
       "      <th>50%</th>\n",
       "      <td>42.010110</td>\n",
       "      <td>42.029999</td>\n",
       "      <td>41.520000</td>\n",
       "      <td>42.500000</td>\n",
       "      <td>3.031400e+06</td>\n",
       "    </tr>\n",
       "    <tr>\n",
       "      <th>75%</th>\n",
       "      <td>62.880001</td>\n",
       "      <td>62.910000</td>\n",
       "      <td>62.180000</td>\n",
       "      <td>63.540001</td>\n",
       "      <td>6.448200e+06</td>\n",
       "    </tr>\n",
       "    <tr>\n",
       "      <th>max</th>\n",
       "      <td>768.500000</td>\n",
       "      <td>764.750000</td>\n",
       "      <td>751.000000</td>\n",
       "      <td>774.960022</td>\n",
       "      <td>8.596434e+08</td>\n",
       "    </tr>\n",
       "  </tbody>\n",
       "</table>\n",
       "</div>"
      ],
      "text/plain": [
       "                open          close            low           high        volume\n",
       "count  282207.000000  282207.000000  282207.000000  282207.000000  2.822070e+05\n",
       "mean       53.748253      53.765228      53.117738      54.361060  6.889486e+06\n",
       "std        56.725017      56.724325      56.093774      57.327189  1.675060e+07\n",
       "min         0.850000       0.860000       0.830000       0.880000  0.000000e+00\n",
       "25%        27.290001      27.299999      26.950001      27.639999  1.445000e+06\n",
       "50%        42.010110      42.029999      41.520000      42.500000  3.031400e+06\n",
       "75%        62.880001      62.910000      62.180000      63.540001  6.448200e+06\n",
       "max       768.500000     764.750000     751.000000     774.960022  8.596434e+08"
      ]
     },
     "execution_count": 58,
     "metadata": {
      "tags": []
     },
     "output_type": "execute_result"
    }
   ],
   "source": [
    "prices.describe()"
   ]
  },
  {
   "cell_type": "code",
   "execution_count": 59,
   "metadata": {
    "colab": {
     "base_uri": "https://localhost:8080/",
     "height": 221
    },
    "colab_type": "code",
    "executionInfo": {
     "elapsed": 755,
     "status": "ok",
     "timestamp": 1570964472081,
     "user": {
      "displayName": "Binu Devasahayam",
      "photoUrl": "",
      "userId": "12474820318635626950"
     },
     "user_tz": -330
    },
    "id": "Niaklw1ZwMpy",
    "outputId": "425e2983-eef1-422f-9478-239ca609e1b0"
   },
   "outputs": [
    {
     "name": "stdout",
     "output_type": "stream",
     "text": [
      "<class 'pandas.core.frame.DataFrame'>\n",
      "RangeIndex: 282207 entries, 0 to 282206\n",
      "Data columns (total 7 columns):\n",
      "date      282207 non-null object\n",
      "symbol    282207 non-null object\n",
      "open      282207 non-null float64\n",
      "close     282207 non-null float64\n",
      "low       282207 non-null float64\n",
      "high      282207 non-null float64\n",
      "volume    282207 non-null float64\n",
      "dtypes: float64(5), object(2)\n",
      "memory usage: 15.1+ MB\n"
     ]
    }
   ],
   "source": [
    "prices.info()"
   ]
  },
  {
   "cell_type": "code",
   "execution_count": 60,
   "metadata": {
    "colab": {
     "base_uri": "https://localhost:8080/",
     "height": 901
    },
    "colab_type": "code",
    "executionInfo": {
     "elapsed": 1007,
     "status": "ok",
     "timestamp": 1570964474505,
     "user": {
      "displayName": "Binu Devasahayam",
      "photoUrl": "",
      "userId": "12474820318635626950"
     },
     "user_tz": -330
    },
    "id": "xIN_9vzhwTlj",
    "outputId": "8549d4d0-ed25-48d5-bc75-6015642ff823"
   },
   "outputs": [
    {
     "data": {
      "text/plain": [
       "array(['WLTW', 'A', 'AAL', 'AAP', 'AAPL', 'ABC', 'ABT', 'ACN', 'ADBE',\n",
       "       'ADI', 'ADM', 'ADP', 'ADS', 'ADSK', 'AEE', 'AEP', 'AES', 'AET',\n",
       "       'AFL', 'AGN', 'AIG', 'AIZ', 'AJG', 'AKAM', 'ALB', 'ALK', 'ALL',\n",
       "       'ALXN', 'AMAT', 'AME', 'AMG', 'AMGN', 'AMP', 'AMT', 'AMZN', 'AN',\n",
       "       'ANTM', 'AON', 'APA', 'APC', 'APD', 'APH', 'ARNC', 'ATVI', 'AVB',\n",
       "       'AVGO', 'AVY', 'AWK', 'AXP', 'AYI', 'AZO', 'BA', 'BAC', 'BAX',\n",
       "       'BBBY', 'BBT', 'BBY', 'BCR', 'BDX', 'BEN', 'BHI', 'BIIB', 'BK',\n",
       "       'BLK', 'BLL', 'BMY', 'BSX', 'BWA', 'BXP', 'C', 'CA', 'CAG', 'CAH',\n",
       "       'CAT', 'CB', 'CBG', 'CBS', 'CCI', 'CCL', 'CELG', 'CERN', 'CF',\n",
       "       'CHD', 'CHK', 'CHRW', 'CI', 'CINF', 'CL', 'CLX', 'CMA', 'CMCSA',\n",
       "       'CME', 'CMG', 'CMI', 'CMS', 'CNC', 'CNP', 'COF', 'COG', 'COH',\n",
       "       'COL', 'COO', 'COP', 'COST', 'CPB', 'CRM', 'CSCO', 'CSX', 'CTAS',\n",
       "       'CTL', 'CTSH', 'CTXS', 'CVS', 'CVX', 'CXO', 'D', 'DAL', 'DD', 'DE',\n",
       "       'DFS', 'DG', 'DGX', 'DHI', 'DHR', 'DIS', 'DISCA', 'DISCK', 'DLR',\n",
       "       'DLTR', 'DNB', 'DOV', 'DOW', 'DPS', 'DRI', 'DTE', 'DUK', 'DVA',\n",
       "       'DVN', 'EA', 'EBAY', 'ECL', 'ED', 'EFX', 'EIX', 'EL', 'EMN', 'EMR',\n",
       "       'ENDP', 'EOG', 'EQIX', 'EQR', 'EQT', 'ES', 'ESRX', 'ESS', 'ETFC',\n",
       "       'ETN', 'ETR', 'EW', 'EXC', 'EXPD', 'EXPE', 'EXR', 'F', 'FAST',\n",
       "       'FCX', 'FDX', 'FE', 'FFIV', 'FIS', 'FISV', 'FITB', 'FL', 'FLIR',\n",
       "       'FLR', 'FLS', 'FMC', 'FOX', 'FOXA', 'FRT', 'FSLR', 'FTI', 'FTR',\n",
       "       'GD', 'GE', 'GGP', 'GILD', 'GIS', 'GLW', 'GOOG', 'GOOGL', 'GPC',\n",
       "       'GPN', 'GPS', 'GRMN', 'GS', 'GT', 'GWW', 'HAL', 'HAR', 'HAS',\n",
       "       'HBAN', 'HBI', 'HCN', 'HCP', 'HD', 'HES', 'HIG', 'HOG', 'HOLX',\n",
       "       'HON', 'HP', 'HPQ', 'HRB', 'HRL', 'HRS', 'HSIC', 'HST', 'HSY',\n",
       "       'HUM', 'IBM', 'ICE', 'IDXX', 'IFF', 'ILMN', 'INTC', 'INTU', 'IP',\n",
       "       'IPG', 'IR', 'IRM', 'ISRG', 'ITW', 'IVZ', 'JBHT', 'JCI', 'JEC',\n",
       "       'JNJ', 'JNPR', 'JPM', 'JWN', 'K', 'KEY', 'KIM', 'KLAC', 'KMB',\n",
       "       'KMX', 'KO', 'KR', 'KSS', 'KSU', 'L', 'LB', 'LEG', 'LEN', 'LH',\n",
       "       'LKQ', 'LLL', 'LLTC', 'LLY', 'LMT', 'LNC', 'LNT', 'LOW', 'LRCX',\n",
       "       'LUK', 'LUV', 'LVLT', 'M', 'MA', 'MAA', 'MAC', 'MAR', 'MAS', 'MAT',\n",
       "       'MCD', 'MCHP', 'MCK', 'MCO', 'MDLZ', 'MDT', 'MET', 'MHK', 'MJN',\n",
       "       'MKC', 'MLM', 'MMC', 'MMM', 'MNST', 'MO', 'MON', 'MOS', 'MRK',\n",
       "       'MRO', 'MSFT', 'MSI', 'MTB', 'MTD', 'MU', 'MUR', 'MYL', 'NBL',\n",
       "       'NDAQ', 'NEE', 'NEM', 'NFLX', 'NFX', 'NI', 'NKE', 'NOC', 'NOV',\n",
       "       'NRG', 'NSC', 'NTAP', 'NTRS', 'NUE', 'NVDA', 'NWL', 'O', 'OKE',\n",
       "       'OMC', 'ORCL', 'ORLY', 'OXY', 'PAYX', 'PBCT', 'PBI', 'PCAR', 'PCG',\n",
       "       'PCLN', 'PDCO', 'PEG', 'PEP', 'PFE', 'PFG', 'PG', 'PGR', 'PH',\n",
       "       'PHM', 'PKI', 'PLD', 'PM', 'PNC', 'PNR', 'PNW', 'PPG', 'PPL',\n",
       "       'PRGO', 'PRU', 'PSA', 'PVH', 'PWR', 'PX', 'PXD', 'QCOM', 'R',\n",
       "       'RAI', 'RCL', 'REGN', 'RF', 'RHI', 'RHT', 'RIG', 'RL', 'ROK',\n",
       "       'ROP', 'ROST', 'RRC', 'RSG', 'RTN', 'SBUX', 'SCG', 'SCHW', 'SE',\n",
       "       'SEE', 'SHW', 'SIG', 'SJM', 'SLB', 'SLG', 'SNA', 'SNI', 'SO',\n",
       "       'SPG', 'SPGI', 'SPLS', 'SRCL', 'SRE', 'STI', 'STT', 'STX', 'STZ',\n",
       "       'SWK', 'SWKS', 'SWN', 'SYK', 'SYMC', 'SYY', 'T', 'TAP', 'TDC',\n",
       "       'TEL', 'TGNA', 'TGT', 'TIF', 'TJX', 'TMK', 'TMO', 'TROW', 'TRV',\n",
       "       'TSCO', 'TSN', 'TSO', 'TSS', 'TWX', 'TXN', 'TXT', 'UAA', 'UAL',\n",
       "       'UDR', 'UHS', 'ULTA', 'UNH', 'UNM', 'UNP', 'UPS', 'URBN', 'URI',\n",
       "       'USB', 'UTX', 'V', 'VAR', 'VFC', 'VIAB', 'VLO', 'VMC', 'VNO',\n",
       "       'VRSK', 'VRSN', 'VRTX', 'VTR', 'VZ', 'WAT', 'WBA', 'WDC', 'WEC',\n",
       "       'WFC', 'WFM', 'WHR', 'WM', 'WMB', 'WMT', 'WU', 'WY', 'WYN', 'WYNN',\n",
       "       'XEC', 'XEL', 'XL', 'XLNX', 'XOM', 'XRAY', 'XRX', 'YHOO', 'YUM',\n",
       "       'ZBH', 'ZION', 'AIV', 'CHTR', 'LYB', 'GM'], dtype=object)"
      ]
     },
     "execution_count": 60,
     "metadata": {
      "tags": []
     },
     "output_type": "execute_result"
    }
   ],
   "source": [
    "prices[\"symbol\"].unique()"
   ]
  },
  {
   "cell_type": "markdown",
   "metadata": {
    "colab_type": "text",
    "id": "HlLKVPVH_BCT"
   },
   "source": [
    "## Question 2"
   ]
  },
  {
   "cell_type": "markdown",
   "metadata": {
    "colab_type": "text",
    "id": "9J4BlzVA_gZd"
   },
   "source": [
    "### Drop columnns\n",
    "- drop \"date\" and \"symbol\" column from the data"
   ]
  },
  {
   "cell_type": "code",
   "execution_count": 0,
   "metadata": {
    "colab": {},
    "colab_type": "code",
    "id": "IKEK8aEE_Csx"
   },
   "outputs": [],
   "source": [
    "prices = prices.drop(['date','symbol' ], axis=1)\n"
   ]
  },
  {
   "cell_type": "code",
   "execution_count": 62,
   "metadata": {
    "colab": {
     "base_uri": "https://localhost:8080/",
     "height": 80
    },
    "colab_type": "code",
    "executionInfo": {
     "elapsed": 1036,
     "status": "ok",
     "timestamp": 1570964486462,
     "user": {
      "displayName": "Binu Devasahayam",
      "photoUrl": "",
      "userId": "12474820318635626950"
     },
     "user_tz": -330
    },
    "id": "7F4XNtL1xN9g",
    "outputId": "d96f4be6-5807-499e-ca11-e1f0c455b13d"
   },
   "outputs": [
    {
     "data": {
      "text/html": [
       "<div>\n",
       "<style scoped>\n",
       "    .dataframe tbody tr th:only-of-type {\n",
       "        vertical-align: middle;\n",
       "    }\n",
       "\n",
       "    .dataframe tbody tr th {\n",
       "        vertical-align: top;\n",
       "    }\n",
       "\n",
       "    .dataframe thead th {\n",
       "        text-align: right;\n",
       "    }\n",
       "</style>\n",
       "<table border=\"1\" class=\"dataframe\">\n",
       "  <thead>\n",
       "    <tr style=\"text-align: right;\">\n",
       "      <th></th>\n",
       "      <th>open</th>\n",
       "      <th>close</th>\n",
       "      <th>low</th>\n",
       "      <th>high</th>\n",
       "      <th>volume</th>\n",
       "    </tr>\n",
       "  </thead>\n",
       "  <tbody>\n",
       "    <tr>\n",
       "      <th>0</th>\n",
       "      <td>123.43</td>\n",
       "      <td>125.839996</td>\n",
       "      <td>122.309998</td>\n",
       "      <td>126.25</td>\n",
       "      <td>2163600.0</td>\n",
       "    </tr>\n",
       "  </tbody>\n",
       "</table>\n",
       "</div>"
      ],
      "text/plain": [
       "     open       close         low    high     volume\n",
       "0  123.43  125.839996  122.309998  126.25  2163600.0"
      ]
     },
     "execution_count": 62,
     "metadata": {
      "tags": []
     },
     "output_type": "execute_result"
    }
   ],
   "source": [
    "prices.head(1)"
   ]
  },
  {
   "cell_type": "markdown",
   "metadata": {
    "colab_type": "text",
    "id": "cTPhO6v-AiZt"
   },
   "source": [
    "## Question 3"
   ]
  },
  {
   "cell_type": "markdown",
   "metadata": {
    "colab_type": "text",
    "id": "SsZXmF3NAkna"
   },
   "source": [
    "### Take initial rows\n",
    "- Take first 1000 rows from the data\n",
    "- This step is done to make the execution faster"
   ]
  },
  {
   "cell_type": "code",
   "execution_count": 0,
   "metadata": {
    "colab": {},
    "colab_type": "code",
    "id": "aKs04iIHAjxN"
   },
   "outputs": [],
   "source": [
    "prices = prices.iloc[:1000,:]"
   ]
  },
  {
   "cell_type": "code",
   "execution_count": 64,
   "metadata": {
    "colab": {
     "base_uri": "https://localhost:8080/",
     "height": 34
    },
    "colab_type": "code",
    "executionInfo": {
     "elapsed": 1002,
     "status": "ok",
     "timestamp": 1570964499895,
     "user": {
      "displayName": "Binu Devasahayam",
      "photoUrl": "",
      "userId": "12474820318635626950"
     },
     "user_tz": -330
    },
    "id": "HUs7JzFbxd4Q",
    "outputId": "8c1a362f-9a2a-4ccb-8820-118355b2b02e"
   },
   "outputs": [
    {
     "data": {
      "text/plain": [
       "(1000, 5)"
      ]
     },
     "execution_count": 64,
     "metadata": {
      "tags": []
     },
     "output_type": "execute_result"
    }
   ],
   "source": [
    "prices.shape"
   ]
  },
  {
   "cell_type": "markdown",
   "metadata": {
    "colab_type": "text",
    "id": "6vGtnapgBIJm"
   },
   "source": [
    "## Question 4"
   ]
  },
  {
   "cell_type": "markdown",
   "metadata": {
    "colab_type": "text",
    "id": "C8u_jlbABTip"
   },
   "source": [
    "### Get features and label from the dataset in separate variable\n",
    "- Take \"open\", \"close\", \"low\", \"high\" columns as features\n",
    "- Take \"volume\" column as label\n",
    "- Normalize label column by dividing it with 1000000"
   ]
  },
  {
   "cell_type": "code",
   "execution_count": 0,
   "metadata": {
    "colab": {},
    "colab_type": "code",
    "id": "xQjCMzUXBJbg"
   },
   "outputs": [],
   "source": [
    "X = prices.iloc[:,:4]\n",
    "y = prices[\"volume\"]/1000000"
   ]
  },
  {
   "cell_type": "markdown",
   "metadata": {
    "colab_type": "text",
    "id": "aTAKzlxZBz0z"
   },
   "source": [
    "## Question 5"
   ]
  },
  {
   "cell_type": "markdown",
   "metadata": {
    "colab_type": "text",
    "id": "IfY8Km1Zzyt2"
   },
   "source": [
    "### Convert data\n",
    "- Convert features and labels to numpy array\n",
    "- Convert their data type to \"float32\""
   ]
  },
  {
   "cell_type": "code",
   "execution_count": 0,
   "metadata": {
    "colab": {},
    "colab_type": "code",
    "id": "Ko7nnQVbYENh"
   },
   "outputs": [],
   "source": [
    "X_ar = X.values\n",
    "y_ar = y.values\n",
    "X_ar = X_ar.astype(\"float32\")\n",
    "y_ar = y_ar.astype(\"float32\")"
   ]
  },
  {
   "cell_type": "markdown",
   "metadata": {
    "colab_type": "text",
    "id": "3TWpN0nVTpUx"
   },
   "source": [
    "## Question 6"
   ]
  },
  {
   "cell_type": "markdown",
   "metadata": {
    "colab_type": "text",
    "id": "WQ1FKEs-4btX"
   },
   "source": [
    "### Normalize data\n",
    "- Normalize features\n",
    "- Use tf.math.l2_normalize to normalize features\n",
    "- You can read more about it here https://www.tensorflow.org/api_docs/python/tf/math/l2_normalize"
   ]
  },
  {
   "cell_type": "code",
   "execution_count": 0,
   "metadata": {
    "colab": {},
    "colab_type": "code",
    "id": "V0Tfe00X78wB"
   },
   "outputs": [],
   "source": [
    "X_normalized = tf.math.l2_normalize(X_ar)"
   ]
  },
  {
   "cell_type": "markdown",
   "metadata": {
    "colab_type": "text",
    "id": "wmXUGc2oTspa"
   },
   "source": [
    "## Question 7"
   ]
  },
  {
   "cell_type": "markdown",
   "metadata": {
    "colab_type": "text",
    "id": "VJelDMpzxs0L"
   },
   "source": [
    "### Define weight and bias\n",
    "- Initialize weight and bias with tf.zeros\n",
    "- tf.zeros is an initializer that generates tensors initialized to 0\n",
    "- Specify the value for shape"
   ]
  },
  {
   "cell_type": "code",
   "execution_count": 0,
   "metadata": {
    "colab": {},
    "colab_type": "code",
    "id": "8o9RPWVTxs0O"
   },
   "outputs": [],
   "source": [
    "w = tf.zeros(shape= (4,1))\n",
    "b = tf.zeros(shape = (1))"
   ]
  },
  {
   "cell_type": "markdown",
   "metadata": {
    "colab_type": "text",
    "id": "8a0wr94aTyjg"
   },
   "source": [
    "## Question 8"
   ]
  },
  {
   "cell_type": "markdown",
   "metadata": {
    "colab_type": "text",
    "id": "zMXXYdOSxs0Q"
   },
   "source": [
    "### Get prediction\n",
    "- Define a function to get prediction\n",
    "- Approach: prediction = (X * W) + b; here is X is features"
   ]
  },
  {
   "cell_type": "code",
   "execution_count": 0,
   "metadata": {
    "colab": {},
    "colab_type": "code",
    "id": "U8Cty1y0xs0S"
   },
   "outputs": [],
   "source": [
    "def prediction(x, w, b):\n",
    "    \n",
    "    xw_matmul = tf.matmul(x, w)\n",
    "    y = tf.add(xw_matmul, b)\n",
    "    \n",
    "    return y"
   ]
  },
  {
   "cell_type": "markdown",
   "metadata": {
    "colab_type": "text",
    "id": "lQmS3Tauxs0V"
   },
   "source": [
    "### Calculate loss\n",
    "- Calculate loss using predictions\n",
    "- Define a function to calculate loss\n",
    "- We are calculating mean squared error"
   ]
  },
  {
   "cell_type": "code",
   "execution_count": 0,
   "metadata": {
    "colab": {},
    "colab_type": "code",
    "id": "-FRXmDd5xs0X"
   },
   "outputs": [],
   "source": [
    "def loss(y_actual, y_predicted):\n",
    "    \n",
    "    diff = y_actual - y_predicted\n",
    "    sqr = tf.square(diff)\n",
    "    avg = tf.reduce_mean(sqr)\n",
    "    \n",
    "    return avg"
   ]
  },
  {
   "cell_type": "markdown",
   "metadata": {
    "colab_type": "text",
    "id": "ZbBpnOtfT0wd"
   },
   "source": [
    "## Question 9"
   ]
  },
  {
   "cell_type": "markdown",
   "metadata": {
    "colab_type": "text",
    "id": "bkOzAUUsTmF_"
   },
   "source": [
    "### Define a function to train the model\n",
    "1.   Record all the mathematical steps to calculate Loss\n",
    "2.   Calculate Gradients of Loss w.r.t weights and bias\n",
    "3.   Update Weights and Bias based on gradients and learning rate to minimize loss"
   ]
  },
  {
   "cell_type": "code",
   "execution_count": 0,
   "metadata": {
    "colab": {},
    "colab_type": "code",
    "id": "2R4uieGYLYtM"
   },
   "outputs": [],
   "source": [
    "def train(x, y_actual, w, b, learning_rate=0.01):\n",
    "    \n",
    "    #Record mathematical operations on 'tape' to calculate loss\n",
    "    with tf.GradientTape() as t:\n",
    "        \n",
    "        t.watch([w,b])\n",
    "        \n",
    "        current_prediction = prediction(x, w, b)\n",
    "        current_loss = loss(y_actual, current_prediction)\n",
    "    \n",
    "    #Calculate Gradients for Loss with respect to Weights and Bias\n",
    "    dw, db = t.gradient(current_loss,[w, b])\n",
    "    \n",
    "    #Update Weights and Bias\n",
    "    w = w - learning_rate*dw\n",
    "    b = b - learning_rate*db\n",
    "    \n",
    "    return w, b"
   ]
  },
  {
   "cell_type": "markdown",
   "metadata": {
    "colab_type": "text",
    "id": "AW4SEP8kT2ls"
   },
   "source": [
    "## Question 10"
   ]
  },
  {
   "cell_type": "markdown",
   "metadata": {
    "colab_type": "text",
    "id": "yeN0deOvT81N"
   },
   "source": [
    "### Train the model for 100 epochs \n",
    "- Observe the training loss at every iteration"
   ]
  },
  {
   "cell_type": "code",
   "execution_count": 84,
   "metadata": {
    "colab": {
     "base_uri": "https://localhost:8080/",
     "height": 1000
    },
    "colab_type": "code",
    "executionInfo": {
     "elapsed": 2348,
     "status": "ok",
     "timestamp": 1570965683091,
     "user": {
      "displayName": "Binu Devasahayam",
      "photoUrl": "",
      "userId": "12474820318635626950"
     },
     "user_tz": -330
    },
    "id": "Jjkn4gUgLevE",
    "outputId": "5c32d4ab-2fa3-4aa9-cf89-3aba6bcb42d2"
   },
   "outputs": [
    {
     "name": "stdout",
     "output_type": "stream",
     "text": [
      "Current Loss on iteration 0 236.16759\n",
      "Current Loss on iteration 1 235.09299\n",
      "Current Loss on iteration 2 234.06102\n",
      "Current Loss on iteration 3 233.06998\n",
      "Current Loss on iteration 4 232.11781\n",
      "Current Loss on iteration 5 231.20381\n",
      "Current Loss on iteration 6 230.32585\n",
      "Current Loss on iteration 7 229.48265\n",
      "Current Loss on iteration 8 228.67297\n",
      "Current Loss on iteration 9 227.89539\n",
      "Current Loss on iteration 10 227.14832\n",
      "Current Loss on iteration 11 226.43114\n",
      "Current Loss on iteration 12 225.74234\n",
      "Current Loss on iteration 13 225.0808\n",
      "Current Loss on iteration 14 224.44553\n",
      "Current Loss on iteration 15 223.835\n",
      "Current Loss on iteration 16 223.24931\n",
      "Current Loss on iteration 17 222.68655\n",
      "Current Loss on iteration 18 222.14595\n",
      "Current Loss on iteration 19 221.62688\n",
      "Current Loss on iteration 20 221.12842\n",
      "Current Loss on iteration 21 220.6498\n",
      "Current Loss on iteration 22 220.18993\n",
      "Current Loss on iteration 23 219.74841\n",
      "Current Loss on iteration 24 219.32425\n",
      "Current Loss on iteration 25 218.91705\n",
      "Current Loss on iteration 26 218.52579\n",
      "Current Loss on iteration 27 218.15027\n",
      "Current Loss on iteration 28 217.78957\n",
      "Current Loss on iteration 29 217.44315\n",
      "Current Loss on iteration 30 217.11034\n",
      "Current Loss on iteration 31 216.79077\n",
      "Current Loss on iteration 32 216.48412\n",
      "Current Loss on iteration 33 216.18932\n",
      "Current Loss on iteration 34 215.90611\n",
      "Current Loss on iteration 35 215.63437\n",
      "Current Loss on iteration 36 215.37334\n",
      "Current Loss on iteration 37 215.12263\n",
      "Current Loss on iteration 38 214.88185\n",
      "Current Loss on iteration 39 214.65053\n",
      "Current Loss on iteration 40 214.42859\n",
      "Current Loss on iteration 41 214.21527\n",
      "Current Loss on iteration 42 214.01044\n",
      "Current Loss on iteration 43 213.81369\n",
      "Current Loss on iteration 44 213.62482\n",
      "Current Loss on iteration 45 213.44333\n",
      "Current Loss on iteration 46 213.2691\n",
      "Current Loss on iteration 47 213.10179\n",
      "Current Loss on iteration 48 212.94106\n",
      "Current Loss on iteration 49 212.78687\n",
      "Current Loss on iteration 50 212.63857\n",
      "Current Loss on iteration 51 212.4961\n",
      "Current Loss on iteration 52 212.35948\n",
      "Current Loss on iteration 53 212.22816\n",
      "Current Loss on iteration 54 212.10205\n",
      "Current Loss on iteration 55 211.98093\n",
      "Current Loss on iteration 56 211.86461\n",
      "Current Loss on iteration 57 211.75293\n",
      "Current Loss on iteration 58 211.64558\n",
      "Current Loss on iteration 59 211.54266\n",
      "Current Loss on iteration 60 211.44374\n",
      "Current Loss on iteration 61 211.34874\n",
      "Current Loss on iteration 62 211.2575\n",
      "Current Loss on iteration 63 211.16982\n",
      "Current Loss on iteration 64 211.08572\n",
      "Current Loss on iteration 65 211.00484\n",
      "Current Loss on iteration 66 210.92729\n",
      "Current Loss on iteration 67 210.85278\n",
      "Current Loss on iteration 68 210.78104\n",
      "Current Loss on iteration 69 210.71225\n",
      "Current Loss on iteration 70 210.64633\n",
      "Current Loss on iteration 71 210.58289\n",
      "Current Loss on iteration 72 210.52199\n",
      "Current Loss on iteration 73 210.46347\n",
      "Current Loss on iteration 74 210.4073\n",
      "Current Loss on iteration 75 210.3533\n",
      "Current Loss on iteration 76 210.30153\n",
      "Current Loss on iteration 77 210.2518\n",
      "Current Loss on iteration 78 210.204\n",
      "Current Loss on iteration 79 210.15811\n",
      "Current Loss on iteration 80 210.1141\n",
      "Current Loss on iteration 81 210.0717\n",
      "Current Loss on iteration 82 210.03108\n",
      "Current Loss on iteration 83 209.99205\n",
      "Current Loss on iteration 84 209.95453\n",
      "Current Loss on iteration 85 209.91852\n",
      "Current Loss on iteration 86 209.88396\n",
      "Current Loss on iteration 87 209.85075\n",
      "Current Loss on iteration 88 209.81891\n",
      "Current Loss on iteration 89 209.78818\n",
      "Current Loss on iteration 90 209.75874\n",
      "Current Loss on iteration 91 209.73053\n",
      "Current Loss on iteration 92 209.70349\n",
      "Current Loss on iteration 93 209.67744\n",
      "Current Loss on iteration 94 209.65225\n",
      "Current Loss on iteration 95 209.62833\n",
      "Current Loss on iteration 96 209.6052\n",
      "Current Loss on iteration 97 209.58302\n",
      "Current Loss on iteration 98 209.56174\n",
      "Current Loss on iteration 99 209.5413\n"
     ]
    }
   ],
   "source": [
    "for i in range(100):\n",
    "    \n",
    "    w, b = train(X_normalized, y_ar, w, b)\n",
    "    print('Current Loss on iteration', i, loss(y_ar, prediction(X_normalized, w, b)).numpy())"
   ]
  },
  {
   "cell_type": "markdown",
   "metadata": {
    "colab_type": "text",
    "id": "vanvD93FV0_k"
   },
   "source": [
    "### Observe values of Weight\n",
    "- Print the updated values"
   ]
  },
  {
   "cell_type": "code",
   "execution_count": 92,
   "metadata": {
    "colab": {
     "base_uri": "https://localhost:8080/",
     "height": 85
    },
    "colab_type": "code",
    "executionInfo": {
     "elapsed": 1007,
     "status": "ok",
     "timestamp": 1570965844466,
     "user": {
      "displayName": "Binu Devasahayam",
      "photoUrl": "",
      "userId": "12474820318635626950"
     },
     "user_tz": -330
    },
    "id": "QSqpy4gtWaOD",
    "outputId": "2638af91-f7d8-40fe-868e-fc223d8ea580"
   },
   "outputs": [
    {
     "name": "stdout",
     "output_type": "stream",
     "text": [
      "Weight: [[0.0547828 ]\n",
      " [0.05488191]\n",
      " [0.05422735]\n",
      " [0.05533117]]\n"
     ]
    }
   ],
   "source": [
    "print (\"Weight:\", w.numpy())"
   ]
  },
  {
   "cell_type": "markdown",
   "metadata": {
    "colab_type": "text",
    "id": "y9KpRupYUEwy"
   },
   "source": [
    "### Observe values of Bias\n",
    "- Print the updated values"
   ]
  },
  {
   "cell_type": "code",
   "execution_count": 90,
   "metadata": {
    "colab": {
     "base_uri": "https://localhost:8080/",
     "height": 34
    },
    "colab_type": "code",
    "executionInfo": {
     "elapsed": 1190,
     "status": "ok",
     "timestamp": 1570965821002,
     "user": {
      "displayName": "Binu Devasahayam",
      "photoUrl": "",
      "userId": "12474820318635626950"
     },
     "user_tz": -330
    },
    "id": "bhEWkGqHWohg",
    "outputId": "9cd7592d-b8a5-4d75-d938-c65d189a78a1"
   },
   "outputs": [
    {
     "name": "stdout",
     "output_type": "stream",
     "text": [
      "Bias: [4.607657]\n"
     ]
    }
   ],
   "source": [
    "print (\"Bias:\", b.numpy())"
   ]
  },
  {
   "cell_type": "code",
   "execution_count": 0,
   "metadata": {
    "colab": {},
    "colab_type": "code",
    "id": "dnnfpSC53BE3"
   },
   "outputs": [],
   "source": []
  }
 ],
 "metadata": {
  "colab": {
   "collapsed_sections": [],
   "name": "Questions - Internal - R6 - AIML Labs.ipynb",
   "provenance": []
  },
  "kernelspec": {
   "display_name": "Python 3",
   "language": "python",
   "name": "python3"
  },
  "language_info": {
   "codemirror_mode": {
    "name": "ipython",
    "version": 3
   },
   "file_extension": ".py",
   "mimetype": "text/x-python",
   "name": "python",
   "nbconvert_exporter": "python",
   "pygments_lexer": "ipython3",
   "version": "3.6.4"
  }
 },
 "nbformat": 4,
 "nbformat_minor": 1
}
