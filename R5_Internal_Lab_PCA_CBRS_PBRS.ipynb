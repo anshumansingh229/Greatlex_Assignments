{
 "cells": [
  {
   "cell_type": "markdown",
   "metadata": {
    "colab_type": "text",
    "id": "0zAbYvv-WCve"
   },
   "source": [
    "# Principal Component Analysis with Cancer Data"
   ]
  },
  {
   "cell_type": "code",
   "execution_count": 3,
   "metadata": {
    "colab": {},
    "colab_type": "code",
    "id": "1waXlt6iWCvh"
   },
   "outputs": [],
   "source": [
    "#Import all the necessary modules\n",
    "#Import all the necessary modules\n",
    "import pandas as pd\n",
    "import numpy as np\n",
    "import os\n",
    "import seaborn as sns\n",
    "import matplotlib.pyplot as plt\n",
    "%matplotlib inline"
   ]
  },
  {
   "cell_type": "markdown",
   "metadata": {
    "colab_type": "text",
    "id": "6FZ90t1vWCvq"
   },
   "source": [
    "# Q1. Load the Data file into Python DataFrame and view top 10 rows"
   ]
  },
  {
   "cell_type": "code",
   "execution_count": 232,
   "metadata": {
    "scrolled": true
   },
   "outputs": [
    {
     "data": {
      "text/html": [
       "<div>\n",
       "<style scoped>\n",
       "    .dataframe tbody tr th:only-of-type {\n",
       "        vertical-align: middle;\n",
       "    }\n",
       "\n",
       "    .dataframe tbody tr th {\n",
       "        vertical-align: top;\n",
       "    }\n",
       "\n",
       "    .dataframe thead th {\n",
       "        text-align: right;\n",
       "    }\n",
       "</style>\n",
       "<table border=\"1\" class=\"dataframe\">\n",
       "  <thead>\n",
       "    <tr style=\"text-align: right;\">\n",
       "      <th></th>\n",
       "      <th>0</th>\n",
       "      <th>1</th>\n",
       "      <th>2</th>\n",
       "      <th>3</th>\n",
       "      <th>4</th>\n",
       "      <th>5</th>\n",
       "      <th>6</th>\n",
       "      <th>7</th>\n",
       "      <th>8</th>\n",
       "      <th>9</th>\n",
       "      <th>10</th>\n",
       "    </tr>\n",
       "  </thead>\n",
       "  <tbody>\n",
       "    <tr>\n",
       "      <th>0</th>\n",
       "      <td>1000025</td>\n",
       "      <td>5</td>\n",
       "      <td>1</td>\n",
       "      <td>1</td>\n",
       "      <td>1</td>\n",
       "      <td>2</td>\n",
       "      <td>1</td>\n",
       "      <td>3</td>\n",
       "      <td>1</td>\n",
       "      <td>1</td>\n",
       "      <td>2</td>\n",
       "    </tr>\n",
       "    <tr>\n",
       "      <th>1</th>\n",
       "      <td>1002945</td>\n",
       "      <td>5</td>\n",
       "      <td>4</td>\n",
       "      <td>4</td>\n",
       "      <td>5</td>\n",
       "      <td>7</td>\n",
       "      <td>10</td>\n",
       "      <td>3</td>\n",
       "      <td>2</td>\n",
       "      <td>1</td>\n",
       "      <td>2</td>\n",
       "    </tr>\n",
       "    <tr>\n",
       "      <th>2</th>\n",
       "      <td>1015425</td>\n",
       "      <td>3</td>\n",
       "      <td>1</td>\n",
       "      <td>1</td>\n",
       "      <td>1</td>\n",
       "      <td>2</td>\n",
       "      <td>2</td>\n",
       "      <td>3</td>\n",
       "      <td>1</td>\n",
       "      <td>1</td>\n",
       "      <td>2</td>\n",
       "    </tr>\n",
       "    <tr>\n",
       "      <th>3</th>\n",
       "      <td>1016277</td>\n",
       "      <td>6</td>\n",
       "      <td>8</td>\n",
       "      <td>8</td>\n",
       "      <td>1</td>\n",
       "      <td>3</td>\n",
       "      <td>4</td>\n",
       "      <td>3</td>\n",
       "      <td>7</td>\n",
       "      <td>1</td>\n",
       "      <td>2</td>\n",
       "    </tr>\n",
       "    <tr>\n",
       "      <th>4</th>\n",
       "      <td>1017023</td>\n",
       "      <td>4</td>\n",
       "      <td>1</td>\n",
       "      <td>1</td>\n",
       "      <td>3</td>\n",
       "      <td>2</td>\n",
       "      <td>1</td>\n",
       "      <td>3</td>\n",
       "      <td>1</td>\n",
       "      <td>1</td>\n",
       "      <td>2</td>\n",
       "    </tr>\n",
       "    <tr>\n",
       "      <th>5</th>\n",
       "      <td>1017122</td>\n",
       "      <td>8</td>\n",
       "      <td>10</td>\n",
       "      <td>10</td>\n",
       "      <td>8</td>\n",
       "      <td>7</td>\n",
       "      <td>10</td>\n",
       "      <td>9</td>\n",
       "      <td>7</td>\n",
       "      <td>1</td>\n",
       "      <td>4</td>\n",
       "    </tr>\n",
       "    <tr>\n",
       "      <th>6</th>\n",
       "      <td>1018099</td>\n",
       "      <td>1</td>\n",
       "      <td>1</td>\n",
       "      <td>1</td>\n",
       "      <td>1</td>\n",
       "      <td>2</td>\n",
       "      <td>10</td>\n",
       "      <td>3</td>\n",
       "      <td>1</td>\n",
       "      <td>1</td>\n",
       "      <td>2</td>\n",
       "    </tr>\n",
       "    <tr>\n",
       "      <th>7</th>\n",
       "      <td>1018561</td>\n",
       "      <td>2</td>\n",
       "      <td>1</td>\n",
       "      <td>2</td>\n",
       "      <td>1</td>\n",
       "      <td>2</td>\n",
       "      <td>1</td>\n",
       "      <td>3</td>\n",
       "      <td>1</td>\n",
       "      <td>1</td>\n",
       "      <td>2</td>\n",
       "    </tr>\n",
       "    <tr>\n",
       "      <th>8</th>\n",
       "      <td>1033078</td>\n",
       "      <td>2</td>\n",
       "      <td>1</td>\n",
       "      <td>1</td>\n",
       "      <td>1</td>\n",
       "      <td>2</td>\n",
       "      <td>1</td>\n",
       "      <td>1</td>\n",
       "      <td>1</td>\n",
       "      <td>5</td>\n",
       "      <td>2</td>\n",
       "    </tr>\n",
       "    <tr>\n",
       "      <th>9</th>\n",
       "      <td>1033078</td>\n",
       "      <td>4</td>\n",
       "      <td>2</td>\n",
       "      <td>1</td>\n",
       "      <td>1</td>\n",
       "      <td>2</td>\n",
       "      <td>1</td>\n",
       "      <td>2</td>\n",
       "      <td>1</td>\n",
       "      <td>1</td>\n",
       "      <td>2</td>\n",
       "    </tr>\n",
       "  </tbody>\n",
       "</table>\n",
       "</div>"
      ],
      "text/plain": [
       "        0   1   2   3   4   5   6   7   8   9   10\n",
       "0  1000025   5   1   1   1   2   1   3   1   1   2\n",
       "1  1002945   5   4   4   5   7  10   3   2   1   2\n",
       "2  1015425   3   1   1   1   2   2   3   1   1   2\n",
       "3  1016277   6   8   8   1   3   4   3   7   1   2\n",
       "4  1017023   4   1   1   3   2   1   3   1   1   2\n",
       "5  1017122   8  10  10   8   7  10   9   7   1   4\n",
       "6  1018099   1   1   1   1   2  10   3   1   1   2\n",
       "7  1018561   2   1   2   1   2   1   3   1   1   2\n",
       "8  1033078   2   1   1   1   2   1   1   1   5   2\n",
       "9  1033078   4   2   1   1   2   1   2   1   1   2"
      ]
     },
     "execution_count": 232,
     "metadata": {},
     "output_type": "execute_result"
    }
   ],
   "source": [
    "Cancer_df = pd.read_csv(\"breast-cancer-wisconsin.data.txt\" , sep=\",\" , header=None)\n",
    "Cancer_df.head(10)"
   ]
  },
  {
   "cell_type": "code",
   "execution_count": 233,
   "metadata": {
    "colab": {},
    "colab_type": "code",
    "id": "xusO2ruNWCv4"
   },
   "outputs": [],
   "source": [
    "  # Id columns is to identify rows hence can be skipped in analysis\n",
    "  # All columns have numerical values\n",
    "  # Class would be the target variable. Should be removed when PCA is done"
   ]
  },
  {
   "cell_type": "code",
   "execution_count": 234,
   "metadata": {},
   "outputs": [
    {
     "data": {
      "text/html": [
       "<div>\n",
       "<style scoped>\n",
       "    .dataframe tbody tr th:only-of-type {\n",
       "        vertical-align: middle;\n",
       "    }\n",
       "\n",
       "    .dataframe tbody tr th {\n",
       "        vertical-align: top;\n",
       "    }\n",
       "\n",
       "    .dataframe thead th {\n",
       "        text-align: right;\n",
       "    }\n",
       "</style>\n",
       "<table border=\"1\" class=\"dataframe\">\n",
       "  <thead>\n",
       "    <tr style=\"text-align: right;\">\n",
       "      <th></th>\n",
       "      <th>1</th>\n",
       "      <th>2</th>\n",
       "      <th>3</th>\n",
       "      <th>4</th>\n",
       "      <th>5</th>\n",
       "      <th>6</th>\n",
       "      <th>7</th>\n",
       "      <th>8</th>\n",
       "      <th>9</th>\n",
       "      <th>10</th>\n",
       "    </tr>\n",
       "  </thead>\n",
       "  <tbody>\n",
       "    <tr>\n",
       "      <th>0</th>\n",
       "      <td>5</td>\n",
       "      <td>1</td>\n",
       "      <td>1</td>\n",
       "      <td>1</td>\n",
       "      <td>2</td>\n",
       "      <td>1</td>\n",
       "      <td>3</td>\n",
       "      <td>1</td>\n",
       "      <td>1</td>\n",
       "      <td>2</td>\n",
       "    </tr>\n",
       "    <tr>\n",
       "      <th>1</th>\n",
       "      <td>5</td>\n",
       "      <td>4</td>\n",
       "      <td>4</td>\n",
       "      <td>5</td>\n",
       "      <td>7</td>\n",
       "      <td>10</td>\n",
       "      <td>3</td>\n",
       "      <td>2</td>\n",
       "      <td>1</td>\n",
       "      <td>2</td>\n",
       "    </tr>\n",
       "    <tr>\n",
       "      <th>2</th>\n",
       "      <td>3</td>\n",
       "      <td>1</td>\n",
       "      <td>1</td>\n",
       "      <td>1</td>\n",
       "      <td>2</td>\n",
       "      <td>2</td>\n",
       "      <td>3</td>\n",
       "      <td>1</td>\n",
       "      <td>1</td>\n",
       "      <td>2</td>\n",
       "    </tr>\n",
       "    <tr>\n",
       "      <th>3</th>\n",
       "      <td>6</td>\n",
       "      <td>8</td>\n",
       "      <td>8</td>\n",
       "      <td>1</td>\n",
       "      <td>3</td>\n",
       "      <td>4</td>\n",
       "      <td>3</td>\n",
       "      <td>7</td>\n",
       "      <td>1</td>\n",
       "      <td>2</td>\n",
       "    </tr>\n",
       "    <tr>\n",
       "      <th>4</th>\n",
       "      <td>4</td>\n",
       "      <td>1</td>\n",
       "      <td>1</td>\n",
       "      <td>3</td>\n",
       "      <td>2</td>\n",
       "      <td>1</td>\n",
       "      <td>3</td>\n",
       "      <td>1</td>\n",
       "      <td>1</td>\n",
       "      <td>2</td>\n",
       "    </tr>\n",
       "  </tbody>\n",
       "</table>\n",
       "</div>"
      ],
      "text/plain": [
       "   1   2   3   4   5   6   7   8   9   10\n",
       "0   5   1   1   1   2   1   3   1   1   2\n",
       "1   5   4   4   5   7  10   3   2   1   2\n",
       "2   3   1   1   1   2   2   3   1   1   2\n",
       "3   6   8   8   1   3   4   3   7   1   2\n",
       "4   4   1   1   3   2   1   3   1   1   2"
      ]
     },
     "execution_count": 234,
     "metadata": {},
     "output_type": "execute_result"
    }
   ],
   "source": [
    "Cancer_df = Cancer_df.iloc[:, 1:11]\n",
    "Cancer_df.head()"
   ]
  },
  {
   "cell_type": "markdown",
   "metadata": {
    "colab_type": "text",
    "id": "KYTFwE0iWCv_"
   },
   "source": [
    "# Q2 Print the datatypes of each column and the shape of the dataset. Perform descriptive analysis "
   ]
  },
  {
   "cell_type": "code",
   "execution_count": 235,
   "metadata": {},
   "outputs": [
    {
     "name": "stdout",
     "output_type": "stream",
     "text": [
      "\u001b[94m\u001b[1m1. Dimension of Cancer-dataset :\u001b[0m 699  Rows & 10  Columns\n",
      "\u001b[94m\u001b[1m2. There is/are \u001b[0m 0 \u001b[94m\u001b[1mmissing value(s) or na in the Cancer data set.\u001b[0m\n",
      "\u001b[94m\u001b[1m3. Data Info:\u001b[0m\n",
      "--------------------------------------------------\n",
      "<class 'pandas.core.frame.DataFrame'>\n",
      "RangeIndex: 699 entries, 0 to 698\n",
      "Data columns (total 10 columns):\n",
      "1     699 non-null int64\n",
      "2     699 non-null int64\n",
      "3     699 non-null int64\n",
      "4     699 non-null int64\n",
      "5     699 non-null int64\n",
      "6     699 non-null object\n",
      "7     699 non-null int64\n",
      "8     699 non-null int64\n",
      "9     699 non-null int64\n",
      "10    699 non-null int64\n",
      "dtypes: int64(9), object(1)\n",
      "memory usage: 54.7+ KB\n",
      "None\n",
      "\u001b[94m\u001b[1m4. Descriptive analysis:\u001b[0m\n",
      "--------------------------------------------------\n"
     ]
    },
    {
     "data": {
      "text/html": [
       "<div>\n",
       "<style scoped>\n",
       "    .dataframe tbody tr th:only-of-type {\n",
       "        vertical-align: middle;\n",
       "    }\n",
       "\n",
       "    .dataframe tbody tr th {\n",
       "        vertical-align: top;\n",
       "    }\n",
       "\n",
       "    .dataframe thead th {\n",
       "        text-align: right;\n",
       "    }\n",
       "</style>\n",
       "<table border=\"1\" class=\"dataframe\">\n",
       "  <thead>\n",
       "    <tr style=\"text-align: right;\">\n",
       "      <th></th>\n",
       "      <th>count</th>\n",
       "      <th>mean</th>\n",
       "      <th>std</th>\n",
       "      <th>min</th>\n",
       "      <th>25%</th>\n",
       "      <th>50%</th>\n",
       "      <th>75%</th>\n",
       "      <th>max</th>\n",
       "    </tr>\n",
       "  </thead>\n",
       "  <tbody>\n",
       "    <tr>\n",
       "      <th>1</th>\n",
       "      <td>699.0</td>\n",
       "      <td>4.417740</td>\n",
       "      <td>2.815741</td>\n",
       "      <td>1.0</td>\n",
       "      <td>2.0</td>\n",
       "      <td>4.0</td>\n",
       "      <td>6.0</td>\n",
       "      <td>10.0</td>\n",
       "    </tr>\n",
       "    <tr>\n",
       "      <th>2</th>\n",
       "      <td>699.0</td>\n",
       "      <td>3.134478</td>\n",
       "      <td>3.051459</td>\n",
       "      <td>1.0</td>\n",
       "      <td>1.0</td>\n",
       "      <td>1.0</td>\n",
       "      <td>5.0</td>\n",
       "      <td>10.0</td>\n",
       "    </tr>\n",
       "    <tr>\n",
       "      <th>3</th>\n",
       "      <td>699.0</td>\n",
       "      <td>3.207439</td>\n",
       "      <td>2.971913</td>\n",
       "      <td>1.0</td>\n",
       "      <td>1.0</td>\n",
       "      <td>1.0</td>\n",
       "      <td>5.0</td>\n",
       "      <td>10.0</td>\n",
       "    </tr>\n",
       "    <tr>\n",
       "      <th>4</th>\n",
       "      <td>699.0</td>\n",
       "      <td>2.806867</td>\n",
       "      <td>2.855379</td>\n",
       "      <td>1.0</td>\n",
       "      <td>1.0</td>\n",
       "      <td>1.0</td>\n",
       "      <td>4.0</td>\n",
       "      <td>10.0</td>\n",
       "    </tr>\n",
       "    <tr>\n",
       "      <th>5</th>\n",
       "      <td>699.0</td>\n",
       "      <td>3.216023</td>\n",
       "      <td>2.214300</td>\n",
       "      <td>1.0</td>\n",
       "      <td>2.0</td>\n",
       "      <td>2.0</td>\n",
       "      <td>4.0</td>\n",
       "      <td>10.0</td>\n",
       "    </tr>\n",
       "    <tr>\n",
       "      <th>7</th>\n",
       "      <td>699.0</td>\n",
       "      <td>3.437768</td>\n",
       "      <td>2.438364</td>\n",
       "      <td>1.0</td>\n",
       "      <td>2.0</td>\n",
       "      <td>3.0</td>\n",
       "      <td>5.0</td>\n",
       "      <td>10.0</td>\n",
       "    </tr>\n",
       "    <tr>\n",
       "      <th>8</th>\n",
       "      <td>699.0</td>\n",
       "      <td>2.866953</td>\n",
       "      <td>3.053634</td>\n",
       "      <td>1.0</td>\n",
       "      <td>1.0</td>\n",
       "      <td>1.0</td>\n",
       "      <td>4.0</td>\n",
       "      <td>10.0</td>\n",
       "    </tr>\n",
       "    <tr>\n",
       "      <th>9</th>\n",
       "      <td>699.0</td>\n",
       "      <td>1.589413</td>\n",
       "      <td>1.715078</td>\n",
       "      <td>1.0</td>\n",
       "      <td>1.0</td>\n",
       "      <td>1.0</td>\n",
       "      <td>1.0</td>\n",
       "      <td>10.0</td>\n",
       "    </tr>\n",
       "    <tr>\n",
       "      <th>10</th>\n",
       "      <td>699.0</td>\n",
       "      <td>2.689557</td>\n",
       "      <td>0.951273</td>\n",
       "      <td>2.0</td>\n",
       "      <td>2.0</td>\n",
       "      <td>2.0</td>\n",
       "      <td>4.0</td>\n",
       "      <td>4.0</td>\n",
       "    </tr>\n",
       "  </tbody>\n",
       "</table>\n",
       "</div>"
      ],
      "text/plain": [
       "    count      mean       std  min  25%  50%  75%   max\n",
       "1   699.0  4.417740  2.815741  1.0  2.0  4.0  6.0  10.0\n",
       "2   699.0  3.134478  3.051459  1.0  1.0  1.0  5.0  10.0\n",
       "3   699.0  3.207439  2.971913  1.0  1.0  1.0  5.0  10.0\n",
       "4   699.0  2.806867  2.855379  1.0  1.0  1.0  4.0  10.0\n",
       "5   699.0  3.216023  2.214300  1.0  2.0  2.0  4.0  10.0\n",
       "7   699.0  3.437768  2.438364  1.0  2.0  3.0  5.0  10.0\n",
       "8   699.0  2.866953  3.053634  1.0  1.0  1.0  4.0  10.0\n",
       "9   699.0  1.589413  1.715078  1.0  1.0  1.0  1.0  10.0\n",
       "10  699.0  2.689557  0.951273  2.0  2.0  2.0  4.0   4.0"
      ]
     },
     "execution_count": 235,
     "metadata": {},
     "output_type": "execute_result"
    }
   ],
   "source": [
    "print(\"\\033[94m\\033[1m1. Dimension of Cancer-dataset :\\x1b[0m\",list(Cancer_df.shape )[0] ,\n",
    "      \" Rows &\",list(Cancer_df.shape )[1] ,\" Columns\")\n",
    "total_rows1 = list(Cancer_df.shape )[0]\n",
    "print(\"\\033[94m\\033[1m2. There is/are \\x1b[0m\", Cancer_df[Cancer_df.isnull().isna()].count().sum(),\n",
    "       \"\\033[94m\\033[1mmissing value(s) or na in the Cancer data set.\\x1b[0m\")\n",
    "print(\"\\033[94m\\033[1m3. Data Info:\\x1b[0m\")\n",
    "print(\"-\"*50)\n",
    "print(Cancer_df.info())\n",
    "print(\"\\033[94m\\033[1m4. Descriptive analysis:\\x1b[0m\")\n",
    "print(\"-\"*50)\n",
    "Cancer_df.describe().T"
   ]
  },
  {
   "cell_type": "markdown",
   "metadata": {
    "colab_type": "text",
    "id": "ecghJZJIWCwW"
   },
   "source": [
    "# Q3 Check for missing value check, incorrect data, duplicate data and perform imputation with mean, median, mode as necessary.\n"
   ]
  },
  {
   "cell_type": "code",
   "execution_count": 236,
   "metadata": {},
   "outputs": [
    {
     "name": "stdout",
     "output_type": "stream",
     "text": [
      "\u001b[94m\u001b[1mThere is/are \u001b[0m 0 \u001b[94m\u001b[1mmissing value(s) or na in the data set.\u001b[0m\n"
     ]
    }
   ],
   "source": [
    "print(\"\\033[94m\\033[1mThere is/are \\x1b[0m\", Cancer_df[Cancer_df.isnull().isna()].count().sum(),\n",
    "       \"\\033[94m\\033[1mmissing value(s) or na in the data set.\\x1b[0m\")"
   ]
  },
  {
   "cell_type": "code",
   "execution_count": 237,
   "metadata": {
    "scrolled": true
   },
   "outputs": [
    {
     "name": "stderr",
     "output_type": "stream",
     "text": [
      "C:\\Users\\bkumar\\Anaconda3\\lib\\site-packages\\ipykernel_launcher.py:2: FutureWarning: convert_objects is deprecated.  To re-infer data dtypes for object columns, use DataFrame.infer_objects()\n",
      "For all other conversions use the data-type specific converters pd.to_datetime, pd.to_timedelta and pd.to_numeric.\n",
      "  \n"
     ]
    }
   ],
   "source": [
    "Cancer_df = Cancer_df[Cancer_df[6].apply(lambda x: x.isnumeric())]\n",
    "Cancer_df = Cancer_df.convert_objects(convert_numeric=True)"
   ]
  },
  {
   "cell_type": "code",
   "execution_count": 238,
   "metadata": {},
   "outputs": [
    {
     "name": "stdout",
     "output_type": "stream",
     "text": [
      "\u001b[94m\u001b[1m1. Dimension of Cancer-dataset has (After removed all non-numeric entries from numeric columns):\u001b[0m 683  Rows & 10  Columns\n",
      "\n",
      "\u001b[94m\u001b[1m2. Number of rows removed because of  non-numeric entries :\u001b[0m 16\n",
      "\n",
      "\u001b[94m\u001b[1m3. Data Info after removed all non-numeric entries from numeric columns:\u001b[0m\n",
      "----------------------------------------------------------------------\n",
      "<class 'pandas.core.frame.DataFrame'>\n",
      "Int64Index: 683 entries, 0 to 698\n",
      "Data columns (total 10 columns):\n",
      "1     683 non-null int64\n",
      "2     683 non-null int64\n",
      "3     683 non-null int64\n",
      "4     683 non-null int64\n",
      "5     683 non-null int64\n",
      "6     683 non-null int64\n",
      "7     683 non-null int64\n",
      "8     683 non-null int64\n",
      "9     683 non-null int64\n",
      "10    683 non-null int64\n",
      "dtypes: int64(10)\n",
      "memory usage: 58.7 KB\n",
      "None\n"
     ]
    }
   ],
   "source": [
    "print(\"\\033[94m\\033[1m1. Dimension of Cancer-dataset has (After removed all non-numeric entries from numeric columns):\\x1b[0m\",list(Cancer_df.shape )[0] ,\n",
    "      \" Rows &\",list(Cancer_df.shape )[1] ,\" Columns\")\n",
    "print()\n",
    "print(\"\\033[94m\\033[1m2. Number of rows removed because of  non-numeric entries :\\x1b[0m\",total_rows1 - list(Cancer_df.shape )[0] )\n",
    "print()\n",
    "print(\"\\033[94m\\033[1m3. Data Info after removed all non-numeric entries from numeric columns:\\x1b[0m\")\n",
    "print(\"-\"*70)\n",
    "print(Cancer_df.info())"
   ]
  },
  {
   "cell_type": "markdown",
   "metadata": {
    "colab_type": "text",
    "id": "YAu8NvGaWCxr"
   },
   "source": [
    "# Q4. Perform bi variate analysis including correlation, pairplots and state the inferences. \n"
   ]
  },
  {
   "cell_type": "code",
   "execution_count": 239,
   "metadata": {
    "scrolled": true
   },
   "outputs": [
    {
     "name": "stdout",
     "output_type": "stream",
     "text": [
      "\u001b[94m\u001b[1mCorrelation Matrix of the dataset:\u001b[0m\n",
      "-----------------------------------\n"
     ]
    },
    {
     "data": {
      "text/html": [
       "<div>\n",
       "<style scoped>\n",
       "    .dataframe tbody tr th:only-of-type {\n",
       "        vertical-align: middle;\n",
       "    }\n",
       "\n",
       "    .dataframe tbody tr th {\n",
       "        vertical-align: top;\n",
       "    }\n",
       "\n",
       "    .dataframe thead th {\n",
       "        text-align: right;\n",
       "    }\n",
       "</style>\n",
       "<table border=\"1\" class=\"dataframe\">\n",
       "  <thead>\n",
       "    <tr style=\"text-align: right;\">\n",
       "      <th></th>\n",
       "      <th>1</th>\n",
       "      <th>2</th>\n",
       "      <th>3</th>\n",
       "      <th>4</th>\n",
       "      <th>5</th>\n",
       "      <th>6</th>\n",
       "      <th>7</th>\n",
       "      <th>8</th>\n",
       "      <th>9</th>\n",
       "      <th>10</th>\n",
       "    </tr>\n",
       "  </thead>\n",
       "  <tbody>\n",
       "    <tr>\n",
       "      <th>1</th>\n",
       "      <td>1.000000</td>\n",
       "      <td>0.642481</td>\n",
       "      <td>0.653470</td>\n",
       "      <td>0.487829</td>\n",
       "      <td>0.523596</td>\n",
       "      <td>0.593091</td>\n",
       "      <td>0.553742</td>\n",
       "      <td>0.534066</td>\n",
       "      <td>0.350957</td>\n",
       "      <td>0.714790</td>\n",
       "    </tr>\n",
       "    <tr>\n",
       "      <th>2</th>\n",
       "      <td>0.642481</td>\n",
       "      <td>1.000000</td>\n",
       "      <td>0.907228</td>\n",
       "      <td>0.706977</td>\n",
       "      <td>0.753544</td>\n",
       "      <td>0.691709</td>\n",
       "      <td>0.755559</td>\n",
       "      <td>0.719346</td>\n",
       "      <td>0.460755</td>\n",
       "      <td>0.820801</td>\n",
       "    </tr>\n",
       "    <tr>\n",
       "      <th>3</th>\n",
       "      <td>0.653470</td>\n",
       "      <td>0.907228</td>\n",
       "      <td>1.000000</td>\n",
       "      <td>0.685948</td>\n",
       "      <td>0.722462</td>\n",
       "      <td>0.713878</td>\n",
       "      <td>0.735344</td>\n",
       "      <td>0.717963</td>\n",
       "      <td>0.441258</td>\n",
       "      <td>0.821891</td>\n",
       "    </tr>\n",
       "    <tr>\n",
       "      <th>4</th>\n",
       "      <td>0.487829</td>\n",
       "      <td>0.706977</td>\n",
       "      <td>0.685948</td>\n",
       "      <td>1.000000</td>\n",
       "      <td>0.594548</td>\n",
       "      <td>0.670648</td>\n",
       "      <td>0.668567</td>\n",
       "      <td>0.603121</td>\n",
       "      <td>0.418898</td>\n",
       "      <td>0.706294</td>\n",
       "    </tr>\n",
       "    <tr>\n",
       "      <th>5</th>\n",
       "      <td>0.523596</td>\n",
       "      <td>0.753544</td>\n",
       "      <td>0.722462</td>\n",
       "      <td>0.594548</td>\n",
       "      <td>1.000000</td>\n",
       "      <td>0.585716</td>\n",
       "      <td>0.618128</td>\n",
       "      <td>0.628926</td>\n",
       "      <td>0.480583</td>\n",
       "      <td>0.690958</td>\n",
       "    </tr>\n",
       "    <tr>\n",
       "      <th>6</th>\n",
       "      <td>0.593091</td>\n",
       "      <td>0.691709</td>\n",
       "      <td>0.713878</td>\n",
       "      <td>0.670648</td>\n",
       "      <td>0.585716</td>\n",
       "      <td>1.000000</td>\n",
       "      <td>0.680615</td>\n",
       "      <td>0.584280</td>\n",
       "      <td>0.339210</td>\n",
       "      <td>0.822696</td>\n",
       "    </tr>\n",
       "    <tr>\n",
       "      <th>7</th>\n",
       "      <td>0.553742</td>\n",
       "      <td>0.755559</td>\n",
       "      <td>0.735344</td>\n",
       "      <td>0.668567</td>\n",
       "      <td>0.618128</td>\n",
       "      <td>0.680615</td>\n",
       "      <td>1.000000</td>\n",
       "      <td>0.665602</td>\n",
       "      <td>0.346011</td>\n",
       "      <td>0.758228</td>\n",
       "    </tr>\n",
       "    <tr>\n",
       "      <th>8</th>\n",
       "      <td>0.534066</td>\n",
       "      <td>0.719346</td>\n",
       "      <td>0.717963</td>\n",
       "      <td>0.603121</td>\n",
       "      <td>0.628926</td>\n",
       "      <td>0.584280</td>\n",
       "      <td>0.665602</td>\n",
       "      <td>1.000000</td>\n",
       "      <td>0.433757</td>\n",
       "      <td>0.718677</td>\n",
       "    </tr>\n",
       "    <tr>\n",
       "      <th>9</th>\n",
       "      <td>0.350957</td>\n",
       "      <td>0.460755</td>\n",
       "      <td>0.441258</td>\n",
       "      <td>0.418898</td>\n",
       "      <td>0.480583</td>\n",
       "      <td>0.339210</td>\n",
       "      <td>0.346011</td>\n",
       "      <td>0.433757</td>\n",
       "      <td>1.000000</td>\n",
       "      <td>0.423448</td>\n",
       "    </tr>\n",
       "    <tr>\n",
       "      <th>10</th>\n",
       "      <td>0.714790</td>\n",
       "      <td>0.820801</td>\n",
       "      <td>0.821891</td>\n",
       "      <td>0.706294</td>\n",
       "      <td>0.690958</td>\n",
       "      <td>0.822696</td>\n",
       "      <td>0.758228</td>\n",
       "      <td>0.718677</td>\n",
       "      <td>0.423448</td>\n",
       "      <td>1.000000</td>\n",
       "    </tr>\n",
       "  </tbody>\n",
       "</table>\n",
       "</div>"
      ],
      "text/plain": [
       "          1         2         3         4         5         6         7   \\\n",
       "1   1.000000  0.642481  0.653470  0.487829  0.523596  0.593091  0.553742   \n",
       "2   0.642481  1.000000  0.907228  0.706977  0.753544  0.691709  0.755559   \n",
       "3   0.653470  0.907228  1.000000  0.685948  0.722462  0.713878  0.735344   \n",
       "4   0.487829  0.706977  0.685948  1.000000  0.594548  0.670648  0.668567   \n",
       "5   0.523596  0.753544  0.722462  0.594548  1.000000  0.585716  0.618128   \n",
       "6   0.593091  0.691709  0.713878  0.670648  0.585716  1.000000  0.680615   \n",
       "7   0.553742  0.755559  0.735344  0.668567  0.618128  0.680615  1.000000   \n",
       "8   0.534066  0.719346  0.717963  0.603121  0.628926  0.584280  0.665602   \n",
       "9   0.350957  0.460755  0.441258  0.418898  0.480583  0.339210  0.346011   \n",
       "10  0.714790  0.820801  0.821891  0.706294  0.690958  0.822696  0.758228   \n",
       "\n",
       "          8         9         10  \n",
       "1   0.534066  0.350957  0.714790  \n",
       "2   0.719346  0.460755  0.820801  \n",
       "3   0.717963  0.441258  0.821891  \n",
       "4   0.603121  0.418898  0.706294  \n",
       "5   0.628926  0.480583  0.690958  \n",
       "6   0.584280  0.339210  0.822696  \n",
       "7   0.665602  0.346011  0.758228  \n",
       "8   1.000000  0.433757  0.718677  \n",
       "9   0.433757  1.000000  0.423448  \n",
       "10  0.718677  0.423448  1.000000  "
      ]
     },
     "execution_count": 239,
     "metadata": {},
     "output_type": "execute_result"
    }
   ],
   "source": [
    "print(\"\\033[94m\\033[1mCorrelation Matrix of the dataset:\\x1b[0m\")\n",
    "print(\"-\"*35)\n",
    "Cancer_df.corr()"
   ]
  },
  {
   "cell_type": "code",
   "execution_count": 240,
   "metadata": {
    "scrolled": true
   },
   "outputs": [
    {
     "name": "stdout",
     "output_type": "stream",
     "text": [
      "\u001b[94m\u001b[1mCorrelation Heatmap of the cars-dataset:\u001b[0m\n",
      "----------------------------------------\n"
     ]
    },
    {
     "data": {
      "text/plain": [
       "<matplotlib.axes._subplots.AxesSubplot at 0x162bdd69438>"
      ]
     },
     "execution_count": 240,
     "metadata": {},
     "output_type": "execute_result"
    },
    {
     "data": {
      "image/png": "[encoded data removed]",
      "text/plain": [
       "<matplotlib.figure.Figure at 0x162bdd5ed30>"
      ]
     },
     "metadata": {},
     "output_type": "display_data"
    }
   ],
   "source": [
    "print(\"\\033[94m\\033[1mCorrelation Heatmap of the cars-dataset:\\x1b[0m\")\n",
    "print(\"-\"*40)\n",
    "f, ax = plt.subplots(figsize =(9, 8)) \n",
    "sns.heatmap(Cancer_df.corr(), ax = ax, cmap =\"Blues\", linewidths = 0.1) "
   ]
  },
  {
   "cell_type": "code",
   "execution_count": 241,
   "metadata": {},
   "outputs": [
    {
     "name": "stderr",
     "output_type": "stream",
     "text": [
      "C:\\Users\\bkumar\\Anaconda3\\lib\\site-packages\\statsmodels\\nonparametric\\kde.py:494: RuntimeWarning: invalid value encountered in true_divide\n",
      "  binned = fast_linbin(X,a,b,gridsize)/(delta*nobs)\n",
      "C:\\Users\\bkumar\\Anaconda3\\lib\\site-packages\\statsmodels\\nonparametric\\kdetools.py:34: RuntimeWarning: invalid value encountered in double_scalars\n",
      "  FAC1 = 2*(np.pi*bw/RANGE)**2\n",
      "C:\\Users\\bkumar\\Anaconda3\\lib\\site-packages\\numpy\\core\\_methods.py:26: RuntimeWarning: invalid value encountered in reduce\n",
      "  return umr_maximum(a, axis, None, out, keepdims)\n"
     ]
    },
    {
     "data": {
      "text/plain": [
       "<seaborn.axisgrid.PairGrid at 0x162bc0efc50>"
      ]
     },
     "execution_count": 241,
     "metadata": {},
     "output_type": "execute_result"
    },
    {
     "data": {
      "image/png": "[encoded data removed]",
      "text/plain": [
       "<matplotlib.figure.Figure at 0x162bde06c88>"
      ]
     },
     "metadata": {},
     "output_type": "display_data"
    }
   ],
   "source": [
    "sns.pairplot(Cancer_df, diag_kind='kde', hue = 10)"
   ]
  },
  {
   "cell_type": "markdown",
   "metadata": {
    "colab": {},
    "colab_type": "code",
    "id": "ysZh50iDWCxz"
   },
   "source": [
    "**Cell size shows high significance with cell shape,marginal adhesion, single epithelial cell size,bare nuclei, normal nucleoli \n",
    "and bland chromatin\n",
    "**Target variable shows high correlation with most of these variables"
   ]
  },
  {
   "cell_type": "markdown",
   "metadata": {
    "colab": {},
    "colab_type": "code",
    "id": "OTh11akvWCx8"
   },
   "source": [
    "**Relationship between variables shows come correlation. \n",
    "**Distribution of variables shows most of the values are concentrated on lower side, though range remains same for all that is \n",
    "Between 1 to 10"
   ]
  },
  {
   "cell_type": "markdown",
   "metadata": {
    "colab_type": "text",
    "id": "9hxe7D9BWCx-"
   },
   "source": [
    "# Q5 Remove any unwanted columns or outliers, standardize variables in pre-processing step"
   ]
  },
  {
   "cell_type": "code",
   "execution_count": 242,
   "metadata": {},
   "outputs": [
    {
     "data": {
      "text/html": [
       "<div>\n",
       "<style scoped>\n",
       "    .dataframe tbody tr th:only-of-type {\n",
       "        vertical-align: middle;\n",
       "    }\n",
       "\n",
       "    .dataframe tbody tr th {\n",
       "        vertical-align: top;\n",
       "    }\n",
       "\n",
       "    .dataframe thead th {\n",
       "        text-align: right;\n",
       "    }\n",
       "</style>\n",
       "<table border=\"1\" class=\"dataframe\">\n",
       "  <thead>\n",
       "    <tr style=\"text-align: right;\">\n",
       "      <th></th>\n",
       "      <th>1</th>\n",
       "      <th>2</th>\n",
       "      <th>3</th>\n",
       "      <th>4</th>\n",
       "      <th>5</th>\n",
       "      <th>6</th>\n",
       "      <th>7</th>\n",
       "      <th>8</th>\n",
       "      <th>9</th>\n",
       "    </tr>\n",
       "  </thead>\n",
       "  <tbody>\n",
       "    <tr>\n",
       "      <th>0</th>\n",
       "      <td>5</td>\n",
       "      <td>1</td>\n",
       "      <td>1</td>\n",
       "      <td>1</td>\n",
       "      <td>2</td>\n",
       "      <td>1</td>\n",
       "      <td>3</td>\n",
       "      <td>1</td>\n",
       "      <td>1</td>\n",
       "    </tr>\n",
       "  </tbody>\n",
       "</table>\n",
       "</div>"
      ],
      "text/plain": [
       "   1  2  3  4  5  6  7  8  9\n",
       "0  5  1  1  1  2  1  3  1  1"
      ]
     },
     "execution_count": 242,
     "metadata": {},
     "output_type": "execute_result"
    }
   ],
   "source": [
    "Cancer_df = Cancer_df.iloc[:, :9]\n",
    "Cancer_df.head(1)"
   ]
  },
  {
   "cell_type": "code",
   "execution_count": 243,
   "metadata": {
    "scrolled": true
   },
   "outputs": [
    {
     "data": {
      "text/plain": [
       "<matplotlib.axes._subplots.AxesSubplot at 0x162c542a3c8>"
      ]
     },
     "execution_count": 243,
     "metadata": {},
     "output_type": "execute_result"
    },
    {
     "data": {
      "image/png": "[encoded data removed]",
      "text/plain": [
       "<matplotlib.figure.Figure at 0x162c27c0e10>"
      ]
     },
     "metadata": {},
     "output_type": "display_data"
    }
   ],
   "source": [
    "plt.figure()\n",
    "sns.boxplot( data = Cancer_df)"
   ]
  },
  {
   "cell_type": "markdown",
   "metadata": {
    "colab": {},
    "colab_type": "code",
    "id": "ViVkMsQTWCza"
   },
   "source": [
    "We could see most of the outliers are not required to remove"
   ]
  },
  {
   "cell_type": "code",
   "execution_count": 244,
   "metadata": {},
   "outputs": [],
   "source": [
    "from scipy.stats import zscore"
   ]
  },
  {
   "cell_type": "code",
   "execution_count": 245,
   "metadata": {},
   "outputs": [],
   "source": [
    "Cancer_df_z = Cancer_df.apply(zscore)"
   ]
  },
  {
   "cell_type": "markdown",
   "metadata": {
    "colab_type": "text",
    "id": "lmMHMAtkWCzm"
   },
   "source": [
    "# Q6 Create a covariance matrix for identifying Principal components"
   ]
  },
  {
   "cell_type": "code",
   "execution_count": 246,
   "metadata": {},
   "outputs": [],
   "source": [
    "\n",
    "# PCA\n",
    "# Step 1 - Create covariance matrix\n"
   ]
  },
  {
   "cell_type": "code",
   "execution_count": 247,
   "metadata": {
    "scrolled": true
   },
   "outputs": [
    {
     "name": "stdout",
     "output_type": "stream",
     "text": [
      "Covariance Matrix \n",
      "%s [[1.00146628 0.64342355 0.65442815 0.48854401 0.52436377 0.59396107\n",
      "  0.55455439 0.534849   0.35147177]\n",
      " [0.64342355 1.00146628 0.90855848 0.70801357 0.75464892 0.69272299\n",
      "  0.75666702 0.7204008  0.46143029]\n",
      " [0.65442815 0.90855848 1.00146628 0.68695385 0.72352174 0.71492429\n",
      "  0.73642172 0.71901615 0.44190459]\n",
      " [0.48854401 0.70801357 0.68695385 1.00146628 0.59541954 0.67163165\n",
      "  0.66954737 0.6040054  0.41951256]\n",
      " [0.52436377 0.75464892 0.72352174 0.59541954 1.00146628 0.58657495\n",
      "  0.61903424 0.62984858 0.48128796]\n",
      " [0.59396107 0.69272299 0.71492429 0.67163165 0.58657495 1.00146628\n",
      "  0.68161283 0.58513691 0.33970781]\n",
      " [0.55455439 0.75666702 0.73642172 0.66954737 0.61903424 0.68161283\n",
      "  1.00146628 0.66657749 0.34651824]\n",
      " [0.534849   0.7204008  0.71901615 0.6040054  0.62984858 0.58513691\n",
      "  0.66657749 1.00146628 0.43439328]\n",
      " [0.35147177 0.46143029 0.44190459 0.41951256 0.48128796 0.33970781\n",
      "  0.34651824 0.43439328 1.00146628]]\n"
     ]
    }
   ],
   "source": [
    "cov_matrix = np.cov(Cancer_df_z.T)\n",
    "print('Covariance Matrix \\n%s', cov_matrix)"
   ]
  },
  {
   "cell_type": "markdown",
   "metadata": {
    "colab_type": "text",
    "id": "vbZ-YcsdWCzz"
   },
   "source": [
    "# Q7 Identify eigen values and eigen vector"
   ]
  },
  {
   "cell_type": "code",
   "execution_count": 248,
   "metadata": {},
   "outputs": [],
   "source": [
    "eig_vals, eig_vecs = np.linalg.eig(cov_matrix)"
   ]
  },
  {
   "cell_type": "code",
   "execution_count": 249,
   "metadata": {},
   "outputs": [
    {
     "name": "stdout",
     "output_type": "stream",
     "text": [
      "Eigen Vectors \n",
      "%s [[-3.02062573e-01 -1.40800531e-01  8.66372452e-01  2.74743825e-03\n",
      "   1.07828438e-01  8.03212439e-02 -2.47707288e-01  2.42517517e-01\n",
      "  -8.51566756e-03]\n",
      " [-3.80792973e-01 -4.66403106e-02 -1.99378011e-02  7.33210938e-01\n",
      "  -2.04255399e-01 -1.45652870e-01  4.36299814e-01  1.39031681e-01\n",
      "  -2.05434260e-01]\n",
      " [-3.77582540e-01 -8.24224677e-02  3.35108706e-02 -6.67480798e-01\n",
      "  -1.75865604e-01 -1.08391546e-01  5.82726744e-01  7.45271259e-02\n",
      "  -1.27209198e-01]\n",
      " [-3.32723572e-01 -5.20943760e-02 -4.12647341e-01 -4.60192106e-02\n",
      "   4.93172568e-01 -1.95689775e-02 -1.63434032e-01  6.54628771e-01\n",
      "   1.23830400e-01]\n",
      " [-3.36234038e-01  1.64404385e-01 -8.77425288e-02 -6.68906225e-02\n",
      "  -4.27383577e-01 -6.36693247e-01 -4.58669096e-01 -6.93089143e-02\n",
      "   2.11018210e-01]\n",
      " [-3.35067511e-01 -2.61260621e-01  6.91477953e-04  7.65102933e-02\n",
      "   4.98617672e-01 -1.24772942e-01  1.26652879e-01 -6.09220540e-01\n",
      "   4.02790095e-01]\n",
      " [-3.45747366e-01 -2.28076759e-01 -2.13071845e-01 -6.22410470e-02\n",
      "   1.30473383e-02  2.27665715e-01 -3.83718881e-01 -2.98897334e-01\n",
      "  -7.00417365e-01]\n",
      " [-3.35591377e-01  3.39658225e-02 -1.34248356e-01  2.20786922e-02\n",
      "  -4.17113466e-01  6.90210155e-01 -7.40118729e-02 -2.15181955e-02\n",
      "   4.59782742e-01]\n",
      " [-2.30206398e-01  9.05557290e-01  8.04921698e-02 -7.49610083e-03\n",
      "   2.58987810e-01  1.05041675e-01  5.35369325e-02 -1.48345154e-01\n",
      "  -1.32116994e-01]]\n",
      "\n",
      " Eigen Values \n",
      "%s [5.90814964 0.77708464 0.54004293 0.08851281 0.46030139 0.38083342\n",
      " 0.26111817 0.30231909 0.29483439]\n"
     ]
    }
   ],
   "source": [
    "print('Eigen Vectors \\n%s', eig_vecs)\n",
    "print('\\n Eigen Values \\n%s', eig_vals)"
   ]
  },
  {
   "cell_type": "markdown",
   "metadata": {
    "colab_type": "text",
    "id": "-2KqQg2KWCz7"
   },
   "source": [
    "# Q8 Find variance and cumulative variance by each eigen vector"
   ]
  },
  {
   "cell_type": "code",
   "execution_count": 250,
   "metadata": {},
   "outputs": [],
   "source": [
    "eigen_pairs = [(np.abs(eig_vals[i]), eig_vecs[ :, i]) for i in range(len(eig_vals))]"
   ]
  },
  {
   "cell_type": "code",
   "execution_count": 251,
   "metadata": {},
   "outputs": [
    {
     "name": "stdout",
     "output_type": "stream",
     "text": [
      "Cumulative Variance Explained [ 65.54999277  74.17162483  80.16331638  85.2702881   89.49557508\n",
      "  92.84975787  96.12089914  99.01796423 100.        ]\n",
      "Variance Explained [ 65.54999277  74.17162483  80.16331638  85.2702881   89.49557508\n",
      "  92.84975787  96.12089914  99.01796423 100.        ]\n"
     ]
    }
   ],
   "source": [
    "tot = sum(eig_vals)\n",
    "var_exp = [( i /tot ) * 100 for i in sorted(eig_vals, reverse=True)]\n",
    "cum_var_exp = np.cumsum(var_exp)\n",
    "print(\"Cumulative Variance Explained\", cum_var_exp)\n",
    "print(\"Variance Explained\", cum_var_exp)"
   ]
  },
  {
   "cell_type": "markdown",
   "metadata": {
    "colab_type": "text",
    "id": "x8YxQPNGWC0e"
   },
   "source": [
    "# Q9 Use PCA command from sklearn and find Principal Components. Transform data to components formed"
   ]
  },
  {
   "cell_type": "code",
   "execution_count": 252,
   "metadata": {},
   "outputs": [
    {
     "data": {
      "text/plain": [
       "PCA(copy=True, iterated_power='auto', n_components=None, random_state=None,\n",
       "  svd_solver='auto', tol=0.0, whiten=False)"
      ]
     },
     "execution_count": 252,
     "metadata": {},
     "output_type": "execute_result"
    }
   ],
   "source": [
    "from sklearn.decomposition import PCA\n",
    "pca = PCA().fit(Cancer_df)\n",
    "pca"
   ]
  },
  {
   "cell_type": "code",
   "execution_count": 253,
   "metadata": {},
   "outputs": [
    {
     "data": {
      "text/plain": [
       "array([[ 0.29673577,  0.40397067,  0.39275858,  0.33120214,  0.24973982,\n",
       "         0.44261347,  0.29207832,  0.35453597,  0.12457633],\n",
       "       [-0.07350664,  0.22992885,  0.16470098, -0.09819754,  0.20021505,\n",
       "        -0.78056963,  0.00847974,  0.46919452,  0.18806889],\n",
       "       [-0.85200897, -0.02627438, -0.07445454,  0.47385846,  0.03165568,\n",
       "         0.09341837,  0.12241209,  0.13372376,  0.02663127],\n",
       "       [ 0.04706374,  0.29461882,  0.20651466,  0.39419863,  0.18882266,\n",
       "        -0.29438441, -0.04122305, -0.75394927,  0.14313933],\n",
       "       [-0.39976537,  0.33796907,  0.37015092, -0.64249922,  0.19505447,\n",
       "         0.16867448,  0.09259014, -0.19689024, -0.24962286],\n",
       "       [-0.09754668, -0.09240845, -0.08733061, -0.18980035,  0.40135442,\n",
       "         0.25296268, -0.46305857, -0.00420984,  0.70624221],\n",
       "       [-0.03612583,  0.17495075,  0.34688571,  0.18381614, -0.28345153,\n",
       "         0.05368932, -0.79596032,  0.15775058, -0.26889348],\n",
       "       [ 0.08795577, -0.13045578, -0.24226147,  0.12769869,  0.75394913,\n",
       "        -0.01838232, -0.18371288,  0.05796151, -0.54254984],\n",
       "       [ 0.00643272,  0.72530059, -0.66840395, -0.04246451, -0.11389555,\n",
       "         0.06126616, -0.0873777 ,  0.02847686, -0.01261209]])"
      ]
     },
     "execution_count": 253,
     "metadata": {},
     "output_type": "execute_result"
    }
   ],
   "source": [
    "pca.components_"
   ]
  },
  {
   "cell_type": "code",
   "execution_count": 254,
   "metadata": {},
   "outputs": [
    {
     "data": {
      "text/html": [
       "<div>\n",
       "<style scoped>\n",
       "    .dataframe tbody tr th:only-of-type {\n",
       "        vertical-align: middle;\n",
       "    }\n",
       "\n",
       "    .dataframe tbody tr th {\n",
       "        vertical-align: top;\n",
       "    }\n",
       "\n",
       "    .dataframe thead th {\n",
       "        text-align: right;\n",
       "    }\n",
       "</style>\n",
       "<table border=\"1\" class=\"dataframe\">\n",
       "  <thead>\n",
       "    <tr style=\"text-align: right;\">\n",
       "      <th></th>\n",
       "      <th>0</th>\n",
       "      <th>1</th>\n",
       "      <th>2</th>\n",
       "      <th>3</th>\n",
       "      <th>4</th>\n",
       "      <th>5</th>\n",
       "      <th>6</th>\n",
       "      <th>7</th>\n",
       "      <th>8</th>\n",
       "    </tr>\n",
       "  </thead>\n",
       "  <tbody>\n",
       "    <tr>\n",
       "      <th>0</th>\n",
       "      <td>-4.482102</td>\n",
       "      <td>0.024023</td>\n",
       "      <td>-1.718432</td>\n",
       "      <td>0.07137</td>\n",
       "      <td>-0.786475</td>\n",
       "      <td>-0.665963</td>\n",
       "      <td>-1.066513</td>\n",
       "      <td>0.049489</td>\n",
       "      <td>-0.020077</td>\n",
       "    </tr>\n",
       "  </tbody>\n",
       "</table>\n",
       "</div>"
      ],
      "text/plain": [
       "          0         1         2        3         4         5         6  \\\n",
       "0 -4.482102  0.024023 -1.718432  0.07137 -0.786475 -0.665963 -1.066513   \n",
       "\n",
       "          7         8  \n",
       "0  0.049489 -0.020077  "
      ]
     },
     "execution_count": 254,
     "metadata": {},
     "output_type": "execute_result"
    }
   ],
   "source": [
    "pca_comp_df = pd.DataFrame(pca.transform(Cancer_df))\n",
    "pca_comp_df.head(1)"
   ]
  },
  {
   "cell_type": "markdown",
   "metadata": {
    "colab_type": "text",
    "id": "8L-IGI0QWC0t"
   },
   "source": [
    "# Q10 Find correlation between components and features"
   ]
  },
  {
   "cell_type": "code",
   "execution_count": 255,
   "metadata": {},
   "outputs": [],
   "source": [
    "pca1 = pd.concat([pca_comp_df.iloc[:,0] , Cancer_df],axis=1, join='inner')\n",
    "pca2 = pd.concat([pca_comp_df.iloc[:,1] , Cancer_df],axis=1, join='inner')\n",
    "pca3 = pd.concat([pca_comp_df.iloc[:,2] , Cancer_df],axis=1, join='inner')\n",
    "pca4 = pd.concat([pca_comp_df.iloc[:,3] , Cancer_df],axis=1, join='inner')\n",
    "pca5 = pd.concat([pca_comp_df.iloc[:,4] , Cancer_df],axis=1, join='inner')\n",
    "pca6 = pd.concat([pca_comp_df.iloc[:,5] , Cancer_df],axis=1, join='inner')\n",
    "pca7 = pd.concat([pca_comp_df.iloc[:,6] , Cancer_df],axis=1, join='inner')\n",
    "pca8 = pd.concat([pca_comp_df.iloc[:,7] , Cancer_df],axis=1, join='inner')\n",
    "pca9 = pd.concat([pca_comp_df.iloc[:,8] , Cancer_df],axis=1, join='inner')"
   ]
  },
  {
   "cell_type": "code",
   "execution_count": 257,
   "metadata": {
    "colab": {},
    "colab_type": "code",
    "id": "bXUp9TCDWC1G"
   },
   "outputs": [
    {
     "name": "stdout",
     "output_type": "stream",
     "text": [
      "\u001b[94m\u001b[1mCorrelation Matrix of the component # 1 (PCA1 = Labled as 0) and features:\u001b[0m\n",
      "---------------------------------------------------------------------------\n",
      "          0         1         2         3         4         5         6  \\\n",
      "0  1.000000  0.089821  0.070102  0.087141  0.031785  0.054979  0.085306   \n",
      "1  0.089821  1.000000  0.646360  0.656521  0.485276  0.521577  0.589907   \n",
      "2  0.070102  0.646360  1.000000  0.904673  0.708354  0.755149  0.695063   \n",
      "3  0.087141  0.656521  0.904673  1.000000  0.686519  0.722521  0.716973   \n",
      "4  0.031785  0.485276  0.708354  0.686519  1.000000  0.593798  0.668539   \n",
      "5  0.054979  0.521577  0.755149  0.722521  0.593798  1.000000  0.584690   \n",
      "6  0.085306  0.589907  0.695063  0.716973  0.668539  0.584690  1.000000   \n",
      "7  0.089604  0.555854  0.752076  0.732564  0.671104  0.620012  0.685166   \n",
      "8  0.062082  0.533290  0.717099  0.715820  0.603229  0.625857  0.584770   \n",
      "9  0.033082  0.360141  0.475849  0.455326  0.427263  0.488737  0.345721   \n",
      "\n",
      "          7         8         9  \n",
      "0  0.089604  0.062082  0.033082  \n",
      "1  0.555854  0.533290  0.360141  \n",
      "2  0.752076  0.717099  0.475849  \n",
      "3  0.732564  0.715820  0.455326  \n",
      "4  0.671104  0.603229  0.427263  \n",
      "5  0.620012  0.625857  0.488737  \n",
      "6  0.685166  0.584770  0.345721  \n",
      "7  1.000000  0.663389  0.360545  \n",
      "8  0.663389  1.000000  0.443125  \n",
      "9  0.360545  0.443125  1.000000  \n",
      "\u001b[94m\u001b[1mCorrelation Matrix of the component # 2 (PCA2 = Labled as 1) and features:\u001b[0m\n",
      "---------------------------------------------------------------------------\n",
      "          1         1         2         3         4         5         6  \\\n",
      "1  1.000000 -0.012706 -0.009135  0.023948 -0.027182  0.006412 -0.042683   \n",
      "1 -0.012706  1.000000  0.646360  0.656521  0.485276  0.521577  0.589907   \n",
      "2 -0.009135  0.646360  1.000000  0.904673  0.708354  0.755149  0.695063   \n",
      "3  0.023948  0.656521  0.904673  1.000000  0.686519  0.722521  0.716973   \n",
      "4 -0.027182  0.485276  0.708354  0.686519  1.000000  0.593798  0.668539   \n",
      "5  0.006412  0.521577  0.755149  0.722521  0.593798  1.000000  0.584690   \n",
      "6 -0.042683  0.589907  0.695063  0.716973  0.668539  0.584690  1.000000   \n",
      "7  0.008666  0.555854  0.752076  0.732564  0.671104  0.620012  0.685166   \n",
      "8 -0.025903  0.533290  0.717099  0.715820  0.603229  0.625857  0.584770   \n",
      "9 -0.021915  0.360141  0.475849  0.455326  0.427263  0.488737  0.345721   \n",
      "\n",
      "          7         8         9  \n",
      "1  0.008666 -0.025903 -0.021915  \n",
      "1  0.555854  0.533290  0.360141  \n",
      "2  0.752076  0.717099  0.475849  \n",
      "3  0.732564  0.715820  0.455326  \n",
      "4  0.671104  0.603229  0.427263  \n",
      "5  0.620012  0.625857  0.488737  \n",
      "6  0.685166  0.584770  0.345721  \n",
      "7  1.000000  0.663389  0.360545  \n",
      "8  0.663389  1.000000  0.443125  \n",
      "9  0.360545  0.443125  1.000000  \n",
      "\u001b[94m\u001b[1mCorrelation Matrix of the component # 3 (PCA3 = Labled as 2) and features:\u001b[0m\n",
      "---------------------------------------------------------------------------\n",
      "          2         1         2         3         4         5         6  \\\n",
      "2  1.000000 -0.098099 -0.039606 -0.056779 -0.035630 -0.057185 -0.028090   \n",
      "1 -0.098099  1.000000  0.646360  0.656521  0.485276  0.521577  0.589907   \n",
      "2 -0.039606  0.646360  1.000000  0.904673  0.708354  0.755149  0.695063   \n",
      "3 -0.056779  0.656521  0.904673  1.000000  0.686519  0.722521  0.716973   \n",
      "4 -0.035630  0.485276  0.708354  0.686519  1.000000  0.593798  0.668539   \n",
      "5 -0.057185  0.521577  0.755149  0.722521  0.593798  1.000000  0.584690   \n",
      "6 -0.028090  0.589907  0.695063  0.716973  0.668539  0.584690  1.000000   \n",
      "7 -0.088034  0.555854  0.752076  0.732564  0.671104  0.620012  0.685166   \n",
      "8 -0.094402  0.533290  0.717099  0.715820  0.603229  0.625857  0.584770   \n",
      "9  0.033011  0.360141  0.475849  0.455326  0.427263  0.488737  0.345721   \n",
      "\n",
      "          7         8         9  \n",
      "2 -0.088034 -0.094402  0.033011  \n",
      "1  0.555854  0.533290  0.360141  \n",
      "2  0.752076  0.717099  0.475849  \n",
      "3  0.732564  0.715820  0.455326  \n",
      "4  0.671104  0.603229  0.427263  \n",
      "5  0.620012  0.625857  0.488737  \n",
      "6  0.685166  0.584770  0.345721  \n",
      "7  1.000000  0.663389  0.360545  \n",
      "8  0.663389  1.000000  0.443125  \n",
      "9  0.360545  0.443125  1.000000  \n",
      "\u001b[94m\u001b[1mCorrelation Matrix of the component # 4 (PCA4 = Labled as 3) and features:\u001b[0m\n",
      "---------------------------------------------------------------------------\n",
      "          3         1         2         3         4         5         6  \\\n",
      "3  1.000000 -0.056477 -0.099929 -0.065448 -0.063114 -0.089591 -0.085059   \n",
      "1 -0.056477  1.000000  0.646360  0.656521  0.485276  0.521577  0.589907   \n",
      "2 -0.099929  0.646360  1.000000  0.904673  0.708354  0.755149  0.695063   \n",
      "3 -0.065448  0.656521  0.904673  1.000000  0.686519  0.722521  0.716973   \n",
      "4 -0.063114  0.485276  0.708354  0.686519  1.000000  0.593798  0.668539   \n",
      "5 -0.089591  0.521577  0.755149  0.722521  0.593798  1.000000  0.584690   \n",
      "6 -0.085059  0.589907  0.695063  0.716973  0.668539  0.584690  1.000000   \n",
      "7 -0.073942  0.555854  0.752076  0.732564  0.671104  0.620012  0.685166   \n",
      "8 -0.072940  0.533290  0.717099  0.715820  0.603229  0.625857  0.584770   \n",
      "9 -0.085540  0.360141  0.475849  0.455326  0.427263  0.488737  0.345721   \n",
      "\n",
      "          7         8         9  \n",
      "3 -0.073942 -0.072940 -0.085540  \n",
      "1  0.555854  0.533290  0.360141  \n",
      "2  0.752076  0.717099  0.475849  \n",
      "3  0.732564  0.715820  0.455326  \n",
      "4  0.671104  0.603229  0.427263  \n",
      "5  0.620012  0.625857  0.488737  \n",
      "6  0.685166  0.584770  0.345721  \n",
      "7  1.000000  0.663389  0.360545  \n",
      "8  0.663389  1.000000  0.443125  \n",
      "9  0.360545  0.443125  1.000000  \n",
      "\u001b[94m\u001b[1mCorrelation Matrix of the component # 5 (PCA5 = Labled as 4) and features:\u001b[0m\n",
      "---------------------------------------------------------------------------\n",
      "          4         1         2         3         4         5         6  \\\n",
      "4  1.000000 -0.004360  0.017446  0.001829 -0.050592 -0.006475 -0.004080   \n",
      "1 -0.004360  1.000000  0.646360  0.656521  0.485276  0.521577  0.589907   \n",
      "2  0.017446  0.646360  1.000000  0.904673  0.708354  0.755149  0.695063   \n",
      "3  0.001829  0.656521  0.904673  1.000000  0.686519  0.722521  0.716973   \n",
      "4 -0.050592  0.485276  0.708354  0.686519  1.000000  0.593798  0.668539   \n",
      "5 -0.006475  0.521577  0.755149  0.722521  0.593798  1.000000  0.584690   \n",
      "6 -0.004080  0.589907  0.695063  0.716973  0.668539  0.584690  1.000000   \n",
      "7 -0.029023  0.555854  0.752076  0.732564  0.671104  0.620012  0.685166   \n",
      "8 -0.037342  0.533290  0.717099  0.715820  0.603229  0.625857  0.584770   \n",
      "9  0.005286  0.360141  0.475849  0.455326  0.427263  0.488737  0.345721   \n",
      "\n",
      "          7         8         9  \n",
      "4 -0.029023 -0.037342  0.005286  \n",
      "1  0.555854  0.533290  0.360141  \n",
      "2  0.752076  0.717099  0.475849  \n",
      "3  0.732564  0.715820  0.455326  \n",
      "4  0.671104  0.603229  0.427263  \n",
      "5  0.620012  0.625857  0.488737  \n",
      "6  0.685166  0.584770  0.345721  \n",
      "7  1.000000  0.663389  0.360545  \n",
      "8  0.663389  1.000000  0.443125  \n",
      "9  0.360545  0.443125  1.000000  \n",
      "\u001b[94m\u001b[1mCorrelation Matrix of the component # 6 (PCA6 = Labled as 5) and features:\u001b[0m\n",
      "---------------------------------------------------------------------------\n",
      "          5         1         2         3         4         5         6  \\\n",
      "5  1.000000 -0.025943  0.004585 -0.016288 -0.026120  0.005155  0.013977   \n",
      "1 -0.025943  1.000000  0.646360  0.656521  0.485276  0.521577  0.589907   \n",
      "2  0.004585  0.646360  1.000000  0.904673  0.708354  0.755149  0.695063   \n",
      "3 -0.016288  0.656521  0.904673  1.000000  0.686519  0.722521  0.716973   \n",
      "4 -0.026120  0.485276  0.708354  0.686519  1.000000  0.593798  0.668539   \n",
      "5  0.005155  0.521577  0.755149  0.722521  0.593798  1.000000  0.584690   \n",
      "6  0.013977  0.589907  0.695063  0.716973  0.668539  0.584690  1.000000   \n",
      "7 -0.016678  0.555854  0.752076  0.732564  0.671104  0.620012  0.685166   \n",
      "8 -0.000469  0.533290  0.717099  0.715820  0.603229  0.625857  0.584770   \n",
      "9  0.053821  0.360141  0.475849  0.455326  0.427263  0.488737  0.345721   \n",
      "\n",
      "          7         8         9  \n",
      "5 -0.016678 -0.000469  0.053821  \n",
      "1  0.555854  0.533290  0.360141  \n",
      "2  0.752076  0.717099  0.475849  \n",
      "3  0.732564  0.715820  0.455326  \n",
      "4  0.671104  0.603229  0.427263  \n",
      "5  0.620012  0.625857  0.488737  \n",
      "6  0.685166  0.584770  0.345721  \n",
      "7  1.000000  0.663389  0.360545  \n",
      "8  0.663389  1.000000  0.443125  \n",
      "9  0.360545  0.443125  1.000000  \n",
      "\u001b[94m\u001b[1mCorrelation Matrix of the component # 7 (PCA7 = Labled as 6) and features:\u001b[0m\n",
      "---------------------------------------------------------------------------\n",
      "          6         1         2         3         4         5         6  \\\n",
      "6  1.000000  0.033405  0.032819  0.023924 -0.000150  0.024109  0.028762   \n",
      "1  0.033405  1.000000  0.646360  0.656521  0.485276  0.521577  0.589907   \n",
      "2  0.032819  0.646360  1.000000  0.904673  0.708354  0.755149  0.695063   \n",
      "3  0.023924  0.656521  0.904673  1.000000  0.686519  0.722521  0.716973   \n",
      "4 -0.000150  0.485276  0.708354  0.686519  1.000000  0.593798  0.668539   \n",
      "5  0.024109  0.521577  0.755149  0.722521  0.593798  1.000000  0.584690   \n",
      "6  0.028762  0.589907  0.695063  0.716973  0.668539  0.584690  1.000000   \n",
      "7  0.031927  0.555854  0.752076  0.732564  0.671104  0.620012  0.685166   \n",
      "8 -0.028683  0.533290  0.717099  0.715820  0.603229  0.625857  0.584770   \n",
      "9  0.045533  0.360141  0.475849  0.455326  0.427263  0.488737  0.345721   \n",
      "\n",
      "          7         8         9  \n",
      "6  0.031927 -0.028683  0.045533  \n",
      "1  0.555854  0.533290  0.360141  \n",
      "2  0.752076  0.717099  0.475849  \n",
      "3  0.732564  0.715820  0.455326  \n",
      "4  0.671104  0.603229  0.427263  \n",
      "5  0.620012  0.625857  0.488737  \n",
      "6  0.685166  0.584770  0.345721  \n",
      "7  1.000000  0.663389  0.360545  \n",
      "8  0.663389  1.000000  0.443125  \n",
      "9  0.360545  0.443125  1.000000  \n",
      "\u001b[94m\u001b[1mCorrelation Matrix of the component # 8 (PCA8 = Labled as 7) and features:\u001b[0m\n",
      "---------------------------------------------------------------------------\n",
      "          7         1         2         3         4         5         6  \\\n",
      "7  1.000000  0.080790  0.076737  0.064927  0.055000  0.056287  0.050316   \n",
      "1  0.080790  1.000000  0.646360  0.656521  0.485276  0.521577  0.589907   \n",
      "2  0.076737  0.646360  1.000000  0.904673  0.708354  0.755149  0.695063   \n",
      "3  0.064927  0.656521  0.904673  1.000000  0.686519  0.722521  0.716973   \n",
      "4  0.055000  0.485276  0.708354  0.686519  1.000000  0.593798  0.668539   \n",
      "5  0.056287  0.521577  0.755149  0.722521  0.593798  1.000000  0.584690   \n",
      "6  0.050316  0.589907  0.695063  0.716973  0.668539  0.584690  1.000000   \n",
      "7  0.025351  0.555854  0.752076  0.732564  0.671104  0.620012  0.685166   \n",
      "8  0.084789  0.533290  0.717099  0.715820  0.603229  0.625857  0.584770   \n",
      "9  0.095609  0.360141  0.475849  0.455326  0.427263  0.488737  0.345721   \n",
      "\n",
      "          7         8         9  \n",
      "7  0.025351  0.084789  0.095609  \n",
      "1  0.555854  0.533290  0.360141  \n",
      "2  0.752076  0.717099  0.475849  \n",
      "3  0.732564  0.715820  0.455326  \n",
      "4  0.671104  0.603229  0.427263  \n",
      "5  0.620012  0.625857  0.488737  \n",
      "6  0.685166  0.584770  0.345721  \n",
      "7  1.000000  0.663389  0.360545  \n",
      "8  0.663389  1.000000  0.443125  \n",
      "9  0.360545  0.443125  1.000000  \n",
      "\u001b[94m\u001b[1mCorrelation Matrix of the component # 9 (PCA9 = Labled as 8) and features:\u001b[0m\n",
      "---------------------------------------------------------------------------\n",
      "          8         1         2         3         4         5         6  \\\n",
      "8  1.000000 -0.062756 -0.047381 -0.067503 -0.001585 -0.035927 -0.037819   \n",
      "1 -0.062756  1.000000  0.646360  0.656521  0.485276  0.521577  0.589907   \n",
      "2 -0.047381  0.646360  1.000000  0.904673  0.708354  0.755149  0.695063   \n",
      "3 -0.067503  0.656521  0.904673  1.000000  0.686519  0.722521  0.716973   \n",
      "4 -0.001585  0.485276  0.708354  0.686519  1.000000  0.593798  0.668539   \n",
      "5 -0.035927  0.521577  0.755149  0.722521  0.593798  1.000000  0.584690   \n",
      "6 -0.037819  0.589907  0.695063  0.716973  0.668539  0.584690  1.000000   \n",
      "7  0.009727  0.555854  0.752076  0.732564  0.671104  0.620012  0.685166   \n",
      "8  0.000300  0.533290  0.717099  0.715820  0.603229  0.625857  0.584770   \n",
      "9 -0.050768  0.360141  0.475849  0.455326  0.427263  0.488737  0.345721   \n",
      "\n",
      "          7         8         9  \n",
      "8  0.009727  0.000300 -0.050768  \n",
      "1  0.555854  0.533290  0.360141  \n",
      "2  0.752076  0.717099  0.475849  \n",
      "3  0.732564  0.715820  0.455326  \n",
      "4  0.671104  0.603229  0.427263  \n",
      "5  0.620012  0.625857  0.488737  \n",
      "6  0.685166  0.584770  0.345721  \n",
      "7  1.000000  0.663389  0.360545  \n",
      "8  0.663389  1.000000  0.443125  \n",
      "9  0.360545  0.443125  1.000000  \n"
     ]
    }
   ],
   "source": [
    "print(\"\\033[94m\\033[1mCorrelation Matrix of the component # 1 (PCA1 = Labled as 0) and features:\\x1b[0m\")\n",
    "print(\"-\"*75)\n",
    "print(pca1.corr())\n",
    "print(\"\\033[94m\\033[1mCorrelation Matrix of the component # 2 (PCA2 = Labled as 1) and features:\\x1b[0m\")\n",
    "print(\"-\"*75)\n",
    "print(pca2.corr())\n",
    "print(\"\\033[94m\\033[1mCorrelation Matrix of the component # 3 (PCA3 = Labled as 2) and features:\\x1b[0m\")\n",
    "print(\"-\"*75)\n",
    "print(pca3.corr())\n",
    "print(\"\\033[94m\\033[1mCorrelation Matrix of the component # 4 (PCA4 = Labled as 3) and features:\\x1b[0m\")\n",
    "print(\"-\"*75)\n",
    "print(pca4.corr())\n",
    "print(\"\\033[94m\\033[1mCorrelation Matrix of the component # 5 (PCA5 = Labled as 4) and features:\\x1b[0m\")\n",
    "print(\"-\"*75)\n",
    "print(pca5.corr())\n",
    "print(\"\\033[94m\\033[1mCorrelation Matrix of the component # 6 (PCA6 = Labled as 5) and features:\\x1b[0m\")\n",
    "print(\"-\"*75)\n",
    "print(pca6.corr())\n",
    "print(\"\\033[94m\\033[1mCorrelation Matrix of the component # 7 (PCA7 = Labled as 6) and features:\\x1b[0m\")\n",
    "print(\"-\"*75)\n",
    "print(pca7.corr())\n",
    "print(\"\\033[94m\\033[1mCorrelation Matrix of the component # 8 (PCA8 = Labled as 7) and features:\\x1b[0m\")\n",
    "print(\"-\"*75)\n",
    "print(pca8.corr())\n",
    "print(\"\\033[94m\\033[1mCorrelation Matrix of the component # 9 (PCA9 = Labled as 8) and features:\\x1b[0m\")\n",
    "print(\"-\"*75)\n",
    "print(pca9.corr())\n"
   ]
  },
  {
   "cell_type": "markdown",
   "metadata": {},
   "source": [
    "# Content Based Recommendation System - Optional ( Q11 - Q19 will not be graded)"
   ]
  },
  {
   "cell_type": "markdown",
   "metadata": {},
   "source": [
    "# Q11 Read the Dataset `movies_metadata.csv`"
   ]
  },
  {
   "cell_type": "code",
   "execution_count": null,
   "metadata": {},
   "outputs": [],
   "source": []
  },
  {
   "cell_type": "markdown",
   "metadata": {},
   "source": [
    "# Q12 Create a new column with name 'description' combining `'overview' and 'tagline'` columns in the given dataset"
   ]
  },
  {
   "cell_type": "code",
   "execution_count": null,
   "metadata": {},
   "outputs": [],
   "source": []
  },
  {
   "cell_type": "markdown",
   "metadata": {},
   "source": [
    "# Q13  Lets drop the null values in `description` column"
   ]
  },
  {
   "cell_type": "code",
   "execution_count": null,
   "metadata": {},
   "outputs": [],
   "source": []
  },
  {
   "cell_type": "markdown",
   "metadata": {},
   "source": [
    "# Q14 Keep the first occurance and drop duplicates of each title in column `title`"
   ]
  },
  {
   "cell_type": "code",
   "execution_count": null,
   "metadata": {},
   "outputs": [],
   "source": []
  },
  {
   "cell_type": "markdown",
   "metadata": {},
   "source": [
    "# Q15   As we might have dropped a few rows with duplicate `title` in above step, just reset the index [make sure you are not adding any new column to the dataframe while doing reset index]"
   ]
  },
  {
   "cell_type": "code",
   "execution_count": null,
   "metadata": {},
   "outputs": [],
   "source": []
  },
  {
   "cell_type": "markdown",
   "metadata": {},
   "source": [
    "# Q16    Generate tf-idf matrix using the column `description`. Consider till 3-grams, with minimum document frequency as 0.\n",
    "\n",
    "Hint:\n",
    "tf = TfidfVectorizer(analyzer='word', ngram_range=(1, 3), min_df=0, stop_words='english')"
   ]
  },
  {
   "cell_type": "code",
   "execution_count": null,
   "metadata": {},
   "outputs": [],
   "source": []
  },
  {
   "cell_type": "markdown",
   "metadata": {},
   "source": [
    "# Q17  Create cosine similarity matrix"
   ]
  },
  {
   "cell_type": "code",
   "execution_count": null,
   "metadata": {},
   "outputs": [],
   "source": []
  },
  {
   "cell_type": "markdown",
   "metadata": {},
   "source": [
    "# Q18  Write a function with name `recommend` which takes `title` as argument and returns a list of 10 recommended title names in the output based on the above cosine similarities\n",
    "\n",
    "Hint:\n",
    "\n",
    "titles = df['title'] <br>\n",
    "indices = pd.Series(df.index, index=df['title']) <br>\n",
    "\n",
    "def recommend(title): <br>\n",
    "    idx = indices[title] <br>\n",
    "    sim_scores = list(enumerate(cosine_similarities[idx])) <br>\n",
    "    sim_scores = sorted(sim_scores, key=lambda x: x[1], reverse=True) <br>\n",
    "    sim_scores = sim_scores[1:31] <br>\n",
    "    movie_indices = [i[0] for i in sim_scores] <br>\n",
    "    return titles.iloc[movie_indices] <br>"
   ]
  },
  {
   "cell_type": "code",
   "execution_count": null,
   "metadata": {},
   "outputs": [],
   "source": []
  },
  {
   "cell_type": "markdown",
   "metadata": {},
   "source": [
    "# Q19 Give the recommendations from above functions for movies `The Godfather` and `The Dark Knight Rises`"
   ]
  },
  {
   "cell_type": "code",
   "execution_count": null,
   "metadata": {},
   "outputs": [],
   "source": []
  },
  {
   "cell_type": "code",
   "execution_count": null,
   "metadata": {},
   "outputs": [],
   "source": []
  },
  {
   "cell_type": "markdown",
   "metadata": {},
   "source": [
    "# Popularity Based Recommendation System"
   ]
  },
  {
   "cell_type": "markdown",
   "metadata": {},
   "source": [
    "### About Dataset"
   ]
  },
  {
   "cell_type": "markdown",
   "metadata": {},
   "source": [
    "Anonymous Ratings on jokes."
   ]
  },
  {
   "cell_type": "markdown",
   "metadata": {},
   "source": [
    "1. Ratings are real values ranging from -10.00 to +10.00 (the value \"99\" corresponds to \"null\" = \"not rated\").\n",
    "\n",
    "2. One row per user\n",
    "\n",
    "3. The first column gives the number of jokes rated by that user. The next 100 columns give the ratings for jokes 01 - 100."
   ]
  },
  {
   "cell_type": "markdown",
   "metadata": {},
   "source": [
    "# Q20 Read the dataset(jokes.csv)\n",
    "\n",
    "Take care about the header in read_csv() as there are no column names given in the dataset. "
   ]
  },
  {
   "cell_type": "code",
   "execution_count": 4,
   "metadata": {},
   "outputs": [
    {
     "data": {
      "text/html": [
       "<div>\n",
       "<style scoped>\n",
       "    .dataframe tbody tr th:only-of-type {\n",
       "        vertical-align: middle;\n",
       "    }\n",
       "\n",
       "    .dataframe tbody tr th {\n",
       "        vertical-align: top;\n",
       "    }\n",
       "\n",
       "    .dataframe thead th {\n",
       "        text-align: right;\n",
       "    }\n",
       "</style>\n",
       "<table border=\"1\" class=\"dataframe\">\n",
       "  <thead>\n",
       "    <tr style=\"text-align: right;\">\n",
       "      <th></th>\n",
       "      <th>NumJokes</th>\n",
       "      <th>Joke1</th>\n",
       "      <th>Joke2</th>\n",
       "      <th>Joke3</th>\n",
       "      <th>Joke4</th>\n",
       "      <th>Joke5</th>\n",
       "      <th>Joke6</th>\n",
       "      <th>Joke7</th>\n",
       "      <th>Joke8</th>\n",
       "      <th>Joke9</th>\n",
       "      <th>...</th>\n",
       "      <th>Joke91</th>\n",
       "      <th>Joke92</th>\n",
       "      <th>Joke93</th>\n",
       "      <th>Joke94</th>\n",
       "      <th>Joke95</th>\n",
       "      <th>Joke96</th>\n",
       "      <th>Joke97</th>\n",
       "      <th>Joke98</th>\n",
       "      <th>Joke99</th>\n",
       "      <th>Joke100</th>\n",
       "    </tr>\n",
       "  </thead>\n",
       "  <tbody>\n",
       "    <tr>\n",
       "      <th>0</th>\n",
       "      <td>74</td>\n",
       "      <td>-7.82</td>\n",
       "      <td>8.79</td>\n",
       "      <td>-9.66</td>\n",
       "      <td>-8.16</td>\n",
       "      <td>-7.52</td>\n",
       "      <td>-8.50</td>\n",
       "      <td>-9.85</td>\n",
       "      <td>4.17</td>\n",
       "      <td>-8.98</td>\n",
       "      <td>...</td>\n",
       "      <td>2.82</td>\n",
       "      <td>99.00</td>\n",
       "      <td>99.00</td>\n",
       "      <td>99.00</td>\n",
       "      <td>99.00</td>\n",
       "      <td>99.00</td>\n",
       "      <td>-5.63</td>\n",
       "      <td>99.00</td>\n",
       "      <td>99.00</td>\n",
       "      <td>99.00</td>\n",
       "    </tr>\n",
       "    <tr>\n",
       "      <th>1</th>\n",
       "      <td>100</td>\n",
       "      <td>4.08</td>\n",
       "      <td>-0.29</td>\n",
       "      <td>6.36</td>\n",
       "      <td>4.37</td>\n",
       "      <td>-2.38</td>\n",
       "      <td>-9.66</td>\n",
       "      <td>-0.73</td>\n",
       "      <td>-5.34</td>\n",
       "      <td>8.88</td>\n",
       "      <td>...</td>\n",
       "      <td>2.82</td>\n",
       "      <td>-4.95</td>\n",
       "      <td>-0.29</td>\n",
       "      <td>7.86</td>\n",
       "      <td>-0.19</td>\n",
       "      <td>-2.14</td>\n",
       "      <td>3.06</td>\n",
       "      <td>0.34</td>\n",
       "      <td>-4.32</td>\n",
       "      <td>1.07</td>\n",
       "    </tr>\n",
       "    <tr>\n",
       "      <th>2</th>\n",
       "      <td>49</td>\n",
       "      <td>99.00</td>\n",
       "      <td>99.00</td>\n",
       "      <td>99.00</td>\n",
       "      <td>99.00</td>\n",
       "      <td>9.03</td>\n",
       "      <td>9.27</td>\n",
       "      <td>9.03</td>\n",
       "      <td>9.27</td>\n",
       "      <td>99.00</td>\n",
       "      <td>...</td>\n",
       "      <td>99.00</td>\n",
       "      <td>99.00</td>\n",
       "      <td>99.00</td>\n",
       "      <td>9.08</td>\n",
       "      <td>99.00</td>\n",
       "      <td>99.00</td>\n",
       "      <td>99.00</td>\n",
       "      <td>99.00</td>\n",
       "      <td>99.00</td>\n",
       "      <td>99.00</td>\n",
       "    </tr>\n",
       "    <tr>\n",
       "      <th>3</th>\n",
       "      <td>48</td>\n",
       "      <td>99.00</td>\n",
       "      <td>8.35</td>\n",
       "      <td>99.00</td>\n",
       "      <td>99.00</td>\n",
       "      <td>1.80</td>\n",
       "      <td>8.16</td>\n",
       "      <td>-2.82</td>\n",
       "      <td>6.21</td>\n",
       "      <td>99.00</td>\n",
       "      <td>...</td>\n",
       "      <td>99.00</td>\n",
       "      <td>99.00</td>\n",
       "      <td>99.00</td>\n",
       "      <td>0.53</td>\n",
       "      <td>99.00</td>\n",
       "      <td>99.00</td>\n",
       "      <td>99.00</td>\n",
       "      <td>99.00</td>\n",
       "      <td>99.00</td>\n",
       "      <td>99.00</td>\n",
       "    </tr>\n",
       "    <tr>\n",
       "      <th>4</th>\n",
       "      <td>91</td>\n",
       "      <td>8.50</td>\n",
       "      <td>4.61</td>\n",
       "      <td>-4.17</td>\n",
       "      <td>-5.39</td>\n",
       "      <td>1.36</td>\n",
       "      <td>1.60</td>\n",
       "      <td>7.04</td>\n",
       "      <td>4.61</td>\n",
       "      <td>-0.44</td>\n",
       "      <td>...</td>\n",
       "      <td>5.19</td>\n",
       "      <td>5.58</td>\n",
       "      <td>4.27</td>\n",
       "      <td>5.19</td>\n",
       "      <td>5.73</td>\n",
       "      <td>1.55</td>\n",
       "      <td>3.11</td>\n",
       "      <td>6.55</td>\n",
       "      <td>1.80</td>\n",
       "      <td>1.60</td>\n",
       "    </tr>\n",
       "    <tr>\n",
       "      <th>5</th>\n",
       "      <td>100</td>\n",
       "      <td>-6.17</td>\n",
       "      <td>-3.54</td>\n",
       "      <td>0.44</td>\n",
       "      <td>-8.50</td>\n",
       "      <td>-7.09</td>\n",
       "      <td>-4.32</td>\n",
       "      <td>-8.69</td>\n",
       "      <td>-0.87</td>\n",
       "      <td>-6.65</td>\n",
       "      <td>...</td>\n",
       "      <td>-3.54</td>\n",
       "      <td>-6.89</td>\n",
       "      <td>-0.68</td>\n",
       "      <td>-2.96</td>\n",
       "      <td>-2.18</td>\n",
       "      <td>-3.35</td>\n",
       "      <td>0.05</td>\n",
       "      <td>-9.08</td>\n",
       "      <td>-5.05</td>\n",
       "      <td>-3.45</td>\n",
       "    </tr>\n",
       "    <tr>\n",
       "      <th>6</th>\n",
       "      <td>47</td>\n",
       "      <td>99.00</td>\n",
       "      <td>99.00</td>\n",
       "      <td>99.00</td>\n",
       "      <td>99.00</td>\n",
       "      <td>8.59</td>\n",
       "      <td>-9.85</td>\n",
       "      <td>7.72</td>\n",
       "      <td>8.79</td>\n",
       "      <td>99.00</td>\n",
       "      <td>...</td>\n",
       "      <td>99.00</td>\n",
       "      <td>99.00</td>\n",
       "      <td>99.00</td>\n",
       "      <td>99.00</td>\n",
       "      <td>99.00</td>\n",
       "      <td>2.33</td>\n",
       "      <td>99.00</td>\n",
       "      <td>99.00</td>\n",
       "      <td>99.00</td>\n",
       "      <td>99.00</td>\n",
       "    </tr>\n",
       "    <tr>\n",
       "      <th>7</th>\n",
       "      <td>100</td>\n",
       "      <td>6.84</td>\n",
       "      <td>3.16</td>\n",
       "      <td>9.17</td>\n",
       "      <td>-6.21</td>\n",
       "      <td>-8.16</td>\n",
       "      <td>-1.70</td>\n",
       "      <td>9.27</td>\n",
       "      <td>1.41</td>\n",
       "      <td>-5.19</td>\n",
       "      <td>...</td>\n",
       "      <td>7.23</td>\n",
       "      <td>-1.12</td>\n",
       "      <td>-0.10</td>\n",
       "      <td>-5.68</td>\n",
       "      <td>-3.16</td>\n",
       "      <td>-3.35</td>\n",
       "      <td>2.14</td>\n",
       "      <td>-0.05</td>\n",
       "      <td>1.31</td>\n",
       "      <td>0.00</td>\n",
       "    </tr>\n",
       "    <tr>\n",
       "      <th>8</th>\n",
       "      <td>100</td>\n",
       "      <td>-3.79</td>\n",
       "      <td>-3.54</td>\n",
       "      <td>-9.42</td>\n",
       "      <td>-6.89</td>\n",
       "      <td>-8.74</td>\n",
       "      <td>-0.29</td>\n",
       "      <td>-5.29</td>\n",
       "      <td>-8.93</td>\n",
       "      <td>-7.86</td>\n",
       "      <td>...</td>\n",
       "      <td>4.37</td>\n",
       "      <td>-0.29</td>\n",
       "      <td>4.17</td>\n",
       "      <td>-0.29</td>\n",
       "      <td>-0.29</td>\n",
       "      <td>-0.29</td>\n",
       "      <td>-0.29</td>\n",
       "      <td>-0.29</td>\n",
       "      <td>-3.40</td>\n",
       "      <td>-4.95</td>\n",
       "    </tr>\n",
       "    <tr>\n",
       "      <th>9</th>\n",
       "      <td>72</td>\n",
       "      <td>3.01</td>\n",
       "      <td>5.15</td>\n",
       "      <td>5.15</td>\n",
       "      <td>3.01</td>\n",
       "      <td>6.41</td>\n",
       "      <td>5.15</td>\n",
       "      <td>8.93</td>\n",
       "      <td>2.52</td>\n",
       "      <td>3.01</td>\n",
       "      <td>...</td>\n",
       "      <td>99.00</td>\n",
       "      <td>4.47</td>\n",
       "      <td>99.00</td>\n",
       "      <td>99.00</td>\n",
       "      <td>99.00</td>\n",
       "      <td>99.00</td>\n",
       "      <td>99.00</td>\n",
       "      <td>99.00</td>\n",
       "      <td>99.00</td>\n",
       "      <td>99.00</td>\n",
       "    </tr>\n",
       "  </tbody>\n",
       "</table>\n",
       "<p>10 rows × 101 columns</p>\n",
       "</div>"
      ],
      "text/plain": [
       "   NumJokes  Joke1  Joke2  Joke3  Joke4  Joke5  Joke6  Joke7  Joke8  Joke9  \\\n",
       "0        74  -7.82   8.79  -9.66  -8.16  -7.52  -8.50  -9.85   4.17  -8.98   \n",
       "1       100   4.08  -0.29   6.36   4.37  -2.38  -9.66  -0.73  -5.34   8.88   \n",
       "2        49  99.00  99.00  99.00  99.00   9.03   9.27   9.03   9.27  99.00   \n",
       "3        48  99.00   8.35  99.00  99.00   1.80   8.16  -2.82   6.21  99.00   \n",
       "4        91   8.50   4.61  -4.17  -5.39   1.36   1.60   7.04   4.61  -0.44   \n",
       "5       100  -6.17  -3.54   0.44  -8.50  -7.09  -4.32  -8.69  -0.87  -6.65   \n",
       "6        47  99.00  99.00  99.00  99.00   8.59  -9.85   7.72   8.79  99.00   \n",
       "7       100   6.84   3.16   9.17  -6.21  -8.16  -1.70   9.27   1.41  -5.19   \n",
       "8       100  -3.79  -3.54  -9.42  -6.89  -8.74  -0.29  -5.29  -8.93  -7.86   \n",
       "9        72   3.01   5.15   5.15   3.01   6.41   5.15   8.93   2.52   3.01   \n",
       "\n",
       "    ...     Joke91  Joke92  Joke93  Joke94  Joke95  Joke96  Joke97  Joke98  \\\n",
       "0   ...       2.82   99.00   99.00   99.00   99.00   99.00   -5.63   99.00   \n",
       "1   ...       2.82   -4.95   -0.29    7.86   -0.19   -2.14    3.06    0.34   \n",
       "2   ...      99.00   99.00   99.00    9.08   99.00   99.00   99.00   99.00   \n",
       "3   ...      99.00   99.00   99.00    0.53   99.00   99.00   99.00   99.00   \n",
       "4   ...       5.19    5.58    4.27    5.19    5.73    1.55    3.11    6.55   \n",
       "5   ...      -3.54   -6.89   -0.68   -2.96   -2.18   -3.35    0.05   -9.08   \n",
       "6   ...      99.00   99.00   99.00   99.00   99.00    2.33   99.00   99.00   \n",
       "7   ...       7.23   -1.12   -0.10   -5.68   -3.16   -3.35    2.14   -0.05   \n",
       "8   ...       4.37   -0.29    4.17   -0.29   -0.29   -0.29   -0.29   -0.29   \n",
       "9   ...      99.00    4.47   99.00   99.00   99.00   99.00   99.00   99.00   \n",
       "\n",
       "   Joke99  Joke100  \n",
       "0   99.00    99.00  \n",
       "1   -4.32     1.07  \n",
       "2   99.00    99.00  \n",
       "3   99.00    99.00  \n",
       "4    1.80     1.60  \n",
       "5   -5.05    -3.45  \n",
       "6   99.00    99.00  \n",
       "7    1.31     0.00  \n",
       "8   -3.40    -4.95  \n",
       "9   99.00    99.00  \n",
       "\n",
       "[10 rows x 101 columns]"
      ]
     },
     "execution_count": 4,
     "metadata": {},
     "output_type": "execute_result"
    }
   ],
   "source": [
    "jokes_df = pd.read_csv(\"jokes.csv\" , sep=\",\" )\n",
    "jokes_df.head(10)"
   ]
  },
  {
   "cell_type": "markdown",
   "metadata": {},
   "source": [
    "# Q21 Consider `ratings` named dataframe with only first 200 rows and all columns from 1(first column is 0) of dataset"
   ]
  },
  {
   "cell_type": "code",
   "execution_count": 5,
   "metadata": {},
   "outputs": [
    {
     "data": {
      "text/plain": [
       "(200, 100)"
      ]
     },
     "execution_count": 5,
     "metadata": {},
     "output_type": "execute_result"
    }
   ],
   "source": [
    "ratings_df = jokes_df.iloc[0:200,1:]\n",
    "ratings_df.shape"
   ]
  },
  {
   "cell_type": "markdown",
   "metadata": {},
   "source": [
    "# Q22 Change the column indices from 0 to 99"
   ]
  },
  {
   "cell_type": "code",
   "execution_count": 6,
   "metadata": {},
   "outputs": [
    {
     "data": {
      "text/html": [
       "<div>\n",
       "<style scoped>\n",
       "    .dataframe tbody tr th:only-of-type {\n",
       "        vertical-align: middle;\n",
       "    }\n",
       "\n",
       "    .dataframe tbody tr th {\n",
       "        vertical-align: top;\n",
       "    }\n",
       "\n",
       "    .dataframe thead th {\n",
       "        text-align: right;\n",
       "    }\n",
       "</style>\n",
       "<table border=\"1\" class=\"dataframe\">\n",
       "  <thead>\n",
       "    <tr style=\"text-align: right;\">\n",
       "      <th></th>\n",
       "      <th>0</th>\n",
       "      <th>1</th>\n",
       "      <th>2</th>\n",
       "      <th>3</th>\n",
       "      <th>4</th>\n",
       "      <th>5</th>\n",
       "      <th>6</th>\n",
       "      <th>7</th>\n",
       "      <th>8</th>\n",
       "      <th>9</th>\n",
       "      <th>...</th>\n",
       "      <th>90</th>\n",
       "      <th>91</th>\n",
       "      <th>92</th>\n",
       "      <th>93</th>\n",
       "      <th>94</th>\n",
       "      <th>95</th>\n",
       "      <th>96</th>\n",
       "      <th>97</th>\n",
       "      <th>98</th>\n",
       "      <th>99</th>\n",
       "    </tr>\n",
       "  </thead>\n",
       "  <tbody>\n",
       "    <tr>\n",
       "      <th>0</th>\n",
       "      <td>-7.82</td>\n",
       "      <td>8.79</td>\n",
       "      <td>-9.66</td>\n",
       "      <td>-8.16</td>\n",
       "      <td>-7.52</td>\n",
       "      <td>-8.5</td>\n",
       "      <td>-9.85</td>\n",
       "      <td>4.17</td>\n",
       "      <td>-8.98</td>\n",
       "      <td>-4.76</td>\n",
       "      <td>...</td>\n",
       "      <td>2.82</td>\n",
       "      <td>99.0</td>\n",
       "      <td>99.0</td>\n",
       "      <td>99.0</td>\n",
       "      <td>99.0</td>\n",
       "      <td>99.0</td>\n",
       "      <td>-5.63</td>\n",
       "      <td>99.0</td>\n",
       "      <td>99.0</td>\n",
       "      <td>99.0</td>\n",
       "    </tr>\n",
       "  </tbody>\n",
       "</table>\n",
       "<p>1 rows × 100 columns</p>\n",
       "</div>"
      ],
      "text/plain": [
       "     0     1     2     3     4    5     6     7     8     9   ...     90  \\\n",
       "0 -7.82  8.79 -9.66 -8.16 -7.52 -8.5 -9.85  4.17 -8.98 -4.76  ...   2.82   \n",
       "\n",
       "     91    92    93    94    95    96    97    98    99  \n",
       "0  99.0  99.0  99.0  99.0  99.0 -5.63  99.0  99.0  99.0  \n",
       "\n",
       "[1 rows x 100 columns]"
      ]
     },
     "execution_count": 6,
     "metadata": {},
     "output_type": "execute_result"
    }
   ],
   "source": [
    "ratings_df.columns = range(0,100)\n",
    "ratings_df.head(1)"
   ]
  },
  {
   "cell_type": "markdown",
   "metadata": {},
   "source": [
    "# Q23 In the dataset, the null ratings are given as 99.00, so replace all 99.00s with 0\n",
    "Hint: You can use `ratings.replace(<the given value>, <new value you wanted to change with>)`"
   ]
  },
  {
   "cell_type": "code",
   "execution_count": 7,
   "metadata": {},
   "outputs": [],
   "source": [
    "ratings_df = ratings_df.replace(99.00, 0)"
   ]
  },
  {
   "cell_type": "markdown",
   "metadata": {},
   "source": [
    "# Q24 Normalize the ratings using StandardScaler and save them in `ratings_diff` variable"
   ]
  },
  {
   "cell_type": "code",
   "execution_count": 8,
   "metadata": {},
   "outputs": [],
   "source": [
    "from sklearn.preprocessing import StandardScaler\n",
    "sc = StandardScaler()\n",
    "ratings_diff =  sc.fit_transform(ratings_df)     "
   ]
  },
  {
   "cell_type": "markdown",
   "metadata": {},
   "source": [
    "### Popularity based recommendation system"
   ]
  },
  {
   "cell_type": "markdown",
   "metadata": {},
   "source": [
    "# Q25  Find the mean for each column  in `ratings_diff` i.e, for each joke\n",
    "Consider all the mean ratings and find the jokes with highest mean value and display the top 10 joke IDs."
   ]
  },
  {
   "cell_type": "code",
   "execution_count": 11,
   "metadata": {},
   "outputs": [
    {
     "name": "stdout",
     "output_type": "stream",
     "text": [
      "top 10 joke IDs\n"
     ]
    },
    {
     "data": {
      "text/html": [
       "<div>\n",
       "<style scoped>\n",
       "    .dataframe tbody tr th:only-of-type {\n",
       "        vertical-align: middle;\n",
       "    }\n",
       "\n",
       "    .dataframe tbody tr th {\n",
       "        vertical-align: top;\n",
       "    }\n",
       "\n",
       "    .dataframe thead th {\n",
       "        text-align: right;\n",
       "    }\n",
       "</style>\n",
       "<table border=\"1\" class=\"dataframe\">\n",
       "  <thead>\n",
       "    <tr style=\"text-align: right;\">\n",
       "      <th></th>\n",
       "      <th>0</th>\n",
       "    </tr>\n",
       "  </thead>\n",
       "  <tbody>\n",
       "    <tr>\n",
       "      <th>98</th>\n",
       "      <td>1.840889e-16</td>\n",
       "    </tr>\n",
       "    <tr>\n",
       "      <th>81</th>\n",
       "      <td>1.243450e-16</td>\n",
       "    </tr>\n",
       "    <tr>\n",
       "      <th>97</th>\n",
       "      <td>1.198694e-16</td>\n",
       "    </tr>\n",
       "    <tr>\n",
       "      <th>20</th>\n",
       "      <td>1.065814e-16</td>\n",
       "    </tr>\n",
       "    <tr>\n",
       "      <th>94</th>\n",
       "      <td>1.054712e-16</td>\n",
       "    </tr>\n",
       "    <tr>\n",
       "      <th>92</th>\n",
       "      <td>8.770762e-17</td>\n",
       "    </tr>\n",
       "    <tr>\n",
       "      <th>47</th>\n",
       "      <td>7.771561e-17</td>\n",
       "    </tr>\n",
       "    <tr>\n",
       "      <th>73</th>\n",
       "      <td>7.743806e-17</td>\n",
       "    </tr>\n",
       "    <tr>\n",
       "      <th>99</th>\n",
       "      <td>7.549517e-17</td>\n",
       "    </tr>\n",
       "    <tr>\n",
       "      <th>49</th>\n",
       "      <td>7.494005e-17</td>\n",
       "    </tr>\n",
       "  </tbody>\n",
       "</table>\n",
       "</div>"
      ],
      "text/plain": [
       "               0\n",
       "98  1.840889e-16\n",
       "81  1.243450e-16\n",
       "97  1.198694e-16\n",
       "20  1.065814e-16\n",
       "94  1.054712e-16\n",
       "92  8.770762e-17\n",
       "47  7.771561e-17\n",
       "73  7.743806e-17\n",
       "99  7.549517e-17\n",
       "49  7.494005e-17"
      ]
     },
     "execution_count": 11,
     "metadata": {},
     "output_type": "execute_result"
    }
   ],
   "source": [
    "ratings_diff_df = pd.DataFrame(ratings_diff)\n",
    "top_joks = ratings_diff_df.mean(axis = 0)\n",
    "top_joks_df = pd.DataFrame(top_joks)\n",
    "print(\"top 10 joke IDs\")\n",
    "top_joks_df.sort_values(0,ascending= False).head(10)"
   ]
  }
 ],
 "metadata": {
  "colab": {
   "name": "PCA - Cancer Data.ipynb",
   "provenance": [],
   "version": "0.3.2"
  },
  "kernelspec": {
   "display_name": "Python 3",
   "language": "python",
   "name": "python3"
  },
  "language_info": {
   "codemirror_mode": {
    "name": "ipython",
    "version": 3
   },
   "file_extension": ".py",
   "mimetype": "text/x-python",
   "name": "python",
   "nbconvert_exporter": "python",
   "pygments_lexer": "ipython3",
   "version": "3.6.4"
  }
 },
 "nbformat": 4,
 "nbformat_minor": 1
}
