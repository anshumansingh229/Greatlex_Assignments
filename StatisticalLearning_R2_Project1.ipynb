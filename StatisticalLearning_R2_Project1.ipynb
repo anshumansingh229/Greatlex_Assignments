{
 "cells": [
  {
   "cell_type": "markdown",
   "metadata": {},
   "source": [
    "# <font color=red|green|black>Project-2 | Statistical Learning </font>"
   ]
  },
  {
   "cell_type": "code",
   "execution_count": 52,
   "metadata": {
    "scrolled": true
   },
   "outputs": [
    {
     "data": {
      "text/html": [
       "<div>\n",
       "<style scoped>\n",
       "    .dataframe tbody tr th:only-of-type {\n",
       "        vertical-align: middle;\n",
       "    }\n",
       "\n",
       "    .dataframe tbody tr th {\n",
       "        vertical-align: top;\n",
       "    }\n",
       "\n",
       "    .dataframe thead th {\n",
       "        text-align: right;\n",
       "    }\n",
       "</style>\n",
       "<table border=\"1\" class=\"dataframe\">\n",
       "  <thead>\n",
       "    <tr style=\"text-align: right;\">\n",
       "      <th></th>\n",
       "      <th>Old Scheme (in thousands)</th>\n",
       "      <th>New Scheme (in thousands)</th>\n",
       "    </tr>\n",
       "    <tr>\n",
       "      <th>SALESPERSON</th>\n",
       "      <th></th>\n",
       "      <th></th>\n",
       "    </tr>\n",
       "  </thead>\n",
       "  <tbody>\n",
       "    <tr>\n",
       "      <th>1</th>\n",
       "      <td>57</td>\n",
       "      <td>62</td>\n",
       "    </tr>\n",
       "  </tbody>\n",
       "</table>\n",
       "</div>"
      ],
      "text/plain": [
       "             Old Scheme (in thousands)  New Scheme (in thousands)\n",
       "SALESPERSON                                                      \n",
       "1                                   57                         62"
      ]
     },
     "execution_count": 52,
     "metadata": {},
     "output_type": "execute_result"
    }
   ],
   "source": [
    "import pandas as pd\n",
    "import numpy as np\n",
    "from scipy import stats\n",
    "import matplotlib.pyplot as plt\n",
    "\n",
    "Titan_df = pd.read_csv(\"data.csv\")  \n",
    "Titan_df.set_index(\"SALESPERSON\", inplace=True)\n",
    "Titan_df.head(1)"
   ]
  },
  {
   "cell_type": "markdown",
   "metadata": {},
   "source": [
    "** Data points are in thousand. To make the analysis easier with the data, all the data points were multiplied with thousands **"
   ]
  },
  {
   "cell_type": "code",
   "execution_count": 53,
   "metadata": {},
   "outputs": [
    {
     "data": {
      "text/html": [
       "<div>\n",
       "<style scoped>\n",
       "    .dataframe tbody tr th:only-of-type {\n",
       "        vertical-align: middle;\n",
       "    }\n",
       "\n",
       "    .dataframe tbody tr th {\n",
       "        vertical-align: top;\n",
       "    }\n",
       "\n",
       "    .dataframe thead th {\n",
       "        text-align: right;\n",
       "    }\n",
       "</style>\n",
       "<table border=\"1\" class=\"dataframe\">\n",
       "  <thead>\n",
       "    <tr style=\"text-align: right;\">\n",
       "      <th></th>\n",
       "      <th>Old Scheme</th>\n",
       "      <th>New Scheme</th>\n",
       "    </tr>\n",
       "    <tr>\n",
       "      <th>SALESPERSON</th>\n",
       "      <th></th>\n",
       "      <th></th>\n",
       "    </tr>\n",
       "  </thead>\n",
       "  <tbody>\n",
       "    <tr>\n",
       "      <th>1</th>\n",
       "      <td>57000</td>\n",
       "      <td>62000</td>\n",
       "    </tr>\n",
       "  </tbody>\n",
       "</table>\n",
       "</div>"
      ],
      "text/plain": [
       "             Old Scheme  New Scheme\n",
       "SALESPERSON                        \n",
       "1                 57000       62000"
      ]
     },
     "execution_count": 53,
     "metadata": {},
     "output_type": "execute_result"
    }
   ],
   "source": [
    "Titan_df = Titan_df*1000\n",
    "Titan_df.rename(columns={'Old Scheme (in thousands)':'Old Scheme',\n",
    "                          'New Scheme (in thousands)':'New Scheme',}, \n",
    "                 inplace=True)\n",
    "Titan_df.head(1)"
   ]
  },
  {
   "cell_type": "markdown",
   "metadata": {},
   "source": [
    "## Q1. Find the mean of old scheme and new scheme column (5 points)"
   ]
  },
  {
   "cell_type": "code",
   "execution_count": 54,
   "metadata": {},
   "outputs": [
    {
     "name": "stdout",
     "output_type": "stream",
     "text": [
      "\u001b[94m\u001b[1mMean of Old Scheme :\u001b[0m 68033.33\n",
      "\u001b[94m\u001b[1mMean of New Scheme :\u001b[0m 72033.33\n"
     ]
    }
   ],
   "source": [
    "print (\"\\033[94m\\033[1mMean of Old Scheme :\\x1b[0m\", round(Titan_df[\"Old Scheme\"].mean(),2))\n",
    "print (\"\\033[94m\\033[1mMean of New Scheme :\\x1b[0m\", round(Titan_df[\"New Scheme\"].mean(),2))"
   ]
  },
  {
   "cell_type": "markdown",
   "metadata": {},
   "source": [
    "## Q2. Use the five percent significance test over the data to determine the p value to check new scheme has significantly raised outputs? (10 points)"
   ]
  },
  {
   "cell_type": "code",
   "execution_count": 55,
   "metadata": {},
   "outputs": [
    {
     "data": {
      "image/png": "[encoded data removed]",
      "text/plain": [
       "<matplotlib.figure.Figure at 0x1aed44be8d0>"
      ]
     },
     "metadata": {},
     "output_type": "display_data"
    }
   ],
   "source": [
    "Titan_df[[\"Old Scheme\",\"New Scheme\"]].plot(kind='box')\n",
    "plt.show()"
   ]
  },
  {
   "cell_type": "code",
   "execution_count": 56,
   "metadata": {},
   "outputs": [
    {
     "data": {
      "image/png": "[encoded data removed]",
      "text/plain": [
       "<matplotlib.figure.Figure at 0x1aed44c3080>"
      ]
     },
     "metadata": {},
     "output_type": "display_data"
    }
   ],
   "source": [
    "Titan_df['Scheme difference'] = Titan_df['Old Scheme'] - Titan_df['New Scheme']\n",
    "Titan_df['Scheme difference'].plot(kind='hist', title= 'Scheme Difference Histogram')\n",
    "plt.show()"
   ]
  },
  {
   "cell_type": "code",
   "execution_count": 57,
   "metadata": {
    "scrolled": true
   },
   "outputs": [
    {
     "name": "stdout",
     "output_type": "stream",
     "text": [
      "\u001b[94m\u001b[1mt_statistic :\u001b[0m -1.5559\n",
      "\u001b[94m\u001b[1mp_value     :\u001b[0m 0.1306\n"
     ]
    }
   ],
   "source": [
    "t_statistic, p_value = stats.ttest_rel(Titan_df['Old Scheme'] , Titan_df['New Scheme'],axis=0)\n",
    "print (\"\\033[94m\\033[1mt_statistic :\\x1b[0m\", round(t_statistic,4))\n",
    "print (\"\\033[94m\\033[1mp_value     :\\x1b[0m\", round(p_value,4))"
   ]
  },
  {
   "cell_type": "markdown",
   "metadata": {},
   "source": [
    "**<font color=red|green|black>This is an one-tailed t-test problem.</font>** \n",
    "\n",
    "* $H_0$: $\\mu{New Scheme}$ - $\\mu{Old Scheme}$ =  0\n",
    "* $H_A$: $\\mu{New Scheme}$ - $\\mu{Old Scheme}$ $\\neq$  0\n",
    "\n",
    "**<font color=red|green|black>p-value = 0.1306 whch is higher than 0.05, we accept NULL hypothesis($H_0$) or fail to reject NULL hypothesis($H_0$)</font>**  "
   ]
  },
  {
   "cell_type": "markdown",
   "metadata": {},
   "source": [
    "## Q3. What conclusion does the test (p-value) lead to? (2.5 points)"
   ]
  },
  {
   "cell_type": "markdown",
   "metadata": {},
   "source": [
    "**<font color=red|green|black>   There is  no sufficient evidence  to reject the null hypothesis. So we accept the null hypotheis and conclude that  the new scheme has NOT significantly raised the outputs</font>** "
   ]
  },
  {
   "cell_type": "markdown",
   "metadata": {},
   "source": [
    "## Q4. Suppose it has been calculated that in order for Titan to break even, the average output must increase by £5000 in the scheme compared to the old scheme. If this figure is alternative hypothesis, what is:\n",
    "**a)The probability of a type 1 error? (2.5 points)**"
   ]
  },
  {
   "cell_type": "markdown",
   "metadata": {},
   "source": [
    "**<font color=red|green|black> Probability of a type 1 error = significant level. In this problem, we have considered 0.05 or 5% as our significant test level.\n",
    "hence, probability of a type 1 error = 5% or 0.05</font>**  "
   ]
  },
  {
   "cell_type": "markdown",
   "metadata": {},
   "source": [
    "** b) What is the p- value of the hypothesis test if we test for a difference of $5000? (10 points) **"
   ]
  },
  {
   "cell_type": "markdown",
   "metadata": {},
   "source": [
    "**<font color=red|green|black>This is a right tail t-test problem.</font>** \n",
    "\n",
    "* $H_0$: $\\mu{New Scheme}$ - $\\mu{Old Scheme}$ ≤  5000\n",
    "* $H_A$: $\\mu{New Scheme}$ - $\\mu{Old Scheme}$ > 5000 "
   ]
  },
  {
   "cell_type": "code",
   "execution_count": 58,
   "metadata": {
    "scrolled": false
   },
   "outputs": [
    {
     "name": "stdout",
     "output_type": "stream",
     "text": [
      "\u001b[94m\u001b[1mt_statistic :\u001b[0m -0.389\n",
      "\u001b[94m\u001b[1mp- value of the hypothesis test if we test for a difference of $5000:\u001b[0m 0.7001\n"
     ]
    }
   ],
   "source": [
    "d =  np.array(Titan_df[\"New Scheme\"] - Titan_df[\"Old Scheme\"])\n",
    "t_statistic, p_value = stats.ttest_1samp(d, 5000)\n",
    "print (\"\\033[94m\\033[1mt_statistic :\\x1b[0m\", round(t_statistic,4))\n",
    "print (\"\\033[94m\\033[1mp- value of the hypothesis test if we test for a difference of $5000:\\x1b[0m\", round(p_value,4))"
   ]
  },
  {
   "cell_type": "markdown",
   "metadata": {},
   "source": [
    "**c) Power of the test (5 points)**"
   ]
  },
  {
   "cell_type": "markdown",
   "metadata": {},
   "source": [
    "**<font color=red|green|black> Power of the test = 1 - Probability of Type 2 Error</font>** "
   ]
  },
  {
   "cell_type": "code",
   "execution_count": 59,
   "metadata": {
    "scrolled": false
   },
   "outputs": [
    {
     "name": "stdout",
     "output_type": "stream",
     "text": [
      "\u001b[94m\u001b[1mt critical value :\u001b[0m 4294.76\n",
      "\u001b[94m\u001b[1mH0 will be rejected if x_bar >= \u001b[0m 4294.76\n"
     ]
    }
   ],
   "source": [
    "n = len(d)\n",
    "S = np.std(list(d))\n",
    "se = S/np.sqrt(n)\n",
    "mu0 = 0\n",
    "print (\"\\033[94m\\033[1mt critical value :\\x1b[0m\", round(stats.t.isf(0.05,  scale = se , df = n-1),2))\n",
    "print (\"\\033[94m\\033[1mH0 will be rejected if x_bar >= \\x1b[0m\", round(stats.t.isf(0.05,  scale = se , df = n-1),2))\n"
   ]
  },
  {
   "cell_type": "markdown",
   "metadata": {},
   "source": [
    "Probability (type II error) is P(Do not reject H0 | H0 is false).\n",
    "Our H0 is TRUE at μd = 0 so that \n",
    "* $H_0$: $\\mu{New Scheme}$ - $\\mu{Old Scheme}$ =  0\n",
    "* $H_A$: $\\mu{New Scheme}$ - $\\mu{Old Scheme}$ >  0\n",
    "\n",
    "Probability of type II error at  μNewScheme  -  μOldScheme  = 5000\n",
    "\n",
    "    = P (Do not reject H0 | H0 is false)\n",
    "    \n",
    "    = P (x_bar < 4294.76 | μNewScheme  -  μOldScheme  = 5000)"
   ]
  },
  {
   "cell_type": "code",
   "execution_count": 60,
   "metadata": {
    "scrolled": true
   },
   "outputs": [
    {
     "name": "stdout",
     "output_type": "stream",
     "text": [
      "\u001b[94m\u001b[1mProbability of Type 2 Error:\u001b[0m 0.3911\n",
      "\u001b[94m\u001b[1mPower of test = 1- Probability of Type 2 Error=\u001b[0m 0.6089\n"
     ]
    }
   ],
   "source": [
    "x_bar = stats.t.isf(0.05,  scale = se , df = n-1)\n",
    "t_statistic = (x_bar - 5000)/se\n",
    "print(\"\\033[94m\\033[1mProbability of Type 2 Error:\\x1b[0m\", round(stats.t.cdf(t_statistic,  df = n-1),4))\n",
    "print(\"\\033[94m\\033[1mPower of test = 1- Probability of Type 2 Error=\\x1b[0m\", round(1-stats.t.cdf(t_statistic,  df = n-1),4))"
   ]
  },
  {
   "cell_type": "markdown",
   "metadata": {},
   "source": [
    "**<font color=red|green|black> Power of the test = 0.6089</font>** "
   ]
  }
 ],
 "metadata": {
  "kernelspec": {
   "display_name": "Python 3",
   "language": "python",
   "name": "python3"
  },
  "language_info": {
   "codemirror_mode": {
    "name": "ipython",
    "version": 3
   },
   "file_extension": ".py",
   "mimetype": "text/x-python",
   "name": "python",
   "nbconvert_exporter": "python",
   "pygments_lexer": "ipython3",
   "version": "3.6.4"
  }
 },
 "nbformat": 4,
 "nbformat_minor": 2
}
