{
 "cells": [
  {
   "cell_type": "markdown",
   "metadata": {},
   "source": [
    "## Project | Statistical NLP"
   ]
  },
  {
   "cell_type": "markdown",
   "metadata": {},
   "source": [
    "1. Load the dataset"
   ]
  },
  {
   "cell_type": "code",
   "execution_count": 69,
   "metadata": {},
   "outputs": [],
   "source": [
    "import pandas as pd\n",
    "dataset = pd.read_csv('blogtext.csv')"
   ]
  },
  {
   "cell_type": "code",
   "execution_count": 70,
   "metadata": {
    "scrolled": true
   },
   "outputs": [
    {
     "data": {
      "text/plain": [
       "(681284, 7)"
      ]
     },
     "execution_count": 70,
     "metadata": {},
     "output_type": "execute_result"
    }
   ],
   "source": [
    "dataset.shape"
   ]
  },
  {
   "cell_type": "code",
   "execution_count": 71,
   "metadata": {},
   "outputs": [],
   "source": [
    "# df = dataset.iloc[:30000, :]\n",
    "df = dataset.sample(5000)"
   ]
  },
  {
   "cell_type": "code",
   "execution_count": 72,
   "metadata": {},
   "outputs": [
    {
     "data": {
      "text/html": [
       "<div>\n",
       "<style scoped>\n",
       "    .dataframe tbody tr th:only-of-type {\n",
       "        vertical-align: middle;\n",
       "    }\n",
       "\n",
       "    .dataframe tbody tr th {\n",
       "        vertical-align: top;\n",
       "    }\n",
       "\n",
       "    .dataframe thead th {\n",
       "        text-align: right;\n",
       "    }\n",
       "</style>\n",
       "<table border=\"1\" class=\"dataframe\">\n",
       "  <thead>\n",
       "    <tr style=\"text-align: right;\">\n",
       "      <th></th>\n",
       "      <th>id</th>\n",
       "      <th>gender</th>\n",
       "      <th>age</th>\n",
       "      <th>topic</th>\n",
       "      <th>sign</th>\n",
       "      <th>date</th>\n",
       "      <th>text</th>\n",
       "    </tr>\n",
       "  </thead>\n",
       "  <tbody>\n",
       "    <tr>\n",
       "      <th>590959</th>\n",
       "      <td>47519</td>\n",
       "      <td>male</td>\n",
       "      <td>23</td>\n",
       "      <td>Communications-Media</td>\n",
       "      <td>Sagittarius</td>\n",
       "      <td>20,March,2004</td>\n",
       "      <td>Been having fun with Jen for her short ...</td>\n",
       "    </tr>\n",
       "    <tr>\n",
       "      <th>635609</th>\n",
       "      <td>3452960</td>\n",
       "      <td>female</td>\n",
       "      <td>17</td>\n",
       "      <td>Student</td>\n",
       "      <td>Cancer</td>\n",
       "      <td>23,June,2004</td>\n",
       "      <td>So, hello. It's me...grooowl....</td>\n",
       "    </tr>\n",
       "    <tr>\n",
       "      <th>232181</th>\n",
       "      <td>3426344</td>\n",
       "      <td>female</td>\n",
       "      <td>16</td>\n",
       "      <td>Student</td>\n",
       "      <td>Scorpio</td>\n",
       "      <td>25,May,2004</td>\n",
       "      <td>I'm on IM all the time. My s/n is SVrun...</td>\n",
       "    </tr>\n",
       "    <tr>\n",
       "      <th>339423</th>\n",
       "      <td>1436696</td>\n",
       "      <td>female</td>\n",
       "      <td>23</td>\n",
       "      <td>Agriculture</td>\n",
       "      <td>Capricorn</td>\n",
       "      <td>05,June,2004</td>\n",
       "      <td>I really need to get this out of my...</td>\n",
       "    </tr>\n",
       "    <tr>\n",
       "      <th>354948</th>\n",
       "      <td>1135724</td>\n",
       "      <td>male</td>\n",
       "      <td>34</td>\n",
       "      <td>Internet</td>\n",
       "      <td>Cancer</td>\n",
       "      <td>25,May,2004</td>\n",
       "      <td>News from  urlLink The Hindu   So...</td>\n",
       "    </tr>\n",
       "  </tbody>\n",
       "</table>\n",
       "</div>"
      ],
      "text/plain": [
       "             id  gender  age                 topic         sign  \\\n",
       "590959    47519    male   23  Communications-Media  Sagittarius   \n",
       "635609  3452960  female   17               Student       Cancer   \n",
       "232181  3426344  female   16               Student      Scorpio   \n",
       "339423  1436696  female   23           Agriculture    Capricorn   \n",
       "354948  1135724    male   34              Internet       Cancer   \n",
       "\n",
       "                 date                                               text  \n",
       "590959  20,March,2004         Been having fun with Jen for her short ...  \n",
       "635609   23,June,2004                   So, hello. It's me...grooowl....  \n",
       "232181    25,May,2004         I'm on IM all the time. My s/n is SVrun...  \n",
       "339423   05,June,2004             I really need to get this out of my...  \n",
       "354948    25,May,2004               News from  urlLink The Hindu   So...  "
      ]
     },
     "execution_count": 72,
     "metadata": {},
     "output_type": "execute_result"
    }
   ],
   "source": [
    "df.head()"
   ]
  },
  {
   "cell_type": "code",
   "execution_count": 73,
   "metadata": {},
   "outputs": [
    {
     "data": {
      "text/plain": [
       "id        0\n",
       "gender    0\n",
       "age       0\n",
       "topic     0\n",
       "sign      0\n",
       "date      0\n",
       "text      0\n",
       "dtype: int64"
      ]
     },
     "execution_count": 73,
     "metadata": {},
     "output_type": "execute_result"
    }
   ],
   "source": [
    "df.isnull().sum()"
   ]
  },
  {
   "cell_type": "markdown",
   "metadata": {},
   "source": [
    "2. Preprocess rows of the “text” column"
   ]
  },
  {
   "cell_type": "code",
   "execution_count": 74,
   "metadata": {},
   "outputs": [],
   "source": [
    "import re\n",
    "def processString(myString):\n",
    "    myStringSpace = myString.strip()\n",
    "    myString = myStringSpace.lower() \n",
    "    otherString = re.sub(\"[^a-zA-Z]\",\" \",myString)\n",
    "    return otherString\n",
    "df[\"text\"] = df[\"text\"].map(processString)"
   ]
  },
  {
   "cell_type": "code",
   "execution_count": 75,
   "metadata": {},
   "outputs": [
    {
     "data": {
      "text/plain": [
       "590959    been having fun with jen for her short stay  a...\n",
       "635609    so  hello  it s me   grooowl  so a run down of...\n",
       "Name: text, dtype: object"
      ]
     },
     "execution_count": 75,
     "metadata": {},
     "output_type": "execute_result"
    }
   ],
   "source": [
    "df[\"text\"].head(2)"
   ]
  },
  {
   "cell_type": "markdown",
   "metadata": {},
   "source": [
    "3. As we want to make this into a multi-label classification problem, you are required to merge\n",
    "all the label columns together, so that we have all the labels together for a particular sentence"
   ]
  },
  {
   "cell_type": "code",
   "execution_count": 76,
   "metadata": {},
   "outputs": [],
   "source": [
    "import numpy as np\n",
    "df['Labels']=np.array(df.iloc[:,1:5].astype(str)).tolist()"
   ]
  },
  {
   "cell_type": "code",
   "execution_count": 77,
   "metadata": {},
   "outputs": [],
   "source": [
    "df = df.iloc[:, 6:]"
   ]
  },
  {
   "cell_type": "code",
   "execution_count": 78,
   "metadata": {
    "scrolled": false
   },
   "outputs": [
    {
     "data": {
      "text/html": [
       "<div>\n",
       "<style scoped>\n",
       "    .dataframe tbody tr th:only-of-type {\n",
       "        vertical-align: middle;\n",
       "    }\n",
       "\n",
       "    .dataframe tbody tr th {\n",
       "        vertical-align: top;\n",
       "    }\n",
       "\n",
       "    .dataframe thead th {\n",
       "        text-align: right;\n",
       "    }\n",
       "</style>\n",
       "<table border=\"1\" class=\"dataframe\">\n",
       "  <thead>\n",
       "    <tr style=\"text-align: right;\">\n",
       "      <th></th>\n",
       "      <th>text</th>\n",
       "      <th>Labels</th>\n",
       "    </tr>\n",
       "  </thead>\n",
       "  <tbody>\n",
       "    <tr>\n",
       "      <th>590959</th>\n",
       "      <td>been having fun with jen for her short stay  a...</td>\n",
       "      <td>[male, 23, Communications-Media, Sagittarius]</td>\n",
       "    </tr>\n",
       "    <tr>\n",
       "      <th>635609</th>\n",
       "      <td>so  hello  it s me   grooowl  so a run down of...</td>\n",
       "      <td>[female, 17, Student, Cancer]</td>\n",
       "    </tr>\n",
       "    <tr>\n",
       "      <th>232181</th>\n",
       "      <td>i m on im all the time  my s n is svrunner   b...</td>\n",
       "      <td>[female, 16, Student, Scorpio]</td>\n",
       "    </tr>\n",
       "    <tr>\n",
       "      <th>339423</th>\n",
       "      <td>i really need to get this out of my head     r...</td>\n",
       "      <td>[female, 23, Agriculture, Capricorn]</td>\n",
       "    </tr>\n",
       "    <tr>\n",
       "      <th>354948</th>\n",
       "      <td>news from  urllink the hindu   sorry for the c...</td>\n",
       "      <td>[male, 34, Internet, Cancer]</td>\n",
       "    </tr>\n",
       "  </tbody>\n",
       "</table>\n",
       "</div>"
      ],
      "text/plain": [
       "                                                     text  \\\n",
       "590959  been having fun with jen for her short stay  a...   \n",
       "635609  so  hello  it s me   grooowl  so a run down of...   \n",
       "232181  i m on im all the time  my s n is svrunner   b...   \n",
       "339423  i really need to get this out of my head     r...   \n",
       "354948  news from  urllink the hindu   sorry for the c...   \n",
       "\n",
       "                                               Labels  \n",
       "590959  [male, 23, Communications-Media, Sagittarius]  \n",
       "635609                  [female, 17, Student, Cancer]  \n",
       "232181                 [female, 16, Student, Scorpio]  \n",
       "339423           [female, 23, Agriculture, Capricorn]  \n",
       "354948                   [male, 34, Internet, Cancer]  "
      ]
     },
     "execution_count": 78,
     "metadata": {},
     "output_type": "execute_result"
    }
   ],
   "source": [
    "df.head()"
   ]
  },
  {
   "cell_type": "markdown",
   "metadata": {},
   "source": [
    "4. Separate features and labels, and split the data into training and testing"
   ]
  },
  {
   "cell_type": "code",
   "execution_count": 79,
   "metadata": {},
   "outputs": [],
   "source": [
    "X = df[\"text\"]\n",
    "y = df[\"Labels\"]"
   ]
  },
  {
   "cell_type": "code",
   "execution_count": 134,
   "metadata": {},
   "outputs": [],
   "source": [
    "from sklearn.model_selection import train_test_split\n",
    "X_train, X_test, y_train, y_test = train_test_split(X, y, test_size=0.2, random_state=60)"
   ]
  },
  {
   "cell_type": "markdown",
   "metadata": {},
   "source": [
    "5. Vectorize the features"
   ]
  },
  {
   "cell_type": "code",
   "execution_count": 138,
   "metadata": {},
   "outputs": [],
   "source": [
    "from sklearn.feature_extraction.text import CountVectorizer\n",
    "\n",
    "vectorizer = CountVectorizer(ngram_range=(1,2)\n",
    "#                              ,analyzer='word',min_df=2,max_df=10\n",
    "                             , max_features = 50000\n",
    "                            ) \n",
    "\n",
    "train_data_features = vectorizer.fit_transform(X_train)\n",
    "test_data_features = vectorizer.transform(X_test)\n",
    "\n",
    "train_data_features = train_data_features.toarray()\n",
    "test_data_features = test_data_features.toarray()"
   ]
  },
  {
   "cell_type": "code",
   "execution_count": 139,
   "metadata": {},
   "outputs": [
    {
     "name": "stdout",
     "output_type": "stream",
     "text": [
      "train_data_features.shape: (4000, 50000)\n",
      "test_data_features.shape: (1000, 50000)\n"
     ]
    }
   ],
   "source": [
    "print (\"train_data_features.shape:\",train_data_features.shape)\n",
    "print (\"test_data_features.shape:\",test_data_features.shape)"
   ]
  },
  {
   "cell_type": "code",
   "execution_count": 140,
   "metadata": {},
   "outputs": [],
   "source": [
    "from sklearn import preprocessing\n",
    "trainX = preprocessing.StandardScaler().fit_transform(train_data_features)\n",
    "testX = preprocessing.StandardScaler().fit_transform(test_data_features)"
   ]
  },
  {
   "cell_type": "markdown",
   "metadata": {},
   "source": [
    "6. Create a dictionary to get the count of every label i.e. the key will be label name and value will be the total count of the label."
   ]
  },
  {
   "cell_type": "code",
   "execution_count": 141,
   "metadata": {},
   "outputs": [
    {
     "data": {
      "text/plain": [
       "{'male': 2554,\n",
       " 'female': 2446,\n",
       " 'indUnk': 1814,\n",
       " 'Student': 1155,\n",
       " '17': 622,\n",
       " '24': 569,\n",
       " '23': 539,\n",
       " '16': 523,\n",
       " '25': 488,\n",
       " 'Cancer': 485,\n",
       " 'Aries': 482,\n",
       " 'Taurus': 478,\n",
       " 'Virgo': 450,\n",
       " 'Libra': 440,\n",
       " '26': 422,\n",
       " 'Scorpio': 413,\n",
       " 'Leo': 396,\n",
       " 'Pisces': 379,\n",
       " 'Aquarius': 376,\n",
       " 'Gemini': 375,\n",
       " 'Sagittarius': 374,\n",
       " 'Capricorn': 352,\n",
       " '27': 334,\n",
       " 'Technology': 306,\n",
       " '15': 291,\n",
       " 'Arts': 251,\n",
       " 'Education': 241,\n",
       " '14': 199,\n",
       " '34': 164,\n",
       " 'Communications-Media': 134,\n",
       " 'Internet': 133,\n",
       " 'Non-Profit': 121,\n",
       " '33': 120,\n",
       " '36': 112,\n",
       " '35': 107,\n",
       " '13': 100,\n",
       " 'Engineering': 91,\n",
       " '37': 64,\n",
       " '38': 60,\n",
       " 'Law': 58,\n",
       " '40': 44,\n",
       " 'Consulting': 43,\n",
       " 'Fashion': 42,\n",
       " 'Publishing': 41,\n",
       " 'BusinessServices': 40,\n",
       " '39': 39,\n",
       " 'Religion': 39,\n",
       " 'Government': 39,\n",
       " '41': 35,\n",
       " 'Advertising': 33,\n",
       " 'Marketing': 33,\n",
       " '43': 32,\n",
       " 'Accounting': 30,\n",
       " 'Science': 29,\n",
       " 'Chemicals': 29,\n",
       " '45': 29,\n",
       " 'HumanResources': 29,\n",
       " '46': 28,\n",
       " 'Telecommunications': 28,\n",
       " 'Banking': 26,\n",
       " 'Sports-Recreation': 25,\n",
       " 'RealEstate': 24,\n",
       " 'Museums-Libraries': 23,\n",
       " '42': 22,\n",
       " '48': 22,\n",
       " 'Military': 18,\n",
       " '47': 18,\n",
       " 'Transportation': 17,\n",
       " 'Tourism': 17,\n",
       " '44': 17,\n",
       " 'LawEnforcement-Security': 16,\n",
       " 'Manufacturing': 14,\n",
       " 'Biotech': 14,\n",
       " 'InvestmentBanking': 11,\n",
       " 'Agriculture': 11,\n",
       " 'Architecture': 7,\n",
       " 'Automotive': 7,\n",
       " 'Construction': 5,\n",
       " 'Maritime': 4,\n",
       " 'Environment': 2}"
      ]
     },
     "execution_count": 141,
     "metadata": {},
     "output_type": "execute_result"
    }
   ],
   "source": [
    "pd.Series([j for i in y.tolist() for j in i]).value_counts().to_dict()"
   ]
  },
  {
   "cell_type": "markdown",
   "metadata": {},
   "source": [
    "7. Transform the labels"
   ]
  },
  {
   "cell_type": "code",
   "execution_count": 142,
   "metadata": {},
   "outputs": [],
   "source": [
    "from sklearn.preprocessing import MultiLabelBinarizer\n",
    "mlb = MultiLabelBinarizer()\n",
    "y_train_mlb = mlb.fit_transform(y_train)\n",
    "y_test_mlb = mlb.fit_transform(y_test)"
   ]
  },
  {
   "cell_type": "code",
   "execution_count": 143,
   "metadata": {},
   "outputs": [
    {
     "name": "stdout",
     "output_type": "stream",
     "text": [
      "train_data_lables.shape: (4000, 80)\n",
      "test_data_lables.shape: (1000, 80)\n"
     ]
    }
   ],
   "source": [
    "print (\"train_data_lables.shape:\",y_train_mlb.shape)\n",
    "print (\"test_data_lables.shape:\",y_test_mlb.shape)"
   ]
  },
  {
   "cell_type": "code",
   "execution_count": 144,
   "metadata": {},
   "outputs": [
    {
     "data": {
      "text/plain": [
       "63972     [female, 14, indUnk, Sagittarius]\n",
       "198440          [female, 27, indUnk, Aries]\n",
       "493047          [male, 23, Student, Taurus]\n",
       "450332          [female, 17, indUnk, Libra]\n",
       "73562          [male, 26, Education, Libra]\n",
       "Name: Labels, dtype: object"
      ]
     },
     "execution_count": 144,
     "metadata": {},
     "output_type": "execute_result"
    }
   ],
   "source": [
    "y_train.head()"
   ]
  },
  {
   "cell_type": "code",
   "execution_count": 145,
   "metadata": {
    "scrolled": true
   },
   "outputs": [
    {
     "data": {
      "text/plain": [
       "array([0, 1, 0, 0, 0, 0, 0, 0, 0, 0, 0, 0, 0, 0, 0, 0, 0, 0, 0, 0, 0, 0,\n",
       "       0, 0, 0, 0, 0, 0, 0, 0, 0, 0, 0, 0, 0, 0, 0, 0, 0, 0, 0, 0, 0, 0,\n",
       "       0, 0, 0, 0, 0, 0, 0, 0, 0, 0, 0, 0, 0, 0, 0, 0, 0, 0, 0, 0, 0, 0,\n",
       "       1, 0, 0, 0, 0, 0, 0, 0, 0, 0, 0, 1, 1, 0])"
      ]
     },
     "execution_count": 145,
     "metadata": {},
     "output_type": "execute_result"
    }
   ],
   "source": [
    "y_train_mlb[0]"
   ]
  },
  {
   "cell_type": "markdown",
   "metadata": {},
   "source": [
    "8. Choose a classifier"
   ]
  },
  {
   "cell_type": "code",
   "execution_count": 148,
   "metadata": {},
   "outputs": [],
   "source": [
    "from sklearn.multiclass import OneVsRestClassifier\n",
    "from sklearn.linear_model import LogisticRegression"
   ]
  },
  {
   "cell_type": "code",
   "execution_count": 149,
   "metadata": {},
   "outputs": [],
   "source": [
    "clf = LogisticRegression(solver = 'lbfgs', max_iter = 2000 )\n",
    "clf= OneVsRestClassifier(clf) "
   ]
  },
  {
   "cell_type": "code",
   "execution_count": 150,
   "metadata": {},
   "outputs": [
    {
     "data": {
      "text/plain": [
       "OneVsRestClassifier(estimator=LogisticRegression(C=1.0, class_weight=None,\n",
       "                                                 dual=False, fit_intercept=True,\n",
       "                                                 intercept_scaling=1,\n",
       "                                                 l1_ratio=None, max_iter=2000,\n",
       "                                                 multi_class='auto',\n",
       "                                                 n_jobs=None, penalty='l2',\n",
       "                                                 random_state=None,\n",
       "                                                 solver='lbfgs', tol=0.0001,\n",
       "                                                 verbose=0, warm_start=False),\n",
       "                    n_jobs=None)"
      ]
     },
     "execution_count": 150,
     "metadata": {},
     "output_type": "execute_result"
    }
   ],
   "source": [
    "clf.fit(trainX, y_train_mlb)"
   ]
  },
  {
   "cell_type": "markdown",
   "metadata": {},
   "source": [
    "9. Fit the classifier, make predictions and get the accuracy"
   ]
  },
  {
   "cell_type": "code",
   "execution_count": 151,
   "metadata": {},
   "outputs": [],
   "source": [
    "from sklearn import metrics\n",
    "y_predict_test = clf.predict(testX)\n",
    "y_predict_train = clf.predict(trainX)"
   ]
  },
  {
   "cell_type": "code",
   "execution_count": 153,
   "metadata": {},
   "outputs": [
    {
     "name": "stdout",
     "output_type": "stream",
     "text": [
      "Train accuracy score: 0.98525\n"
     ]
    }
   ],
   "source": [
    "print(\"Train accuracy score:\", metrics.accuracy_score(y_train_mlb,y_predict_train))"
   ]
  },
  {
   "cell_type": "code",
   "execution_count": 154,
   "metadata": {
    "scrolled": true
   },
   "outputs": [
    {
     "name": "stdout",
     "output_type": "stream",
     "text": [
      "Classification report: Train Accuracy Score:  0.9852\n",
      "--------------------------------------------------------\n",
      "              precision    recall  f1-score   support\n",
      "\n",
      "           0       1.00      1.00      1.00        75\n",
      "           1       1.00      0.99      0.99       166\n",
      "           2       1.00      0.98      0.99       229\n",
      "           3       1.00      0.99      1.00       423\n",
      "           4       1.00      0.99      1.00       505\n",
      "           5       1.00      0.98      0.99       452\n",
      "           6       1.00      0.99      1.00       433\n",
      "           7       1.00      0.99      0.99       391\n",
      "           8       1.00      0.98      0.99       326\n",
      "           9       1.00      0.99      1.00       275\n",
      "          10       1.00      0.97      0.98        93\n",
      "          11       1.00      0.99      0.99       139\n",
      "          12       1.00      0.97      0.99        80\n",
      "          13       1.00      0.98      0.99        91\n",
      "          14       1.00      1.00      1.00        50\n",
      "          15       1.00      0.94      0.97        48\n",
      "          16       1.00      1.00      1.00        31\n",
      "          17       1.00      1.00      1.00        37\n",
      "          18       1.00      1.00      1.00        27\n",
      "          19       1.00      1.00      1.00        18\n",
      "          20       1.00      0.93      0.96        29\n",
      "          21       1.00      1.00      1.00        14\n",
      "          22       1.00      1.00      1.00        19\n",
      "          23       1.00      1.00      1.00        20\n",
      "          24       1.00      1.00      1.00        12\n",
      "          25       1.00      1.00      1.00        17\n",
      "          26       1.00      1.00      1.00        22\n",
      "          27       1.00      0.96      0.98        24\n",
      "          28       1.00      1.00      1.00         9\n",
      "          29       1.00      0.97      0.98       322\n",
      "          30       1.00      1.00      1.00         4\n",
      "          31       1.00      0.99      0.99       390\n",
      "          32       1.00      0.99      0.99       193\n",
      "          33       1.00      1.00      1.00         6\n",
      "          34       1.00      0.95      0.98        21\n",
      "          35       1.00      0.82      0.90        11\n",
      "          36       1.00      0.96      0.98        28\n",
      "          37       1.00      0.99      0.99       387\n",
      "          38       1.00      0.97      0.99       286\n",
      "          39       1.00      0.95      0.97        20\n",
      "          40       1.00      0.99      1.00       111\n",
      "          41       1.00      1.00      1.00         4\n",
      "          42       1.00      0.97      0.99        36\n",
      "          43       1.00      1.00      1.00       203\n",
      "          44       1.00      0.99      0.99        73\n",
      "          45       1.00      1.00      1.00         1\n",
      "          46       1.00      0.94      0.97        36\n",
      "          47       1.00      0.99      0.99       299\n",
      "          48       1.00      1.00      1.00        29\n",
      "          49       1.00      1.00      1.00        22\n",
      "          50       1.00      0.99      1.00       105\n",
      "          51       1.00      1.00      1.00         9\n",
      "          52       1.00      1.00      1.00        45\n",
      "          53       1.00      1.00      1.00        14\n",
      "          54       1.00      0.99      1.00       316\n",
      "          55       1.00      0.99      0.99       358\n",
      "          56       1.00      0.82      0.90        11\n",
      "          57       1.00      1.00      1.00         3\n",
      "          58       1.00      1.00      1.00        25\n",
      "          59       1.00      1.00      1.00        15\n",
      "          60       1.00      1.00      1.00        16\n",
      "          61       1.00      1.00      1.00        96\n",
      "          62       1.00      0.99      0.99       303\n",
      "          63       1.00      1.00      1.00        29\n",
      "          64       1.00      1.00      1.00        19\n",
      "          65       1.00      1.00      1.00        35\n",
      "          66       1.00      0.99      0.99       294\n",
      "          67       1.00      1.00      1.00        22\n",
      "          68       1.00      0.98      0.99       319\n",
      "          69       1.00      1.00      1.00        22\n",
      "          70       1.00      0.99      0.99       919\n",
      "          71       1.00      0.99      1.00       371\n",
      "          72       1.00      0.98      0.99       245\n",
      "          73       1.00      0.95      0.98        22\n",
      "          74       1.00      1.00      1.00        13\n",
      "          75       1.00      1.00      1.00        12\n",
      "          76       1.00      0.99      1.00       355\n",
      "          77       1.00      0.99      1.00      1949\n",
      "          78       1.00      0.99      0.99      1470\n",
      "          79       0.99      1.00      1.00      2051\n",
      "\n",
      "   micro avg       1.00      0.99      0.99     16000\n",
      "   macro avg       1.00      0.98      0.99     16000\n",
      "weighted avg       1.00      0.99      0.99     16000\n",
      " samples avg       1.00      0.99      0.99     16000\n",
      "\n",
      "--------------------------------------------------------\n",
      "\n",
      "Classification report: Test Accuracy Score:  0.001\n",
      "--------------------------------------------------------\n",
      "              precision    recall  f1-score   support\n",
      "\n",
      "           0       0.00      0.00      0.00        25\n",
      "           1       0.00      0.00      0.00        33\n",
      "           2       0.20      0.02      0.03        62\n",
      "           3       0.33      0.04      0.07       100\n",
      "           4       0.26      0.05      0.09       117\n",
      "           5       0.40      0.05      0.08        87\n",
      "           6       0.07      0.01      0.01       136\n",
      "           7       0.00      0.00      0.00        97\n",
      "           8       0.40      0.02      0.04        96\n",
      "           9       0.25      0.03      0.06        59\n",
      "          10       0.00      0.00      0.00        27\n",
      "          11       0.00      0.00      0.00        25\n",
      "          12       0.00      0.00      0.00        27\n",
      "          13       0.00      0.00      0.00        21\n",
      "          14       0.00      0.00      0.00        14\n",
      "          15       0.00      0.00      0.00        12\n",
      "          16       0.00      0.00      0.00         8\n",
      "          17       0.00      0.00      0.00         7\n",
      "          18       0.00      0.00      0.00         8\n",
      "          19       0.00      0.00      0.00         4\n",
      "          20       0.00      0.00      0.00         3\n",
      "          21       0.00      0.00      0.00         3\n",
      "          22       0.00      0.00      0.00        10\n",
      "          23       0.00      0.00      0.00         8\n",
      "          24       0.00      0.00      0.00         6\n",
      "          25       0.00      0.00      0.00         5\n",
      "          26       0.00      0.00      0.00         8\n",
      "          27       0.00      0.00      0.00         9\n",
      "          28       0.00      0.00      0.00         2\n",
      "          29       0.00      0.00      0.00        54\n",
      "          30       0.00      0.00      0.00         3\n",
      "          31       0.11      0.01      0.02        92\n",
      "          32       0.00      0.00      0.00        58\n",
      "          33       0.00      0.00      0.00         1\n",
      "          34       0.00      0.00      0.00         5\n",
      "          35       0.00      0.00      0.00         3\n",
      "          36       0.00      0.00      0.00        12\n",
      "          37       0.18      0.02      0.04        98\n",
      "          38       0.17      0.02      0.03        66\n",
      "          39       0.00      0.00      0.00         9\n",
      "          40       0.00      0.00      0.00        23\n",
      "          41       0.00      0.00      0.00         1\n",
      "          42       0.00      0.00      0.00         7\n",
      "          43       0.00      0.00      0.00        38\n",
      "          44       0.00      0.00      0.00        18\n",
      "          45       0.00      0.00      0.00         1\n",
      "          46       0.00      0.00      0.00         6\n",
      "          47       0.00      0.00      0.00        76\n",
      "          48       0.00      0.00      0.00        10\n",
      "          49       0.00      0.00      0.00         7\n",
      "          50       0.00      0.00      0.00        28\n",
      "          51       0.00      0.00      0.00         2\n",
      "          52       0.00      0.00      0.00        13\n",
      "          53       0.00      0.00      0.00         2\n",
      "          54       0.20      0.01      0.02        80\n",
      "          55       0.08      0.01      0.02        82\n",
      "          56       0.00      0.00      0.00         3\n",
      "          57       0.00      0.00      0.00         1\n",
      "          58       0.00      0.00      0.00         8\n",
      "          59       0.00      0.00      0.00         3\n",
      "          60       0.00      0.00      0.00         7\n",
      "          61       0.00      0.00      0.00        25\n",
      "          62       0.25      0.03      0.05        76\n",
      "          63       0.00      0.00      0.00        12\n",
      "          64       0.00      0.00      0.00         5\n",
      "          65       0.00      0.00      0.00         4\n",
      "          66       0.00      0.00      0.00        80\n",
      "          67       0.00      0.00      0.00         7\n",
      "          68       0.25      0.02      0.04        94\n",
      "          69       0.00      0.00      0.00         3\n",
      "          70       0.48      0.18      0.26       236\n",
      "          71       0.20      0.01      0.02       107\n",
      "          72       0.40      0.03      0.06        61\n",
      "          73       0.00      0.00      0.00         6\n",
      "          74       0.00      0.00      0.00         4\n",
      "          75       0.00      0.00      0.00         5\n",
      "          76       0.25      0.04      0.07        95\n",
      "          77       0.56      0.51      0.53       497\n",
      "          78       0.40      0.31      0.35       344\n",
      "          79       0.55      0.60      0.58       503\n",
      "\n",
      "   micro avg       0.47      0.18      0.27      4000\n",
      "   macro avg       0.07      0.03      0.03      4000\n",
      "weighted avg       0.29      0.18      0.20      4000\n",
      " samples avg       0.50      0.18      0.26      4000\n",
      "\n",
      "--------------------------------------------------------\n",
      "\n"
     ]
    },
    {
     "name": "stderr",
     "output_type": "stream",
     "text": [
      "C:\\Users\\bdevasahayam.INSIDEIDC\\AppData\\Local\\Continuum\\anaconda3\\lib\\site-packages\\sklearn\\metrics\\_classification.py:1272: UndefinedMetricWarning: Precision and F-score are ill-defined and being set to 0.0 in labels with no predicted samples. Use `zero_division` parameter to control this behavior.\n",
      "  _warn_prf(average, modifier, msg_start, len(result))\n"
     ]
    }
   ],
   "source": [
    "print (\"Classification report:\", \"Train Accuracy Score: \", round(metrics.accuracy_score(y_train_mlb,y_predict_train),4))\n",
    "print (\"-\"*56)\n",
    "print(metrics.classification_report(y_train_mlb,y_predict_train))\n",
    "print (\"-\"*56)\n",
    "print(\"\")\n",
    "print (\"Classification report:\", \"Test Accuracy Score: \", round(metrics.accuracy_score(y_test_mlb,y_predict_test),4))\n",
    "print (\"-\"*56)\n",
    "print(metrics.classification_report(y_test_mlb,y_predict_test))\n",
    "print (\"-\"*56)\n",
    "print(\"\")"
   ]
  },
  {
   "cell_type": "markdown",
   "metadata": {},
   "source": [
    "10. Print true label and predicted label for any five examples"
   ]
  },
  {
   "cell_type": "code",
   "execution_count": 155,
   "metadata": {},
   "outputs": [
    {
     "name": "stdout",
     "output_type": "stream",
     "text": [
      "Train data: predicted label for any five examples \n",
      "--------------------------------------------------\n"
     ]
    },
    {
     "data": {
      "text/html": [
       "<div>\n",
       "<style scoped>\n",
       "    .dataframe tbody tr th:only-of-type {\n",
       "        vertical-align: middle;\n",
       "    }\n",
       "\n",
       "    .dataframe tbody tr th {\n",
       "        vertical-align: top;\n",
       "    }\n",
       "\n",
       "    .dataframe thead th {\n",
       "        text-align: right;\n",
       "    }\n",
       "</style>\n",
       "<table border=\"1\" class=\"dataframe\">\n",
       "  <thead>\n",
       "    <tr style=\"text-align: right;\">\n",
       "      <th></th>\n",
       "      <th>_example_</th>\n",
       "      <th></th>\n",
       "      <th>_true labels_</th>\n",
       "      <th></th>\n",
       "      <th>_predicted labels_</th>\n",
       "    </tr>\n",
       "  </thead>\n",
       "  <tbody>\n",
       "    <tr>\n",
       "      <th>0</th>\n",
       "      <td>1</td>\n",
       "      <td>|</td>\n",
       "      <td>[17, Gemini, Student, female]</td>\n",
       "      <td>|</td>\n",
       "      <td>[17, Gemini, Student, female]</td>\n",
       "    </tr>\n",
       "    <tr>\n",
       "      <th>1</th>\n",
       "      <td>2</td>\n",
       "      <td>|</td>\n",
       "      <td>[25, Leo, indUnk, male]</td>\n",
       "      <td>|</td>\n",
       "      <td>[25, Leo, indUnk, male]</td>\n",
       "    </tr>\n",
       "    <tr>\n",
       "      <th>2</th>\n",
       "      <td>3</td>\n",
       "      <td>|</td>\n",
       "      <td>[17, Aries, indUnk, male]</td>\n",
       "      <td>|</td>\n",
       "      <td>[17, Aries, indUnk, male]</td>\n",
       "    </tr>\n",
       "    <tr>\n",
       "      <th>3</th>\n",
       "      <td>4</td>\n",
       "      <td>|</td>\n",
       "      <td>[16, Aries, Religion, male]</td>\n",
       "      <td>|</td>\n",
       "      <td>[16, Aries, Religion, male]</td>\n",
       "    </tr>\n",
       "    <tr>\n",
       "      <th>4</th>\n",
       "      <td>5</td>\n",
       "      <td>|</td>\n",
       "      <td>[27, Sagittarius, Technology, male]</td>\n",
       "      <td>|</td>\n",
       "      <td>[27, Sagittarius, Technology, male]</td>\n",
       "    </tr>\n",
       "  </tbody>\n",
       "</table>\n",
       "</div>"
      ],
      "text/plain": [
       "   _example_                             _true labels_       \\\n",
       "0          1   |         [17, Gemini, Student, female]   |    \n",
       "1          2   |               [25, Leo, indUnk, male]   |    \n",
       "2          3   |             [17, Aries, indUnk, male]   |    \n",
       "3          4   |           [16, Aries, Religion, male]   |    \n",
       "4          5   |   [27, Sagittarius, Technology, male]   |    \n",
       "\n",
       "                    _predicted labels_  \n",
       "0        [17, Gemini, Student, female]  \n",
       "1              [25, Leo, indUnk, male]  \n",
       "2            [17, Aries, indUnk, male]  \n",
       "3          [16, Aries, Religion, male]  \n",
       "4  [27, Sagittarius, Technology, male]  "
      ]
     },
     "execution_count": 155,
     "metadata": {},
     "output_type": "execute_result"
    }
   ],
   "source": [
    "print(\"Train data: predicted label for any five examples \") \n",
    "print(\"-\"*50)\n",
    "d = []\n",
    "five_examples = [100, 200, 300, 400, 500]\n",
    "for i,n in zip(five_examples , range(1,6)):\n",
    "    d.append((n,\" | \", list(mlb.inverse_transform(y_train_mlb)[i]),\" | \", list(mlb.inverse_transform(y_predict_train)[i])))\n",
    "pd.DataFrame(d, columns=('_example_',\"\", '_true labels_', \"\",'_predicted labels_'))"
   ]
  },
  {
   "cell_type": "code",
   "execution_count": 156,
   "metadata": {},
   "outputs": [
    {
     "name": "stdout",
     "output_type": "stream",
     "text": [
      "Test data: predicted label for any five examples \n",
      "--------------------------------------------------\n"
     ]
    },
    {
     "data": {
      "text/html": [
       "<div>\n",
       "<style scoped>\n",
       "    .dataframe tbody tr th:only-of-type {\n",
       "        vertical-align: middle;\n",
       "    }\n",
       "\n",
       "    .dataframe tbody tr th {\n",
       "        vertical-align: top;\n",
       "    }\n",
       "\n",
       "    .dataframe thead th {\n",
       "        text-align: right;\n",
       "    }\n",
       "</style>\n",
       "<table border=\"1\" class=\"dataframe\">\n",
       "  <thead>\n",
       "    <tr style=\"text-align: right;\">\n",
       "      <th></th>\n",
       "      <th>_example_</th>\n",
       "      <th></th>\n",
       "      <th>_true labels_</th>\n",
       "      <th></th>\n",
       "      <th>_predicted labels_</th>\n",
       "    </tr>\n",
       "  </thead>\n",
       "  <tbody>\n",
       "    <tr>\n",
       "      <th>0</th>\n",
       "      <td>1</td>\n",
       "      <td>|</td>\n",
       "      <td>[35, Taurus, female, indUnk]</td>\n",
       "      <td>|</td>\n",
       "      <td>[female, indUnk]</td>\n",
       "    </tr>\n",
       "    <tr>\n",
       "      <th>1</th>\n",
       "      <td>2</td>\n",
       "      <td>|</td>\n",
       "      <td>[34, Internet, Leo, female]</td>\n",
       "      <td>|</td>\n",
       "      <td>[female, indUnk]</td>\n",
       "    </tr>\n",
       "    <tr>\n",
       "      <th>2</th>\n",
       "      <td>3</td>\n",
       "      <td>|</td>\n",
       "      <td>[34, Capricorn, female, indUnk]</td>\n",
       "      <td>|</td>\n",
       "      <td>[female]</td>\n",
       "    </tr>\n",
       "    <tr>\n",
       "      <th>3</th>\n",
       "      <td>4</td>\n",
       "      <td>|</td>\n",
       "      <td>[24, Education, Virgo, male]</td>\n",
       "      <td>|</td>\n",
       "      <td>[male]</td>\n",
       "    </tr>\n",
       "    <tr>\n",
       "      <th>4</th>\n",
       "      <td>5</td>\n",
       "      <td>|</td>\n",
       "      <td>[38, Aries, Non-Profit, female]</td>\n",
       "      <td>|</td>\n",
       "      <td>[indUnk, male]</td>\n",
       "    </tr>\n",
       "  </tbody>\n",
       "</table>\n",
       "</div>"
      ],
      "text/plain": [
       "   _example_                         _true labels_      _predicted labels_\n",
       "0          1   |      [35, Taurus, female, indUnk]   |    [female, indUnk]\n",
       "1          2   |       [34, Internet, Leo, female]   |    [female, indUnk]\n",
       "2          3   |   [34, Capricorn, female, indUnk]   |            [female]\n",
       "3          4   |      [24, Education, Virgo, male]   |              [male]\n",
       "4          5   |   [38, Aries, Non-Profit, female]   |      [indUnk, male]"
      ]
     },
     "execution_count": 156,
     "metadata": {},
     "output_type": "execute_result"
    }
   ],
   "source": [
    "print(\"Test data: predicted label for any five examples \") \n",
    "print(\"-\"*50)\n",
    "d = []\n",
    "five_examples = [100, 200, 300, 400, 500]\n",
    "for i,n in zip(five_examples , range(1,6)):\n",
    "    d.append((n,\" | \", list(mlb.inverse_transform(y_test_mlb)[i]),\" | \", list(mlb.inverse_transform(y_predict_test)[i])))\n",
    "pd.DataFrame(d, columns=('_example_',\"\", '_true labels_', \"\",'_predicted labels_'))"
   ]
  }
 ],
 "metadata": {
  "kernelspec": {
   "display_name": "Python 3",
   "language": "python",
   "name": "python3"
  },
  "language_info": {
   "codemirror_mode": {
    "name": "ipython",
    "version": 3
   },
   "file_extension": ".py",
   "mimetype": "text/x-python",
   "name": "python",
   "nbconvert_exporter": "python",
   "pygments_lexer": "ipython3",
   "version": "3.7.4"
  }
 },
 "nbformat": 4,
 "nbformat_minor": 2
}
